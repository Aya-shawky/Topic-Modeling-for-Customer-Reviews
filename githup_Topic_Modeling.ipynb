{
  "nbformat": 4,
  "nbformat_minor": 0,
  "metadata": {
    "colab": {
      "provenance": [],
      "gpuType": "T4",
      "authorship_tag": "ABX9TyOkpbAA+TUz/AVplssJHc+K"
    },
    "kernelspec": {
      "name": "python3",
      "display_name": "Python 3"
    },
    "language_info": {
      "name": "python"
    },
    "accelerator": "GPU",
    "widgets": {
      "application/vnd.jupyter.widget-state+json": {
        "3ef5902ed4764de6916e2e9777b05ce1": {
          "model_module": "@jupyter-widgets/controls",
          "model_name": "HBoxModel",
          "model_module_version": "1.5.0",
          "state": {
            "_dom_classes": [],
            "_model_module": "@jupyter-widgets/controls",
            "_model_module_version": "1.5.0",
            "_model_name": "HBoxModel",
            "_view_count": null,
            "_view_module": "@jupyter-widgets/controls",
            "_view_module_version": "1.5.0",
            "_view_name": "HBoxView",
            "box_style": "",
            "children": [
              "IPY_MODEL_722d0830e60b4c97b9738830d9ec5938",
              "IPY_MODEL_5b999129143f46df9816edfd3c66a0f6",
              "IPY_MODEL_c08f011c107942b8be64e6fae742f850"
            ],
            "layout": "IPY_MODEL_637d3cfa57924a2ba23183594d408084"
          }
        },
        "722d0830e60b4c97b9738830d9ec5938": {
          "model_module": "@jupyter-widgets/controls",
          "model_name": "HTMLModel",
          "model_module_version": "1.5.0",
          "state": {
            "_dom_classes": [],
            "_model_module": "@jupyter-widgets/controls",
            "_model_module_version": "1.5.0",
            "_model_name": "HTMLModel",
            "_view_count": null,
            "_view_module": "@jupyter-widgets/controls",
            "_view_module_version": "1.5.0",
            "_view_name": "HTMLView",
            "description": "",
            "description_tooltip": null,
            "layout": "IPY_MODEL_1308b133566644799e89336e1bd00c85",
            "placeholder": "​",
            "style": "IPY_MODEL_86b562220c494bc5b283db9801c78f41",
            "value": "Batches: 100%"
          }
        },
        "5b999129143f46df9816edfd3c66a0f6": {
          "model_module": "@jupyter-widgets/controls",
          "model_name": "FloatProgressModel",
          "model_module_version": "1.5.0",
          "state": {
            "_dom_classes": [],
            "_model_module": "@jupyter-widgets/controls",
            "_model_module_version": "1.5.0",
            "_model_name": "FloatProgressModel",
            "_view_count": null,
            "_view_module": "@jupyter-widgets/controls",
            "_view_module_version": "1.5.0",
            "_view_name": "ProgressView",
            "bar_style": "success",
            "description": "",
            "description_tooltip": null,
            "layout": "IPY_MODEL_aca3d903833d4193b62832aa7f839f31",
            "max": 389,
            "min": 0,
            "orientation": "horizontal",
            "style": "IPY_MODEL_b81f3dcfc8da4042a50168d72c56c3f8",
            "value": 389
          }
        },
        "c08f011c107942b8be64e6fae742f850": {
          "model_module": "@jupyter-widgets/controls",
          "model_name": "HTMLModel",
          "model_module_version": "1.5.0",
          "state": {
            "_dom_classes": [],
            "_model_module": "@jupyter-widgets/controls",
            "_model_module_version": "1.5.0",
            "_model_name": "HTMLModel",
            "_view_count": null,
            "_view_module": "@jupyter-widgets/controls",
            "_view_module_version": "1.5.0",
            "_view_name": "HTMLView",
            "description": "",
            "description_tooltip": null,
            "layout": "IPY_MODEL_136cd86e7efd46dd9cd4ce774152b4ce",
            "placeholder": "​",
            "style": "IPY_MODEL_8ec7d7dd673d4cd99d8754284b9d1ccb",
            "value": " 389/389 [00:07&lt;00:00, 119.41it/s]"
          }
        },
        "637d3cfa57924a2ba23183594d408084": {
          "model_module": "@jupyter-widgets/base",
          "model_name": "LayoutModel",
          "model_module_version": "1.2.0",
          "state": {
            "_model_module": "@jupyter-widgets/base",
            "_model_module_version": "1.2.0",
            "_model_name": "LayoutModel",
            "_view_count": null,
            "_view_module": "@jupyter-widgets/base",
            "_view_module_version": "1.2.0",
            "_view_name": "LayoutView",
            "align_content": null,
            "align_items": null,
            "align_self": null,
            "border": null,
            "bottom": null,
            "display": null,
            "flex": null,
            "flex_flow": null,
            "grid_area": null,
            "grid_auto_columns": null,
            "grid_auto_flow": null,
            "grid_auto_rows": null,
            "grid_column": null,
            "grid_gap": null,
            "grid_row": null,
            "grid_template_areas": null,
            "grid_template_columns": null,
            "grid_template_rows": null,
            "height": null,
            "justify_content": null,
            "justify_items": null,
            "left": null,
            "margin": null,
            "max_height": null,
            "max_width": null,
            "min_height": null,
            "min_width": null,
            "object_fit": null,
            "object_position": null,
            "order": null,
            "overflow": null,
            "overflow_x": null,
            "overflow_y": null,
            "padding": null,
            "right": null,
            "top": null,
            "visibility": null,
            "width": null
          }
        },
        "1308b133566644799e89336e1bd00c85": {
          "model_module": "@jupyter-widgets/base",
          "model_name": "LayoutModel",
          "model_module_version": "1.2.0",
          "state": {
            "_model_module": "@jupyter-widgets/base",
            "_model_module_version": "1.2.0",
            "_model_name": "LayoutModel",
            "_view_count": null,
            "_view_module": "@jupyter-widgets/base",
            "_view_module_version": "1.2.0",
            "_view_name": "LayoutView",
            "align_content": null,
            "align_items": null,
            "align_self": null,
            "border": null,
            "bottom": null,
            "display": null,
            "flex": null,
            "flex_flow": null,
            "grid_area": null,
            "grid_auto_columns": null,
            "grid_auto_flow": null,
            "grid_auto_rows": null,
            "grid_column": null,
            "grid_gap": null,
            "grid_row": null,
            "grid_template_areas": null,
            "grid_template_columns": null,
            "grid_template_rows": null,
            "height": null,
            "justify_content": null,
            "justify_items": null,
            "left": null,
            "margin": null,
            "max_height": null,
            "max_width": null,
            "min_height": null,
            "min_width": null,
            "object_fit": null,
            "object_position": null,
            "order": null,
            "overflow": null,
            "overflow_x": null,
            "overflow_y": null,
            "padding": null,
            "right": null,
            "top": null,
            "visibility": null,
            "width": null
          }
        },
        "86b562220c494bc5b283db9801c78f41": {
          "model_module": "@jupyter-widgets/controls",
          "model_name": "DescriptionStyleModel",
          "model_module_version": "1.5.0",
          "state": {
            "_model_module": "@jupyter-widgets/controls",
            "_model_module_version": "1.5.0",
            "_model_name": "DescriptionStyleModel",
            "_view_count": null,
            "_view_module": "@jupyter-widgets/base",
            "_view_module_version": "1.2.0",
            "_view_name": "StyleView",
            "description_width": ""
          }
        },
        "aca3d903833d4193b62832aa7f839f31": {
          "model_module": "@jupyter-widgets/base",
          "model_name": "LayoutModel",
          "model_module_version": "1.2.0",
          "state": {
            "_model_module": "@jupyter-widgets/base",
            "_model_module_version": "1.2.0",
            "_model_name": "LayoutModel",
            "_view_count": null,
            "_view_module": "@jupyter-widgets/base",
            "_view_module_version": "1.2.0",
            "_view_name": "LayoutView",
            "align_content": null,
            "align_items": null,
            "align_self": null,
            "border": null,
            "bottom": null,
            "display": null,
            "flex": null,
            "flex_flow": null,
            "grid_area": null,
            "grid_auto_columns": null,
            "grid_auto_flow": null,
            "grid_auto_rows": null,
            "grid_column": null,
            "grid_gap": null,
            "grid_row": null,
            "grid_template_areas": null,
            "grid_template_columns": null,
            "grid_template_rows": null,
            "height": null,
            "justify_content": null,
            "justify_items": null,
            "left": null,
            "margin": null,
            "max_height": null,
            "max_width": null,
            "min_height": null,
            "min_width": null,
            "object_fit": null,
            "object_position": null,
            "order": null,
            "overflow": null,
            "overflow_x": null,
            "overflow_y": null,
            "padding": null,
            "right": null,
            "top": null,
            "visibility": null,
            "width": null
          }
        },
        "b81f3dcfc8da4042a50168d72c56c3f8": {
          "model_module": "@jupyter-widgets/controls",
          "model_name": "ProgressStyleModel",
          "model_module_version": "1.5.0",
          "state": {
            "_model_module": "@jupyter-widgets/controls",
            "_model_module_version": "1.5.0",
            "_model_name": "ProgressStyleModel",
            "_view_count": null,
            "_view_module": "@jupyter-widgets/base",
            "_view_module_version": "1.2.0",
            "_view_name": "StyleView",
            "bar_color": null,
            "description_width": ""
          }
        },
        "136cd86e7efd46dd9cd4ce774152b4ce": {
          "model_module": "@jupyter-widgets/base",
          "model_name": "LayoutModel",
          "model_module_version": "1.2.0",
          "state": {
            "_model_module": "@jupyter-widgets/base",
            "_model_module_version": "1.2.0",
            "_model_name": "LayoutModel",
            "_view_count": null,
            "_view_module": "@jupyter-widgets/base",
            "_view_module_version": "1.2.0",
            "_view_name": "LayoutView",
            "align_content": null,
            "align_items": null,
            "align_self": null,
            "border": null,
            "bottom": null,
            "display": null,
            "flex": null,
            "flex_flow": null,
            "grid_area": null,
            "grid_auto_columns": null,
            "grid_auto_flow": null,
            "grid_auto_rows": null,
            "grid_column": null,
            "grid_gap": null,
            "grid_row": null,
            "grid_template_areas": null,
            "grid_template_columns": null,
            "grid_template_rows": null,
            "height": null,
            "justify_content": null,
            "justify_items": null,
            "left": null,
            "margin": null,
            "max_height": null,
            "max_width": null,
            "min_height": null,
            "min_width": null,
            "object_fit": null,
            "object_position": null,
            "order": null,
            "overflow": null,
            "overflow_x": null,
            "overflow_y": null,
            "padding": null,
            "right": null,
            "top": null,
            "visibility": null,
            "width": null
          }
        },
        "8ec7d7dd673d4cd99d8754284b9d1ccb": {
          "model_module": "@jupyter-widgets/controls",
          "model_name": "DescriptionStyleModel",
          "model_module_version": "1.5.0",
          "state": {
            "_model_module": "@jupyter-widgets/controls",
            "_model_module_version": "1.5.0",
            "_model_name": "DescriptionStyleModel",
            "_view_count": null,
            "_view_module": "@jupyter-widgets/base",
            "_view_module_version": "1.2.0",
            "_view_name": "StyleView",
            "description_width": ""
          }
        }
      }
    }
  },
  "cells": [
    {
      "cell_type": "markdown",
      "source": [
        "# Mobile Review dataset"
      ],
      "metadata": {
        "id": "Q33RnkhTX10H"
      }
    },
    {
      "cell_type": "markdown",
      "source": [
        "## Import"
      ],
      "metadata": {
        "id": "r2klm_ujoojb"
      }
    },
    {
      "cell_type": "code",
      "source": [
        "!pip install opendatasets"
      ],
      "metadata": {
        "colab": {
          "base_uri": "https://localhost:8080/"
        },
        "id": "xBbCKI71YLIA",
        "outputId": "de1ce5c9-c087-4c18-bd6c-c45dea878ec1"
      },
      "execution_count": 6,
      "outputs": [
        {
          "output_type": "stream",
          "name": "stdout",
          "text": [
            "Requirement already satisfied: opendatasets in /usr/local/lib/python3.10/dist-packages (0.1.22)\n",
            "Requirement already satisfied: tqdm in /usr/local/lib/python3.10/dist-packages (from opendatasets) (4.66.1)\n",
            "Requirement already satisfied: kaggle in /usr/local/lib/python3.10/dist-packages (from opendatasets) (1.5.16)\n",
            "Requirement already satisfied: click in /usr/local/lib/python3.10/dist-packages (from opendatasets) (8.1.7)\n",
            "Requirement already satisfied: six>=1.10 in /usr/local/lib/python3.10/dist-packages (from kaggle->opendatasets) (1.16.0)\n",
            "Requirement already satisfied: certifi in /usr/local/lib/python3.10/dist-packages (from kaggle->opendatasets) (2023.11.17)\n",
            "Requirement already satisfied: python-dateutil in /usr/local/lib/python3.10/dist-packages (from kaggle->opendatasets) (2.8.2)\n",
            "Requirement already satisfied: requests in /usr/local/lib/python3.10/dist-packages (from kaggle->opendatasets) (2.31.0)\n",
            "Requirement already satisfied: python-slugify in /usr/local/lib/python3.10/dist-packages (from kaggle->opendatasets) (8.0.1)\n",
            "Requirement already satisfied: urllib3 in /usr/local/lib/python3.10/dist-packages (from kaggle->opendatasets) (2.0.7)\n",
            "Requirement already satisfied: bleach in /usr/local/lib/python3.10/dist-packages (from kaggle->opendatasets) (6.1.0)\n",
            "Requirement already satisfied: webencodings in /usr/local/lib/python3.10/dist-packages (from bleach->kaggle->opendatasets) (0.5.1)\n",
            "Requirement already satisfied: text-unidecode>=1.3 in /usr/local/lib/python3.10/dist-packages (from python-slugify->kaggle->opendatasets) (1.3)\n",
            "Requirement already satisfied: charset-normalizer<4,>=2 in /usr/local/lib/python3.10/dist-packages (from requests->kaggle->opendatasets) (3.3.2)\n",
            "Requirement already satisfied: idna<4,>=2.5 in /usr/local/lib/python3.10/dist-packages (from requests->kaggle->opendatasets) (3.6)\n"
          ]
        }
      ]
    },
    {
      "cell_type": "code",
      "source": [
        "import pandas as pd\n",
        "from collections import Counter\n",
        "import seaborn as sns\n",
        "import matplotlib.pyplot as plt\n",
        "import gensim\n",
        "import numpy as np"
      ],
      "metadata": {
        "id": "EuCFzadYY23v"
      },
      "execution_count": 7,
      "outputs": []
    },
    {
      "cell_type": "code",
      "source": [
        "import nltk\n",
        "from nltk.tokenize import word_tokenize\n",
        "from nltk.tokenize import sent_tokenize\n",
        "from nltk.corpus import stopwords\n",
        "from nltk.stem import SnowballStemmer\n",
        "from nltk.stem import WordNetLemmatizer\n",
        "nltk.download('wordnet')"
      ],
      "metadata": {
        "colab": {
          "base_uri": "https://localhost:8080/"
        },
        "id": "ys4HSnl7vsIR",
        "outputId": "9fb9e2f7-ff85-4fe4-e92d-c5cd09128cee"
      },
      "execution_count": 8,
      "outputs": [
        {
          "output_type": "stream",
          "name": "stderr",
          "text": [
            "[nltk_data] Downloading package wordnet to /root/nltk_data...\n",
            "[nltk_data]   Package wordnet is already up-to-date!\n"
          ]
        },
        {
          "output_type": "execute_result",
          "data": {
            "text/plain": [
              "True"
            ]
          },
          "metadata": {},
          "execution_count": 8
        }
      ]
    },
    {
      "cell_type": "code",
      "source": [
        "#import Coherence model from gensim\n",
        "from gensim.models import CoherenceModel"
      ],
      "metadata": {
        "id": "6j3kG8XP3bHH"
      },
      "execution_count": 9,
      "outputs": []
    },
    {
      "cell_type": "code",
      "source": [
        "pip install pandas==1.5.1"
      ],
      "metadata": {
        "id": "vKiMP3Lg8THd",
        "colab": {
          "base_uri": "https://localhost:8080/",
          "height": 463
        },
        "outputId": "425ccb7d-4c29-4d47-8dd8-906b9b2363ea"
      },
      "execution_count": 10,
      "outputs": [
        {
          "output_type": "stream",
          "name": "stdout",
          "text": [
            "Collecting pandas==1.5.1\n",
            "  Using cached pandas-1.5.1-cp310-cp310-manylinux_2_17_x86_64.manylinux2014_x86_64.whl (12.1 MB)\n",
            "Requirement already satisfied: python-dateutil>=2.8.1 in /usr/local/lib/python3.10/dist-packages (from pandas==1.5.1) (2.8.2)\n",
            "Requirement already satisfied: pytz>=2020.1 in /usr/local/lib/python3.10/dist-packages (from pandas==1.5.1) (2023.3.post1)\n",
            "Requirement already satisfied: numpy>=1.21.0 in /usr/local/lib/python3.10/dist-packages (from pandas==1.5.1) (1.26.2)\n",
            "Requirement already satisfied: six>=1.5 in /usr/local/lib/python3.10/dist-packages (from python-dateutil>=2.8.1->pandas==1.5.1) (1.16.0)\n",
            "Installing collected packages: pandas\n",
            "  Attempting uninstall: pandas\n",
            "    Found existing installation: pandas 2.1.4\n",
            "    Uninstalling pandas-2.1.4:\n",
            "      Successfully uninstalled pandas-2.1.4\n",
            "\u001b[31mERROR: pip's dependency resolver does not currently take into account all the packages that are installed. This behaviour is the source of the following dependency conflicts.\n",
            "lida 0.0.10 requires fastapi, which is not installed.\n",
            "lida 0.0.10 requires kaleido, which is not installed.\n",
            "lida 0.0.10 requires python-multipart, which is not installed.\n",
            "lida 0.0.10 requires uvicorn, which is not installed.\n",
            "google-colab 1.0.0 requires pandas==1.5.3, but you have pandas 1.5.1 which is incompatible.\n",
            "pyldavis 3.4.1 requires pandas>=2.0.0, but you have pandas 1.5.1 which is incompatible.\u001b[0m\u001b[31m\n",
            "\u001b[0mSuccessfully installed pandas-1.5.1\n"
          ]
        },
        {
          "output_type": "display_data",
          "data": {
            "application/vnd.colab-display-data+json": {
              "pip_warning": {
                "packages": [
                  "pandas"
                ]
              }
            }
          },
          "metadata": {}
        }
      ]
    },
    {
      "cell_type": "code",
      "source": [
        "!pip install pyLDAvis"
      ],
      "metadata": {
        "colab": {
          "base_uri": "https://localhost:8080/"
        },
        "id": "zycziAU5k-w4",
        "outputId": "700ecfc9-2991-4cf8-a05a-462ac6e88053"
      },
      "execution_count": 11,
      "outputs": [
        {
          "output_type": "stream",
          "name": "stdout",
          "text": [
            "Requirement already satisfied: pyLDAvis in /usr/local/lib/python3.10/dist-packages (3.4.1)\n",
            "Requirement already satisfied: numpy>=1.24.2 in /usr/local/lib/python3.10/dist-packages (from pyLDAvis) (1.26.2)\n",
            "Requirement already satisfied: scipy in /usr/local/lib/python3.10/dist-packages (from pyLDAvis) (1.11.4)\n",
            "Collecting pandas>=2.0.0 (from pyLDAvis)\n",
            "  Using cached pandas-2.1.4-cp310-cp310-manylinux_2_17_x86_64.manylinux2014_x86_64.whl (12.3 MB)\n",
            "Requirement already satisfied: joblib>=1.2.0 in /usr/local/lib/python3.10/dist-packages (from pyLDAvis) (1.3.2)\n",
            "Requirement already satisfied: jinja2 in /usr/local/lib/python3.10/dist-packages (from pyLDAvis) (3.1.2)\n",
            "Requirement already satisfied: numexpr in /usr/local/lib/python3.10/dist-packages (from pyLDAvis) (2.8.8)\n",
            "Requirement already satisfied: funcy in /usr/local/lib/python3.10/dist-packages (from pyLDAvis) (2.0)\n",
            "Requirement already satisfied: scikit-learn>=1.0.0 in /usr/local/lib/python3.10/dist-packages (from pyLDAvis) (1.2.2)\n",
            "Requirement already satisfied: gensim in /usr/local/lib/python3.10/dist-packages (from pyLDAvis) (4.3.2)\n",
            "Requirement already satisfied: setuptools in /usr/local/lib/python3.10/dist-packages (from pyLDAvis) (67.7.2)\n",
            "Requirement already satisfied: python-dateutil>=2.8.2 in /usr/local/lib/python3.10/dist-packages (from pandas>=2.0.0->pyLDAvis) (2.8.2)\n",
            "Requirement already satisfied: pytz>=2020.1 in /usr/local/lib/python3.10/dist-packages (from pandas>=2.0.0->pyLDAvis) (2023.3.post1)\n",
            "Requirement already satisfied: tzdata>=2022.1 in /usr/local/lib/python3.10/dist-packages (from pandas>=2.0.0->pyLDAvis) (2023.3)\n",
            "Requirement already satisfied: threadpoolctl>=2.0.0 in /usr/local/lib/python3.10/dist-packages (from scikit-learn>=1.0.0->pyLDAvis) (3.2.0)\n",
            "Requirement already satisfied: smart-open>=1.8.1 in /usr/local/lib/python3.10/dist-packages (from gensim->pyLDAvis) (6.4.0)\n",
            "Requirement already satisfied: MarkupSafe>=2.0 in /usr/local/lib/python3.10/dist-packages (from jinja2->pyLDAvis) (2.1.3)\n",
            "Requirement already satisfied: six>=1.5 in /usr/local/lib/python3.10/dist-packages (from python-dateutil>=2.8.2->pandas>=2.0.0->pyLDAvis) (1.16.0)\n",
            "Installing collected packages: pandas\n",
            "  Attempting uninstall: pandas\n",
            "    Found existing installation: pandas 1.5.1\n",
            "    Uninstalling pandas-1.5.1:\n",
            "      Successfully uninstalled pandas-1.5.1\n",
            "\u001b[31mERROR: pip's dependency resolver does not currently take into account all the packages that are installed. This behaviour is the source of the following dependency conflicts.\n",
            "lida 0.0.10 requires fastapi, which is not installed.\n",
            "lida 0.0.10 requires kaleido, which is not installed.\n",
            "lida 0.0.10 requires python-multipart, which is not installed.\n",
            "lida 0.0.10 requires uvicorn, which is not installed.\n",
            "bigframes 0.17.0 requires pandas<2.1.4,>=1.5.0, but you have pandas 2.1.4 which is incompatible.\n",
            "google-colab 1.0.0 requires pandas==1.5.3, but you have pandas 2.1.4 which is incompatible.\u001b[0m\u001b[31m\n",
            "\u001b[0mSuccessfully installed pandas-2.1.4\n"
          ]
        }
      ]
    },
    {
      "cell_type": "code",
      "source": [
        "# Plotting tools\n",
        "import pyLDAvis\n",
        "import pyLDAvis.gensim  # don't skip this"
      ],
      "metadata": {
        "id": "RjjR7a6Z6IYt"
      },
      "execution_count": 12,
      "outputs": []
    },
    {
      "cell_type": "markdown",
      "source": [
        "## Read dataset"
      ],
      "metadata": {
        "id": "xuQab3SrY_Fp"
      }
    },
    {
      "cell_type": "code",
      "source": [
        "import opendatasets as od\n",
        "od.download('https://www.kaggle.com/datasets/abhiram8/lenovok8review')"
      ],
      "metadata": {
        "colab": {
          "base_uri": "https://localhost:8080/"
        },
        "id": "RhJ1jfMuYRsw",
        "outputId": "728dbd54-3ca1-44e1-e27d-8971fbb41c95"
      },
      "execution_count": 13,
      "outputs": [
        {
          "output_type": "stream",
          "name": "stdout",
          "text": [
            "Skipping, found downloaded files in \"./lenovok8review\" (use force=True to force download)\n"
          ]
        },
        {
          "output_type": "stream",
          "name": "stderr",
          "text": [
            "/usr/local/lib/python3.10/dist-packages/ipykernel/ipkernel.py:283: DeprecationWarning: `should_run_async` will not call `transform_cell` automatically in the future. Please pass the result to `transformed_cell` argument and any exception that happen during thetransform in `preprocessing_exc_tuple` in IPython 7.17 and above.\n",
            "  and should_run_async(code)\n"
          ]
        }
      ]
    },
    {
      "cell_type": "code",
      "source": [
        "reviews = pd.read_csv('/content/lenovok8review/K8 Reviews v0.2.csv', delimiter=',',engine='python')\n",
        "reviews.head()"
      ],
      "metadata": {
        "colab": {
          "base_uri": "https://localhost:8080/",
          "height": 261
        },
        "id": "3XqSfhozX1hf",
        "outputId": "91a25d05-01d3-431e-bb3d-e85d8781522a"
      },
      "execution_count": 14,
      "outputs": [
        {
          "output_type": "stream",
          "name": "stderr",
          "text": [
            "/usr/local/lib/python3.10/dist-packages/ipykernel/ipkernel.py:283: DeprecationWarning: `should_run_async` will not call `transform_cell` automatically in the future. Please pass the result to `transformed_cell` argument and any exception that happen during thetransform in `preprocessing_exc_tuple` in IPython 7.17 and above.\n",
            "  and should_run_async(code)\n"
          ]
        },
        {
          "output_type": "execute_result",
          "data": {
            "text/plain": [
              "   sentiment                                             review\n",
              "0          1             Good but need updates and improvements\n",
              "1          0  Worst mobile i have bought ever, Battery is dr...\n",
              "2          1  when I will get my 10% cash back.... its alrea...\n",
              "3          1                                               Good\n",
              "4          0  The worst phone everThey have changed the last..."
            ],
            "text/html": [
              "\n",
              "  <div id=\"df-16291c3e-25a3-4669-bf47-9f5c150ff5d7\" class=\"colab-df-container\">\n",
              "    <div>\n",
              "<style scoped>\n",
              "    .dataframe tbody tr th:only-of-type {\n",
              "        vertical-align: middle;\n",
              "    }\n",
              "\n",
              "    .dataframe tbody tr th {\n",
              "        vertical-align: top;\n",
              "    }\n",
              "\n",
              "    .dataframe thead th {\n",
              "        text-align: right;\n",
              "    }\n",
              "</style>\n",
              "<table border=\"1\" class=\"dataframe\">\n",
              "  <thead>\n",
              "    <tr style=\"text-align: right;\">\n",
              "      <th></th>\n",
              "      <th>sentiment</th>\n",
              "      <th>review</th>\n",
              "    </tr>\n",
              "  </thead>\n",
              "  <tbody>\n",
              "    <tr>\n",
              "      <th>0</th>\n",
              "      <td>1</td>\n",
              "      <td>Good but need updates and improvements</td>\n",
              "    </tr>\n",
              "    <tr>\n",
              "      <th>1</th>\n",
              "      <td>0</td>\n",
              "      <td>Worst mobile i have bought ever, Battery is dr...</td>\n",
              "    </tr>\n",
              "    <tr>\n",
              "      <th>2</th>\n",
              "      <td>1</td>\n",
              "      <td>when I will get my 10% cash back.... its alrea...</td>\n",
              "    </tr>\n",
              "    <tr>\n",
              "      <th>3</th>\n",
              "      <td>1</td>\n",
              "      <td>Good</td>\n",
              "    </tr>\n",
              "    <tr>\n",
              "      <th>4</th>\n",
              "      <td>0</td>\n",
              "      <td>The worst phone everThey have changed the last...</td>\n",
              "    </tr>\n",
              "  </tbody>\n",
              "</table>\n",
              "</div>\n",
              "    <div class=\"colab-df-buttons\">\n",
              "\n",
              "  <div class=\"colab-df-container\">\n",
              "    <button class=\"colab-df-convert\" onclick=\"convertToInteractive('df-16291c3e-25a3-4669-bf47-9f5c150ff5d7')\"\n",
              "            title=\"Convert this dataframe to an interactive table.\"\n",
              "            style=\"display:none;\">\n",
              "\n",
              "  <svg xmlns=\"http://www.w3.org/2000/svg\" height=\"24px\" viewBox=\"0 -960 960 960\">\n",
              "    <path d=\"M120-120v-720h720v720H120Zm60-500h600v-160H180v160Zm220 220h160v-160H400v160Zm0 220h160v-160H400v160ZM180-400h160v-160H180v160Zm440 0h160v-160H620v160ZM180-180h160v-160H180v160Zm440 0h160v-160H620v160Z\"/>\n",
              "  </svg>\n",
              "    </button>\n",
              "\n",
              "  <style>\n",
              "    .colab-df-container {\n",
              "      display:flex;\n",
              "      gap: 12px;\n",
              "    }\n",
              "\n",
              "    .colab-df-convert {\n",
              "      background-color: #E8F0FE;\n",
              "      border: none;\n",
              "      border-radius: 50%;\n",
              "      cursor: pointer;\n",
              "      display: none;\n",
              "      fill: #1967D2;\n",
              "      height: 32px;\n",
              "      padding: 0 0 0 0;\n",
              "      width: 32px;\n",
              "    }\n",
              "\n",
              "    .colab-df-convert:hover {\n",
              "      background-color: #E2EBFA;\n",
              "      box-shadow: 0px 1px 2px rgba(60, 64, 67, 0.3), 0px 1px 3px 1px rgba(60, 64, 67, 0.15);\n",
              "      fill: #174EA6;\n",
              "    }\n",
              "\n",
              "    .colab-df-buttons div {\n",
              "      margin-bottom: 4px;\n",
              "    }\n",
              "\n",
              "    [theme=dark] .colab-df-convert {\n",
              "      background-color: #3B4455;\n",
              "      fill: #D2E3FC;\n",
              "    }\n",
              "\n",
              "    [theme=dark] .colab-df-convert:hover {\n",
              "      background-color: #434B5C;\n",
              "      box-shadow: 0px 1px 3px 1px rgba(0, 0, 0, 0.15);\n",
              "      filter: drop-shadow(0px 1px 2px rgba(0, 0, 0, 0.3));\n",
              "      fill: #FFFFFF;\n",
              "    }\n",
              "  </style>\n",
              "\n",
              "    <script>\n",
              "      const buttonEl =\n",
              "        document.querySelector('#df-16291c3e-25a3-4669-bf47-9f5c150ff5d7 button.colab-df-convert');\n",
              "      buttonEl.style.display =\n",
              "        google.colab.kernel.accessAllowed ? 'block' : 'none';\n",
              "\n",
              "      async function convertToInteractive(key) {\n",
              "        const element = document.querySelector('#df-16291c3e-25a3-4669-bf47-9f5c150ff5d7');\n",
              "        const dataTable =\n",
              "          await google.colab.kernel.invokeFunction('convertToInteractive',\n",
              "                                                    [key], {});\n",
              "        if (!dataTable) return;\n",
              "\n",
              "        const docLinkHtml = 'Like what you see? Visit the ' +\n",
              "          '<a target=\"_blank\" href=https://colab.research.google.com/notebooks/data_table.ipynb>data table notebook</a>'\n",
              "          + ' to learn more about interactive tables.';\n",
              "        element.innerHTML = '';\n",
              "        dataTable['output_type'] = 'display_data';\n",
              "        await google.colab.output.renderOutput(dataTable, element);\n",
              "        const docLink = document.createElement('div');\n",
              "        docLink.innerHTML = docLinkHtml;\n",
              "        element.appendChild(docLink);\n",
              "      }\n",
              "    </script>\n",
              "  </div>\n",
              "\n",
              "\n",
              "<div id=\"df-efc4d6b7-93b7-4cb1-b047-8f6072805e5a\">\n",
              "  <button class=\"colab-df-quickchart\" onclick=\"quickchart('df-efc4d6b7-93b7-4cb1-b047-8f6072805e5a')\"\n",
              "            title=\"Suggest charts\"\n",
              "            style=\"display:none;\">\n",
              "\n",
              "<svg xmlns=\"http://www.w3.org/2000/svg\" height=\"24px\"viewBox=\"0 0 24 24\"\n",
              "     width=\"24px\">\n",
              "    <g>\n",
              "        <path d=\"M19 3H5c-1.1 0-2 .9-2 2v14c0 1.1.9 2 2 2h14c1.1 0 2-.9 2-2V5c0-1.1-.9-2-2-2zM9 17H7v-7h2v7zm4 0h-2V7h2v10zm4 0h-2v-4h2v4z\"/>\n",
              "    </g>\n",
              "</svg>\n",
              "  </button>\n",
              "\n",
              "<style>\n",
              "  .colab-df-quickchart {\n",
              "      --bg-color: #E8F0FE;\n",
              "      --fill-color: #1967D2;\n",
              "      --hover-bg-color: #E2EBFA;\n",
              "      --hover-fill-color: #174EA6;\n",
              "      --disabled-fill-color: #AAA;\n",
              "      --disabled-bg-color: #DDD;\n",
              "  }\n",
              "\n",
              "  [theme=dark] .colab-df-quickchart {\n",
              "      --bg-color: #3B4455;\n",
              "      --fill-color: #D2E3FC;\n",
              "      --hover-bg-color: #434B5C;\n",
              "      --hover-fill-color: #FFFFFF;\n",
              "      --disabled-bg-color: #3B4455;\n",
              "      --disabled-fill-color: #666;\n",
              "  }\n",
              "\n",
              "  .colab-df-quickchart {\n",
              "    background-color: var(--bg-color);\n",
              "    border: none;\n",
              "    border-radius: 50%;\n",
              "    cursor: pointer;\n",
              "    display: none;\n",
              "    fill: var(--fill-color);\n",
              "    height: 32px;\n",
              "    padding: 0;\n",
              "    width: 32px;\n",
              "  }\n",
              "\n",
              "  .colab-df-quickchart:hover {\n",
              "    background-color: var(--hover-bg-color);\n",
              "    box-shadow: 0 1px 2px rgba(60, 64, 67, 0.3), 0 1px 3px 1px rgba(60, 64, 67, 0.15);\n",
              "    fill: var(--button-hover-fill-color);\n",
              "  }\n",
              "\n",
              "  .colab-df-quickchart-complete:disabled,\n",
              "  .colab-df-quickchart-complete:disabled:hover {\n",
              "    background-color: var(--disabled-bg-color);\n",
              "    fill: var(--disabled-fill-color);\n",
              "    box-shadow: none;\n",
              "  }\n",
              "\n",
              "  .colab-df-spinner {\n",
              "    border: 2px solid var(--fill-color);\n",
              "    border-color: transparent;\n",
              "    border-bottom-color: var(--fill-color);\n",
              "    animation:\n",
              "      spin 1s steps(1) infinite;\n",
              "  }\n",
              "\n",
              "  @keyframes spin {\n",
              "    0% {\n",
              "      border-color: transparent;\n",
              "      border-bottom-color: var(--fill-color);\n",
              "      border-left-color: var(--fill-color);\n",
              "    }\n",
              "    20% {\n",
              "      border-color: transparent;\n",
              "      border-left-color: var(--fill-color);\n",
              "      border-top-color: var(--fill-color);\n",
              "    }\n",
              "    30% {\n",
              "      border-color: transparent;\n",
              "      border-left-color: var(--fill-color);\n",
              "      border-top-color: var(--fill-color);\n",
              "      border-right-color: var(--fill-color);\n",
              "    }\n",
              "    40% {\n",
              "      border-color: transparent;\n",
              "      border-right-color: var(--fill-color);\n",
              "      border-top-color: var(--fill-color);\n",
              "    }\n",
              "    60% {\n",
              "      border-color: transparent;\n",
              "      border-right-color: var(--fill-color);\n",
              "    }\n",
              "    80% {\n",
              "      border-color: transparent;\n",
              "      border-right-color: var(--fill-color);\n",
              "      border-bottom-color: var(--fill-color);\n",
              "    }\n",
              "    90% {\n",
              "      border-color: transparent;\n",
              "      border-bottom-color: var(--fill-color);\n",
              "    }\n",
              "  }\n",
              "</style>\n",
              "\n",
              "  <script>\n",
              "    async function quickchart(key) {\n",
              "      const quickchartButtonEl =\n",
              "        document.querySelector('#' + key + ' button');\n",
              "      quickchartButtonEl.disabled = true;  // To prevent multiple clicks.\n",
              "      quickchartButtonEl.classList.add('colab-df-spinner');\n",
              "      try {\n",
              "        const charts = await google.colab.kernel.invokeFunction(\n",
              "            'suggestCharts', [key], {});\n",
              "      } catch (error) {\n",
              "        console.error('Error during call to suggestCharts:', error);\n",
              "      }\n",
              "      quickchartButtonEl.classList.remove('colab-df-spinner');\n",
              "      quickchartButtonEl.classList.add('colab-df-quickchart-complete');\n",
              "    }\n",
              "    (() => {\n",
              "      let quickchartButtonEl =\n",
              "        document.querySelector('#df-efc4d6b7-93b7-4cb1-b047-8f6072805e5a button');\n",
              "      quickchartButtonEl.style.display =\n",
              "        google.colab.kernel.accessAllowed ? 'block' : 'none';\n",
              "    })();\n",
              "  </script>\n",
              "</div>\n",
              "\n",
              "    </div>\n",
              "  </div>\n"
            ]
          },
          "metadata": {},
          "execution_count": 14
        }
      ]
    },
    {
      "cell_type": "markdown",
      "source": [
        "## EDA"
      ],
      "metadata": {
        "id": "cit-e5EtOpZ2"
      }
    },
    {
      "cell_type": "code",
      "source": [
        "def data_EDA(data, col):\n",
        "  print(\"Shape of data=>\",data.shape)\n",
        "  print('-----------')\n",
        "\n",
        "  print(f\"Check non -> /n {data.isnull().sum()}\")\n",
        "  print('-----------')\n",
        "\n",
        "  print(\"CHECK duplicated-> \" , data[col].duplicated().sum())\n",
        "  print('-----------')\n",
        "\n",
        "  data['lenght'] = data[col].str.len()\n",
        "  print('Length of a sample comment:', data['lenght'].min())\n",
        "  print('Length of a sample comment:', data['lenght'].max())\n",
        "  print('Length of a sample comment:', data['lenght'].mean())\n",
        "  print('-----------')\n",
        "\n",
        "  data['word_count'] = [len(i.split()) for i in data[col]]\n",
        "  print('word_count of a sample comment:', data['word_count'].min())\n",
        "  print('word_count of a sample comment:', data['word_count'].max())\n",
        "  print('word_count of a sample comment:', data['word_count'].mean())\n",
        "  return data['word_count']\n",
        "\n"
      ],
      "metadata": {
        "id": "2A40Ljo8Gzil",
        "colab": {
          "base_uri": "https://localhost:8080/"
        },
        "outputId": "180e7f11-c2f6-4120-b3da-f5fabc2b9271"
      },
      "execution_count": 43,
      "outputs": [
        {
          "output_type": "stream",
          "name": "stderr",
          "text": [
            "/usr/local/lib/python3.10/dist-packages/ipykernel/ipkernel.py:283: DeprecationWarning: `should_run_async` will not call `transform_cell` automatically in the future. Please pass the result to `transformed_cell` argument and any exception that happen during thetransform in `preprocessing_exc_tuple` in IPython 7.17 and above.\n",
            "  and should_run_async(code)\n"
          ]
        }
      ]
    },
    {
      "cell_type": "code",
      "source": [
        "def count(corpus, col):\n",
        "  corpus_splited = corpus[col].str.split()\n",
        "  corpus = [word for sentance_splited in  corpus_splited for word in sentance_splited]\n",
        "  unique_words = set(corpus)\n",
        "  print(f\"corpus unique vocab: {len(unique_words)}\")\n",
        "  mostCommon = Counter(corpus).most_common(30)\n",
        "#  print(f\"most_Common vocab:{mostCommon}\")\n",
        "  return mostCommon\n",
        "\n",
        "def plot_words(mostCommon):\n",
        "  words = []\n",
        "  freq = []\n",
        "  for word, count in mostCommon[:10]:\n",
        "      words.append(word)\n",
        "      freq.append(count)\n",
        "  sns.barplot(x=freq, y=words)\n",
        "  plt.title('Top 10 Most Frequently Occuring Words')\n",
        "  plt.show()"
      ],
      "metadata": {
        "id": "6fD6vOyPDmRP",
        "colab": {
          "base_uri": "https://localhost:8080/"
        },
        "outputId": "2871e16a-79e7-4b74-aaca-fcd6269fe1db"
      },
      "execution_count": 44,
      "outputs": [
        {
          "output_type": "stream",
          "name": "stderr",
          "text": [
            "/usr/local/lib/python3.10/dist-packages/ipykernel/ipkernel.py:283: DeprecationWarning: `should_run_async` will not call `transform_cell` automatically in the future. Please pass the result to `transformed_cell` argument and any exception that happen during thetransform in `preprocessing_exc_tuple` in IPython 7.17 and above.\n",
            "  and should_run_async(code)\n"
          ]
        }
      ]
    },
    {
      "cell_type": "code",
      "source": [
        "word_count = data_EDA(reviews, 'review')"
      ],
      "metadata": {
        "colab": {
          "base_uri": "https://localhost:8080/"
        },
        "id": "9rtSkSyPY7Nf",
        "outputId": "d8a72091-1d6a-40b1-a436-2174a9da0610"
      },
      "execution_count": 45,
      "outputs": [
        {
          "output_type": "stream",
          "name": "stderr",
          "text": [
            "/usr/local/lib/python3.10/dist-packages/ipykernel/ipkernel.py:283: DeprecationWarning: `should_run_async` will not call `transform_cell` automatically in the future. Please pass the result to `transformed_cell` argument and any exception that happen during thetransform in `preprocessing_exc_tuple` in IPython 7.17 and above.\n",
            "  and should_run_async(code)\n"
          ]
        },
        {
          "output_type": "stream",
          "name": "stdout",
          "text": [
            "Shape of data=> (12433, 3)\n",
            "-----------\n",
            "Check non -> /n sentiment         0\n",
            "review            0\n",
            "processed_docs    0\n",
            "dtype: int64\n",
            "-----------\n",
            "CHECK duplicated->  47\n",
            "-----------\n",
            "Length of a sample comment: 5\n",
            "Length of a sample comment: 647\n",
            "Length of a sample comment: 106.10978846617871\n",
            "-----------\n",
            "word_count of a sample comment: 2\n",
            "word_count of a sample comment: 100\n",
            "word_count of a sample comment: 18.46851122013995\n"
          ]
        }
      ]
    },
    {
      "cell_type": "code",
      "source": [
        "sns.histplot(data=word_count)"
      ],
      "metadata": {
        "colab": {
          "base_uri": "https://localhost:8080/",
          "height": 0
        },
        "id": "wu0SZf8idns3",
        "outputId": "50a36872-5acd-43c6-e665-b0ed82c5ae14"
      },
      "execution_count": 46,
      "outputs": [
        {
          "output_type": "stream",
          "name": "stderr",
          "text": [
            "/usr/local/lib/python3.10/dist-packages/ipykernel/ipkernel.py:283: DeprecationWarning: `should_run_async` will not call `transform_cell` automatically in the future. Please pass the result to `transformed_cell` argument and any exception that happen during thetransform in `preprocessing_exc_tuple` in IPython 7.17 and above.\n",
            "  and should_run_async(code)\n",
            "/usr/local/lib/python3.10/dist-packages/seaborn/_oldcore.py:1498: DeprecationWarning: is_categorical_dtype is deprecated and will be removed in a future version. Use isinstance(dtype, pd.CategoricalDtype) instead\n",
            "  if pd.api.types.is_categorical_dtype(vector):\n",
            "/usr/local/lib/python3.10/dist-packages/seaborn/_oldcore.py:1119: FutureWarning: use_inf_as_na option is deprecated and will be removed in a future version. Convert inf values to NaN before operating instead.\n",
            "  with pd.option_context('mode.use_inf_as_na', True):\n"
          ]
        },
        {
          "output_type": "execute_result",
          "data": {
            "text/plain": [
              "<Axes: xlabel='word_count', ylabel='Count'>"
            ]
          },
          "metadata": {},
          "execution_count": 46
        },
        {
          "output_type": "display_data",
          "data": {
            "text/plain": [
              "<Figure size 640x480 with 1 Axes>"
            ],
            "image/png": "[encoded data removed]"
          },
          "metadata": {}
        }
      ]
    },
    {
      "cell_type": "code",
      "source": [
        "sns.boxplot(data=word_count)"
      ],
      "metadata": {
        "colab": {
          "base_uri": "https://localhost:8080/",
          "height": 0
        },
        "id": "0mPNQvP3drh1",
        "outputId": "1235a77f-f862-4e58-9646-2c7d6895e68b"
      },
      "execution_count": 47,
      "outputs": [
        {
          "output_type": "stream",
          "name": "stderr",
          "text": [
            "/usr/local/lib/python3.10/dist-packages/ipykernel/ipkernel.py:283: DeprecationWarning: `should_run_async` will not call `transform_cell` automatically in the future. Please pass the result to `transformed_cell` argument and any exception that happen during thetransform in `preprocessing_exc_tuple` in IPython 7.17 and above.\n",
            "  and should_run_async(code)\n"
          ]
        },
        {
          "output_type": "execute_result",
          "data": {
            "text/plain": [
              "<Axes: >"
            ]
          },
          "metadata": {},
          "execution_count": 47
        },
        {
          "output_type": "display_data",
          "data": {
            "text/plain": [
              "<Figure size 640x480 with 1 Axes>"
            ],
            "image/png": "[encoded data removed]"
          },
          "metadata": {}
        }
      ]
    },
    {
      "cell_type": "code",
      "source": [
        "mostCommon = count(reviews, 'review')\n",
        "mostCommon"
      ],
      "metadata": {
        "colab": {
          "base_uri": "https://localhost:8080/"
        },
        "id": "aGRmCNNcbYKJ",
        "outputId": "718c1665-5511-4d81-c5d1-61d6c342fa00"
      },
      "execution_count": 48,
      "outputs": [
        {
          "output_type": "stream",
          "name": "stderr",
          "text": [
            "/usr/local/lib/python3.10/dist-packages/ipykernel/ipkernel.py:283: DeprecationWarning: `should_run_async` will not call `transform_cell` automatically in the future. Please pass the result to `transformed_cell` argument and any exception that happen during thetransform in `preprocessing_exc_tuple` in IPython 7.17 and above.\n",
            "  and should_run_async(code)\n"
          ]
        },
        {
          "output_type": "stream",
          "name": "stdout",
          "text": [
            "corpus unique vocab: 25304\n"
          ]
        },
        {
          "output_type": "execute_result",
          "data": {
            "text/plain": [
              "[('is', 8596),\n",
              " ('not', 4469),\n",
              " ('the', 3962),\n",
              " ('and', 3961),\n",
              " ('phone', 3754),\n",
              " ('to', 3423),\n",
              " ('this', 3107),\n",
              " ('good', 2861),\n",
              " ('in', 2727),\n",
              " ('I', 2678),\n",
              " ('for', 2320),\n",
              " ('very', 2307),\n",
              " ('it', 2277),\n",
              " ('a', 2274),\n",
              " ('of', 2117),\n",
              " ('battery', 1891),\n",
              " ('but', 1865),\n",
              " ('with', 1836),\n",
              " ('camera', 1830),\n",
              " ('mobile', 1384),\n",
              " ('product', 1162),\n",
              " ('as', 1032),\n",
              " ('on', 1018),\n",
              " ('Lenovo', 1017),\n",
              " ('are', 992),\n",
              " ('buy', 969),\n",
              " ('quality', 965),\n",
              " ('have', 897),\n",
              " ('my', 896),\n",
              " ('problem', 880)]"
            ]
          },
          "metadata": {},
          "execution_count": 48
        }
      ]
    },
    {
      "cell_type": "code",
      "source": [
        "plot_words(mostCommon)"
      ],
      "metadata": {
        "colab": {
          "base_uri": "https://localhost:8080/",
          "height": 0
        },
        "id": "vgwJ9Z9Hbvzm",
        "outputId": "eec14405-bf84-4b9c-da8b-4d4675d9c42c"
      },
      "execution_count": 49,
      "outputs": [
        {
          "output_type": "stream",
          "name": "stderr",
          "text": [
            "/usr/local/lib/python3.10/dist-packages/ipykernel/ipkernel.py:283: DeprecationWarning: `should_run_async` will not call `transform_cell` automatically in the future. Please pass the result to `transformed_cell` argument and any exception that happen during thetransform in `preprocessing_exc_tuple` in IPython 7.17 and above.\n",
            "  and should_run_async(code)\n",
            "/usr/local/lib/python3.10/dist-packages/seaborn/_oldcore.py:1498: DeprecationWarning: is_categorical_dtype is deprecated and will be removed in a future version. Use isinstance(dtype, pd.CategoricalDtype) instead\n",
            "  if pd.api.types.is_categorical_dtype(vector):\n",
            "/usr/local/lib/python3.10/dist-packages/seaborn/_oldcore.py:1498: DeprecationWarning: is_categorical_dtype is deprecated and will be removed in a future version. Use isinstance(dtype, pd.CategoricalDtype) instead\n",
            "  if pd.api.types.is_categorical_dtype(vector):\n",
            "/usr/local/lib/python3.10/dist-packages/seaborn/_oldcore.py:1765: FutureWarning: unique with argument that is not not a Series, Index, ExtensionArray, or np.ndarray is deprecated and will raise in a future version.\n",
            "  order = pd.unique(vector)\n",
            "/usr/local/lib/python3.10/dist-packages/seaborn/_oldcore.py:1498: DeprecationWarning: is_categorical_dtype is deprecated and will be removed in a future version. Use isinstance(dtype, pd.CategoricalDtype) instead\n",
            "  if pd.api.types.is_categorical_dtype(vector):\n"
          ]
        },
        {
          "output_type": "display_data",
          "data": {
            "text/plain": [
              "<Figure size 640x480 with 1 Axes>"
            ],
            "image/png": "[encoded data removed]"
          },
          "metadata": {}
        }
      ]
    },
    {
      "cell_type": "markdown",
      "source": [
        "**NOTES**\n",
        "\n",
        "too long sentances outliers\n",
        "\n",
        "show and drop dublicate\n",
        "\n",
        "Need to remove stopwords"
      ],
      "metadata": {
        "id": "kjXxqRgvbLK-"
      }
    },
    {
      "cell_type": "markdown",
      "source": [
        "## Preprocess"
      ],
      "metadata": {
        "id": "k47NevEaffKJ"
      }
    },
    {
      "cell_type": "code",
      "source": [
        "reviews.drop_duplicates(inplace=True)\n",
        "len(reviews)"
      ],
      "metadata": {
        "colab": {
          "base_uri": "https://localhost:8080/"
        },
        "id": "90d-xfwyatJG",
        "outputId": "0e24e3ca-f816-4f56-bbb1-3f2549e75f0a"
      },
      "execution_count": 22,
      "outputs": [
        {
          "output_type": "stream",
          "name": "stderr",
          "text": [
            "/usr/local/lib/python3.10/dist-packages/ipykernel/ipkernel.py:283: DeprecationWarning: `should_run_async` will not call `transform_cell` automatically in the future. Please pass the result to `transformed_cell` argument and any exception that happen during thetransform in `preprocessing_exc_tuple` in IPython 7.17 and above.\n",
            "  and should_run_async(code)\n"
          ]
        },
        {
          "output_type": "execute_result",
          "data": {
            "text/plain": [
              "13036"
            ]
          },
          "metadata": {},
          "execution_count": 22
        }
      ]
    },
    {
      "cell_type": "code",
      "source": [
        "reviews.drop(labels=reviews[reviews['word_count'] > 100].index, axis=0, inplace=True)"
      ],
      "metadata": {
        "id": "k003_Vtferq_",
        "colab": {
          "base_uri": "https://localhost:8080/"
        },
        "outputId": "08b45aa4-536f-4cff-d9d5-52d4b78051a3"
      },
      "execution_count": 23,
      "outputs": [
        {
          "output_type": "stream",
          "name": "stderr",
          "text": [
            "/usr/local/lib/python3.10/dist-packages/ipykernel/ipkernel.py:283: DeprecationWarning: `should_run_async` will not call `transform_cell` automatically in the future. Please pass the result to `transformed_cell` argument and any exception that happen during thetransform in `preprocessing_exc_tuple` in IPython 7.17 and above.\n",
            "  and should_run_async(code)\n"
          ]
        }
      ]
    },
    {
      "cell_type": "code",
      "source": [
        "reviews.drop(labels=reviews[reviews['word_count'] < 2].index, axis=0, inplace=True)"
      ],
      "metadata": {
        "colab": {
          "base_uri": "https://localhost:8080/"
        },
        "id": "e5APZeZntOG1",
        "outputId": "16d3d4f1-baef-46db-f9e4-8844b137607a"
      },
      "execution_count": 24,
      "outputs": [
        {
          "output_type": "stream",
          "name": "stderr",
          "text": [
            "/usr/local/lib/python3.10/dist-packages/ipykernel/ipkernel.py:283: DeprecationWarning: `should_run_async` will not call `transform_cell` automatically in the future. Please pass the result to `transformed_cell` argument and any exception that happen during thetransform in `preprocessing_exc_tuple` in IPython 7.17 and above.\n",
            "  and should_run_async(code)\n"
          ]
        }
      ]
    },
    {
      "cell_type": "code",
      "source": [
        "reviews.drop(['lenght', 'word_count'], axis=1, inplace=True )"
      ],
      "metadata": {
        "id": "tg0NF6taeLr-",
        "colab": {
          "base_uri": "https://localhost:8080/"
        },
        "outputId": "2c9f632d-5515-4276-ce86-a47c220f1881"
      },
      "execution_count": 25,
      "outputs": [
        {
          "output_type": "stream",
          "name": "stderr",
          "text": [
            "/usr/local/lib/python3.10/dist-packages/ipykernel/ipkernel.py:283: DeprecationWarning: `should_run_async` will not call `transform_cell` automatically in the future. Please pass the result to `transformed_cell` argument and any exception that happen during thetransform in `preprocessing_exc_tuple` in IPython 7.17 and above.\n",
            "  and should_run_async(code)\n"
          ]
        }
      ]
    },
    {
      "cell_type": "code",
      "source": [
        "reviews.head()"
      ],
      "metadata": {
        "colab": {
          "base_uri": "https://localhost:8080/",
          "height": 0
        },
        "id": "d0OozFKffSWF",
        "outputId": "b17d65b1-1775-4993-fca9-c8b320af52cd"
      },
      "execution_count": 26,
      "outputs": [
        {
          "output_type": "stream",
          "name": "stderr",
          "text": [
            "/usr/local/lib/python3.10/dist-packages/ipykernel/ipkernel.py:283: DeprecationWarning: `should_run_async` will not call `transform_cell` automatically in the future. Please pass the result to `transformed_cell` argument and any exception that happen during thetransform in `preprocessing_exc_tuple` in IPython 7.17 and above.\n",
            "  and should_run_async(code)\n"
          ]
        },
        {
          "output_type": "execute_result",
          "data": {
            "text/plain": [
              "   sentiment                                             review\n",
              "0          1             Good but need updates and improvements\n",
              "1          0  Worst mobile i have bought ever, Battery is dr...\n",
              "2          1  when I will get my 10% cash back.... its alrea...\n",
              "4          0  The worst phone everThey have changed the last...\n",
              "5          0  Only I'm telling don't buyI'm totally disappoi..."
            ],
            "text/html": [
              "\n",
              "  <div id=\"df-43035fc8-7f0b-49f9-b720-01d3273d1ccb\" class=\"colab-df-container\">\n",
              "    <div>\n",
              "<style scoped>\n",
              "    .dataframe tbody tr th:only-of-type {\n",
              "        vertical-align: middle;\n",
              "    }\n",
              "\n",
              "    .dataframe tbody tr th {\n",
              "        vertical-align: top;\n",
              "    }\n",
              "\n",
              "    .dataframe thead th {\n",
              "        text-align: right;\n",
              "    }\n",
              "</style>\n",
              "<table border=\"1\" class=\"dataframe\">\n",
              "  <thead>\n",
              "    <tr style=\"text-align: right;\">\n",
              "      <th></th>\n",
              "      <th>sentiment</th>\n",
              "      <th>review</th>\n",
              "    </tr>\n",
              "  </thead>\n",
              "  <tbody>\n",
              "    <tr>\n",
              "      <th>0</th>\n",
              "      <td>1</td>\n",
              "      <td>Good but need updates and improvements</td>\n",
              "    </tr>\n",
              "    <tr>\n",
              "      <th>1</th>\n",
              "      <td>0</td>\n",
              "      <td>Worst mobile i have bought ever, Battery is dr...</td>\n",
              "    </tr>\n",
              "    <tr>\n",
              "      <th>2</th>\n",
              "      <td>1</td>\n",
              "      <td>when I will get my 10% cash back.... its alrea...</td>\n",
              "    </tr>\n",
              "    <tr>\n",
              "      <th>4</th>\n",
              "      <td>0</td>\n",
              "      <td>The worst phone everThey have changed the last...</td>\n",
              "    </tr>\n",
              "    <tr>\n",
              "      <th>5</th>\n",
              "      <td>0</td>\n",
              "      <td>Only I'm telling don't buyI'm totally disappoi...</td>\n",
              "    </tr>\n",
              "  </tbody>\n",
              "</table>\n",
              "</div>\n",
              "    <div class=\"colab-df-buttons\">\n",
              "\n",
              "  <div class=\"colab-df-container\">\n",
              "    <button class=\"colab-df-convert\" onclick=\"convertToInteractive('df-43035fc8-7f0b-49f9-b720-01d3273d1ccb')\"\n",
              "            title=\"Convert this dataframe to an interactive table.\"\n",
              "            style=\"display:none;\">\n",
              "\n",
              "  <svg xmlns=\"http://www.w3.org/2000/svg\" height=\"24px\" viewBox=\"0 -960 960 960\">\n",
              "    <path d=\"M120-120v-720h720v720H120Zm60-500h600v-160H180v160Zm220 220h160v-160H400v160Zm0 220h160v-160H400v160ZM180-400h160v-160H180v160Zm440 0h160v-160H620v160ZM180-180h160v-160H180v160Zm440 0h160v-160H620v160Z\"/>\n",
              "  </svg>\n",
              "    </button>\n",
              "\n",
              "  <style>\n",
              "    .colab-df-container {\n",
              "      display:flex;\n",
              "      gap: 12px;\n",
              "    }\n",
              "\n",
              "    .colab-df-convert {\n",
              "      background-color: #E8F0FE;\n",
              "      border: none;\n",
              "      border-radius: 50%;\n",
              "      cursor: pointer;\n",
              "      display: none;\n",
              "      fill: #1967D2;\n",
              "      height: 32px;\n",
              "      padding: 0 0 0 0;\n",
              "      width: 32px;\n",
              "    }\n",
              "\n",
              "    .colab-df-convert:hover {\n",
              "      background-color: #E2EBFA;\n",
              "      box-shadow: 0px 1px 2px rgba(60, 64, 67, 0.3), 0px 1px 3px 1px rgba(60, 64, 67, 0.15);\n",
              "      fill: #174EA6;\n",
              "    }\n",
              "\n",
              "    .colab-df-buttons div {\n",
              "      margin-bottom: 4px;\n",
              "    }\n",
              "\n",
              "    [theme=dark] .colab-df-convert {\n",
              "      background-color: #3B4455;\n",
              "      fill: #D2E3FC;\n",
              "    }\n",
              "\n",
              "    [theme=dark] .colab-df-convert:hover {\n",
              "      background-color: #434B5C;\n",
              "      box-shadow: 0px 1px 3px 1px rgba(0, 0, 0, 0.15);\n",
              "      filter: drop-shadow(0px 1px 2px rgba(0, 0, 0, 0.3));\n",
              "      fill: #FFFFFF;\n",
              "    }\n",
              "  </style>\n",
              "\n",
              "    <script>\n",
              "      const buttonEl =\n",
              "        document.querySelector('#df-43035fc8-7f0b-49f9-b720-01d3273d1ccb button.colab-df-convert');\n",
              "      buttonEl.style.display =\n",
              "        google.colab.kernel.accessAllowed ? 'block' : 'none';\n",
              "\n",
              "      async function convertToInteractive(key) {\n",
              "        const element = document.querySelector('#df-43035fc8-7f0b-49f9-b720-01d3273d1ccb');\n",
              "        const dataTable =\n",
              "          await google.colab.kernel.invokeFunction('convertToInteractive',\n",
              "                                                    [key], {});\n",
              "        if (!dataTable) return;\n",
              "\n",
              "        const docLinkHtml = 'Like what you see? Visit the ' +\n",
              "          '<a target=\"_blank\" href=https://colab.research.google.com/notebooks/data_table.ipynb>data table notebook</a>'\n",
              "          + ' to learn more about interactive tables.';\n",
              "        element.innerHTML = '';\n",
              "        dataTable['output_type'] = 'display_data';\n",
              "        await google.colab.output.renderOutput(dataTable, element);\n",
              "        const docLink = document.createElement('div');\n",
              "        docLink.innerHTML = docLinkHtml;\n",
              "        element.appendChild(docLink);\n",
              "      }\n",
              "    </script>\n",
              "  </div>\n",
              "\n",
              "\n",
              "<div id=\"df-c6efb0ef-a987-49f7-9e37-cd5300dfc787\">\n",
              "  <button class=\"colab-df-quickchart\" onclick=\"quickchart('df-c6efb0ef-a987-49f7-9e37-cd5300dfc787')\"\n",
              "            title=\"Suggest charts\"\n",
              "            style=\"display:none;\">\n",
              "\n",
              "<svg xmlns=\"http://www.w3.org/2000/svg\" height=\"24px\"viewBox=\"0 0 24 24\"\n",
              "     width=\"24px\">\n",
              "    <g>\n",
              "        <path d=\"M19 3H5c-1.1 0-2 .9-2 2v14c0 1.1.9 2 2 2h14c1.1 0 2-.9 2-2V5c0-1.1-.9-2-2-2zM9 17H7v-7h2v7zm4 0h-2V7h2v10zm4 0h-2v-4h2v4z\"/>\n",
              "    </g>\n",
              "</svg>\n",
              "  </button>\n",
              "\n",
              "<style>\n",
              "  .colab-df-quickchart {\n",
              "      --bg-color: #E8F0FE;\n",
              "      --fill-color: #1967D2;\n",
              "      --hover-bg-color: #E2EBFA;\n",
              "      --hover-fill-color: #174EA6;\n",
              "      --disabled-fill-color: #AAA;\n",
              "      --disabled-bg-color: #DDD;\n",
              "  }\n",
              "\n",
              "  [theme=dark] .colab-df-quickchart {\n",
              "      --bg-color: #3B4455;\n",
              "      --fill-color: #D2E3FC;\n",
              "      --hover-bg-color: #434B5C;\n",
              "      --hover-fill-color: #FFFFFF;\n",
              "      --disabled-bg-color: #3B4455;\n",
              "      --disabled-fill-color: #666;\n",
              "  }\n",
              "\n",
              "  .colab-df-quickchart {\n",
              "    background-color: var(--bg-color);\n",
              "    border: none;\n",
              "    border-radius: 50%;\n",
              "    cursor: pointer;\n",
              "    display: none;\n",
              "    fill: var(--fill-color);\n",
              "    height: 32px;\n",
              "    padding: 0;\n",
              "    width: 32px;\n",
              "  }\n",
              "\n",
              "  .colab-df-quickchart:hover {\n",
              "    background-color: var(--hover-bg-color);\n",
              "    box-shadow: 0 1px 2px rgba(60, 64, 67, 0.3), 0 1px 3px 1px rgba(60, 64, 67, 0.15);\n",
              "    fill: var(--button-hover-fill-color);\n",
              "  }\n",
              "\n",
              "  .colab-df-quickchart-complete:disabled,\n",
              "  .colab-df-quickchart-complete:disabled:hover {\n",
              "    background-color: var(--disabled-bg-color);\n",
              "    fill: var(--disabled-fill-color);\n",
              "    box-shadow: none;\n",
              "  }\n",
              "\n",
              "  .colab-df-spinner {\n",
              "    border: 2px solid var(--fill-color);\n",
              "    border-color: transparent;\n",
              "    border-bottom-color: var(--fill-color);\n",
              "    animation:\n",
              "      spin 1s steps(1) infinite;\n",
              "  }\n",
              "\n",
              "  @keyframes spin {\n",
              "    0% {\n",
              "      border-color: transparent;\n",
              "      border-bottom-color: var(--fill-color);\n",
              "      border-left-color: var(--fill-color);\n",
              "    }\n",
              "    20% {\n",
              "      border-color: transparent;\n",
              "      border-left-color: var(--fill-color);\n",
              "      border-top-color: var(--fill-color);\n",
              "    }\n",
              "    30% {\n",
              "      border-color: transparent;\n",
              "      border-left-color: var(--fill-color);\n",
              "      border-top-color: var(--fill-color);\n",
              "      border-right-color: var(--fill-color);\n",
              "    }\n",
              "    40% {\n",
              "      border-color: transparent;\n",
              "      border-right-color: var(--fill-color);\n",
              "      border-top-color: var(--fill-color);\n",
              "    }\n",
              "    60% {\n",
              "      border-color: transparent;\n",
              "      border-right-color: var(--fill-color);\n",
              "    }\n",
              "    80% {\n",
              "      border-color: transparent;\n",
              "      border-right-color: var(--fill-color);\n",
              "      border-bottom-color: var(--fill-color);\n",
              "    }\n",
              "    90% {\n",
              "      border-color: transparent;\n",
              "      border-bottom-color: var(--fill-color);\n",
              "    }\n",
              "  }\n",
              "</style>\n",
              "\n",
              "  <script>\n",
              "    async function quickchart(key) {\n",
              "      const quickchartButtonEl =\n",
              "        document.querySelector('#' + key + ' button');\n",
              "      quickchartButtonEl.disabled = true;  // To prevent multiple clicks.\n",
              "      quickchartButtonEl.classList.add('colab-df-spinner');\n",
              "      try {\n",
              "        const charts = await google.colab.kernel.invokeFunction(\n",
              "            'suggestCharts', [key], {});\n",
              "      } catch (error) {\n",
              "        console.error('Error during call to suggestCharts:', error);\n",
              "      }\n",
              "      quickchartButtonEl.classList.remove('colab-df-spinner');\n",
              "      quickchartButtonEl.classList.add('colab-df-quickchart-complete');\n",
              "    }\n",
              "    (() => {\n",
              "      let quickchartButtonEl =\n",
              "        document.querySelector('#df-c6efb0ef-a987-49f7-9e37-cd5300dfc787 button');\n",
              "      quickchartButtonEl.style.display =\n",
              "        google.colab.kernel.accessAllowed ? 'block' : 'none';\n",
              "    })();\n",
              "  </script>\n",
              "</div>\n",
              "\n",
              "    </div>\n",
              "  </div>\n"
            ]
          },
          "metadata": {},
          "execution_count": 26
        }
      ]
    },
    {
      "cell_type": "markdown",
      "source": [
        "add my stopwords"
      ],
      "metadata": {
        "id": "Tjj4Lz_7fq9T"
      }
    },
    {
      "cell_type": "code",
      "source": [
        "'''\n",
        "Write a function to proprocess the entire dataset\n",
        "'''\n",
        "# tokenize with gensim --> remove stopwords nltk and letters --> lemmitize nltk\n",
        "stemmer = SnowballStemmer('english')\n",
        "\n",
        "def lemmatize_stemming(text):\n",
        "    '''This function will lemmatize on Noun POS and stem the text'''\n",
        "    return stemmer.stem(WordNetLemmatizer().lemmatize(text,pos='n'))\n",
        "    #return (WordNetLemmatizer().lemmatize(text,pos='n'))\n",
        "\n",
        "#tokenize and lemmatize\n",
        "def preprocess(text):\n",
        "    '''Function to break into word tokens, remove stopwords, remove short words and finally to lemmatize and stem the individual tokens'''\n",
        "    result = []\n",
        "    for token in gensim.utils.simple_preprocess(text):\n",
        "        if token not in gensim.parsing.preprocessing.STOPWORDS and len(token) > 3:\n",
        "            result.append(lemmatize_stemming(token))\n",
        "    return result"
      ],
      "metadata": {
        "id": "MnZ3F55_fhWG",
        "colab": {
          "base_uri": "https://localhost:8080/"
        },
        "outputId": "1f371535-bb79-4960-913b-e432f76cdcfd"
      },
      "execution_count": 27,
      "outputs": [
        {
          "output_type": "stream",
          "name": "stderr",
          "text": [
            "/usr/local/lib/python3.10/dist-packages/ipykernel/ipkernel.py:283: DeprecationWarning: `should_run_async` will not call `transform_cell` automatically in the future. Please pass the result to `transformed_cell` argument and any exception that happen during thetransform in `preprocessing_exc_tuple` in IPython 7.17 and above.\n",
            "  and should_run_async(code)\n"
          ]
        }
      ]
    },
    {
      "cell_type": "code",
      "source": [
        "reviews['processed_docs']= reviews['review'].apply(lambda x: preprocess(x))\n",
        "reviews['processed_docs']"
      ],
      "metadata": {
        "colab": {
          "base_uri": "https://localhost:8080/"
        },
        "id": "4oVETpgQxkJI",
        "outputId": "d861461c-58a5-4ab6-acc4-7629ba9cd789"
      },
      "execution_count": 28,
      "outputs": [
        {
          "output_type": "stream",
          "name": "stderr",
          "text": [
            "/usr/local/lib/python3.10/dist-packages/ipykernel/ipkernel.py:283: DeprecationWarning: `should_run_async` will not call `transform_cell` automatically in the future. Please pass the result to `transformed_cell` argument and any exception that happen during thetransform in `preprocessing_exc_tuple` in IPython 7.17 and above.\n",
            "  and should_run_async(code)\n"
          ]
        },
        {
          "output_type": "execute_result",
          "data": {
            "text/plain": [
              "0                              [good, need, updat, improv]\n",
              "1        [worst, mobil, bought, batteri, drain, like, h...\n",
              "2                                          [cash, januari]\n",
              "4        [worst, phone, everthey, chang, phone, problem...\n",
              "5        [tell, buyi, total, batterypoor, camerawast, m...\n",
              "                               ...                        \n",
              "14670             [like, phone, work, fine, whater, phone]\n",
              "14671    [lenovo, note, awesom, take, best, pictur, dua...\n",
              "14672                               [awesom, gaget, price]\n",
              "14673    [phone, nice, process, success, dual, camera, ...\n",
              "14674                               [good, product, pakeg]\n",
              "Name: processed_docs, Length: 12433, dtype: object"
            ]
          },
          "metadata": {},
          "execution_count": 28
        }
      ]
    },
    {
      "cell_type": "markdown",
      "source": [
        "### BOW"
      ],
      "metadata": {
        "id": "ndRP4MmCxwsw"
      }
    },
    {
      "cell_type": "code",
      "source": [
        "dictionary = gensim.corpora.Dictionary(reviews['processed_docs'])\n",
        "\n",
        "for key, value in list(dictionary.items())[:10]:\n",
        "  print(key , value)\n"
      ],
      "metadata": {
        "colab": {
          "base_uri": "https://localhost:8080/"
        },
        "id": "y04A5oRMxzIY",
        "outputId": "9a173089-22f0-42e5-cc17-234b8ba6683a"
      },
      "execution_count": 29,
      "outputs": [
        {
          "output_type": "stream",
          "name": "stdout",
          "text": [
            "0 good\n",
            "1 improv\n",
            "2 need\n",
            "3 updat\n",
            "4 amazon\n",
            "5 backup\n",
            "6 batteri\n",
            "7 biggest\n",
            "8 booster\n",
            "9 bought\n"
          ]
        },
        {
          "output_type": "stream",
          "name": "stderr",
          "text": [
            "/usr/local/lib/python3.10/dist-packages/ipykernel/ipkernel.py:283: DeprecationWarning: `should_run_async` will not call `transform_cell` automatically in the future. Please pass the result to `transformed_cell` argument and any exception that happen during thetransform in `preprocessing_exc_tuple` in IPython 7.17 and above.\n",
            "  and should_run_async(code)\n"
          ]
        }
      ]
    },
    {
      "cell_type": "markdown",
      "source": [
        "note: stem not very good option try lemmitization not stemming"
      ],
      "metadata": {
        "id": "01utjvWUymE_"
      }
    },
    {
      "cell_type": "markdown",
      "source": [
        "**Gensim filter extremes**"
      ],
      "metadata": {
        "id": "UmXmiohWy7yH"
      }
    },
    {
      "cell_type": "code",
      "source": [
        "dictionary.filter_extremes(no_below=5,no_above=0.1,keep_n=None)\n"
      ],
      "metadata": {
        "id": "aUlAmZu1x3fw",
        "colab": {
          "base_uri": "https://localhost:8080/"
        },
        "outputId": "c7e3fffe-27e9-4aea-cd58-9873417c100f"
      },
      "execution_count": 30,
      "outputs": [
        {
          "output_type": "stream",
          "name": "stderr",
          "text": [
            "/usr/local/lib/python3.10/dist-packages/ipykernel/ipkernel.py:283: DeprecationWarning: `should_run_async` will not call `transform_cell` automatically in the future. Please pass the result to `transformed_cell` argument and any exception that happen during thetransform in `preprocessing_exc_tuple` in IPython 7.17 and above.\n",
            "  and should_run_async(code)\n"
          ]
        }
      ]
    },
    {
      "cell_type": "code",
      "source": [
        "reviews[\"processed_docs\"].head()"
      ],
      "metadata": {
        "colab": {
          "base_uri": "https://localhost:8080/"
        },
        "id": "teaq0kTdzw4o",
        "outputId": "f23bc45d-d46d-467d-c399-b26657c8d9d0"
      },
      "execution_count": 31,
      "outputs": [
        {
          "output_type": "stream",
          "name": "stderr",
          "text": [
            "/usr/local/lib/python3.10/dist-packages/ipykernel/ipkernel.py:283: DeprecationWarning: `should_run_async` will not call `transform_cell` automatically in the future. Please pass the result to `transformed_cell` argument and any exception that happen during thetransform in `preprocessing_exc_tuple` in IPython 7.17 and above.\n",
            "  and should_run_async(code)\n"
          ]
        },
        {
          "output_type": "execute_result",
          "data": {
            "text/plain": [
              "0                          [good, need, updat, improv]\n",
              "1    [worst, mobil, bought, batteri, drain, like, h...\n",
              "2                                      [cash, januari]\n",
              "4    [worst, phone, everthey, chang, phone, problem...\n",
              "5    [tell, buyi, total, batterypoor, camerawast, m...\n",
              "Name: processed_docs, dtype: object"
            ]
          },
          "metadata": {},
          "execution_count": 31
        }
      ]
    },
    {
      "cell_type": "code",
      "source": [
        "bow_corpus = [dictionary.doc2bow(txt) for txt in reviews[\"processed_docs\"]]\n",
        "bow_corpus[:5]"
      ],
      "metadata": {
        "colab": {
          "base_uri": "https://localhost:8080/"
        },
        "id": "NLd2upStzGPg",
        "outputId": "4de1993d-86dc-4de1-e523-2d423a201243"
      },
      "execution_count": 32,
      "outputs": [
        {
          "output_type": "stream",
          "name": "stderr",
          "text": [
            "/usr/local/lib/python3.10/dist-packages/ipykernel/ipkernel.py:283: DeprecationWarning: `should_run_async` will not call `transform_cell` automatically in the future. Please pass the result to `transformed_cell` argument and any exception that happen during thetransform in `preprocessing_exc_tuple` in IPython 7.17 and above.\n",
            "  and should_run_async(code)\n"
          ]
        },
        {
          "output_type": "execute_result",
          "data": {
            "text/plain": [
              "[[(0, 1), (1, 1), (2, 1)],\n",
              " [(3, 1),\n",
              "  (4, 1),\n",
              "  (5, 1),\n",
              "  (6, 1),\n",
              "  (7, 1),\n",
              "  (8, 1),\n",
              "  (9, 1),\n",
              "  (10, 1),\n",
              "  (11, 1),\n",
              "  (12, 1),\n",
              "  (13, 1),\n",
              "  (14, 1),\n",
              "  (15, 2),\n",
              "  (16, 1),\n",
              "  (17, 1),\n",
              "  (18, 1),\n",
              "  (19, 1),\n",
              "  (20, 2),\n",
              "  (21, 2),\n",
              "  (22, 1),\n",
              "  (23, 1),\n",
              "  (24, 1),\n",
              "  (25, 1),\n",
              "  (26, 1),\n",
              "  (27, 1)],\n",
              " [(28, 1), (29, 1)],\n",
              " [(3, 2), (27, 1), (30, 1), (31, 1), (32, 1), (33, 1)],\n",
              " [(34, 1), (35, 1), (36, 1)]]"
            ]
          },
          "metadata": {},
          "execution_count": 32
        }
      ]
    },
    {
      "cell_type": "code",
      "source": [
        "#check randomly any of the reviews\n",
        "random = np.random.randint(1,len(reviews))\n",
        "document_num = random\n",
        "\n",
        "bow_doc_x = bow_corpus[random]\n",
        "\n",
        "for i in range(len(bow_doc_x)):\n",
        "    print(f'Word {bow_doc_x[i][0]} -> {dictionary[bow_doc_x[i][0]]} appears {bow_doc_x[i][1]} times')"
      ],
      "metadata": {
        "colab": {
          "base_uri": "https://localhost:8080/"
        },
        "id": "RG5w59R-0VMw",
        "outputId": "451e2a30-eb15-43ba-b3db-3a6f9a39fb86"
      },
      "execution_count": 33,
      "outputs": [
        {
          "output_type": "stream",
          "name": "stdout",
          "text": [
            "Word 33 -> return appears 1 times\n",
            "Word 56 -> item appears 1 times\n",
            "Word 248 -> want appears 1 times\n"
          ]
        },
        {
          "output_type": "stream",
          "name": "stderr",
          "text": [
            "/usr/local/lib/python3.10/dist-packages/ipykernel/ipkernel.py:283: DeprecationWarning: `should_run_async` will not call `transform_cell` automatically in the future. Please pass the result to `transformed_cell` argument and any exception that happen during thetransform in `preprocessing_exc_tuple` in IPython 7.17 and above.\n",
            "  and should_run_async(code)\n"
          ]
        }
      ]
    },
    {
      "cell_type": "markdown",
      "source": [
        "# Apply LDA"
      ],
      "metadata": {
        "id": "utEJcELO1PCq"
      }
    },
    {
      "cell_type": "code",
      "source": [
        "!pip install pandas"
      ],
      "metadata": {
        "colab": {
          "base_uri": "https://localhost:8080/"
        },
        "id": "uWR5ND7f7VR9",
        "outputId": "eb895621-684a-43d0-a7a1-3d1852cbb989"
      },
      "execution_count": 34,
      "outputs": [
        {
          "output_type": "stream",
          "name": "stderr",
          "text": [
            "/usr/local/lib/python3.10/dist-packages/ipykernel/ipkernel.py:283: DeprecationWarning: `should_run_async` will not call `transform_cell` automatically in the future. Please pass the result to `transformed_cell` argument and any exception that happen during thetransform in `preprocessing_exc_tuple` in IPython 7.17 and above.\n",
            "  and should_run_async(code)\n"
          ]
        },
        {
          "output_type": "stream",
          "name": "stdout",
          "text": [
            "Requirement already satisfied: pandas in /usr/local/lib/python3.10/dist-packages (2.1.4)\n",
            "Requirement already satisfied: numpy<2,>=1.22.4 in /usr/local/lib/python3.10/dist-packages (from pandas) (1.26.2)\n",
            "Requirement already satisfied: python-dateutil>=2.8.2 in /usr/local/lib/python3.10/dist-packages (from pandas) (2.8.2)\n",
            "Requirement already satisfied: pytz>=2020.1 in /usr/local/lib/python3.10/dist-packages (from pandas) (2023.3.post1)\n",
            "Requirement already satisfied: tzdata>=2022.1 in /usr/local/lib/python3.10/dist-packages (from pandas) (2023.3)\n",
            "Requirement already satisfied: six>=1.5 in /usr/local/lib/python3.10/dist-packages (from python-dateutil>=2.8.2->pandas) (1.16.0)\n"
          ]
        }
      ]
    },
    {
      "cell_type": "code",
      "source": [
        "#apply the gensim LDA model and generate 12 topics from the corpus\n",
        "SEED = 41\n",
        "num = [i for i in range(3, 15)]\n",
        "lda_model = gensim.models.LdaMulticore(corpus=bow_corpus,\n",
        "                                       num_topics=12,\n",
        "                                       id2word=dictionary,\n",
        "                                       passes=10,\n",
        "                                       workers=2,\n",
        "                                       random_state=SEED,\n",
        "                                       minimum_probability=0.05,\n",
        "                                       alpha='symmetric')\n"
      ],
      "metadata": {
        "id": "OL3ZxrJ31SJw",
        "colab": {
          "base_uri": "https://localhost:8080/"
        },
        "outputId": "6cdc84ae-7fab-454c-fd86-0e847ddb619c"
      },
      "execution_count": 35,
      "outputs": [
        {
          "output_type": "stream",
          "name": "stderr",
          "text": [
            "/usr/local/lib/python3.10/dist-packages/ipykernel/ipkernel.py:283: DeprecationWarning: `should_run_async` will not call `transform_cell` automatically in the future. Please pass the result to `transformed_cell` argument and any exception that happen during thetransform in `preprocessing_exc_tuple` in IPython 7.17 and above.\n",
            "  and should_run_async(code)\n"
          ]
        }
      ]
    },
    {
      "cell_type": "code",
      "source": [
        "#For each topic, explore each word and its relative weight in the topic\n",
        "\n",
        "for idx,topic in lda_model.print_topics(-1,num_words=15):\n",
        "    print(\"Topic: {} \\nWords: {}\".format(idx, topic ))\n",
        "    print(\"\\n\")"
      ],
      "metadata": {
        "colab": {
          "base_uri": "https://localhost:8080/"
        },
        "id": "rF-d5rEn2_nW",
        "outputId": "574e18e1-0185-4496-ccba-7760b5809cb7"
      },
      "execution_count": 36,
      "outputs": [
        {
          "output_type": "stream",
          "name": "stdout",
          "text": [
            "Topic: 0 \n",
            "Words: 0.207*\"nice\" + 0.097*\"price\" + 0.044*\"overal\" + 0.028*\"featur\" + 0.027*\"deliveri\" + 0.023*\"issu\" + 0.021*\"rang\" + 0.020*\"awesom\" + 0.018*\"specif\" + 0.016*\"thank\" + 0.016*\"time\" + 0.014*\"perform\" + 0.013*\"mark\" + 0.012*\"star\" + 0.012*\"worth\"\n",
            "\n",
            "\n",
            "Topic: 1 \n",
            "Words: 0.102*\"great\" + 0.068*\"expect\" + 0.054*\"look\" + 0.050*\"money\" + 0.040*\"valu\" + 0.030*\"perform\" + 0.026*\"killer\" + 0.024*\"featur\" + 0.016*\"like\" + 0.016*\"qualiti\" + 0.014*\"disappoint\" + 0.014*\"clariti\" + 0.014*\"purchas\" + 0.013*\"amaz\" + 0.012*\"display\"\n",
            "\n",
            "\n",
            "Topic: 2 \n",
            "Words: 0.086*\"excel\" + 0.046*\"love\" + 0.036*\"satisfi\" + 0.031*\"superb\" + 0.031*\"price\" + 0.027*\"fine\" + 0.024*\"backup\" + 0.023*\"amaz\" + 0.022*\"perform\" + 0.021*\"perfect\" + 0.021*\"awesom\" + 0.018*\"android\" + 0.017*\"smooth\" + 0.015*\"experi\" + 0.015*\"stock\"\n",
            "\n",
            "\n",
            "Topic: 3 \n",
            "Words: 0.070*\"screen\" + 0.055*\"wast\" + 0.039*\"cast\" + 0.037*\"money\" + 0.030*\"like\" + 0.025*\"dolbi\" + 0.022*\"speaker\" + 0.017*\"time\" + 0.016*\"automat\" + 0.015*\"option\" + 0.014*\"dont\" + 0.014*\"stop\" + 0.014*\"app\" + 0.013*\"avail\" + 0.011*\"worst\"\n",
            "\n",
            "\n",
            "Topic: 4 \n",
            "Words: 0.121*\"best\" + 0.065*\"awesom\" + 0.052*\"fast\" + 0.035*\"drain\" + 0.026*\"rang\" + 0.026*\"featur\" + 0.024*\"price\" + 0.023*\"budget\" + 0.021*\"perform\" + 0.020*\"mode\" + 0.020*\"depth\" + 0.018*\"super\" + 0.017*\"music\" + 0.016*\"littl\" + 0.015*\"like\"\n",
            "\n",
            "\n",
            "Topic: 5 \n",
            "Words: 0.064*\"worst\" + 0.057*\"amazon\" + 0.038*\"return\" + 0.038*\"servic\" + 0.022*\"time\" + 0.020*\"replac\" + 0.017*\"custom\" + 0.016*\"issu\" + 0.015*\"purchas\" + 0.013*\"note\" + 0.012*\"support\" + 0.012*\"want\" + 0.010*\"refund\" + 0.010*\"check\" + 0.010*\"center\"\n",
            "\n",
            "\n",
            "Topic: 6 \n",
            "Words: 0.137*\"note\" + 0.052*\"better\" + 0.032*\"record\" + 0.022*\"option\" + 0.021*\"redmi\" + 0.020*\"featur\" + 0.020*\"miss\" + 0.018*\"like\" + 0.017*\"screen\" + 0.016*\"compar\" + 0.015*\"support\" + 0.014*\"call\" + 0.013*\"dual\" + 0.013*\"avail\" + 0.012*\"galleri\"\n",
            "\n",
            "\n",
            "Topic: 7 \n",
            "Words: 0.159*\"qualiti\" + 0.035*\"dual\" + 0.035*\"sound\" + 0.032*\"averag\" + 0.028*\"poor\" + 0.026*\"display\" + 0.025*\"pictur\" + 0.020*\"life\" + 0.018*\"card\" + 0.016*\"video\" + 0.015*\"light\" + 0.013*\"speaker\" + 0.012*\"build\" + 0.012*\"speed\" + 0.012*\"processor\"\n",
            "\n",
            "\n",
            "Topic: 8 \n",
            "Words: 0.109*\"issu\" + 0.081*\"updat\" + 0.043*\"network\" + 0.034*\"softwar\" + 0.029*\"proper\" + 0.028*\"connect\" + 0.025*\"signal\" + 0.023*\"need\" + 0.021*\"oreo\" + 0.017*\"bluetooth\" + 0.015*\"improv\" + 0.014*\"face\" + 0.014*\"get\" + 0.013*\"android\" + 0.013*\"have\"\n",
            "\n",
            "\n",
            "Topic: 9 \n",
            "Words: 0.105*\"poor\" + 0.067*\"backup\" + 0.052*\"perform\" + 0.034*\"hang\" + 0.032*\"worth\" + 0.029*\"game\" + 0.023*\"play\" + 0.022*\"hour\" + 0.022*\"fast\" + 0.021*\"drain\" + 0.019*\"slow\" + 0.017*\"life\" + 0.017*\"money\" + 0.016*\"processor\" + 0.016*\"issu\"\n",
            "\n",
            "\n",
            "Topic: 10 \n",
            "Words: 0.031*\"glass\" + 0.026*\"screen\" + 0.023*\"gorilla\" + 0.021*\"headset\" + 0.020*\"day\" + 0.019*\"headphon\" + 0.016*\"time\" + 0.016*\"provid\" + 0.015*\"month\" + 0.015*\"broken\" + 0.015*\"nahi\" + 0.013*\"switch\" + 0.013*\"haven\" + 0.012*\"face\" + 0.012*\"deliveri\"\n",
            "\n",
            "\n",
            "Topic: 11 \n",
            "Words: 0.070*\"charger\" + 0.061*\"get\" + 0.052*\"turbo\" + 0.049*\"month\" + 0.029*\"take\" + 0.028*\"hour\" + 0.023*\"receiv\" + 0.023*\"quick\" + 0.022*\"handset\" + 0.022*\"time\" + 0.019*\"drain\" + 0.017*\"hang\" + 0.013*\"start\" + 0.012*\"slow\" + 0.011*\"fast\"\n",
            "\n",
            "\n"
          ]
        },
        {
          "output_type": "stream",
          "name": "stderr",
          "text": [
            "/usr/local/lib/python3.10/dist-packages/ipykernel/ipkernel.py:283: DeprecationWarning: `should_run_async` will not call `transform_cell` automatically in the future. Please pass the result to `transformed_cell` argument and any exception that happen during thetransform in `preprocessing_exc_tuple` in IPython 7.17 and above.\n",
            "  and should_run_async(code)\n"
          ]
        }
      ]
    },
    {
      "cell_type": "code",
      "source": [
        "#compute coherence score\n",
        "lda_model_coherence = CoherenceModel(model=lda_model,\n",
        "                                     texts=reviews[\"processed_docs\"],\n",
        "                                     dictionary=dictionary,\n",
        "                                     coherence='c_v')\n",
        "\n",
        "coherence_lda = lda_model_coherence.get_coherence()\n",
        "print('\\nCoherence Score:',coherence_lda)"
      ],
      "metadata": {
        "colab": {
          "base_uri": "https://localhost:8080/"
        },
        "id": "XEuMresJ3ECe",
        "outputId": "f8073d93-58f3-47ed-d22a-dfeb74759299"
      },
      "execution_count": 37,
      "outputs": [
        {
          "output_type": "stream",
          "name": "stderr",
          "text": [
            "/usr/local/lib/python3.10/dist-packages/ipykernel/ipkernel.py:283: DeprecationWarning: `should_run_async` will not call `transform_cell` automatically in the future. Please pass the result to `transformed_cell` argument and any exception that happen during thetransform in `preprocessing_exc_tuple` in IPython 7.17 and above.\n",
            "  and should_run_async(code)\n"
          ]
        },
        {
          "output_type": "stream",
          "name": "stdout",
          "text": [
            "\n",
            "Coherence Score: 0.5186014575351879\n"
          ]
        }
      ]
    },
    {
      "cell_type": "markdown",
      "source": [
        "### TRIALS for Best LDA"
      ],
      "metadata": {
        "id": "beZSKNGt4ThC"
      }
    },
    {
      "cell_type": "code",
      "source": [
        "def compute_coherence_score(corpus,dictionary,NUM,ALPHA):\n",
        "    #instantiate the model instance based on k,a and b\n",
        "    lda_model = gensim.models.LdaMulticore(corpus=corpus,\n",
        "                                           id2word=dictionary,\n",
        "                                           num_topics=NUM,\n",
        "                                           alpha=ALPHA,\n",
        "                                           passes=10,\n",
        "                                           random_state=SEED)\n",
        "    lda_model_coherence = CoherenceModel(model=lda_model,\n",
        "                                        texts=reviews[\"processed_docs\"],\n",
        "                                        dictionary=dictionary,\n",
        "                                        coherence='c_v')\n",
        "    return lda_model_coherence.get_coherence()\n",
        "\n",
        "#search for the best alpha and the number of topics --> one with the highest coherence score will be the best hyperparameter\n",
        "alpha =['symmetric','asymmetric']\n",
        "\n",
        "for x in alpha:\n",
        "    print('Coherence Model with alpha = {}'.format(x))\n",
        "    print('-------------------------------------------')\n",
        "    print('\\n')\n",
        "    for i in range(5,10):\n",
        "        score = compute_coherence_score(corpus=bow_corpus,\n",
        "                                        dictionary=dictionary,\n",
        "                                        NUM=i,\n",
        "                                        ALPHA=x)\n",
        "        print(f'Coherence score with {i} topics is {score}')\n",
        "        print('\\n')"
      ],
      "metadata": {
        "colab": {
          "base_uri": "https://localhost:8080/"
        },
        "id": "05iG7CsC3kPN",
        "outputId": "50549c5d-6f88-4259-cf18-f4f5b3edf11f"
      },
      "execution_count": 38,
      "outputs": [
        {
          "output_type": "stream",
          "name": "stdout",
          "text": [
            "Coherence Model with alpha = symmetric\n",
            "-------------------------------------------\n",
            "\n",
            "\n"
          ]
        },
        {
          "output_type": "stream",
          "name": "stderr",
          "text": [
            "/usr/local/lib/python3.10/dist-packages/ipykernel/ipkernel.py:283: DeprecationWarning: `should_run_async` will not call `transform_cell` automatically in the future. Please pass the result to `transformed_cell` argument and any exception that happen during thetransform in `preprocessing_exc_tuple` in IPython 7.17 and above.\n",
            "  and should_run_async(code)\n"
          ]
        },
        {
          "output_type": "stream",
          "name": "stdout",
          "text": [
            "Coherence score with 5 topics is 0.5518807694046391\n",
            "\n",
            "\n",
            "Coherence score with 6 topics is 0.5462379679131241\n",
            "\n",
            "\n",
            "Coherence score with 7 topics is 0.5154562908607806\n",
            "\n",
            "\n",
            "Coherence score with 8 topics is 0.504926600491131\n",
            "\n",
            "\n",
            "Coherence score with 9 topics is 0.5311070171463051\n",
            "\n",
            "\n",
            "Coherence Model with alpha = asymmetric\n",
            "-------------------------------------------\n",
            "\n",
            "\n",
            "Coherence score with 5 topics is 0.5864816796509851\n",
            "\n",
            "\n",
            "Coherence score with 6 topics is 0.5555843602318559\n",
            "\n",
            "\n",
            "Coherence score with 7 topics is 0.5473648318266935\n",
            "\n",
            "\n",
            "Coherence score with 8 topics is 0.536157387105018\n",
            "\n",
            "\n",
            "Coherence score with 9 topics is 0.5517241101102318\n",
            "\n",
            "\n"
          ]
        }
      ]
    },
    {
      "cell_type": "code",
      "source": [
        "def explore_words(lda_model = lda_model, NUM_WORDS = 15):\n",
        "#For each topic, explore each word and its relative weight in the topic\n",
        "\n",
        "  for idx,topic in lda_model.print_topics(-1, num_words = NUM_WORDS):\n",
        "      print(\"Topic: {} \\nWords: {}\".format(idx, topic))\n",
        "      print(\"\\n\")"
      ],
      "metadata": {
        "id": "M2aTjxEJ4vfO",
        "colab": {
          "base_uri": "https://localhost:8080/"
        },
        "outputId": "bfcc2904-2ed4-4182-d741-27d5e6b3090a"
      },
      "execution_count": 39,
      "outputs": [
        {
          "output_type": "stream",
          "name": "stderr",
          "text": [
            "/usr/local/lib/python3.10/dist-packages/ipykernel/ipkernel.py:283: DeprecationWarning: `should_run_async` will not call `transform_cell` automatically in the future. Please pass the result to `transformed_cell` argument and any exception that happen during thetransform in `preprocessing_exc_tuple` in IPython 7.17 and above.\n",
            "  and should_run_async(code)\n"
          ]
        }
      ]
    },
    {
      "cell_type": "code",
      "source": [
        "lda_model_final = gensim.models.LdaMulticore(corpus=bow_corpus,num_topics=10,id2word=dictionary,passes=10,workers=2,alpha='asymmetric')"
      ],
      "metadata": {
        "id": "MYXPtGjG4Srf"
      },
      "execution_count": 64,
      "outputs": []
    },
    {
      "cell_type": "code",
      "source": [
        "from pprint import pprint\n",
        "# Print the Keyword in the 7 topics\n",
        "pprint(lda_model_final.print_topics())\n",
        "doc_lda = lda_model_final[bow_corpus]"
      ],
      "metadata": {
        "colab": {
          "base_uri": "https://localhost:8080/"
        },
        "id": "SpPdbIZ44eGu",
        "outputId": "a20d022d-22c6-4c1f-9bf4-8fd11f30f578"
      },
      "execution_count": 41,
      "outputs": [
        {
          "output_type": "stream",
          "name": "stdout",
          "text": [
            "[(0,\n",
            "  '0.035*\"money\" + 0.024*\"issu\" + 0.023*\"amazon\" + 0.022*\"wast\" + '\n",
            "  '0.020*\"expect\" + 0.016*\"devic\" + 0.014*\"worth\" + 0.014*\"love\" + '\n",
            "  '0.013*\"valu\" + 0.013*\"deliveri\"'),\n",
            " (1,\n",
            "  '0.035*\"screen\" + 0.034*\"time\" + 0.031*\"charger\" + 0.023*\"turbo\" + '\n",
            "  '0.023*\"issu\" + 0.022*\"hour\" + 0.021*\"take\" + 0.021*\"note\" + 0.020*\"month\" + '\n",
            "  '0.016*\"cast\"'),\n",
            " (2,\n",
            "  '0.035*\"updat\" + 0.029*\"drain\" + 0.026*\"fast\" + 0.020*\"note\" + 0.019*\"mode\" '\n",
            "  '+ 0.019*\"featur\" + 0.017*\"like\" + 0.017*\"issu\" + 0.015*\"dual\" + '\n",
            "  '0.014*\"softwar\"'),\n",
            " (3,\n",
            "  '0.110*\"nice\" + 0.092*\"qualiti\" + 0.064*\"perform\" + 0.054*\"backup\" + '\n",
            "  '0.037*\"poor\" + 0.027*\"overal\" + 0.027*\"game\" + 0.024*\"look\" + 0.022*\"sound\" '\n",
            "  '+ 0.020*\"issu\"'),\n",
            " (4,\n",
            "  '0.087*\"great\" + 0.058*\"network\" + 0.048*\"connect\" + 0.034*\"proper\" + '\n",
            "  '0.029*\"bluetooth\" + 0.020*\"signal\" + 0.020*\"time\" + 0.019*\"like\" + '\n",
            "  '0.016*\"wifi\" + 0.014*\"voic\"'),\n",
            " (5,\n",
            "  '0.097*\"worst\" + 0.046*\"amazon\" + 0.040*\"return\" + 0.035*\"speaker\" + '\n",
            "  '0.034*\"servic\" + 0.028*\"qualiti\" + 0.025*\"sound\" + 0.021*\"poor\" + '\n",
            "  '0.020*\"note\" + 0.018*\"dolbi\"'),\n",
            " (6,\n",
            "  '0.138*\"price\" + 0.118*\"best\" + 0.081*\"awesom\" + 0.058*\"featur\" + '\n",
            "  '0.058*\"rang\" + 0.042*\"excel\" + 0.034*\"better\" + 0.018*\"note\" + '\n",
            "  '0.017*\"happi\" + 0.014*\"specif\"')]\n"
          ]
        },
        {
          "output_type": "stream",
          "name": "stderr",
          "text": [
            "/usr/local/lib/python3.10/dist-packages/ipykernel/ipkernel.py:283: DeprecationWarning: `should_run_async` will not call `transform_cell` automatically in the future. Please pass the result to `transformed_cell` argument and any exception that happen during thetransform in `preprocessing_exc_tuple` in IPython 7.17 and above.\n",
            "  and should_run_async(code)\n"
          ]
        }
      ]
    },
    {
      "cell_type": "code",
      "source": [
        "# visualize the topics\n",
        "pyLDAvis.enable_notebook()\n",
        "vis = pyLDAvis.gensim.prepare(topic_model = lda_model_final,corpus = bow_corpus, dictionary = dictionary)\n",
        "vis"
      ],
      "metadata": {
        "id": "4mzomt_p57wX",
        "colab": {
          "base_uri": "https://localhost:8080/",
          "height": 882
        },
        "outputId": "db1c3dea-6e1b-429c-8352-6dca2962b0fa"
      },
      "execution_count": 65,
      "outputs": [
        {
          "output_type": "execute_result",
          "data": {
            "text/plain": [
              "PreparedData(topic_coordinates=              x         y  topics  cluster       Freq\n",
              "topic                                                \n",
              "0      0.240827  0.057502       1        1  19.080917\n",
              "1     -0.121257  0.065631       2        1  14.495467\n",
              "2     -0.092506  0.117095       3        1  13.469317\n",
              "3     -0.118712  0.091792       4        1   9.852891\n",
              "9     -0.044228 -0.252553       5        1   8.203456\n",
              "5     -0.084583 -0.203899       6        1   8.181911\n",
              "4      0.228582  0.063652       7        1   7.698140\n",
              "6      0.102240  0.056339       8        1   7.089957\n",
              "7      0.072952 -0.125155       9        1   6.229813\n",
              "8     -0.183316  0.129595      10        1   5.698131, topic_info=       Term         Freq        Total Category  logprob  loglift\n",
              "143    nice  1033.000000  1033.000000  Default  30.0000  30.0000\n",
              "103   price   912.000000   912.000000  Default  29.0000  29.0000\n",
              "73     best   826.000000   826.000000  Default  28.0000  28.0000\n",
              "102    fast   739.000000   739.000000  Default  27.0000  27.0000\n",
              "40     note  1074.000000  1074.000000  Default  26.0000  26.0000\n",
              "..      ...          ...          ...      ...      ...      ...\n",
              "897    cell    36.496303    66.346189  Topic10  -4.7641   2.2674\n",
              "58     poor    81.167025   817.362615  Topic10  -3.9648   0.5555\n",
              "124     day    58.900146   348.889884  Topic10  -4.2854   1.0861\n",
              "6    bought    41.577091   256.902153  Topic10  -4.6337   1.0439\n",
              "450   power    37.782289   118.586073  Topic10  -4.7294   1.7212\n",
              "\n",
              "[650 rows x 6 columns], token_table=      Topic      Freq    Term\n",
              "term                         \n",
              "1298      1  0.951639    abhi\n",
              "409       3  0.067741     abl\n",
              "409       4  0.033870     abl\n",
              "409       6  0.779019     abl\n",
              "409       8  0.011290     abl\n",
              "...     ...       ...     ...\n",
              "48        2  0.953137    year\n",
              "48       10  0.034041    year\n",
              "286       6  0.974524  yellow\n",
              "416       1  0.170705    zoom\n",
              "416       9  0.814132    zoom\n",
              "\n",
              "[1338 rows x 3 columns], R=30, lambda_step=0.01, plot_opts={'xlab': 'PC1', 'ylab': 'PC2'}, topic_order=[1, 2, 3, 4, 10, 6, 5, 7, 8, 9])"
            ],
            "text/html": [
              "\n",
              "<link rel=\"stylesheet\" type=\"text/css\" href=\"https://cdn.jsdelivr.net/gh/bmabey/pyLDAvis@3.4.0/pyLDAvis/js/ldavis.v1.0.0.css\">\n",
              "\n",
              "\n",
              "<div id=\"ldavis_el17131383071564711203726871903\" style=\"background-color:white;\"></div>\n",
              "<script type=\"text/javascript\">\n",
              "\n",
              "var ldavis_el17131383071564711203726871903_data = {\"mdsDat\": {\"x\": [0.24082737403713103, -0.12125688740345768, -0.09250573592442368, -0.11871240819490918, -0.044227959465688554, -0.08458259496213255, 0.22858223122293, 0.10224013119547792, 0.07295183467462626, -0.183315985179553], \"y\": [0.057502253711637995, 0.06563108526220524, 0.11709460423866513, 0.0917921562343195, -0.2525527809149625, -0.2038987938221043, 0.06365211377516522, 0.05633874055331071, -0.12515451242954315, 0.1295951333913061], \"topics\": [1, 2, 3, 4, 5, 6, 7, 8, 9, 10], \"cluster\": [1, 1, 1, 1, 1, 1, 1, 1, 1, 1], \"Freq\": [19.08091671031427, 14.495467229319416, 13.469316721786678, 9.852890604787037, 8.203456003261266, 8.181911028825958, 7.698140319546244, 7.089957491587219, 6.229812963805268, 5.698130926766647]}, \"tinfo\": {\"Term\": [\"nice\", \"price\", \"best\", \"fast\", \"note\", \"poor\", \"drain\", \"charger\", \"money\", \"worst\", \"great\", \"awesom\", \"updat\", \"perform\", \"time\", \"hour\", \"qualiti\", \"excel\", \"speaker\", \"wast\", \"dual\", \"turbo\", \"handset\", \"month\", \"screen\", \"get\", \"rang\", \"network\", \"valu\", \"android\", \"nice\", \"best\", \"super\", \"fantast\", \"easi\", \"wonder\", \"believ\", \"segment\", \"cash\", \"fabul\", \"comfort\", \"accord\", \"awsom\", \"adapt\", \"superb\", \"fulfil\", \"west\", \"cleariti\", \"higher\", \"enjoy\", \"icon\", \"mast\", \"jata\", \"comment\", \"mobail\", \"sens\", \"packag\", \"asphalt\", \"abhi\", \"access\", \"awesom\", \"excel\", \"love\", \"smartphon\", \"selfi\", \"standard\", \"weight\", \"satisfi\", \"class\", \"perform\", \"backup\", \"featur\", \"worth\", \"overal\", \"price\", \"rang\", \"smooth\", \"expect\", \"amaz\", \"cool\", \"rear\", \"better\", \"qualiti\", \"effect\", \"mark\", \"sound\", \"great\", \"issu\", \"averag\", \"life\", \"budget\", \"look\", \"damag\", \"deliv\", \"warm\", \"reboot\", \"suck\", \"broke\", \"awsm\", \"minor\", \"brows\", \"dead\", \"repair\", \"twice\", \"fell\", \"soon\", \"alot\", \"guess\", \"suppli\", \"octob\", \"centr\", \"atleast\", \"height\", \"reciev\", \"unfortun\", \"crack\", \"bakwaa\", \"repeat\", \"dissatisfi\", \"year\", \"arrang\", \"bateri\", \"search\", \"start\", \"center\", \"went\", \"month\", \"glass\", \"percent\", \"sudden\", \"gorilla\", \"servic\", \"hang\", \"get\", \"switch\", \"time\", \"star\", \"replac\", \"issu\", \"give\", \"day\", \"go\", \"purchas\", \"model\", \"bought\", \"broken\", \"hour\", \"screen\", \"automat\", \"take\", \"quick\", \"worst\", \"face\", \"long\", \"note\", \"wast\", \"total\", \"polici\", \"recept\", \"technic\", \"wrost\", \"sell\", \"huge\", \"camara\", \"fool\", \"dull\", \"wastag\", \"lose\", \"troubl\", \"bettri\", \"worest\", \"jyada\", \"superfast\", \"struggl\", \"sim\", \"explor\", \"vodafon\", \"rais\", \"pixel\", \"ghatiya\", \"check\", \"custom\", \"chines\", \"seen\", \"catch\", \"poor\", \"respons\", \"exchang\", \"return\", \"worst\", \"network\", \"sale\", \"dont\", \"helio\", \"request\", \"slow\", \"signal\", \"care\", \"amazon\", \"proper\", \"money\", \"refund\", \"qualiti\", \"process\", \"life\", \"support\", \"want\", \"suggest\", \"show\", \"purchas\", \"get\", \"perform\", \"backup\", \"processor\", \"issu\", \"updat\", \"time\", \"replac\", \"hang\", \"sound\", \"faster\", \"fake\", \"email\", \"trust\", \"reach\", \"insid\", \"categori\", \"shown\", \"book\", \"slim\", \"metal\", \"motion\", \"address\", \"written\", \"block\", \"convinc\", \"group\", \"sever\", \"reput\", \"unread\", \"fill\", \"express\", \"rapid\", \"deliveri\", \"hurt\", \"temperatur\", \"fraud\", \"pack\", \"plan\", \"loos\", \"download\", \"fast\", \"drain\", \"continu\", \"thank\", \"hour\", \"standbi\", \"idl\", \"player\", \"take\", \"wide\", \"fulli\", \"difficult\", \"save\", \"amazon\", \"time\", \"turbo\", \"devic\", \"minut\", \"discharg\", \"quick\", \"call\", \"video\", \"make\", \"like\", \"note\", \"brand\", \"slow\", \"get\", \"charger\", \"expect\", \"disappoint\", \"better\", \"long\", \"day\", \"display\", \"version\", \"china\", \"vibe\", \"print\", \"finger\", \"shot\", \"gaya\", \"percentag\", \"base\", \"tone\", \"kharab\", \"dial\", \"bilkul\", \"ring\", \"what\", \"bank\", \"fair\", \"cameragood\", \"silent\", \"redmi\", \"bada\", \"key\", \"scanner\", \"lower\", \"hardwar\", \"home\", \"mera\", \"dark\", \"generat\", \"piec\", \"oreo\", \"lock\", \"android\", \"stock\", \"button\", \"updat\", \"cast\", \"note\", \"softwar\", \"sensor\", \"option\", \"miss\", \"user\", \"moto\", \"think\", \"fingerprint\", \"screen\", \"better\", \"plus\", \"galleri\", \"compar\", \"featur\", \"come\", \"smart\", \"open\", \"record\", \"receiv\", \"like\", \"sound\", \"function\", \"contact\", \"voic\", \"choos\", \"motorola\", \"screenshot\", \"wire\", \"plug\", \"send\", \"site\", \"direct\", \"manual\", \"text\", \"realiti\", \"rington\", \"list\", \"rough\", \"yellow\", \"split\", \"arriv\", \"facil\", \"upload\", \"agre\", \"delet\", \"assist\", \"water\", \"color\", \"addit\", \"technician\", \"wasool\", \"paper\", \"headphon\", \"record\", \"abl\", \"messag\", \"select\", \"earphon\", \"basic\", \"mention\", \"googl\", \"bright\", \"photo\", \"miss\", \"avail\", \"volta\", \"light\", \"screen\", \"call\", \"support\", \"notif\", \"option\", \"warranti\", \"like\", \"defect\", \"receiv\", \"function\", \"mode\", \"issu\", \"display\", \"amazon\", \"servic\", \"valu\", \"core\", \"deca\", \"concern\", \"storag\", \"didnt\", \"accessori\", \"choic\", \"duplic\", \"use\", \"wish\", \"edg\", \"sharp\", \"spent\", \"beauti\", \"aspect\", \"bekar\", \"depart\", \"curv\", \"rock\", \"optim\", \"slip\", \"deep\", \"moder\", \"duti\", \"difficulti\", \"cashback\", \"pro\", \"today\", \"promis\", \"head\", \"spec\", \"littl\", \"decent\", \"money\", \"processor\", \"hold\", \"hand\", \"wise\", \"budget\", \"specif\", \"like\", \"feel\", \"fine\", \"high\", \"given\", \"display\", \"game\", \"recommend\", \"great\", \"bought\", \"look\", \"heavi\", \"touch\", \"fast\", \"android\", \"till\", \"flash\", \"dual\", \"issu\", \"headset\", \"diya\", \"nahi\", \"maintain\", \"kiya\", \"especi\", \"ism\", \"liy\", \"real\", \"round\", \"unlock\", \"longer\", \"relat\", \"kuch\", \"develop\", \"attract\", \"balanc\", \"mere\", \"distort\", \"gadget\", \"stay\", \"novemb\", \"tool\", \"pickup\", \"earn\", \"song\", \"annoy\", \"world\", \"purpos\", \"shortcut\", \"bluetooth\", \"spend\", \"easili\", \"usag\", \"audio\", \"speaker\", \"main\", \"focus\", \"great\", \"connect\", \"hotspot\", \"mode\", \"depth\", \"jack\", \"normal\", \"face\", \"look\", \"proper\", \"pictur\", \"build\", \"issu\", \"perform\", \"qualiti\", \"clear\", \"condit\", \"like\", \"hard\", \"sound\", \"month\", \"get\", \"dual\", \"provid\", \"have\", \"featur\", \"note\", \"incom\", \"invoic\", \"fone\", \"true\", \"attach\", \"posit\", \"separ\", \"reduc\", \"read\", \"kill\", \"premium\", \"probabl\", \"eleg\", \"outgo\", \"stick\", \"reachabl\", \"track\", \"affect\", \"view\", \"camra\", \"genuin\", \"caller\", \"copi\", \"see\", \"sent\", \"locat\", \"pain\", \"prove\", \"uniqu\", \"cellphon\", \"zoom\", \"worri\", \"wifi\", \"mail\", \"slot\", \"frequent\", \"irrit\", \"need\", \"manufactur\", \"improv\", \"dual\", \"price\", \"data\", \"review\", \"happi\", \"rang\", \"killer\", \"card\", \"hope\", \"signal\", \"call\", \"connect\", \"want\", \"chang\", \"useless\", \"devic\", \"support\", \"updat\", \"screen\", \"speed\", \"pictur\", \"network\", \"issu\", \"like\", \"atmo\", \"right\", \"left\", \"blow\", \"night\", \"volum\", \"atom\", \"raha\", \"black\", \"increas\", \"lenevo\", \"venom\", \"shock\", \"intens\", \"horribl\", \"order\", \"vari\", \"thik\", \"prise\", \"soft\", \"drawback\", \"mute\", \"sorri\", \"thumb\", \"earpiec\", \"transfer\", \"handset\", \"bass\", \"wont\", \"remain\", \"charger\", \"dolbi\", \"seri\", \"turn\", \"close\", \"weak\", \"turbo\", \"lenova\", \"stop\", \"experi\", \"receiv\", \"number\", \"sound\", \"restart\", \"app\", \"speaker\", \"music\", \"qualiti\", \"note\", \"help\", \"cell\", \"poor\", \"day\", \"bought\", \"power\"], \"Freq\": [1033.0, 912.0, 826.0, 739.0, 1074.0, 817.0, 634.0, 458.0, 554.0, 816.0, 583.0, 666.0, 590.0, 830.0, 845.0, 424.0, 1109.0, 458.0, 309.0, 314.0, 417.0, 339.0, 243.0, 507.0, 650.0, 674.0, 361.0, 427.0, 208.0, 267.0, 1032.157419766394, 824.1201895084455, 156.54354729826406, 67.97924771399994, 70.93600066167318, 48.458953247895856, 45.782980692182434, 37.15431373048893, 31.92389002581276, 29.960858844290968, 30.674847558029708, 38.04144034617409, 25.01594023370352, 27.24490560233109, 246.12052416029175, 23.37914031146206, 20.944898059339845, 20.497067009616618, 19.414106243742086, 19.260777735331526, 18.831733755669045, 18.072310851991123, 17.863109780671095, 17.90954961670408, 17.811806820244225, 19.318396420065547, 44.049860554107994, 16.12054023833885, 15.912866815148043, 15.489176274890356, 628.3958832234268, 425.07365552940394, 236.04629180477716, 97.15619292013965, 79.07149410930155, 29.422192769452018, 42.83118759771475, 180.424730155179, 53.58917257462885, 544.5327773313527, 359.75312928787656, 472.7766497657227, 220.98286739447605, 207.16579038713616, 538.6399780726573, 240.52826465494803, 94.44814642466517, 230.0236491260507, 143.73854718296008, 73.39715520403688, 136.07327583721965, 222.48381837167196, 379.0697262184973, 74.03066221098543, 92.47527892363887, 132.40594636802643, 139.71026581430945, 187.49441885910016, 87.05465635592249, 97.40087678796323, 85.8819829526953, 92.07781690098841, 86.28154275802544, 105.6888249698598, 57.33635729264371, 45.802200799392104, 46.62503166601918, 36.90408143477271, 34.80023086102402, 34.135594402746065, 33.58321766917365, 32.02835092622824, 30.248703741351058, 27.32803779849127, 23.027707111316307, 82.8571992588299, 20.70466462965922, 20.70025943065688, 20.57931980420702, 19.070153358418164, 57.72059909690861, 17.98289019102233, 17.970750237947726, 17.58862931465203, 17.54048759716833, 23.247391864324467, 16.755873130514363, 16.65126454091815, 22.88759720413467, 55.604689655140284, 15.842367634207006, 15.598039359256227, 33.53079618113202, 167.38915965001826, 108.48766821934288, 24.014119474632444, 393.2045813591327, 116.4890299523693, 32.69908143316919, 45.175200476162594, 81.07226887583947, 266.4672822578399, 305.5871319134912, 398.9564713613984, 125.61452448067966, 461.1604253180094, 110.21915848328855, 194.1236624478132, 569.9890156509965, 89.06724009297062, 188.79424585323326, 78.14620317509991, 163.71522621597643, 82.91058869971529, 125.49473144758532, 53.277624594584026, 155.2192152407042, 183.98906441033338, 82.77391477173823, 122.96322562435628, 84.11063737772001, 145.35842116261273, 78.3445574908336, 69.56689757710414, 94.45094313185659, 311.5816287327391, 125.28714672293758, 59.21511903383255, 34.486665529009244, 34.926588223743764, 29.20739776622499, 36.189412005721614, 30.041555860246945, 24.338489222519016, 22.898350513437013, 22.25279260765495, 19.582128378566615, 18.716796310533148, 18.160431523823373, 17.808040827416043, 17.714404710688186, 14.992105643981086, 13.221224962362513, 13.16390393537533, 12.658963255870878, 12.406994430957356, 12.207566937619884, 27.816480501758594, 10.780644204076145, 10.479476302579727, 105.24047315467985, 172.4003830646558, 9.616537614046461, 49.032747891649784, 8.76732995443628, 692.2386809338545, 56.429875145808474, 47.24702543169423, 334.4528527088206, 613.5833351437167, 327.368091499693, 43.61057665419175, 118.09545219026714, 19.327522480322816, 49.14090557066737, 140.3954766648912, 113.41304594878564, 62.46159175638194, 306.05285380590453, 181.459690602306, 237.87635212710597, 76.84296063518944, 370.9866405916493, 71.74274308794186, 136.22724321409987, 120.52201172383761, 90.4399179247269, 70.14874056815711, 63.64015633639786, 96.49701165704478, 122.0078424374262, 129.43562095998988, 107.8238349520925, 82.1102603232078, 123.61338686209045, 98.89311299365052, 107.8155470073402, 81.0308026098152, 87.24846585358996, 82.84251907831207, 69.14631126691664, 47.279070719284356, 28.95229303680249, 28.454775741203317, 26.57085347965894, 22.871677466321465, 21.33810256502004, 26.96397376551235, 19.778773312560805, 18.743266859962986, 18.311393621454542, 17.653830076096966, 17.604234908465774, 20.41458008912112, 16.33382183570073, 15.13898391002681, 14.093847779282576, 13.875545507562945, 13.875554980506928, 13.80468444186812, 13.710331336273814, 13.432180726827195, 18.55712867777031, 218.73436886408797, 13.4156401054573, 9.705976681954642, 9.153896951370626, 47.2042895771343, 8.632586204017983, 8.324562235134685, 39.62663711146846, 619.2211742076825, 518.9013333307423, 42.096268054734175, 145.1503588144963, 266.0120892582665, 26.478471607589686, 41.11843288510085, 41.141384967193346, 206.69442929787584, 23.25042643497693, 59.491541875423636, 31.282513247010243, 39.90185196945728, 206.92895872263722, 229.95472998518926, 124.55192093915207, 125.07371136194091, 46.01020259756516, 36.181344608625025, 77.97477814542476, 88.49047624368828, 71.62770588425496, 36.0697223261509, 140.49425872477815, 142.1699432869958, 45.75835663120405, 66.28667405283753, 92.46499973623033, 78.42046121390602, 69.61040284908574, 56.79905561908969, 65.00579423814872, 46.77409391088745, 48.25402611394705, 44.29764589266136, 48.21434568895367, 32.274856682468446, 29.81454149178789, 30.77608116574447, 46.62613315859054, 32.6757888415134, 25.19744744000239, 22.749613966976963, 25.306346984893313, 18.01775092287838, 15.881597583951029, 16.101823037045435, 14.982518123021434, 32.36517992100545, 14.483666716889475, 14.479776218268338, 14.142716782807616, 13.528149930588174, 13.188079051299813, 122.28563641203755, 12.238889165078296, 13.889721084785013, 12.60110706268764, 31.78246840839895, 45.198582590452844, 21.538798445135352, 19.728562199506456, 8.106859125767212, 15.948529074051622, 106.89620626294199, 132.07666055563126, 39.82580829672646, 208.83375191104238, 113.5527246438902, 63.94869800994183, 366.3666576531399, 148.35547044848968, 607.2234034251156, 161.5954524511693, 70.2241454208988, 143.5642919991327, 97.27758584445976, 73.64071735264973, 39.74943521321578, 74.4254651976317, 35.31058135148391, 172.77211933698695, 139.46566532496405, 47.606730969913464, 51.10429353237746, 67.85764387555356, 112.389504274734, 52.75774827625596, 50.48120572814667, 46.43750205331069, 56.028187745239386, 54.51654045718355, 57.620977670220526, 50.6592767037376, 46.80055885312916, 142.56215499658813, 88.53797528343026, 38.40490921083195, 35.03430814857713, 40.693811534464736, 27.75122544114683, 22.845492005505175, 85.02172280765019, 21.101197760429105, 19.724780746629218, 18.753108638468603, 18.33980651920034, 17.934920018349754, 44.282371964820605, 22.505526193913045, 16.606276370693177, 16.555828428336227, 30.43291860197311, 14.711041630360292, 51.400955362820135, 14.627253021631068, 14.361993701679067, 13.884059804593605, 10.776033474294529, 10.71965355073647, 53.2168982150739, 10.708272299281907, 9.10188678413079, 8.701645750414912, 21.721752361415906, 89.94933913958526, 176.9713360200314, 69.38819838738571, 82.79242491670577, 17.60742888789953, 78.52268568110237, 68.80030079104385, 68.97249773105312, 42.32467085222531, 42.68983202990272, 83.25472899087002, 106.54958984739713, 88.05524145170685, 90.63232578672265, 90.26782824720733, 188.40491763208587, 97.55946673801196, 115.22775725244573, 59.21806941559867, 101.2325208926443, 40.082875396064416, 112.84896914446942, 49.60401773448448, 64.29172046930778, 52.389816271481024, 58.456939374873905, 70.81265765520493, 57.30115630538871, 58.912744371864484, 54.10082419986189, 207.44407885731673, 109.3195640339177, 74.64366614660581, 54.418177158888774, 44.796221297070204, 32.34689649302714, 41.32345222362396, 40.25981220219291, 27.48727731671404, 25.4491598821064, 25.13019679260592, 23.86262579974025, 23.3736538467601, 20.826560804191736, 20.37256328733301, 19.881817717315226, 18.414977216913545, 17.454703542608126, 17.635639394210383, 17.076449431348887, 16.498814120433664, 16.57762165804733, 14.201954488625274, 14.127333386978279, 13.505295748465416, 13.346223292925677, 14.844523291890141, 39.98301759789062, 57.778446699447315, 24.43332677939985, 39.56226934489062, 29.41491644209902, 131.3299307780605, 64.91750019116495, 310.99680918035546, 170.6610270397488, 35.167862650832014, 57.00239908437466, 41.73454650953143, 92.36808059087124, 58.28109891859178, 175.544863220773, 61.505265555367274, 75.52098487228848, 66.07015210377291, 57.2775115784364, 94.96933892887337, 77.03002346302858, 55.102664149348044, 102.84338039753602, 71.31532709547741, 75.3923424638443, 53.02030856110224, 55.884099899943216, 71.67038423367542, 57.519407105156034, 48.756151027189574, 47.866613452719584, 55.36169836088656, 51.19770309051332, 87.63114168509188, 32.154745612506176, 59.524730702008405, 32.047477825175726, 25.551533966729153, 25.032333088577243, 23.818344313183243, 23.520649246964872, 27.215395538383778, 22.347356543954266, 23.409901298492606, 20.820344129335506, 19.795193755840895, 17.920920005579074, 17.368441945569014, 16.09382920925914, 15.587189382806756, 15.381167065582856, 14.164527270002841, 13.857099402699475, 22.294722824805223, 13.253395551979512, 13.200137188522964, 12.644559455074274, 12.438151692652688, 13.65791718851748, 12.021034301953664, 11.369146083402002, 16.59423250762548, 10.673239031775637, 118.04116651183583, 17.49129485624644, 32.813128148858084, 155.44027700531794, 39.27108768441495, 203.0291704271713, 60.45359165975169, 46.173999702937216, 326.1027986749038, 181.51975191300957, 25.404283986223884, 152.54145149902286, 108.11788857301099, 33.5311443865987, 86.32427672891257, 104.74166626096904, 121.14456798633326, 115.88949491722866, 66.453111848545, 41.83759002538117, 211.52542365802867, 130.1853821584778, 113.50319502273585, 37.32689962853675, 34.82162482344227, 85.03064828305894, 38.30646831881427, 57.17634572548224, 56.60365596037935, 57.24614229060416, 50.37896637121403, 44.23512855991456, 40.650679084968054, 45.92830627531863, 41.402359189138124, 38.500017952027314, 36.60539424021142, 37.2528438000004, 26.829721341388808, 22.798113760571766, 22.49320497167187, 22.428798481371935, 27.95758307453809, 21.804096254601536, 20.74657178423492, 19.8045024437019, 17.3345567745715, 15.133707655432717, 15.459704119388714, 14.235558266098446, 18.386873578024343, 13.392764568293646, 13.066723454746793, 20.767195539151903, 9.140451881855615, 9.072878537648267, 8.602523956881475, 23.690014385215274, 6.141320895443203, 5.243748139239597, 34.36196139055628, 4.880397391969235, 4.568463371103479, 4.568120876071195, 4.566026429105091, 62.07186991758305, 8.241195509372483, 67.29052280873378, 16.389636394310276, 63.09286884460214, 54.47943132980005, 23.480361686852312, 148.75785264510282, 30.528900739138034, 69.89412975062217, 207.1760879256367, 340.8158243346302, 66.5865838934134, 55.63573376330902, 64.73691469648678, 115.53071614584023, 63.53449903675514, 58.21271648087539, 31.07783152121449, 51.174843235731764, 57.248250469964155, 64.26754948531244, 51.34818383757176, 35.917546601829116, 29.069211958875847, 51.45184058527575, 48.55719236399812, 54.51387903365125, 52.569012552965894, 39.98660103218546, 36.57816452387684, 41.308390095601744, 47.14646567165797, 37.970739524013155, 93.04325563963434, 69.08773081659088, 58.79732753243517, 52.173842425285386, 50.488646767850305, 55.34993581261989, 29.949719080651274, 29.46963593910838, 26.629617484875467, 21.951324926648738, 24.271873532152323, 16.928411131449607, 12.980145244369352, 12.819853239228747, 28.411055679910252, 60.22892307734012, 8.902659840406065, 8.84264347127693, 7.078142994677015, 19.304006699321082, 32.634045393528595, 5.466443060349132, 4.603875467860735, 4.549066566871065, 4.492550895289012, 14.9676240681441, 202.17126874492578, 4.172385982601465, 15.797606635961428, 35.556751827893386, 352.38155181887583, 165.54283830166864, 14.755907817089934, 51.73588120659667, 15.716947655944335, 32.67811563460786, 176.3817828127324, 39.1233415770341, 69.19685257435954, 100.64460524982056, 117.82795123123466, 40.04344183134372, 136.0508465066073, 46.70414021502188, 74.21788777642344, 99.2287954652588, 67.49278731546426, 133.27848131098807, 109.0521681446925, 44.96892577027018, 36.49630339012715, 81.16702491181418, 58.90014614208093, 41.577091002051446, 37.78228904166956], \"Total\": [1033.0, 912.0, 826.0, 739.0, 1074.0, 817.0, 634.0, 458.0, 554.0, 816.0, 583.0, 666.0, 590.0, 830.0, 845.0, 424.0, 1109.0, 458.0, 309.0, 314.0, 417.0, 339.0, 243.0, 507.0, 650.0, 674.0, 361.0, 427.0, 208.0, 267.0, 1033.2685834342092, 826.3033955724198, 157.45071599384593, 68.91364217401393, 72.0590002785372, 49.35953853151119, 46.68531685556969, 38.056341491668135, 32.82411029404027, 30.861918829795947, 31.60864023288015, 39.413861907703584, 25.918551851616552, 28.24736838460942, 255.2066861636813, 24.279460327432602, 21.852735300264474, 21.39744104271736, 20.315975102910013, 20.161300077205425, 19.732521165764798, 18.97248897961505, 18.763588422992648, 18.81383721874158, 18.712179212708165, 20.315237274686588, 46.50179378394165, 17.02217304872164, 16.8131068646276, 16.390789820677835, 666.9154236853814, 458.09516875972065, 260.7837174470202, 106.77986327180491, 87.36901857595898, 32.04222792272891, 47.999797704675665, 238.68801327873393, 62.33878086017683, 830.9786647757325, 526.0252666548056, 760.1641696713309, 321.30336001791306, 298.55158474533965, 912.317497912776, 361.6663916904935, 127.0905780042206, 377.4862452527621, 218.12022380513093, 95.26284285412375, 222.6360697572973, 504.51195678901337, 1109.7892798433586, 115.03172282458188, 184.92244797117226, 464.1229018776359, 583.6891881656994, 1330.3816700303196, 195.15486221400698, 322.63836417077624, 194.44253674116715, 353.77444870520264, 87.17960110654994, 106.87176940529437, 58.397564224184435, 46.696074521803666, 47.62670264333144, 37.79687566506498, 35.69321562807349, 35.02920261544096, 34.47679812932478, 32.92152670246457, 31.141969764358105, 28.252324160616027, 23.922404273010144, 86.24511718763279, 21.59851209257015, 21.594252957017815, 21.47570230672815, 19.966890795283472, 60.49921666453841, 18.875648294036846, 18.875289792795503, 18.481886620000683, 18.433351852152192, 24.46325735140937, 17.653621750607673, 17.544081161807128, 24.126323551544257, 58.7533875274339, 16.741862890392042, 16.490681034337936, 35.703067284744456, 185.70534296220168, 120.55845687394444, 25.725234926121303, 507.7520523124354, 141.78015427104717, 36.056204288493824, 52.90250339879202, 102.0824816416491, 410.78237701307245, 492.755068485446, 674.4035003183224, 179.02046583755146, 845.3928252626879, 154.50646615941463, 317.35642891359737, 1330.3816700303196, 129.88079627058488, 348.8898836814264, 109.80839063181536, 345.88008862955957, 133.50605691523108, 256.9021530942993, 69.18146847498552, 424.1020687829877, 650.0719412651035, 166.22046682886776, 374.3660375563937, 186.29039314993634, 816.0439671434234, 229.77271991849494, 140.60160871120647, 1074.4281495221287, 314.0654646826105, 126.79436887419713, 60.17921559787113, 35.39097457980179, 35.88461110692715, 30.109952777566097, 37.40602037828383, 31.13690906809602, 25.243757547802367, 23.812779169166216, 23.16022287950667, 20.484278204408326, 19.62267695309977, 19.06373109932112, 18.712478215945698, 18.6165692268029, 15.894234934726875, 14.123363582395704, 14.066179699646709, 13.561938501961748, 13.312447504019422, 13.110900321636334, 30.15550535724548, 11.688642872927579, 11.397627014441522, 114.46481127929296, 187.64812889849833, 10.536418317381921, 53.783817309121325, 9.67370197801191, 817.36261473805, 63.76949228598117, 53.347333631437316, 408.54938897197803, 816.0439671434234, 427.4612273584899, 52.17187052841434, 159.73218283427624, 21.83194207538673, 64.83368983438392, 228.6507952813737, 183.19242954024418, 88.81443082290403, 703.5235183142706, 367.613330166422, 554.1834093449621, 125.45006679236515, 1109.7892798433586, 114.66374908790202, 322.63836417077624, 320.86808830272804, 221.24386246921526, 145.7348378323502, 122.14529083674005, 345.88008862955957, 674.4035003183224, 830.9786647757325, 526.0252666548056, 286.69269488193413, 1330.3816700303196, 590.0292647101392, 845.3928252626879, 317.35642891359737, 492.755068485446, 464.1229018776359, 70.29554805852838, 48.20565366385762, 29.84682534509702, 29.349730308875998, 27.483402979389314, 23.766143330640485, 22.232184596943917, 28.099094478230292, 20.692046866124898, 19.637480636805137, 19.206691389084572, 18.54931731605933, 18.498666167605986, 21.45905090149206, 17.228120114354848, 16.034096098706506, 14.987855486613192, 14.769442571775869, 14.769485071791918, 14.699156742435964, 14.604290988782068, 14.326198131464992, 20.12662882753313, 237.69463205590475, 14.591356793075104, 10.600782098343192, 10.049905226946539, 52.1792402094793, 9.543639290811532, 9.219146799364555, 44.08797964562268, 739.0340700108648, 634.5000519037122, 49.36757954830413, 188.00669410998748, 424.1020687829877, 31.44993301788453, 52.82133802253004, 53.21855781438776, 374.3660375563937, 27.30809582952637, 89.97759140691272, 39.95963739477343, 57.267483242291476, 703.5235183142706, 845.3928252626879, 339.03644244526276, 343.1118110545501, 76.63930071197969, 53.97328350637213, 186.29039314993634, 244.12194622773166, 194.42902572492136, 55.30656638858404, 751.0297433117031, 1074.4281495221287, 95.5964908663052, 228.6507952813737, 674.4035003183224, 458.6276185622521, 377.4862452527621, 241.2056581190544, 504.51195678901337, 140.60160871120647, 348.8898836814264, 365.68896851333557, 49.11911203933393, 33.17968995226131, 30.71892227298113, 31.714065858860323, 48.129204402414786, 33.73162534187453, 26.10610604987117, 23.655183972121637, 26.354598833972375, 18.921545295622643, 16.78751296781419, 17.02367038260606, 15.887157369528019, 34.36672739137593, 15.387176448777469, 15.383379366087464, 15.046276585726604, 14.444496096608525, 14.09183669669282, 131.142582601777, 13.142591232073688, 14.961868480514466, 13.647008851575222, 34.5436610018746, 49.44558261719798, 23.67603891626776, 21.72811335713688, 9.011215160369087, 17.82916146780231, 119.68230934079696, 151.22282139454896, 45.83348883464974, 267.28749635661813, 142.21115223715566, 80.84220548121985, 590.0292647101392, 215.82456112191784, 1074.4281495221287, 283.92291325466294, 114.64021474081052, 289.95009273364843, 204.6548829265843, 142.71562667201454, 61.061204378752045, 158.50913669022933, 51.73522122801194, 650.0719412651035, 504.51195678901337, 84.20855937466264, 116.17881679698806, 219.07491130950245, 760.1641696713309, 139.97888548926093, 133.98599554965855, 117.50379780749932, 233.81038972944293, 328.7078204703454, 751.0297433117031, 464.1229018776359, 165.94764641568352, 144.9190474635302, 90.16643576183765, 39.30320970913415, 35.95228740290608, 41.96386083288924, 28.639864949675445, 23.73445789073264, 88.39342760757208, 22.00045635729809, 20.616672224520983, 19.64296070554786, 19.22841674657021, 18.827472052880474, 46.506929034697244, 23.65050019519064, 17.49491266959889, 17.444410043516882, 32.09437719860037, 15.600132388074893, 54.51209147879092, 15.516340629046114, 15.25055729309278, 14.877060093730407, 11.6670036105282, 11.608278165743418, 57.862877117260865, 11.71010907931579, 9.990958784484723, 9.590178696912655, 24.27970026485149, 113.7736657499549, 233.81038972944293, 88.5729524744742, 113.7133782033463, 20.194634174001926, 113.37034931416554, 98.53111836480831, 102.62199288511039, 57.61825760627172, 60.13426364920026, 144.3187945267485, 204.6548829265843, 164.64458738379017, 179.6040294964023, 202.96475213785516, 650.0719412651035, 244.12194622773166, 320.86808830272804, 118.23864901354736, 289.95009273364843, 66.8442141912761, 751.0297433117031, 113.97555255816691, 328.7078204703454, 165.94764641568352, 282.2443585180406, 1330.3816700303196, 365.68896851333557, 703.5235183142706, 410.78237701307245, 208.37382592731814, 110.22507537635033, 75.55262906795282, 55.317751375683436, 45.69552665109344, 33.25886110675788, 42.5373169363904, 41.4662368606707, 28.38454785848693, 26.35456350991064, 26.041947087508124, 24.759782013792382, 24.279508052208172, 21.724331522031, 21.278959318706715, 20.807314591861108, 19.360651433990334, 18.352610865905202, 18.547736506055582, 17.97379319731352, 17.395769040004673, 17.610420017622587, 15.09858943583513, 15.02467486857398, 14.40324751849812, 14.242875377993043, 15.940008582062722, 42.944325568052705, 62.884902688171444, 26.614120217189505, 43.24415691623822, 33.28443180496253, 189.46792563594786, 87.81466339276002, 554.1834093449621, 286.69269488193413, 44.58179861988135, 87.39260271592967, 58.519207956733425, 194.44253674116715, 116.72957956939315, 751.0297433117031, 133.10745620390904, 188.29163580350797, 152.67056892105035, 129.0202203345371, 365.68896851333557, 247.10406930644535, 142.19958518442215, 583.6891881656994, 256.9021530942993, 353.77444870520264, 146.13006985481383, 197.6819763422537, 739.0340700108648, 267.28749635661813, 126.36548731140735, 123.89115549560977, 417.0032403722481, 1330.3816700303196, 88.5365418899083, 33.056356429824895, 61.29606790291947, 33.06956517337952, 26.45418333822137, 25.936209469069425, 24.72362064390503, 24.42223524646366, 28.294618536826324, 23.248862213882454, 24.405364982889527, 21.723036728997563, 20.70304546976959, 18.823252984327365, 18.270194087101007, 16.99560506493815, 16.48911637424953, 16.28341673403581, 15.06609484319031, 14.759145699851533, 23.770574629707614, 14.15494687992539, 14.102217731910187, 13.546068238221297, 13.339758632938695, 14.668222169247167, 12.93580652823065, 12.279991172274027, 18.005719198638047, 11.61608884523128, 138.50711781663225, 19.37059729393854, 38.467194833632476, 209.50826187783764, 47.69628271156068, 309.3037491071272, 80.56562149998335, 59.6846878779007, 583.6891881656994, 322.01389717325725, 30.67623704817756, 282.2443585180406, 191.46107627006597, 45.62637799018188, 166.2936154836688, 229.77271991849494, 353.77444870520264, 367.613330166422, 150.27217544882387, 70.38815170068693, 1330.3816700303196, 830.9786647757325, 1109.7892798433586, 75.76905248455103, 64.95005449277006, 751.0297433117031, 88.6017470323746, 464.1229018776359, 507.7520523124354, 674.4035003183224, 417.0032403722481, 202.9744633449495, 147.9028080029521, 760.1641696713309, 1074.4281495221287, 39.41351941454444, 37.5096680190621, 38.43616220433524, 27.745650752553374, 23.69859686531915, 23.392062529891707, 23.32828792565562, 29.079349961344523, 22.70332309480875, 21.650673957999185, 20.809905246593114, 18.233563057137385, 16.034796966365306, 16.39647856285024, 15.134066237096368, 19.593593489358067, 14.291005554278474, 13.979031930021586, 22.408017708238745, 10.038725823448182, 9.971528375730646, 9.50104377048515, 26.585835830147506, 7.039558120918109, 6.142331006522809, 40.68511382413864, 5.778735397337638, 5.466987727564266, 5.466616368282249, 5.464597630823092, 76.15474897813803, 9.92963886154195, 84.74343376887644, 20.088129483340378, 81.62655936818683, 73.37158794554725, 30.043200644930387, 254.08174478298554, 41.134375536953996, 110.43639518262862, 417.0032403722481, 912.317497912776, 125.27002047300431, 108.01197426510979, 136.64495701528028, 361.6663916904935, 147.48894965527117, 131.76405548347398, 49.117608961969495, 183.19242954024418, 244.12194622773166, 322.01389717325725, 221.24386246921526, 88.307164261907, 52.043062212560294, 343.1118110545501, 320.86808830272804, 590.0292647101392, 650.0719412651035, 224.11479973535222, 150.27217544882387, 427.4612273584899, 1330.3816700303196, 751.0297433117031, 93.96161261839252, 69.98961513712975, 59.79524229161726, 53.070806407938335, 51.398998501389244, 56.69567499387277, 30.84605647332586, 30.465151363297352, 27.551862755856913, 22.849475707368892, 25.36740313669592, 17.885469306436146, 13.876377701924723, 13.715975127552094, 30.514640296414058, 66.10224640181788, 9.798821807020627, 9.742652459100084, 7.974579674463509, 21.851193400962256, 37.082361800622174, 6.3636317662797435, 5.500186456377445, 5.445431763986586, 5.39173713260903, 18.01844860206325, 243.59811428632923, 5.068531564120097, 19.20129534742599, 43.35373040426508, 458.6276185622521, 219.82933770250375, 18.278129381665575, 69.59116242225518, 20.23322246216221, 47.074985740167946, 339.03644244526276, 59.99997927386419, 123.25456577816419, 225.4860761714144, 328.7078204703454, 74.40813091772644, 464.1229018776359, 95.94254281488321, 196.2243489597662, 309.3037491071272, 184.46274888182683, 1109.7892798433586, 1074.4281495221287, 118.78172574643497, 66.34618902754931, 817.36261473805, 348.8898836814264, 256.9021530942993, 118.58607317450665], \"Category\": [\"Default\", \"Default\", \"Default\", \"Default\", \"Default\", \"Default\", \"Default\", \"Default\", \"Default\", \"Default\", \"Default\", \"Default\", \"Default\", \"Default\", \"Default\", \"Default\", \"Default\", \"Default\", \"Default\", \"Default\", \"Default\", \"Default\", \"Default\", \"Default\", \"Default\", \"Default\", \"Default\", \"Default\", \"Default\", \"Default\", \"Topic1\", \"Topic1\", \"Topic1\", \"Topic1\", \"Topic1\", \"Topic1\", \"Topic1\", \"Topic1\", \"Topic1\", \"Topic1\", \"Topic1\", \"Topic1\", \"Topic1\", \"Topic1\", \"Topic1\", \"Topic1\", \"Topic1\", \"Topic1\", \"Topic1\", \"Topic1\", \"Topic1\", \"Topic1\", \"Topic1\", \"Topic1\", \"Topic1\", \"Topic1\", \"Topic1\", \"Topic1\", \"Topic1\", \"Topic1\", \"Topic1\", \"Topic1\", \"Topic1\", \"Topic1\", \"Topic1\", \"Topic1\", \"Topic1\", \"Topic1\", \"Topic1\", \"Topic1\", \"Topic1\", \"Topic1\", \"Topic1\", \"Topic1\", \"Topic1\", \"Topic1\", \"Topic1\", \"Topic1\", \"Topic1\", \"Topic1\", \"Topic1\", \"Topic1\", \"Topic1\", \"Topic1\", \"Topic1\", \"Topic1\", \"Topic1\", \"Topic1\", \"Topic1\", \"Topic1\", \"Topic1\", \"Topic1\", \"Topic2\", \"Topic2\", \"Topic2\", \"Topic2\", \"Topic2\", \"Topic2\", \"Topic2\", \"Topic2\", \"Topic2\", \"Topic2\", \"Topic2\", \"Topic2\", \"Topic2\", \"Topic2\", \"Topic2\", \"Topic2\", \"Topic2\", \"Topic2\", \"Topic2\", \"Topic2\", \"Topic2\", \"Topic2\", \"Topic2\", \"Topic2\", \"Topic2\", \"Topic2\", \"Topic2\", \"Topic2\", \"Topic2\", \"Topic2\", \"Topic2\", \"Topic2\", \"Topic2\", \"Topic2\", \"Topic2\", \"Topic2\", \"Topic2\", \"Topic2\", \"Topic2\", \"Topic2\", \"Topic2\", \"Topic2\", \"Topic2\", \"Topic2\", \"Topic2\", \"Topic2\", \"Topic2\", \"Topic2\", \"Topic2\", \"Topic2\", \"Topic2\", \"Topic2\", \"Topic2\", \"Topic2\", \"Topic2\", \"Topic2\", \"Topic2\", \"Topic2\", \"Topic2\", \"Topic2\", \"Topic2\", \"Topic2\", \"Topic2\", \"Topic3\", \"Topic3\", \"Topic3\", \"Topic3\", \"Topic3\", \"Topic3\", \"Topic3\", \"Topic3\", \"Topic3\", \"Topic3\", \"Topic3\", \"Topic3\", \"Topic3\", \"Topic3\", \"Topic3\", \"Topic3\", \"Topic3\", \"Topic3\", \"Topic3\", \"Topic3\", \"Topic3\", \"Topic3\", \"Topic3\", \"Topic3\", \"Topic3\", \"Topic3\", \"Topic3\", \"Topic3\", \"Topic3\", \"Topic3\", \"Topic3\", \"Topic3\", \"Topic3\", \"Topic3\", \"Topic3\", \"Topic3\", \"Topic3\", \"Topic3\", \"Topic3\", \"Topic3\", \"Topic3\", \"Topic3\", \"Topic3\", \"Topic3\", \"Topic3\", \"Topic3\", \"Topic3\", \"Topic3\", \"Topic3\", \"Topic3\", \"Topic3\", \"Topic3\", \"Topic3\", \"Topic3\", \"Topic3\", \"Topic3\", \"Topic3\", \"Topic3\", \"Topic3\", \"Topic3\", \"Topic3\", \"Topic3\", \"Topic3\", \"Topic3\", \"Topic3\", \"Topic4\", \"Topic4\", \"Topic4\", \"Topic4\", \"Topic4\", \"Topic4\", \"Topic4\", \"Topic4\", \"Topic4\", \"Topic4\", \"Topic4\", \"Topic4\", \"Topic4\", \"Topic4\", \"Topic4\", \"Topic4\", \"Topic4\", \"Topic4\", \"Topic4\", \"Topic4\", \"Topic4\", \"Topic4\", \"Topic4\", \"Topic4\", \"Topic4\", \"Topic4\", \"Topic4\", \"Topic4\", \"Topic4\", \"Topic4\", \"Topic4\", \"Topic4\", \"Topic4\", \"Topic4\", \"Topic4\", \"Topic4\", \"Topic4\", \"Topic4\", \"Topic4\", \"Topic4\", \"Topic4\", \"Topic4\", \"Topic4\", \"Topic4\", \"Topic4\", \"Topic4\", \"Topic4\", \"Topic4\", \"Topic4\", \"Topic4\", \"Topic4\", \"Topic4\", \"Topic4\", \"Topic4\", \"Topic4\", \"Topic4\", \"Topic4\", \"Topic4\", \"Topic4\", \"Topic4\", \"Topic4\", \"Topic4\", \"Topic4\", \"Topic4\", \"Topic4\", \"Topic4\", \"Topic5\", \"Topic5\", \"Topic5\", \"Topic5\", \"Topic5\", \"Topic5\", \"Topic5\", \"Topic5\", \"Topic5\", \"Topic5\", \"Topic5\", \"Topic5\", \"Topic5\", \"Topic5\", \"Topic5\", \"Topic5\", \"Topic5\", \"Topic5\", \"Topic5\", \"Topic5\", \"Topic5\", \"Topic5\", \"Topic5\", \"Topic5\", \"Topic5\", \"Topic5\", \"Topic5\", \"Topic5\", \"Topic5\", \"Topic5\", \"Topic5\", \"Topic5\", \"Topic5\", \"Topic5\", \"Topic5\", \"Topic5\", \"Topic5\", \"Topic5\", \"Topic5\", \"Topic5\", \"Topic5\", \"Topic5\", \"Topic5\", \"Topic5\", \"Topic5\", \"Topic5\", \"Topic5\", \"Topic5\", \"Topic5\", \"Topic5\", \"Topic5\", \"Topic5\", \"Topic5\", \"Topic5\", \"Topic5\", \"Topic5\", \"Topic5\", \"Topic5\", \"Topic5\", \"Topic5\", \"Topic6\", \"Topic6\", \"Topic6\", \"Topic6\", \"Topic6\", \"Topic6\", \"Topic6\", \"Topic6\", \"Topic6\", \"Topic6\", \"Topic6\", \"Topic6\", \"Topic6\", \"Topic6\", \"Topic6\", \"Topic6\", \"Topic6\", \"Topic6\", \"Topic6\", \"Topic6\", \"Topic6\", \"Topic6\", \"Topic6\", \"Topic6\", \"Topic6\", \"Topic6\", \"Topic6\", \"Topic6\", \"Topic6\", \"Topic6\", \"Topic6\", \"Topic6\", \"Topic6\", \"Topic6\", \"Topic6\", \"Topic6\", \"Topic6\", \"Topic6\", \"Topic6\", \"Topic6\", \"Topic6\", \"Topic6\", \"Topic6\", \"Topic6\", \"Topic6\", \"Topic6\", \"Topic6\", \"Topic6\", \"Topic6\", \"Topic6\", \"Topic6\", \"Topic6\", \"Topic6\", \"Topic6\", \"Topic6\", \"Topic6\", \"Topic6\", \"Topic6\", \"Topic6\", \"Topic6\", \"Topic7\", \"Topic7\", \"Topic7\", \"Topic7\", \"Topic7\", \"Topic7\", \"Topic7\", \"Topic7\", \"Topic7\", \"Topic7\", \"Topic7\", \"Topic7\", \"Topic7\", \"Topic7\", \"Topic7\", \"Topic7\", \"Topic7\", \"Topic7\", \"Topic7\", \"Topic7\", \"Topic7\", \"Topic7\", \"Topic7\", \"Topic7\", \"Topic7\", \"Topic7\", \"Topic7\", \"Topic7\", \"Topic7\", \"Topic7\", \"Topic7\", \"Topic7\", \"Topic7\", \"Topic7\", \"Topic7\", \"Topic7\", \"Topic7\", \"Topic7\", \"Topic7\", \"Topic7\", \"Topic7\", \"Topic7\", \"Topic7\", \"Topic7\", \"Topic7\", \"Topic7\", \"Topic7\", \"Topic7\", \"Topic7\", \"Topic7\", \"Topic7\", \"Topic7\", \"Topic7\", \"Topic7\", \"Topic7\", \"Topic7\", \"Topic7\", \"Topic7\", \"Topic7\", \"Topic7\", \"Topic8\", \"Topic8\", \"Topic8\", \"Topic8\", \"Topic8\", \"Topic8\", \"Topic8\", \"Topic8\", \"Topic8\", \"Topic8\", \"Topic8\", \"Topic8\", \"Topic8\", \"Topic8\", \"Topic8\", \"Topic8\", \"Topic8\", \"Topic8\", \"Topic8\", \"Topic8\", \"Topic8\", \"Topic8\", \"Topic8\", \"Topic8\", \"Topic8\", \"Topic8\", \"Topic8\", \"Topic8\", \"Topic8\", \"Topic8\", \"Topic8\", \"Topic8\", \"Topic8\", \"Topic8\", \"Topic8\", \"Topic8\", \"Topic8\", \"Topic8\", \"Topic8\", \"Topic8\", \"Topic8\", \"Topic8\", \"Topic8\", \"Topic8\", \"Topic8\", \"Topic8\", \"Topic8\", \"Topic8\", \"Topic8\", \"Topic8\", \"Topic8\", \"Topic8\", \"Topic8\", \"Topic8\", \"Topic8\", \"Topic8\", \"Topic8\", \"Topic8\", \"Topic8\", \"Topic8\", \"Topic8\", \"Topic8\", \"Topic8\", \"Topic8\", \"Topic8\", \"Topic9\", \"Topic9\", \"Topic9\", \"Topic9\", \"Topic9\", \"Topic9\", \"Topic9\", \"Topic9\", \"Topic9\", \"Topic9\", \"Topic9\", \"Topic9\", \"Topic9\", \"Topic9\", \"Topic9\", \"Topic9\", \"Topic9\", \"Topic9\", \"Topic9\", \"Topic9\", \"Topic9\", \"Topic9\", \"Topic9\", \"Topic9\", \"Topic9\", \"Topic9\", \"Topic9\", \"Topic9\", \"Topic9\", \"Topic9\", \"Topic9\", \"Topic9\", \"Topic9\", \"Topic9\", \"Topic9\", \"Topic9\", \"Topic9\", \"Topic9\", \"Topic9\", \"Topic9\", \"Topic9\", \"Topic9\", \"Topic9\", \"Topic9\", \"Topic9\", \"Topic9\", \"Topic9\", \"Topic9\", \"Topic9\", \"Topic9\", \"Topic9\", \"Topic9\", \"Topic9\", \"Topic9\", \"Topic9\", \"Topic9\", \"Topic9\", \"Topic9\", \"Topic9\", \"Topic9\", \"Topic9\", \"Topic9\", \"Topic9\", \"Topic9\", \"Topic10\", \"Topic10\", \"Topic10\", \"Topic10\", \"Topic10\", \"Topic10\", \"Topic10\", \"Topic10\", \"Topic10\", \"Topic10\", \"Topic10\", \"Topic10\", \"Topic10\", \"Topic10\", \"Topic10\", \"Topic10\", \"Topic10\", \"Topic10\", \"Topic10\", \"Topic10\", \"Topic10\", \"Topic10\", \"Topic10\", \"Topic10\", \"Topic10\", \"Topic10\", \"Topic10\", \"Topic10\", \"Topic10\", \"Topic10\", \"Topic10\", \"Topic10\", \"Topic10\", \"Topic10\", \"Topic10\", \"Topic10\", \"Topic10\", \"Topic10\", \"Topic10\", \"Topic10\", \"Topic10\", \"Topic10\", \"Topic10\", \"Topic10\", \"Topic10\", \"Topic10\", \"Topic10\", \"Topic10\", \"Topic10\", \"Topic10\", \"Topic10\", \"Topic10\", \"Topic10\", \"Topic10\", \"Topic10\"], \"logprob\": [30.0, 29.0, 28.0, 27.0, 26.0, 25.0, 24.0, 23.0, 22.0, 21.0, 20.0, 19.0, 18.0, 17.0, 16.0, 15.0, 14.0, 13.0, 12.0, 11.0, 10.0, 9.0, 8.0, 7.0, 6.0, 5.0, 4.0, 3.0, 2.0, 1.0, -2.6304, -2.8555, -4.5165, -5.3506, -5.308, -5.6891, -5.7459, -5.9547, -6.1065, -6.1699, -6.1464, -5.9311, -6.3503, -6.2649, -4.064, -6.418, -6.5279, -6.5495, -6.6038, -6.6117, -6.6343, -6.6754, -6.6871, -6.6845, -6.69, -6.6088, -5.7845, -6.7897, -6.8027, -6.8297, -3.1266, -3.5176, -4.1058, -4.9935, -5.1995, -6.1881, -5.8125, -4.3745, -5.5885, -3.2699, -3.6844, -3.4112, -4.1717, -4.2363, -3.2808, -4.087, -5.0218, -4.1316, -4.6018, -5.2739, -4.6566, -4.165, -3.6321, -5.2653, -5.0429, -4.6839, -4.6302, -4.3361, -5.1033, -4.991, -5.1168, -5.0472, -4.8373, -4.6345, -5.246, -5.4706, -5.4528, -5.6866, -5.7453, -5.7646, -5.7809, -5.8283, -5.8855, -5.987, -6.1583, -4.8778, -6.2646, -6.2648, -6.2707, -6.3468, -5.2393, -6.4055, -6.4062, -6.4277, -6.4305, -6.1488, -6.4762, -6.4825, -6.1644, -5.2767, -6.5323, -6.5478, -5.7825, -4.1746, -4.6083, -6.1163, -3.3206, -4.5372, -5.8076, -5.4844, -4.8996, -3.7097, -3.5727, -3.3061, -4.4617, -3.1612, -4.5925, -4.0265, -2.9493, -4.8056, -4.0543, -4.9364, -4.1968, -4.8772, -4.4627, -5.3194, -4.2501, -4.0801, -4.8788, -4.4831, -4.8628, -4.3158, -4.9338, -5.0527, -4.7469, -3.4799, -4.3909, -5.1404, -5.681, -5.6683, -5.8471, -5.6328, -5.819, -6.0295, -6.0905, -6.1191, -6.2469, -6.2921, -6.3223, -6.3419, -6.3472, -6.514, -6.6397, -6.6441, -6.6832, -6.7033, -6.7195, -5.8959, -6.8438, -6.8721, -4.5653, -4.0717, -6.9581, -5.3291, -7.0505, -2.6816, -5.1885, -5.3662, -3.409, -2.8022, -3.4305, -5.4462, -4.45, -6.26, -5.3268, -4.2771, -4.4905, -5.087, -3.4978, -4.0205, -3.7498, -4.8798, -3.3054, -4.9485, -4.3072, -4.4297, -4.7169, -4.9709, -5.0683, -4.652, -4.4175, -4.3584, -4.541, -4.8135, -4.4044, -4.6275, -4.5411, -4.8267, -4.7528, -4.8046, -4.6727, -5.0528, -5.5432, -5.5606, -5.6291, -5.779, -5.8484, -5.6144, -5.9243, -5.9781, -6.0014, -6.0379, -6.0408, -5.8926, -6.1157, -6.1916, -6.2632, -6.2788, -6.2788, -6.2839, -6.2907, -6.3112, -5.988, -3.521, -6.3125, -6.6361, -6.6947, -5.0544, -6.7533, -6.7897, -5.2294, -2.4804, -2.6572, -5.1689, -3.9311, -3.3253, -5.6326, -5.1924, -5.1919, -3.5776, -5.7626, -4.8231, -5.4658, -5.2225, -3.5765, -3.471, -4.0842, -4.08, -5.08, -5.3203, -4.5525, -4.426, -4.6374, -5.3234, -3.9637, -3.9519, -5.0855, -4.7149, -4.3821, -4.5468, -4.666, -4.8694, -4.7344, -5.0636, -5.0324, -5.118, -4.85, -5.2514, -5.3307, -5.2989, -4.8835, -5.239, -5.4989, -5.6011, -5.4946, -5.8343, -5.9605, -5.9467, -6.0188, -5.2486, -6.0527, -6.0529, -6.0765, -6.1209, -6.1464, -3.9193, -6.2211, -6.0945, -6.1919, -5.2668, -4.9146, -5.6558, -5.7436, -6.633, -5.9563, -4.0538, -3.8423, -5.0412, -3.3841, -3.9934, -4.5676, -2.822, -3.7261, -2.3168, -3.6406, -4.474, -3.7589, -4.1481, -4.4265, -5.0431, -4.4159, -5.1615, -3.5737, -3.7879, -4.8627, -4.7918, -4.5083, -4.0037, -4.76, -4.8041, -4.8876, -4.6998, -4.7272, -4.6718, -4.8006, -4.8798, -3.7633, -4.2396, -5.0749, -5.1667, -5.017, -5.3998, -5.5943, -4.2801, -5.6737, -5.7412, -5.7917, -5.814, -5.8363, -4.9325, -5.6093, -5.9133, -5.9163, -5.3075, -6.0345, -4.7834, -6.0402, -6.0585, -6.0923, -6.3457, -6.351, -4.7487, -6.352, -6.5146, -6.5595, -5.6447, -4.2238, -3.5471, -4.4833, -4.3067, -5.8547, -4.3597, -4.4918, -4.4893, -4.9777, -4.9691, -4.3011, -4.0544, -4.2451, -4.2162, -4.2203, -3.4845, -4.1426, -3.9761, -4.6418, -4.1056, -5.0321, -3.997, -4.819, -4.5596, -4.7643, -4.6548, -4.463, -4.6747, -4.647, -4.7322, -3.3272, -3.9678, -4.3494, -4.6654, -4.86, -5.1856, -4.9407, -4.9668, -5.3484, -5.4254, -5.438, -5.4898, -5.5105, -5.6259, -5.6479, -5.6723, -5.7489, -5.8025, -5.7922, -5.8244, -5.8588, -5.8541, -6.0087, -6.014, -6.059, -6.0709, -5.9645, -4.9736, -4.6055, -5.4662, -4.9842, -5.2806, -3.7844, -4.489, -2.9223, -3.5224, -5.102, -4.619, -4.9308, -4.1363, -4.5968, -3.4942, -4.543, -4.3377, -4.4714, -4.6142, -4.1086, -4.3179, -4.6529, -4.0289, -4.395, -4.3394, -4.6914, -4.6388, -4.39, -4.61, -4.7753, -4.7937, -4.6482, -4.7264, -4.1067, -5.1092, -4.4934, -5.1126, -5.3391, -5.3596, -5.4093, -5.4219, -5.276, -5.4731, -5.4266, -5.5439, -5.5944, -5.6938, -5.7252, -5.8014, -5.8334, -5.8467, -5.9291, -5.951, -5.4755, -5.9956, -5.9996, -6.0426, -6.059, -5.9655, -6.0931, -6.1489, -5.7708, -6.2121, -3.8088, -5.7181, -5.089, -3.5335, -4.9093, -3.2665, -4.4779, -4.7474, -2.7926, -3.3784, -5.3449, -3.5524, -3.8966, -5.0673, -4.1217, -3.9283, -3.7828, -3.8272, -4.3833, -4.846, -3.2255, -3.7108, -3.848, -4.9601, -5.0296, -4.1368, -4.9342, -4.5337, -4.5437, -4.5324, -4.6602, -4.7903, -4.8748, -4.7527, -4.8565, -4.7998, -4.8503, -4.8327, -5.161, -5.3238, -5.3373, -5.3401, -5.1198, -5.3684, -5.4181, -5.4646, -5.5978, -5.7335, -5.7122, -5.7947, -5.5388, -5.8558, -5.8804, -5.4171, -6.2378, -6.2452, -6.2984, -5.2854, -6.6354, -6.7934, -4.9135, -6.8652, -6.9313, -6.9314, -6.9318, -4.3222, -6.3413, -4.2415, -5.6538, -4.3059, -4.4526, -5.2943, -3.4482, -5.0318, -4.2035, -3.1169, -2.6191, -4.252, -4.4316, -4.2801, -3.7009, -4.2989, -4.3864, -5.014, -4.5152, -4.4031, -4.2874, -4.5118, -4.8692, -5.0808, -4.5098, -4.5677, -4.452, -4.4883, -4.7619, -4.851, -4.7294, -4.5972, -4.8137, -3.8282, -4.1259, -4.2872, -4.4067, -4.4395, -4.3476, -4.9617, -4.9779, -5.0792, -5.2724, -5.1719, -5.5323, -5.7978, -5.8103, -5.0145, -4.2631, -6.1749, -6.1817, -6.4043, -5.401, -4.8759, -6.6626, -6.8344, -6.8463, -6.8588, -5.6554, -3.0521, -6.9328, -5.6014, -4.7901, -2.4965, -3.252, -5.6696, -4.4151, -5.6065, -4.8746, -3.1886, -4.6945, -4.1243, -3.7497, -3.592, -4.6713, -3.4482, -4.5174, -4.0543, -3.7638, -4.1492, -3.4688, -3.6694, -4.5553, -4.7641, -3.9648, -4.2854, -4.6337, -4.7294], \"loglift\": [30.0, 29.0, 28.0, 27.0, 26.0, 25.0, 24.0, 23.0, 22.0, 21.0, 20.0, 19.0, 18.0, 17.0, 16.0, 15.0, 14.0, 13.0, 12.0, 11.0, 10.0, 9.0, 8.0, 7.0, 6.0, 5.0, 4.0, 3.0, 2.0, 1.0, 1.6554, 1.6538, 1.6507, 1.6428, 1.6408, 1.6381, 1.637, 1.6325, 1.6287, 1.6269, 1.6265, 1.621, 1.621, 1.6203, 1.6202, 1.6187, 1.6141, 1.6135, 1.6111, 1.6108, 1.6098, 1.6079, 1.6073, 1.6072, 1.6072, 1.6062, 1.6023, 1.6021, 1.6015, 1.5999, 1.597, 1.5817, 1.5568, 1.562, 1.5567, 1.5712, 1.5426, 1.3766, 1.5052, 1.2338, 1.2766, 1.1816, 1.2822, 1.2911, 1.1295, 1.2486, 1.3596, 1.1611, 1.2394, 1.3957, 1.1641, 0.8377, 0.5823, 1.2158, 0.9635, 0.4022, 0.2267, -0.303, 0.8492, 0.4588, 0.8393, 0.3105, 1.921, 1.9202, 1.913, 1.912, 1.9101, 1.9074, 1.906, 1.9055, 1.9051, 1.9038, 1.9022, 1.8981, 1.8932, 1.8913, 1.8891, 1.8891, 1.8887, 1.8854, 1.8843, 1.8829, 1.8822, 1.8818, 1.8817, 1.8804, 1.8791, 1.8791, 1.8786, 1.8763, 1.8761, 1.8757, 1.8686, 1.8275, 1.8258, 1.8625, 1.6757, 1.7349, 1.8336, 1.7734, 1.7009, 1.4985, 1.4536, 1.4064, 1.5771, 1.3253, 1.5936, 1.4398, 1.0837, 1.5541, 1.3172, 1.5912, 1.1834, 1.455, 1.2149, 1.6701, 0.9262, 0.6691, 1.2341, 0.818, 1.1362, 0.2061, 0.8554, 1.2277, -0.5001, 1.9968, 1.9928, 1.9886, 1.9789, 1.9777, 1.9743, 1.9717, 1.9689, 1.9682, 1.9656, 1.9648, 1.9597, 1.9575, 1.9562, 1.9552, 1.9551, 1.9463, 1.9387, 1.9385, 1.9359, 1.9343, 1.9334, 1.924, 1.9239, 1.9208, 1.9207, 1.92, 1.9134, 1.9123, 1.9064, 1.8386, 1.8825, 1.8833, 1.8046, 1.7196, 1.738, 1.8255, 1.7028, 1.8829, 1.7276, 1.517, 1.5253, 1.6528, 1.1724, 1.2988, 1.159, 1.5146, 0.909, 1.5358, 1.1425, 1.0256, 1.1102, 1.2736, 1.3528, 0.7282, 0.295, 0.1453, 0.4199, 0.7544, -0.3713, 0.2186, -0.0546, 0.6396, 0.2735, 0.2815, 2.3009, 2.298, 2.287, 2.2864, 2.2836, 2.279, 2.2764, 2.2762, 2.2723, 2.2708, 2.2697, 2.2679, 2.2678, 2.2675, 2.2641, 2.26, 2.2559, 2.255, 2.255, 2.2546, 2.2542, 2.253, 2.2362, 2.2343, 2.2334, 2.2292, 2.224, 2.2172, 2.2171, 2.2153, 2.2107, 2.1405, 2.1163, 2.1581, 2.0587, 1.851, 2.1453, 2.0669, 2.06, 1.7234, 2.1565, 1.9037, 2.0726, 1.9561, 1.0937, 1.0155, 1.316, 1.3083, 1.8072, 1.9175, 1.4465, 1.3026, 1.3188, 1.89, 0.6411, 0.2949, 1.5806, 1.0792, 0.3304, 0.5513, 0.6268, 0.8713, 0.2683, 1.2168, 0.3391, 0.2066, 2.482, 2.473, 2.4707, 2.4706, 2.4689, 2.4688, 2.4652, 2.4616, 2.46, 2.4517, 2.4451, 2.4449, 2.442, 2.4406, 2.4401, 2.4401, 2.4387, 2.4351, 2.4343, 2.4307, 2.4294, 2.4263, 2.4209, 2.4173, 2.4108, 2.406, 2.4041, 2.3949, 2.3891, 2.3876, 2.3652, 2.3601, 2.2538, 2.2756, 2.2662, 2.0241, 2.1258, 1.93, 1.937, 2.0105, 1.7977, 1.7569, 1.839, 2.0713, 1.7446, 2.1187, 1.1755, 1.2148, 1.9303, 1.6794, 1.3286, 0.5891, 1.5248, 1.5245, 1.5723, 1.072, 0.7039, -0.0669, 0.2856, 1.2348, 2.4868, 2.485, 2.4801, 2.4774, 2.4725, 2.4717, 2.4651, 2.4644, 2.4615, 2.459, 2.4569, 2.4559, 2.4547, 2.4542, 2.4536, 2.4511, 2.451, 2.4501, 2.4446, 2.4445, 2.4442, 2.4432, 2.4342, 2.4238, 2.4236, 2.4195, 2.4138, 2.41, 2.406, 2.3919, 2.2683, 2.2247, 2.2591, 2.1859, 2.3661, 2.136, 2.1441, 2.1059, 2.1948, 2.1606, 1.9531, 1.8505, 1.8774, 1.8193, 1.693, 1.2648, 1.586, 1.4791, 1.8118, 1.451, 1.9918, 0.6078, 1.6713, 0.8715, 1.3503, 0.9288, -0.4299, 0.6498, 0.0232, 0.476, 2.5597, 2.5559, 2.5521, 2.5478, 2.5443, 2.5364, 2.5352, 2.5347, 2.5321, 2.5292, 2.5286, 2.5273, 2.5262, 2.522, 2.5207, 2.5187, 2.5141, 2.514, 2.5138, 2.513, 2.5113, 2.5038, 2.503, 2.5026, 2.4998, 2.4992, 2.493, 2.4927, 2.4795, 2.4787, 2.4752, 2.4406, 2.1977, 2.2621, 1.9865, 2.0455, 2.327, 2.1369, 2.2262, 1.8198, 1.8696, 1.1106, 1.7922, 1.6506, 1.7266, 1.7521, 1.216, 1.3986, 1.6162, 0.828, 1.2826, 1.0182, 1.5504, 1.3008, 0.2309, 1.028, 1.6118, 1.6132, 0.545, -0.6933, 2.6362, 2.6188, 2.6172, 2.6151, 2.6118, 2.611, 2.6092, 2.6089, 2.6076, 2.6069, 2.6048, 2.604, 2.6016, 2.5974, 2.5959, 2.592, 2.5902, 2.5895, 2.5848, 2.5834, 2.5824, 2.5807, 2.5804, 2.5776, 2.5765, 2.5751, 2.5731, 2.5694, 2.5649, 2.5618, 2.4866, 2.5444, 2.4875, 2.348, 2.4521, 2.2255, 2.3593, 2.3898, 2.0643, 2.0733, 2.4579, 2.0312, 2.075, 2.3385, 1.9908, 1.8609, 1.5748, 1.4921, 1.8305, 2.1263, 0.8076, 0.7928, 0.3664, 1.9385, 2.0231, 0.4681, 1.808, 0.5525, 0.4526, 0.18, 0.533, 1.1229, 1.355, -0.16, -0.6097, 2.7524, 2.7514, 2.7446, 2.7423, 2.7371, 2.7366, 2.7365, 2.7365, 2.7354, 2.7332, 2.7263, 2.7253, 2.718, 2.717, 2.7146, 2.7123, 2.7109, 2.7083, 2.6998, 2.6821, 2.6814, 2.6765, 2.6605, 2.6393, 2.6177, 2.6069, 2.6069, 2.5963, 2.5963, 2.5962, 2.5713, 2.5894, 2.5452, 2.5723, 2.5183, 2.4781, 2.5294, 2.2405, 2.4777, 2.3184, 2.0763, 1.7912, 2.1439, 2.1124, 2.0288, 1.6346, 1.9337, 1.9589, 2.3181, 1.5005, 1.3256, 1.1643, 1.3152, 1.8762, 2.1934, 0.8784, 0.8875, 0.3941, 0.2609, 1.0522, 1.3628, 0.439, -0.5641, -0.2088, 2.8552, 2.8521, 2.8482, 2.848, 2.8472, 2.841, 2.8355, 2.8318, 2.831, 2.8249, 2.8209, 2.81, 2.7983, 2.7975, 2.7936, 2.772, 2.7691, 2.7681, 2.7458, 2.7411, 2.7372, 2.7131, 2.6871, 2.6852, 2.6826, 2.6795, 2.6786, 2.6705, 2.6699, 2.6668, 2.6015, 2.5814, 2.651, 2.5685, 2.6124, 2.5, 2.2116, 2.4374, 2.2877, 2.0584, 1.8391, 2.2454, 1.6379, 2.1451, 1.8928, 1.7281, 1.8596, 0.7455, 0.5773, 1.8937, 2.2674, 0.5555, 1.0861, 1.0439, 1.7212]}, \"token.table\": {\"Topic\": [1, 3, 4, 6, 8, 9, 1, 7, 1, 1, 6, 4, 9, 6, 2, 1, 2, 4, 7, 8, 10, 1, 2, 3, 4, 6, 7, 8, 9, 10, 5, 7, 8, 2, 3, 5, 6, 8, 10, 2, 6, 7, 1, 6, 2, 10, 10, 9, 8, 4, 6, 8, 2, 6, 8, 9, 10, 1, 5, 6, 8, 1, 2, 3, 4, 5, 7, 8, 9, 10, 1, 4, 7, 8, 2, 1, 1, 2, 3, 4, 7, 10, 5, 2, 8, 5, 5, 4, 5, 6, 10, 2, 7, 7, 1, 1, 4, 1, 2, 3, 4, 5, 6, 7, 9, 3, 5, 10, 4, 10, 2, 8, 4, 2, 5, 7, 9, 10, 4, 6, 7, 8, 9, 6, 7, 2, 2, 6, 2, 1, 7, 10, 1, 2, 7, 8, 5, 10, 4, 6, 9, 9, 3, 5, 9, 1, 2, 4, 6, 7, 9, 2, 3, 1, 7, 5, 6, 9, 3, 4, 3, 4, 9, 10, 9, 2, 6, 2, 6, 2, 3, 4, 5, 6, 9, 2, 4, 7, 10, 3, 6, 8, 10, 5, 3, 7, 6, 1, 3, 5, 6, 8, 9, 1, 4, 10, 2, 6, 1, 2, 3, 4, 5, 7, 8, 9, 1, 1, 1, 3, 4, 5, 6, 10, 7, 1, 3, 4, 7, 8, 2, 5, 6, 8, 9, 2, 3, 6, 4, 8, 4, 1, 4, 7, 8, 6, 9, 7, 2, 7, 2, 3, 5, 2, 5, 3, 4, 8, 9, 10, 1, 2, 3, 4, 5, 6, 10, 2, 7, 1, 7, 9, 7, 2, 3, 5, 6, 9, 10, 6, 2, 1, 4, 7, 9, 7, 1, 6, 7, 8, 9, 8, 1, 2, 3, 4, 6, 8, 9, 5, 7, 4, 7, 7, 6, 1, 2, 3, 4, 5, 6, 9, 10, 2, 3, 4, 1, 2, 3, 4, 5, 6, 7, 8, 2, 8, 8, 1, 3, 8, 10, 3, 5, 6, 10, 3, 4, 2, 3, 4, 6, 10, 1, 3, 7, 8, 9, 10, 3, 7, 7, 8, 1, 2, 4, 6, 10, 10, 1, 2, 8, 7, 1, 6, 7, 8, 10, 9, 4, 1, 8, 1, 7, 2, 3, 1, 2, 4, 5, 7, 9, 10, 1, 2, 3, 4, 6, 9, 10, 3, 4, 1, 2, 4, 7, 8, 9, 6, 9, 5, 4, 1, 1, 2, 3, 4, 7, 8, 4, 1, 2, 4, 5, 6, 7, 8, 9, 10, 2, 3, 4, 6, 7, 8, 9, 10, 2, 4, 1, 2, 6, 7, 8, 5, 9, 5, 7, 1, 4, 5, 7, 4, 8, 9, 3, 4, 8, 9, 1, 2, 4, 1, 4, 5, 6, 7, 8, 4, 5, 6, 1, 2, 4, 5, 6, 7, 8, 5, 2, 5, 9, 1, 2, 3, 4, 6, 8, 9, 3, 1, 2, 3, 4, 6, 9, 10, 4, 5, 7, 8, 10, 2, 6, 7, 2, 3, 4, 6, 9, 1, 6, 9, 2, 7, 8, 1, 7, 8, 9, 10, 4, 2, 4, 6, 7, 1, 3, 5, 10, 1, 2, 3, 4, 5, 8, 10, 1, 9, 4, 6, 8, 9, 2, 5, 1, 2, 3, 5, 6, 8, 10, 1, 4, 7, 6, 8, 8, 1, 3, 4, 6, 7, 8, 9, 2, 3, 7, 2, 3, 6, 9, 10, 1, 4, 5, 6, 7, 8, 10, 1, 4, 7, 5, 9, 5, 9, 10, 7, 10, 6, 8, 2, 4, 9, 3, 4, 1, 3, 4, 9, 1, 9, 9, 10, 4, 10, 9, 2, 7, 9, 8, 1, 2, 3, 4, 5, 6, 7, 8, 9, 10, 6, 8, 1, 3, 5, 5, 9, 1, 4, 5, 9, 8, 8, 10, 10, 2, 10, 1, 2, 3, 7, 9, 1, 3, 4, 5, 6, 8, 1, 2, 3, 4, 5, 6, 7, 8, 9, 10, 6, 1, 2, 7, 8, 1, 9, 5, 9, 1, 2, 4, 9, 8, 1, 2, 4, 6, 7, 8, 9, 4, 3, 1, 2, 4, 3, 5, 7, 8, 9, 3, 4, 8, 8, 1, 3, 4, 6, 6, 2, 6, 9, 1, 4, 6, 7, 8, 1, 2, 6, 8, 2, 5, 8, 6, 9, 4, 2, 2, 4, 5, 6, 1, 1, 4, 5, 6, 7, 8, 9, 10, 2, 3, 5, 6, 7, 1, 3, 7, 1, 2, 5, 7, 8, 10, 4, 1, 3, 5, 6, 1, 4, 6, 7, 8, 9, 10, 10, 3, 8, 1, 2, 6, 7, 8, 9, 2, 3, 6, 8, 9, 1, 10, 3, 4, 6, 8, 10, 1, 2, 3, 4, 5, 6, 8, 9, 10, 4, 5, 6, 8, 3, 5, 10, 2, 2, 5, 9, 7, 1, 2, 3, 5, 6, 4, 10, 3, 5, 9, 1, 2, 3, 7, 8, 9, 1, 4, 1, 8, 9, 6, 7, 2, 4, 5, 1, 2, 3, 4, 7, 8, 1, 3, 6, 7, 8, 8, 1, 3, 4, 5, 7, 8, 9, 2, 5, 6, 9, 10, 3, 4, 4, 6, 6, 2, 3, 4, 5, 7, 10, 3, 1, 3, 4, 6, 10, 9, 1, 2, 4, 5, 6, 8, 10, 9, 1, 2, 5, 7, 9, 5, 10, 7, 9, 9, 1, 3, 1, 3, 7, 3, 7, 2, 3, 6, 8, 9, 1, 2, 4, 5, 6, 8, 9, 10, 1, 2, 3, 4, 5, 7, 8, 9, 10, 5, 8, 1, 2, 3, 4, 6, 7, 8, 9, 10, 2, 3, 4, 7, 10, 3, 10, 1, 4, 5, 9, 3, 4, 4, 9, 9, 8, 6, 1, 2, 3, 4, 9, 2, 3, 5, 6, 7, 9, 10, 3, 2, 1, 2, 3, 5, 6, 7, 9, 5, 6, 4, 5, 9, 9, 2, 3, 4, 8, 8, 2, 10, 2, 2, 2, 3, 6, 10, 4, 2, 3, 9, 2, 3, 9, 2, 9, 10, 2, 3, 4, 5, 6, 7, 1, 2, 3, 4, 8, 9, 10, 10, 5, 9, 3, 6, 7, 6, 8, 3, 7, 10, 1, 2, 4, 5, 6, 9, 4, 6, 10, 5, 2, 3, 4, 5, 6, 7, 9, 6, 2, 3, 9, 3, 4, 6, 1, 2, 6, 1, 5, 7, 3, 6, 10, 1, 2, 3, 5, 6, 9, 9, 9, 10, 1, 2, 3, 4, 6, 10, 4, 7, 10, 8, 5, 2, 3, 4, 6, 9, 10, 4, 3, 9, 10, 5, 3, 6, 4, 7, 7, 9, 2, 3, 4, 7, 1, 5, 6, 1, 4, 5, 1, 6, 7, 1, 10, 1, 2, 3, 4, 5, 6, 8, 9, 10, 8, 2, 9, 10, 10, 1, 3, 4, 5, 6, 8, 10, 4, 6, 8, 10, 3, 7, 1, 7, 1, 3, 4, 5, 6, 7, 9, 5, 8, 7, 6, 10, 1, 8, 2, 4, 9, 1, 2, 3, 4, 9, 2, 4, 7, 8, 9, 5, 7, 2, 9, 10, 7, 3, 2, 2, 10, 2, 3, 4, 5, 6, 8, 1, 1, 3, 3, 2, 3, 4, 5, 6, 9, 2, 9, 10, 2, 3, 4, 9, 10, 3, 6, 4, 6, 1, 3, 4, 10, 1, 2, 3, 4, 5, 7, 10, 1, 3, 7, 10, 1, 2, 3, 4, 5, 7, 8, 9, 10, 6, 7, 5, 8, 1, 3, 1, 2, 3, 5, 7, 9, 9, 10, 3, 9, 4, 2, 4, 5, 7, 10, 3, 10, 2, 2, 9, 8, 4, 1, 2, 3, 4, 5, 7, 8, 9, 6, 2, 4, 7, 8, 7, 2, 3, 6, 7, 9, 1, 5, 7, 8, 9, 7, 10, 10, 5, 5, 3, 4, 6, 8, 9, 10, 3, 9, 3, 6, 8, 3, 4, 6, 9, 10, 1, 2, 3, 6, 9, 10, 2, 2, 6, 6, 3, 7, 3, 6, 2, 10, 1, 3, 4, 7, 2, 9, 1, 5, 2, 4, 2, 8, 9, 6, 1, 3, 7, 7, 1, 6, 10, 3, 8, 5, 9, 2, 3, 4, 5, 6, 8, 9, 10, 1, 2, 3, 5, 7, 8, 9, 4, 3, 1, 2, 10, 6, 1, 9], \"Freq\": [0.9516385120742757, 0.06774076997974225, 0.033870384989871126, 0.7790188547670359, 0.011290128329957043, 0.10161115496961338, 0.9151480901229494, 0.9638595697352216, 0.9641278007464871, 0.9558412533293172, 0.939359311300516, 0.973043128456514, 0.9299642539681877, 0.9179992396960354, 0.9722891979778534, 0.6601863756047212, 0.05960015890875955, 0.018338510433464475, 0.12378494542588521, 0.12836957303425134, 0.013753882825098356, 0.06254232993579155, 0.07817791241973943, 0.4349534763716412, 0.29423323401611023, 0.08386357877753867, 0.0014214165894498078, 0.0042642497683494235, 0.0042642497683494235, 0.0355354147362452, 0.7819295808777741, 0.21699481191823397, 0.9276576589029545, 0.23442554526926643, 0.09173173510536511, 0.04586586755268256, 0.18346347021073023, 0.06625069757609703, 0.3771193554331677, 0.9556881515964517, 0.961530301593232, 0.9612004428396111, 0.9399504959915558, 0.9428299130784273, 0.9536096307582993, 0.989765899162481, 0.9725716486949478, 0.9705215937766558, 0.9414198517126008, 0.020965994479012488, 0.14676196135308742, 0.8176737846814871, 0.499336824059414, 0.2767408904425668, 0.06617716945365727, 0.012032212627937687, 0.14438655153525223, 0.13969484430354515, 0.23080017754498763, 0.5344846216831293, 0.09110533324144249, 0.4457998074605783, 0.09735857864081596, 0.2715791930506971, 0.010248271435875363, 0.03074481430762609, 0.005124135717937682, 0.07686203576906522, 0.015372407153813045, 0.04099308574350145, 0.9416486374384111, 0.0194927265711773, 0.03598657213140424, 0.0014994405054751768, 0.980578504461552, 0.9645600627351693, 0.6843777719830393, 0.02661469113267375, 0.2053133315949118, 0.03231783923253241, 0.011406296199717322, 0.03992203669901063, 0.9130619516427427, 0.9629752036244249, 0.970337017269563, 0.9100731163701837, 0.948601045210135, 0.19283248089860414, 0.10149077942031796, 0.7002863780001939, 0.7891832080746654, 0.9702449502651704, 0.9398955888983557, 0.9297207824525202, 0.9853205054237962, 0.9972124094070506, 0.0012102092347172943, 0.4400292143974702, 0.001982113578366983, 0.07532031597794535, 0.12883738259385388, 0.27551378739301063, 0.003964227156733966, 0.0693739752428444, 0.001982113578366983, 0.961924967515069, 0.944158835410694, 0.9799700382966084, 0.9287142122179918, 0.9798230612946148, 0.14439691125821952, 0.8519417764234951, 0.9665549343377019, 0.48656657211478144, 0.02724772803842776, 0.27636981296119584, 0.03892532576918251, 0.16348636823056656, 0.4811892108501398, 0.21967333538810732, 0.041842540073925204, 0.0523031750924065, 0.1987520653511447, 0.7150665426094707, 0.2827007261479303, 0.9789168905883531, 0.7661011130338122, 0.21682106972655063, 0.9861704637554719, 0.4422900536135218, 0.4731474992144652, 0.07714361400235846, 0.028413872955559957, 0.014206936477779979, 0.3551734119444995, 0.5966913320667591, 0.7916656852572831, 0.19791642131432077, 0.36047557935618085, 0.40143871337392867, 0.2334898639011626, 0.9472643445721579, 0.9507300945413079, 0.9692273033523897, 0.8965281210268783, 0.1517864635132487, 0.22009037209421062, 0.14419714033758627, 0.0075893231756624345, 0.022767969526987304, 0.44018074418842124, 0.2814857874825545, 0.6980847529567351, 0.97489314145432, 0.9410283515706188, 0.6857421566417355, 0.22240286161353584, 0.08340107310507594, 0.930357377191977, 0.9445765398550489, 0.015072455775640169, 0.15072455775640167, 0.25623174818588285, 0.542608407923046, 0.9149804501245387, 0.8958309752830071, 0.0912420437788248, 0.9586900987760504, 0.033058279268139666, 0.237806300038317, 0.033972328576902425, 0.14721342383324384, 0.12456520478197557, 0.04529643810253657, 0.4076679429228291, 0.05669087282948023, 0.17007261848844069, 0.0021804181857492397, 0.7675072013837323, 0.9173124808095047, 0.05241785604625741, 0.017472618682085803, 0.008736309341042902, 0.9644454196540522, 0.9490891210633701, 0.9646402236692625, 0.9668421556717979, 0.8662344571851612, 0.12833103069409796, 0.31675201435168393, 0.14517800657785515, 0.48832602212551274, 0.026396001195973663, 0.9346912072369989, 0.19769465825230403, 0.7907786330092161, 0.06912895105257001, 0.9159586014465527, 0.08572721491571406, 0.10001508406833307, 0.05715147661047604, 0.11430295322095207, 0.37862853254440376, 0.02857573830523802, 0.08572721491571406, 0.1500226261024996, 0.9807444980740733, 0.9567426246289158, 0.2556203248709063, 0.21453848694522493, 0.05477578390090849, 0.3103961087718148, 0.018258594633636164, 0.1460687570690893, 0.9761785079307708, 0.3233253638353394, 0.015396445896920923, 0.09237867538152554, 0.015396445896920923, 0.5388756063922323, 0.06210912067946914, 0.06210912067946914, 0.11179641722304445, 0.5651929981831691, 0.19874918617430123, 0.0069004041739348055, 0.0069004041739348055, 0.9867577968726772, 0.8507607702116475, 0.12153725288737822, 0.9355064300263282, 0.766300876741471, 0.010497272284129739, 0.09447545055716765, 0.11546999512542713, 0.07522802791598009, 0.902736334991761, 0.9888856925507425, 0.940185506353876, 0.9704688221187122, 0.053291232151902505, 0.9166091930127231, 0.026645616075951253, 0.9864692991069294, 0.8877825973109192, 0.3033447257094446, 0.13570685097527785, 0.015965511879444453, 0.5348446479613892, 0.007982755939722226, 0.002866233865677534, 0.541718200613054, 0.07165584664193836, 0.13757922555252164, 0.002866233865677534, 0.06878961277626082, 0.1691077980749745, 0.9720083849454169, 0.9926855084360363, 0.045550479219052434, 0.740195287309602, 0.21636477629049905, 0.9272389357625866, 0.15792860482789747, 0.07896430241394874, 0.2368929072418462, 0.43869056896638187, 0.017547622758655273, 0.07019049103462109, 0.9410461416298221, 0.9918428467111055, 0.008414157201200945, 0.9213502135315035, 0.0042070786006004725, 0.05889910040840662, 0.926298722520291, 0.1514668180340424, 0.08356789960498892, 0.19325076783653689, 0.5640833223336752, 0.005222993725311808, 0.9304772526747387, 0.2506471570759398, 0.034974021917573, 0.00874350547939325, 0.36431272830805206, 0.1078365675791834, 0.08452055296746808, 0.14863959314968522, 0.9398678217094714, 0.9621496026963446, 0.7757828153879766, 0.20020201687431652, 0.9127370460663137, 0.9700886633009799, 0.23216702475677206, 0.09535431373938853, 0.24045870421237106, 0.23631286448457156, 0.12437519183398503, 0.008291679455599003, 0.020729198638997505, 0.045604237005794517, 0.29644296141647614, 0.01852768508852976, 0.6669966631870713, 0.1449319081608207, 0.11211713650176695, 0.12852452233129383, 0.12032082941653038, 0.0027345643049211453, 0.15587016538050527, 0.2597836089675088, 0.07383323623287091, 0.9533155746196497, 0.9292388071171495, 0.9680437730011949, 0.10007763399520732, 0.054587800361022176, 0.0909796672683703, 0.7551312383274734, 0.7387365395389744, 0.2378982076481443, 0.006260479148635376, 0.012520958297270752, 0.09072767752461852, 0.9072767752461852, 0.10244286002022895, 0.07880220001556074, 0.8179668361615204, 0.10786799453353285, 0.8899109549016461, 0.14628183691221885, 0.10071864180841299, 0.131893459511017, 0.11990314501001546, 0.496399020341464, 0.002398062900200309, 0.949904502839077, 0.9512217751225178, 0.9720030140438656, 0.8995665011786236, 0.05292389091413256, 0.16759232122808643, 0.06174453939982132, 0.6968312303694121, 0.02646194545706628, 0.741875930079778, 0.9853037056517058, 0.12998088427358942, 0.8578738362056902, 0.9693138649860025, 0.6433008059250457, 0.14778532028007807, 0.00869325413412224, 0.09562579547534464, 0.10431904960946688, 0.9354655398171924, 0.9716276242010399, 0.9423995440394043, 0.9639033810940679, 0.9277548181760465, 0.06985448042737291, 0.09372539655952973, 0.8810187276595796, 0.6092937236587088, 0.01589461887805327, 0.18543722024395484, 0.005298206292684424, 0.0900695069756352, 0.052982062926844244, 0.03973654719513318, 0.2306129091557282, 0.1374807727659149, 0.1552202273163555, 0.004434863637610158, 0.013304590912830474, 0.004434863637610158, 0.44792122739862594, 0.9014120052963097, 0.9074284664155085, 0.9720717679756257, 0.3394658862360518, 0.10009891517216912, 0.008704253493232098, 0.45697330839468514, 0.09139466167893702, 0.9355722485871346, 0.03668910778773077, 0.9304627573628989, 0.9749893721540476, 0.986742216124539, 0.050065350842967295, 0.0067655879517523375, 0.00541247036140187, 0.8375797884269394, 0.09742446650523366, 0.0013531175903504675, 0.9815699842406848, 0.6222340105881459, 0.06840627600546212, 0.011839547770176137, 0.14733659447330302, 0.044727180465109845, 0.011839547770176137, 0.06051324415867803, 0.030256622079339015, 0.0013155053077973484, 0.06761454434387795, 0.12020363438911635, 0.037563635746598864, 0.06010181719455818, 0.46578908325782586, 0.007512727149319772, 0.21035636018095363, 0.03005090859727909, 0.9614418240539968, 0.9586223672723146, 0.12746184873047275, 0.36114190473633945, 0.026554551818848488, 0.403629187646497, 0.07966365545654547, 0.976538062150927, 0.0207774055776793, 0.67652170357492, 0.28993787296068, 0.2663628397684078, 0.1452888216918588, 0.1937184289224784, 0.3874368578449568, 0.21781130910150034, 0.7707169398976166, 0.9626351299929405, 0.9658679416042864, 0.8955308330538823, 0.24532656991639198, 0.7359797097491759, 0.9473027690822691, 0.333416348792097, 0.6557188192911241, 0.31335183790280946, 0.06628596571020968, 0.28322185348907775, 0.31335183790280946, 0.018077990648239006, 0.9485643874455979, 0.32708200210371874, 0.4389784765076225, 0.22379294880780753, 0.2144845293270837, 0.25495330844540137, 0.044515657030149446, 0.02023438955915884, 0.05665629076564475, 0.31160959921104614, 0.09712506988396243, 0.9576303701609828, 0.05608788735274513, 0.897406197643922, 0.9025697627160932, 0.0014827918294136881, 0.5916339399360615, 0.18090060318846996, 0.1364168483060593, 0.0014827918294136881, 0.08451913427658023, 0.0014827918294136881, 0.8773756140053856, 0.030797470564213898, 0.6852437200537592, 0.015398735282106949, 0.023098102923160422, 0.03849683820526737, 0.18478482338528338, 0.015398735282106949, 0.21702024634122213, 0.1395130155050714, 0.44179121576605934, 0.1317622924214563, 0.062005784668920615, 0.8181681039663552, 0.007053173310054787, 0.16927615944131488, 0.7103282322161696, 0.00910677220789961, 0.05464063324739766, 0.08196094987109649, 0.13660158311849416, 0.01735560986299507, 0.7289356142457928, 0.24297853808193093, 0.7934760078065387, 0.07836800077101616, 0.11755200115652426, 0.2398536804150232, 0.17646377916248135, 0.5585164272521254, 0.020558886892716274, 0.0034264811487860454, 0.9340896042468836, 0.9724809671258069, 0.06865569640376824, 0.274622785615073, 0.6522291158357983, 0.0041051220898392655, 0.08620756388662457, 0.07799731970694604, 0.8292346621475315, 0.09335266736349898, 0.6209981785484933, 0.1765583056657481, 0.010147029061249889, 0.03449989880824963, 0.06291158017974932, 0.002029405812249978, 0.519594733320897, 0.47568531923744095, 0.022572918333869995, 0.18058334667095996, 0.4288854483435299, 0.3498802341749849, 0.06067276066348849, 0.9100914099523274, 0.033805984264343385, 0.2366418898504037, 0.04056718111721207, 0.12846274020450488, 0.04732837797008074, 0.27720907096761577, 0.2366418898504037, 0.046249022818826147, 0.023124511409413073, 0.924980456376523, 0.7910442140257371, 0.20215574358435504, 0.9939398820141917, 0.2874151777367157, 0.17108046293852128, 0.06158896665786766, 0.020529655552622553, 0.3626905814296651, 0.08896184072803105, 0.00684321851754085, 0.9536277428106248, 0.870284463672178, 0.09160889091286085, 0.08418803428860043, 0.10102564114632051, 0.3367521371544017, 0.10102564114632051, 0.37884615429870194, 0.30130234219398055, 0.013100101834520893, 0.013100101834520893, 0.01965015275178134, 0.43230336053918944, 0.006550050917260446, 0.19650152751781338, 0.9352246152968796, 0.20187610815653434, 0.785073753942078, 0.9292094880315407, 0.04223679491052458, 0.24431156673956364, 0.631138214077206, 0.12215578336978182, 0.03277115477312428, 0.9175923336474798, 0.13039408952662385, 0.8149630595413991, 0.36547805683851364, 0.6272075039938363, 0.0047158458946904985, 0.9634867717405856, 0.8909383948564438, 0.9628774671208413, 0.09465871534468391, 0.776201465826408, 0.11359045841362068, 0.3621994355561137, 0.633849012223199, 0.989508183468847, 0.9628229672204278, 0.9677632453872844, 0.947799910622915, 0.9864123559077332, 0.06657080327882736, 0.13314160655765472, 0.7655642377065146, 0.9707316070600113, 0.14056116692868914, 0.42844847673450703, 0.09320633528961206, 0.023301583822403014, 0.027811567788029404, 0.05336814359324561, 0.03833486370782432, 0.15935276678546578, 0.03532820773074005, 0.000751663994271065, 0.24108860892633285, 0.7451829730450288, 0.9593047765822365, 0.9437384096561272, 0.9357120080445065, 0.953089360566747, 0.9699467111619043, 0.3186679416312478, 0.23052574500983883, 0.013560337941755226, 0.43393081413616724, 0.9828313226526574, 0.9562640429359993, 0.9867005758127224, 0.9460960536903414, 0.33333344847857205, 0.6500002245332155, 0.3006462056962847, 0.09918225342557845, 0.42152457705870844, 0.12087837136242374, 0.052690572132338555, 0.3202526513364819, 0.03941571093372085, 0.13302802440130787, 0.05419660253386617, 0.44342674800435955, 0.004926963866715106, 0.04527117641183597, 0.03994515565750233, 0.05858622829767009, 0.18641072640167755, 0.07722730093783783, 0.15046008630992544, 0.23434491319068035, 0.11317794102958993, 0.050597197166169616, 0.04527117641183597, 0.9724952880564056, 0.20056165112091268, 0.10028082556045634, 0.6914099025484094, 0.9827110318853881, 0.14747408661396386, 0.8356864908124618, 0.8727243117866325, 0.10909053897332906, 0.12090900065672604, 0.49786059093946017, 0.3342778253450661, 0.042673764937668016, 0.9667156697280542, 0.2600526983695842, 0.02826659764886785, 0.005653319529773569, 0.12437302965501854, 0.21199948236650887, 0.34202583155130095, 0.02543993788398106, 0.8677592595175307, 0.9682674818227894, 0.9049644751994336, 0.06135352374233448, 0.03067676187116724, 0.05789774279835207, 0.9263638847736331, 0.0995612857662359, 0.04978064288311795, 0.7964902861298871, 0.22342035802459143, 0.0124122421124773, 0.744734526748638, 0.9676571140935198, 0.12656724973338584, 0.01808103567619798, 0.6509172843431272, 0.19889139243817777, 0.967267627564603, 0.024310567182468285, 0.21879510464221455, 0.7536275826565167, 0.4975058518279077, 0.14600715216688595, 0.12437646295697692, 0.043261378419818065, 0.1784531859817495, 0.9487421507710486, 0.1754009983040551, 0.6723704934988778, 0.13642299868093175, 0.04602332395654301, 0.9204664791308602, 0.9211825899319277, 0.7299053225872549, 0.2638212009351524, 0.9371733858456043, 0.9706187255605047, 0.39144407270551496, 0.600214244815123, 0.47396865695501994, 0.5228314050947127, 0.9619403381822842, 0.024801204306631238, 0.014172116746646422, 0.007086058373323211, 0.20549569282637312, 0.09211875885320174, 0.5420834655592257, 0.08148967129321692, 0.03188726267995445, 0.621694640061914, 0.2621603903875541, 0.06741267181394249, 0.03745148434107916, 0.9318005296262871, 0.00721782704525195, 0.429460709192491, 0.5611860527683391, 0.001969465205400429, 0.7739998257223686, 0.009847326027002145, 0.09059539944841974, 0.11225951670782446, 0.011816791232402575, 0.9703861168203882, 0.08188505370752054, 0.24565516112256164, 0.6550804296601643, 0.9735124668916307, 0.1301075699320475, 0.20600365239240853, 0.10842297494337291, 0.04879033872451781, 0.12468642118487885, 0.01084229749433729, 0.36321696606029924, 0.785714853347503, 0.016314260183602592, 0.9788556110161556, 0.027550188644913428, 0.18497983804441873, 0.003935741234987633, 0.1810440968094311, 0.015742964939950532, 0.5864254440131572, 0.12632724687966368, 0.7649816616601856, 0.00935757384293805, 0.0023393934607345125, 0.09591513189011501, 0.9987722616805083, 0.9727815999887346, 0.15033649925336537, 0.006013459970134615, 0.19243071904430767, 0.5171575574315769, 0.1322961193429615, 0.01489164259808, 0.08748840026372, 0.05677438740518, 0.13216332805796, 0.56495169106466, 0.00186145532476, 0.03815983415758, 0.00093072766238, 0.10144931519942, 0.1860643722128398, 0.3044689727119197, 0.49899081638897946, 0.9184068375725704, 0.443499918530252, 0.013439391470613698, 0.5375756588245478, 0.9515752950623705, 0.3148834394324452, 0.3914767084835805, 0.2808419865208295, 0.9197638784008426, 0.006897738783747255, 0.006897738783747255, 0.14140364506681874, 0.49663719242980237, 0.3483358085792364, 0.06051231565845841, 0.9076847348768761, 0.11902965328914857, 0.8728841241204228, 0.9148305803897269, 0.6933475170683422, 0.07368910809421994, 0.0066990098267472676, 0.11053366214132991, 0.09713564248783538, 0.020097029480241804, 0.07665883949136783, 0.900741364023572, 0.9462000585275145, 0.04300909356943248, 0.865241208708671, 0.9061067377280725, 0.08237333979346113, 0.9152377697874007, 0.08320343361703643, 0.9723027319130643, 0.6558531802342803, 0.0012034003307051014, 0.15523864266095808, 0.004813601322820406, 0.024068006614102026, 0.15644204299166317, 0.18015671545247752, 0.10393656660719858, 0.5751156685598321, 0.01385820888095981, 0.12472387992863829, 0.959688063826482, 0.09981887834656618, 0.08650969456702402, 0.11312806212610835, 0.006654591889771079, 0.006654591889771079, 0.43920306472489123, 0.24621989992152993, 0.008355453746739518, 0.8940335509011285, 0.016710907493479036, 0.05848817622717663, 0.016710907493479036, 0.9410844457809071, 0.943036479665054, 0.7704079494787729, 0.20669481571381712, 0.9690552068172825, 0.24938082489413363, 0.011875277375911125, 0.011875277375911125, 0.570013314043734, 0.1425033285109335, 0.02375055475182225, 0.9804049357214811, 0.0024468943941618423, 0.8466254603799974, 0.04526754629199408, 0.004893788788323685, 0.09909922296355461, 0.9404899620068624, 0.126490401431259, 0.008432693428750599, 0.34574043057877457, 0.1096250145737578, 0.008432693428750599, 0.0758942408587554, 0.32044235029252277, 0.9610807816279842, 0.5908030934769292, 0.0010961096353931897, 0.0021922192707863795, 0.03288328906179569, 0.37377338566907764, 0.9774842537680855, 0.8777892109368041, 0.931438542133188, 0.046571927106659396, 0.9323465713600877, 0.3662883896095401, 0.6279229536163544, 0.11510582790953243, 0.28602054207823213, 0.5964574718948499, 0.03757403933849073, 0.9017769441237776, 0.10336948331769429, 0.4923651705395439, 0.08432773639075061, 0.3155489490750668, 0.9145804324363601, 0.09360783463538477, 0.1428751160224294, 0.10838801905149816, 0.009853456277408924, 0.23648295065781416, 0.2167760381029963, 0.11331474719020261, 0.07390092208056692, 0.052041157012880694, 0.4741527638951352, 0.27755283740203035, 0.002891175389604483, 0.017347052337626897, 0.008673526168813448, 0.05782350779208966, 0.07227938474011207, 0.034694104675253794, 0.05553790931470485, 0.9441444583499825, 0.3415062723019761, 0.0027032158757412357, 0.3342976966333328, 0.035141806384636064, 0.0450535979290206, 0.018021439171608238, 0.10272220327816696, 0.0009010719585804119, 0.11984257049119479, 0.4509089200986997, 0.04831167001057497, 0.4187011400916497, 0.08051945001762495, 0.95190730071138, 0.9285203371089393, 0.0663228812220671, 0.6663599536399355, 0.00829493718223986, 0.0055299581214932406, 0.32073757104660794, 0.04968541967803396, 0.9440229738826452, 0.982411094443005, 0.9186676251998593, 0.9690211388054656, 0.9542450612952659, 0.9560497526934916, 0.6108623824893152, 0.08983270330725224, 0.1122908791340653, 0.05839125714971395, 0.12576578463015314, 0.9850935109871248, 0.10951975510801018, 0.1673218480816822, 0.19470178685868475, 0.10343532426867627, 0.06388652381300594, 0.3589814195207, 0.9606969122405675, 0.9739265460334987, 0.06329132386938878, 0.1969063409269873, 0.007032369318820975, 0.12658264773877756, 0.007032369318820975, 0.3867803125351536, 0.21097107956462927, 0.23951031459637534, 0.7570236729206863, 0.05337701806022805, 0.9302851719068317, 0.007625288294318293, 0.9628825966612282, 0.007971299063994278, 0.6137900279275594, 0.1115981868959199, 0.2630528691118112, 0.9660414468588125, 0.1614624608938231, 0.8303783703110903, 0.963330201236497, 0.9689877653443844, 0.6113000472815944, 0.2552335248959234, 0.08822887280352908, 0.04411443640176454, 0.947900345336917, 0.20051303625026098, 0.7557799058663683, 0.030848159423117076, 0.06272591887765969, 0.8781628642872356, 0.03136295943882984, 0.46903072067649343, 0.041691619615688305, 0.4898765304843376, 0.0783259034618085, 0.8175266173826262, 0.012238422415907578, 0.03426758276454122, 0.007343053449544546, 0.0465060051804488, 0.046291163864181945, 0.3610710781406192, 0.009258232772836389, 0.009258232772836389, 0.046291163864181945, 0.5184610352788378, 0.009258232772836389, 0.9858605432364387, 0.9311331752825017, 0.02909791172757818, 0.021502172273166732, 0.9460955800193362, 0.9458214976313921, 0.9717110522958537, 0.9462828674197773, 0.8433663496124085, 0.09583708518322824, 0.038334834073291295, 0.7541224945795685, 0.1173079436012662, 0.004189569414330936, 0.11311837418693527, 0.008379138828661871, 0.004189569414330936, 0.6984766526366291, 0.27939066105465166, 0.01746191631591573, 0.9525896950304579, 0.28304559591038186, 0.0015382912821216407, 0.02615095179606789, 0.26612439180704384, 0.28919876103886843, 0.05230190359213578, 0.08152943795244695, 0.9770311688734367, 0.9522991324201392, 0.028008798012357033, 0.8523262251604894, 0.9110547084892388, 0.03718590646894852, 0.03718590646894852, 0.972242694640014, 0.09903620846842329, 0.8913258762158096, 0.90421068346232, 0.08011993397767393, 0.011445704853953418, 0.9624119228919605, 0.9616099556333826, 0.03393917490470762, 0.9352585816792102, 0.13084413732051553, 0.10467530985641242, 0.6106059741624058, 0.14829002229658425, 0.8140232095421562, 0.9430610626082502, 0.1641305812732259, 0.8206529063661295, 0.055990717438367775, 0.6475448190698185, 0.09980953978143821, 0.06329385449554617, 0.1314564670292113, 0.0024343790190594684, 0.9479030729808138, 0.947300907025923, 0.9368439141143322, 0.9469624541065558, 0.9783104035320145, 0.008186971377689907, 0.523966168172154, 0.016373942755379813, 0.15555245617610822, 0.07368274239920916, 0.22104822719762748, 0.9608850570226805, 0.6168377169493016, 0.2783957837558794, 0.09825733544325158, 0.922519915594178, 0.95856503095922, 0.9545256543296106, 0.9675375549137218, 0.9653375662243294, 0.22051646105538691, 0.7718076136938542, 0.004373481398870349, 0.6122873958418489, 0.28864977232544303, 0.08746962797740698, 0.45527146139233543, 0.373173329010111, 0.16419626476444885, 0.9084109777616912, 0.028095184879227564, 0.05619036975845513, 0.739629966879829, 0.007868403902976903, 0.2360521170893071, 0.09152818170159652, 0.8695177261651669, 0.05987540704315031, 0.010566248301732407, 0.05283124150866204, 0.024654579370708953, 0.57057740829355, 0.1267949796207889, 0.003522082767244136, 0.09157415194834753, 0.05987540704315031, 0.9544442290594605, 0.9623733227636205, 0.011594859310405065, 0.011594859310405065, 0.9090600908997402, 0.2844074262786568, 0.17883194228127663, 0.0064638051426967455, 0.10988468742584467, 0.004309203428464497, 0.12281229771123817, 0.2930258331355858, 0.01616533913485883, 0.003233067826971766, 0.6563127688752685, 0.3200737148702048, 0.09013222811130325, 0.8712782050759315, 0.49687491562942093, 0.49687491562942093, 0.22309994725490198, 0.23202394514509805, 0.05354398734117648, 0.1026259757372549, 0.040157990505882354, 0.17401795885882354, 0.1784799578039216, 0.05162463422400096, 0.8776187818080163, 0.9666580524562312, 0.9347431736830305, 0.03115810578943435, 0.9050556680994416, 0.06241763228272011, 0.03179657010497712, 0.8267108227294051, 0.12718628041990848, 0.006472221032925789, 0.7119443136218367, 0.2329999571853284, 0.019416663098777365, 0.019416663098777365, 0.8992740722273729, 0.09154286962793616, 0.042068818931715504, 0.9255140164977411, 0.9250653314628315, 0.8016248951410655, 0.19689032512236695, 0.42189106481937994, 0.008113289708065, 0.559816989856485, 0.9847791085459172, 0.9242026106297015, 0.9868413598139533, 0.8506213715592811, 0.13231888002033262, 0.2813328687212415, 0.48032441001187576, 0.013723554571767878, 0.013723554571767878, 0.006861777285883939, 0.19899154129063426, 0.9971374154064593, 0.9639245887242295, 0.03134714109672291, 0.9204606200327563, 0.9778492782245768, 0.3771020067468992, 0.10284600184006341, 0.006233091020609904, 0.3584027336850695, 0.15271073000494265, 0.7038301426069139, 0.1396488378188321, 0.15640669835709198, 0.32855544483377863, 0.013355912391617018, 0.5529347730129445, 0.04541010213149786, 0.058766014523114876, 0.9753484549605057, 0.9008144457543339, 0.9433266250763621, 0.9361145141193528, 0.1329739886036958, 0.09042231225051316, 0.7712491339014357, 0.9237730728651403, 0.1577196149194662, 0.27127773766148183, 0.018926353790335942, 0.06939663056456513, 0.46685006016161995, 0.012617569193557296, 0.9182008363537941, 0.3719369979888265, 0.22949304131225468, 0.38776410428622343, 0.007913553148698437, 0.0035486461563803947, 0.5453086260304539, 0.12775126162969422, 0.27206287198916357, 0.0023657641042535964, 0.0011828820521267982, 0.014194584625521579, 0.02602340514678956, 0.007097292312760789, 0.06360827208137501, 0.9223199451799377, 0.9512965098132955, 0.9218408229922509, 0.007886785579509293, 0.9858481974386617, 0.16693479400907016, 0.197286574737992, 0.13152438315866133, 0.22257972534542686, 0.28328328680327053, 0.9096630709871938, 0.11099734745037844, 0.8324801058778383, 0.9442013164275591, 0.9731254905785638, 0.9540121733770136, 0.023596283462334864, 0.36869192909898224, 0.044243031491877874, 0.04129349605908601, 0.519118236171367, 0.24428389192365924, 0.7472213164723694, 0.9556735880030084, 0.976490881548404, 0.9146425618981432, 0.9424157358894316, 0.9524355883342939, 0.006779324754281571, 0.010168987131422356, 0.16778828766846887, 0.0016948311885703927, 0.6203082150167637, 0.04406561090283021, 0.05592942922282296, 0.09321571537137159, 0.9667227833294958, 0.08114238478057034, 0.019092325830722436, 0.15751168810346008, 0.7398276259404943, 0.9486023166575589, 0.24979314143552692, 0.07685942813400828, 0.01921485703350207, 0.07685942813400828, 0.55723085397156, 0.035034705845428366, 0.5185136465123398, 0.17517352922714183, 0.14714576455079914, 0.11911799987445644, 0.9934069170098295, 0.9184777698020501, 0.9504922520474479, 0.9772163625751671, 0.9765967612212275, 0.12858162461488676, 0.3703150788908739, 0.12343835963029129, 0.16972774449165054, 0.07200570978433658, 0.1388681545840777, 0.04462688369048952, 0.9371645575002799, 0.9152689522165717, 0.9870635258898486, 0.01109060141449268, 0.3285004248815133, 0.14476289910032789, 0.5066701468511476, 0.02227121524620429, 0.9700916340786837, 0.00903979878889652, 0.2124352715390682, 0.40679094550034334, 0.11751738425565474, 0.23051486911686123, 0.01807959757779304, 0.9760681075871713, 0.38896410578783175, 0.5984063165966642, 0.9384600938559517, 0.9934234581166133, 0.0031840495452455553, 0.9763585419229414, 0.9475996218337983, 0.29739785960368625, 0.7010092404944034, 0.8958371088262184, 0.02083342113549345, 0.0416668422709869, 0.02083342113549345, 0.9329360866450433, 0.03887233694354347, 0.9609780977736845, 0.9098485382685215, 0.10985753158066429, 0.8422410754517596, 0.11800324290933654, 0.08260227003653559, 0.7906217274925549, 0.9776582413778911, 0.017088406267209852, 0.25632609400814776, 0.7177130632228137, 0.9599896626774145, 0.9724564173013235, 0.1562394591468102, 0.8332771154496544, 0.9668806201996014, 0.8957661162522647, 0.10070859715483273, 0.8056687772386618, 0.17768650445094902, 0.752410439537122, 0.05269323925097109, 0.004901696674508939, 0.0012254241686272347, 0.0012254241686272347, 0.007352545011763408, 0.0024508483372544694, 0.6878234948669039, 0.0031123235061850853, 0.018673941037110512, 0.09959435219792273, 0.03423555856803594, 0.05290949960514645, 0.10270667570410782, 0.9320076685502149, 0.9631366815562367, 0.017020295204818053, 0.9531365314698109, 0.034040590409636105, 0.9745242147823713, 0.17070504695290833, 0.8141317623907935], \"Term\": [\"abhi\", \"abl\", \"abl\", \"abl\", \"abl\", \"abl\", \"access\", \"accessori\", \"accord\", \"adapt\", \"addit\", \"address\", \"affect\", \"agre\", \"alot\", \"amaz\", \"amaz\", \"amaz\", \"amaz\", \"amaz\", \"amaz\", \"amazon\", \"amazon\", \"amazon\", \"amazon\", \"amazon\", \"amazon\", \"amazon\", \"amazon\", \"amazon\", \"android\", \"android\", \"annoy\", \"app\", \"app\", \"app\", \"app\", \"app\", \"app\", \"arrang\", \"arriv\", \"aspect\", \"asphalt\", \"assist\", \"atleast\", \"atmo\", \"atom\", \"attach\", \"attract\", \"audio\", \"audio\", \"audio\", \"automat\", \"automat\", \"automat\", \"automat\", \"automat\", \"avail\", \"avail\", \"avail\", \"avail\", \"averag\", \"averag\", \"averag\", \"averag\", \"averag\", \"averag\", \"averag\", \"averag\", \"averag\", \"awesom\", \"awesom\", \"awesom\", \"awesom\", \"awsm\", \"awsom\", \"backup\", \"backup\", \"backup\", \"backup\", \"backup\", \"backup\", \"bada\", \"bakwaa\", \"balanc\", \"bank\", \"base\", \"basic\", \"basic\", \"basic\", \"bass\", \"bateri\", \"beauti\", \"bekar\", \"believ\", \"best\", \"best\", \"better\", \"better\", \"better\", \"better\", \"better\", \"better\", \"better\", \"better\", \"bettri\", \"bilkul\", \"black\", \"block\", \"blow\", \"bluetooth\", \"bluetooth\", \"book\", \"bought\", \"bought\", \"bought\", \"bought\", \"bought\", \"brand\", \"brand\", \"brand\", \"brand\", \"brand\", \"bright\", \"bright\", \"broke\", \"broken\", \"broken\", \"brows\", \"budget\", \"budget\", \"budget\", \"build\", \"build\", \"build\", \"build\", \"button\", \"button\", \"call\", \"call\", \"call\", \"caller\", \"camara\", \"cameragood\", \"camra\", \"card\", \"card\", \"card\", \"card\", \"card\", \"card\", \"care\", \"care\", \"cash\", \"cashback\", \"cast\", \"cast\", \"cast\", \"catch\", \"categori\", \"cell\", \"cell\", \"cell\", \"cell\", \"cellphon\", \"center\", \"center\", \"centr\", \"centr\", \"chang\", \"chang\", \"chang\", \"chang\", \"chang\", \"chang\", \"charger\", \"charger\", \"charger\", \"charger\", \"check\", \"check\", \"check\", \"check\", \"china\", \"chines\", \"choic\", \"choos\", \"class\", \"class\", \"clear\", \"clear\", \"clear\", \"clear\", \"cleariti\", \"close\", \"close\", \"color\", \"color\", \"come\", \"come\", \"come\", \"come\", \"come\", \"come\", \"come\", \"come\", \"comfort\", \"comment\", \"compar\", \"compar\", \"compar\", \"compar\", \"compar\", \"compar\", \"concern\", \"condit\", \"condit\", \"condit\", \"condit\", \"condit\", \"connect\", \"connect\", \"connect\", \"connect\", \"connect\", \"contact\", \"contact\", \"contact\", \"continu\", \"continu\", \"convinc\", \"cool\", \"cool\", \"cool\", \"cool\", \"copi\", \"copi\", \"core\", \"crack\", \"curv\", \"custom\", \"custom\", \"custom\", \"damag\", \"dark\", \"data\", \"data\", \"data\", \"data\", \"data\", \"day\", \"day\", \"day\", \"day\", \"day\", \"day\", \"day\", \"dead\", \"deca\", \"decent\", \"decent\", \"decent\", \"deep\", \"defect\", \"defect\", \"defect\", \"defect\", \"defect\", \"defect\", \"delet\", \"deliv\", \"deliveri\", \"deliveri\", \"deliveri\", \"deliveri\", \"depart\", \"depth\", \"depth\", \"depth\", \"depth\", \"depth\", \"develop\", \"devic\", \"devic\", \"devic\", \"devic\", \"devic\", \"devic\", \"devic\", \"dial\", \"didnt\", \"difficult\", \"difficult\", \"difficulti\", \"direct\", \"disappoint\", \"disappoint\", \"disappoint\", \"disappoint\", \"disappoint\", \"disappoint\", \"disappoint\", \"disappoint\", \"discharg\", \"discharg\", \"discharg\", \"display\", \"display\", \"display\", \"display\", \"display\", \"display\", \"display\", \"display\", \"dissatisfi\", \"distort\", \"diya\", \"dolbi\", \"dolbi\", \"dolbi\", \"dolbi\", \"dont\", \"dont\", \"dont\", \"dont\", \"download\", \"download\", \"drain\", \"drain\", \"drain\", \"drawback\", \"drawback\", \"dual\", \"dual\", \"dual\", \"dual\", \"dual\", \"dual\", \"dull\", \"duplic\", \"duti\", \"earn\", \"earphon\", \"earphon\", \"earphon\", \"earphon\", \"earphon\", \"earpiec\", \"easi\", \"easili\", \"easili\", \"edg\", \"effect\", \"effect\", \"effect\", \"effect\", \"effect\", \"eleg\", \"email\", \"enjoy\", \"especi\", \"excel\", \"excel\", \"exchang\", \"exchang\", \"expect\", \"expect\", \"expect\", \"expect\", \"expect\", \"expect\", \"expect\", \"experi\", \"experi\", \"experi\", \"experi\", \"experi\", \"experi\", \"experi\", \"explor\", \"express\", \"fabul\", \"face\", \"face\", \"face\", \"face\", \"face\", \"facil\", \"facil\", \"fair\", \"fake\", \"fantast\", \"fast\", \"fast\", \"fast\", \"fast\", \"fast\", \"fast\", \"faster\", \"featur\", \"featur\", \"featur\", \"featur\", \"featur\", \"featur\", \"featur\", \"featur\", \"featur\", \"feel\", \"feel\", \"feel\", \"feel\", \"feel\", \"feel\", \"feel\", \"feel\", \"fell\", \"fill\", \"fine\", \"fine\", \"fine\", \"fine\", \"fine\", \"finger\", \"finger\", \"fingerprint\", \"fingerprint\", \"flash\", \"flash\", \"flash\", \"flash\", \"focus\", \"focus\", \"fone\", \"fool\", \"fraud\", \"frequent\", \"frequent\", \"fulfil\", \"fulli\", \"fulli\", \"function\", \"function\", \"function\", \"function\", \"function\", \"gadget\", \"galleri\", \"galleri\", \"galleri\", \"game\", \"game\", \"game\", \"game\", \"game\", \"game\", \"game\", \"gaya\", \"generat\", \"generat\", \"genuin\", \"get\", \"get\", \"get\", \"get\", \"get\", \"get\", \"get\", \"ghatiya\", \"give\", \"give\", \"give\", \"give\", \"give\", \"give\", \"give\", \"given\", \"given\", \"given\", \"given\", \"given\", \"glass\", \"glass\", \"glass\", \"go\", \"go\", \"go\", \"go\", \"go\", \"googl\", \"googl\", \"googl\", \"gorilla\", \"gorilla\", \"gorilla\", \"great\", \"great\", \"great\", \"great\", \"great\", \"group\", \"guess\", \"hand\", \"hand\", \"hand\", \"handset\", \"handset\", \"handset\", \"handset\", \"hang\", \"hang\", \"hang\", \"hang\", \"hang\", \"hang\", \"hang\", \"happi\", \"happi\", \"hard\", \"hard\", \"hard\", \"hard\", \"hardwar\", \"hardwar\", \"have\", \"have\", \"have\", \"have\", \"have\", \"have\", \"have\", \"head\", \"head\", \"head\", \"headphon\", \"headphon\", \"headset\", \"heavi\", \"heavi\", \"heavi\", \"heavi\", \"heavi\", \"heavi\", \"heavi\", \"height\", \"helio\", \"helio\", \"help\", \"help\", \"help\", \"help\", \"help\", \"high\", \"high\", \"high\", \"high\", \"high\", \"high\", \"high\", \"higher\", \"hold\", \"hold\", \"home\", \"home\", \"hope\", \"hope\", \"hope\", \"horribl\", \"horribl\", \"hotspot\", \"hotspot\", \"hour\", \"hour\", \"hour\", \"huge\", \"hurt\", \"icon\", \"idl\", \"idl\", \"idl\", \"improv\", \"improv\", \"incom\", \"increas\", \"insid\", \"intens\", \"invoic\", \"irrit\", \"irrit\", \"irrit\", \"ism\", \"issu\", \"issu\", \"issu\", \"issu\", \"issu\", \"issu\", \"issu\", \"issu\", \"issu\", \"issu\", \"jack\", \"jack\", \"jata\", \"jyada\", \"key\", \"kharab\", \"kill\", \"killer\", \"killer\", \"killer\", \"killer\", \"kiya\", \"kuch\", \"left\", \"lenevo\", \"lenova\", \"lenova\", \"life\", \"life\", \"life\", \"life\", \"life\", \"light\", \"light\", \"light\", \"light\", \"light\", \"light\", \"like\", \"like\", \"like\", \"like\", \"like\", \"like\", \"like\", \"like\", \"like\", \"like\", \"list\", \"littl\", \"littl\", \"littl\", \"liy\", \"locat\", \"locat\", \"lock\", \"lock\", \"long\", \"long\", \"long\", \"long\", \"longer\", \"look\", \"look\", \"look\", \"look\", \"look\", \"look\", \"look\", \"loos\", \"lose\", \"love\", \"love\", \"love\", \"lower\", \"lower\", \"mail\", \"mail\", \"mail\", \"main\", \"main\", \"main\", \"maintain\", \"make\", \"make\", \"make\", \"make\", \"manual\", \"manufactur\", \"manufactur\", \"manufactur\", \"mark\", \"mark\", \"mark\", \"mark\", \"mark\", \"mast\", \"mention\", \"mention\", \"mention\", \"mera\", \"mera\", \"mere\", \"messag\", \"messag\", \"metal\", \"minor\", \"minut\", \"minut\", \"miss\", \"miss\", \"mobail\", \"mode\", \"mode\", \"mode\", \"mode\", \"mode\", \"mode\", \"mode\", \"mode\", \"model\", \"model\", \"model\", \"model\", \"moder\", \"money\", \"money\", \"money\", \"month\", \"month\", \"month\", \"month\", \"month\", \"month\", \"motion\", \"moto\", \"moto\", \"moto\", \"motorola\", \"music\", \"music\", \"music\", \"music\", \"music\", \"music\", \"music\", \"mute\", \"nahi\", \"nahi\", \"need\", \"need\", \"need\", \"need\", \"need\", \"need\", \"network\", \"network\", \"network\", \"network\", \"network\", \"nice\", \"night\", \"normal\", \"normal\", \"normal\", \"normal\", \"normal\", \"note\", \"note\", \"note\", \"note\", \"note\", \"note\", \"note\", \"note\", \"note\", \"notif\", \"notif\", \"notif\", \"novemb\", \"number\", \"number\", \"number\", \"octob\", \"open\", \"open\", \"open\", \"optim\", \"option\", \"option\", \"option\", \"option\", \"option\", \"order\", \"order\", \"oreo\", \"oreo\", \"outgo\", \"overal\", \"overal\", \"overal\", \"overal\", \"overal\", \"overal\", \"pack\", \"pack\", \"packag\", \"packag\", \"pain\", \"paper\", \"paper\", \"percent\", \"percent\", \"percentag\", \"perform\", \"perform\", \"perform\", \"perform\", \"perform\", \"perform\", \"photo\", \"photo\", \"photo\", \"photo\", \"photo\", \"pickup\", \"pictur\", \"pictur\", \"pictur\", \"pictur\", \"pictur\", \"pictur\", \"pictur\", \"piec\", \"piec\", \"piec\", \"piec\", \"piec\", \"pixel\", \"plan\", \"player\", \"player\", \"plug\", \"plus\", \"plus\", \"plus\", \"plus\", \"plus\", \"plus\", \"polici\", \"poor\", \"poor\", \"poor\", \"poor\", \"poor\", \"posit\", \"power\", \"power\", \"power\", \"power\", \"power\", \"power\", \"power\", \"premium\", \"price\", \"price\", \"price\", \"price\", \"price\", \"print\", \"prise\", \"pro\", \"pro\", \"probabl\", \"process\", \"process\", \"processor\", \"processor\", \"processor\", \"promis\", \"promis\", \"proper\", \"proper\", \"proper\", \"proper\", \"prove\", \"provid\", \"provid\", \"provid\", \"provid\", \"provid\", \"provid\", \"provid\", \"provid\", \"purchas\", \"purchas\", \"purchas\", \"purchas\", \"purchas\", \"purchas\", \"purchas\", \"purchas\", \"purchas\", \"purpos\", \"purpos\", \"qualiti\", \"qualiti\", \"qualiti\", \"qualiti\", \"qualiti\", \"qualiti\", \"qualiti\", \"qualiti\", \"qualiti\", \"quick\", \"quick\", \"quick\", \"quick\", \"raha\", \"rais\", \"rais\", \"rang\", \"rang\", \"rang\", \"rang\", \"rapid\", \"rapid\", \"reach\", \"reachabl\", \"read\", \"real\", \"realiti\", \"rear\", \"rear\", \"rear\", \"rear\", \"rear\", \"reboot\", \"receiv\", \"receiv\", \"receiv\", \"receiv\", \"receiv\", \"receiv\", \"recept\", \"reciev\", \"recommend\", \"recommend\", \"recommend\", \"recommend\", \"recommend\", \"recommend\", \"recommend\", \"record\", \"record\", \"redmi\", \"redmi\", \"redmi\", \"reduc\", \"refund\", \"refund\", \"refund\", \"refund\", \"relat\", \"remain\", \"remain\", \"repair\", \"repeat\", \"replac\", \"replac\", \"replac\", \"replac\", \"reput\", \"request\", \"request\", \"request\", \"respons\", \"respons\", \"respons\", \"restart\", \"restart\", \"restart\", \"return\", \"return\", \"return\", \"return\", \"return\", \"return\", \"review\", \"review\", \"review\", \"review\", \"review\", \"review\", \"review\", \"right\", \"ring\", \"ring\", \"rington\", \"rington\", \"rock\", \"rough\", \"round\", \"sale\", \"sale\", \"sale\", \"satisfi\", \"satisfi\", \"satisfi\", \"satisfi\", \"satisfi\", \"satisfi\", \"save\", \"save\", \"save\", \"scanner\", \"screen\", \"screen\", \"screen\", \"screen\", \"screen\", \"screen\", \"screen\", \"screenshot\", \"search\", \"search\", \"see\", \"seen\", \"seen\", \"seen\", \"segment\", \"select\", \"select\", \"selfi\", \"selfi\", \"selfi\", \"sell\", \"send\", \"send\", \"sens\", \"sensor\", \"sensor\", \"sensor\", \"sensor\", \"sent\", \"separ\", \"seri\", \"seri\", \"servic\", \"servic\", \"servic\", \"servic\", \"servic\", \"servic\", \"sever\", \"sharp\", \"shock\", \"shortcut\", \"shot\", \"show\", \"show\", \"show\", \"show\", \"show\", \"show\", \"shown\", \"signal\", \"signal\", \"signal\", \"silent\", \"sim\", \"site\", \"slim\", \"slip\", \"slot\", \"slot\", \"slow\", \"slow\", \"slow\", \"slow\", \"smart\", \"smart\", \"smart\", \"smartphon\", \"smartphon\", \"smartphon\", \"smooth\", \"smooth\", \"smooth\", \"soft\", \"soft\", \"softwar\", \"softwar\", \"softwar\", \"softwar\", \"softwar\", \"softwar\", \"softwar\", \"softwar\", \"softwar\", \"song\", \"soon\", \"soon\", \"soon\", \"sorri\", \"sound\", \"sound\", \"sound\", \"sound\", \"sound\", \"sound\", \"sound\", \"speaker\", \"speaker\", \"speaker\", \"speaker\", \"spec\", \"spec\", \"specif\", \"specif\", \"speed\", \"speed\", \"speed\", \"speed\", \"speed\", \"speed\", \"speed\", \"spend\", \"spend\", \"spent\", \"split\", \"split\", \"standard\", \"standard\", \"standbi\", \"standbi\", \"standbi\", \"star\", \"star\", \"star\", \"star\", \"star\", \"start\", \"start\", \"stay\", \"stay\", \"stick\", \"stock\", \"stock\", \"stop\", \"stop\", \"stop\", \"storag\", \"struggl\", \"suck\", \"sudden\", \"sudden\", \"suggest\", \"suggest\", \"suggest\", \"suggest\", \"suggest\", \"suggest\", \"super\", \"superb\", \"superb\", \"superfast\", \"suppli\", \"support\", \"support\", \"support\", \"support\", \"support\", \"switch\", \"switch\", \"switch\", \"take\", \"take\", \"take\", \"take\", \"take\", \"technic\", \"technician\", \"temperatur\", \"text\", \"thank\", \"thank\", \"thank\", \"thik\", \"think\", \"think\", \"think\", \"think\", \"think\", \"think\", \"thumb\", \"till\", \"till\", \"till\", \"till\", \"time\", \"time\", \"time\", \"time\", \"time\", \"time\", \"time\", \"time\", \"time\", \"today\", \"today\", \"tone\", \"tool\", \"total\", \"total\", \"touch\", \"touch\", \"touch\", \"touch\", \"touch\", \"track\", \"transfer\", \"transfer\", \"troubl\", \"true\", \"trust\", \"turbo\", \"turbo\", \"turbo\", \"turbo\", \"turbo\", \"turn\", \"turn\", \"twice\", \"unfortun\", \"uniqu\", \"unlock\", \"unread\", \"updat\", \"updat\", \"updat\", \"updat\", \"updat\", \"updat\", \"updat\", \"updat\", \"upload\", \"usag\", \"usag\", \"usag\", \"usag\", \"use\", \"useless\", \"useless\", \"useless\", \"useless\", \"useless\", \"user\", \"user\", \"user\", \"user\", \"user\", \"valu\", \"vari\", \"venom\", \"version\", \"vibe\", \"video\", \"video\", \"video\", \"video\", \"video\", \"video\", \"view\", \"view\", \"vodafon\", \"voic\", \"voic\", \"volta\", \"volta\", \"volta\", \"volta\", \"volum\", \"want\", \"want\", \"want\", \"want\", \"want\", \"want\", \"warm\", \"warranti\", \"warranti\", \"wasool\", \"wast\", \"wast\", \"wastag\", \"water\", \"weak\", \"weak\", \"weight\", \"weight\", \"weight\", \"weight\", \"went\", \"went\", \"west\", \"what\", \"wide\", \"wide\", \"wifi\", \"wifi\", \"wifi\", \"wire\", \"wise\", \"wise\", \"wise\", \"wish\", \"wonder\", \"wont\", \"wont\", \"worest\", \"world\", \"worri\", \"worri\", \"worst\", \"worst\", \"worst\", \"worst\", \"worst\", \"worst\", \"worst\", \"worst\", \"worth\", \"worth\", \"worth\", \"worth\", \"worth\", \"worth\", \"worth\", \"written\", \"wrost\", \"year\", \"year\", \"year\", \"yellow\", \"zoom\", \"zoom\"]}, \"R\": 30, \"lambda.step\": 0.01, \"plot.opts\": {\"xlab\": \"PC1\", \"ylab\": \"PC2\"}, \"topic.order\": [1, 2, 3, 4, 10, 6, 5, 7, 8, 9]};\n",
              "\n",
              "function LDAvis_load_lib(url, callback){\n",
              "  var s = document.createElement('script');\n",
              "  s.src = url;\n",
              "  s.async = true;\n",
              "  s.onreadystatechange = s.onload = callback;\n",
              "  s.onerror = function(){console.warn(\"failed to load library \" + url);};\n",
              "  document.getElementsByTagName(\"head\")[0].appendChild(s);\n",
              "}\n",
              "\n",
              "if(typeof(LDAvis) !== \"undefined\"){\n",
              "   // already loaded: just create the visualization\n",
              "   !function(LDAvis){\n",
              "       new LDAvis(\"#\" + \"ldavis_el17131383071564711203726871903\", ldavis_el17131383071564711203726871903_data);\n",
              "   }(LDAvis);\n",
              "}else if(typeof define === \"function\" && define.amd){\n",
              "   // require.js is available: use it to load d3/LDAvis\n",
              "   require.config({paths: {d3: \"https://d3js.org/d3.v5\"}});\n",
              "   require([\"d3\"], function(d3){\n",
              "      window.d3 = d3;\n",
              "      LDAvis_load_lib(\"https://cdn.jsdelivr.net/gh/bmabey/pyLDAvis@3.4.0/pyLDAvis/js/ldavis.v3.0.0.js\", function(){\n",
              "        new LDAvis(\"#\" + \"ldavis_el17131383071564711203726871903\", ldavis_el17131383071564711203726871903_data);\n",
              "      });\n",
              "    });\n",
              "}else{\n",
              "    // require.js not available: dynamically load d3 & LDAvis\n",
              "    LDAvis_load_lib(\"https://d3js.org/d3.v5.js\", function(){\n",
              "         LDAvis_load_lib(\"https://cdn.jsdelivr.net/gh/bmabey/pyLDAvis@3.4.0/pyLDAvis/js/ldavis.v3.0.0.js\", function(){\n",
              "                 new LDAvis(\"#\" + \"ldavis_el17131383071564711203726871903\", ldavis_el17131383071564711203726871903_data);\n",
              "            })\n",
              "         });\n",
              "}\n",
              "</script>"
            ]
          },
          "metadata": {},
          "execution_count": 65
        }
      ]
    },
    {
      "cell_type": "markdown",
      "source": [
        "# Apply BERTOPIC"
      ],
      "metadata": {
        "id": "piG9lfpyhpcT"
      }
    },
    {
      "cell_type": "code",
      "source": [
        "import warnings\n",
        "warnings.filterwarnings(\"ignore\")"
      ],
      "metadata": {
        "id": "X4yeqieHhvPw",
        "colab": {
          "base_uri": "https://localhost:8080/"
        },
        "outputId": "b0545031-4e47-4b5c-a90c-26a7afaa23d0"
      },
      "execution_count": 50,
      "outputs": [
        {
          "output_type": "stream",
          "name": "stderr",
          "text": [
            "/usr/local/lib/python3.10/dist-packages/ipykernel/ipkernel.py:283: DeprecationWarning: `should_run_async` will not call `transform_cell` automatically in the future. Please pass the result to `transformed_cell` argument and any exception that happen during thetransform in `preprocessing_exc_tuple` in IPython 7.17 and above.\n",
            "  and should_run_async(code)\n"
          ]
        }
      ]
    },
    {
      "cell_type": "code",
      "source": [
        "!pip install bertopic"
      ],
      "metadata": {
        "id": "z2pjPIKkkMDL",
        "colab": {
          "base_uri": "https://localhost:8080/"
        },
        "outputId": "2f1c2c32-3a00-49bf-b1bf-b0d2365d7c71"
      },
      "execution_count": 51,
      "outputs": [
        {
          "output_type": "stream",
          "name": "stdout",
          "text": [
            "Collecting bertopic\n",
            "  Downloading bertopic-0.16.0-py2.py3-none-any.whl (154 kB)\n",
            "\u001b[?25l     \u001b[90m━━━━━━━━━━━━━━━━━━━━━━━━━━━━━━━━━━━━━━━━\u001b[0m \u001b[32m0.0/154.1 kB\u001b[0m \u001b[31m?\u001b[0m eta \u001b[36m-:--:--\u001b[0m\r\u001b[2K     \u001b[91m━━━━━━━━━━━━━━━━━━\u001b[0m\u001b[91m╸\u001b[0m\u001b[90m━━━━━━━━━━━━━━━━━━━━━\u001b[0m \u001b[32m71.7/154.1 kB\u001b[0m \u001b[31m2.0 MB/s\u001b[0m eta \u001b[36m0:00:01\u001b[0m\r\u001b[2K     \u001b[90m━━━━━━━━━━━━━━━━━━━━━━━━━━━━━━━━━━━━━━━━\u001b[0m \u001b[32m154.1/154.1 kB\u001b[0m \u001b[31m2.9 MB/s\u001b[0m eta \u001b[36m0:00:00\u001b[0m\n",
            "\u001b[?25hRequirement already satisfied: numpy>=1.20.0 in /usr/local/lib/python3.10/dist-packages (from bertopic) (1.26.2)\n",
            "Collecting hdbscan>=0.8.29 (from bertopic)\n",
            "  Downloading hdbscan-0.8.33.tar.gz (5.2 MB)\n",
            "\u001b[2K     \u001b[90m━━━━━━━━━━━━━━━━━━━━━━━━━━━━━━━━━━━━━━━━\u001b[0m \u001b[32m5.2/5.2 MB\u001b[0m \u001b[31m54.6 MB/s\u001b[0m eta \u001b[36m0:00:00\u001b[0m\n",
            "\u001b[?25h  Installing build dependencies ... \u001b[?25l\u001b[?25hdone\n",
            "  Getting requirements to build wheel ... \u001b[?25l\u001b[?25hdone\n",
            "  Preparing metadata (pyproject.toml) ... \u001b[?25l\u001b[?25hdone\n",
            "Collecting umap-learn>=0.5.0 (from bertopic)\n",
            "  Downloading umap-learn-0.5.5.tar.gz (90 kB)\n",
            "\u001b[2K     \u001b[90m━━━━━━━━━━━━━━━━━━━━━━━━━━━━━━━━━━━━━━━━\u001b[0m \u001b[32m90.9/90.9 kB\u001b[0m \u001b[31m12.9 MB/s\u001b[0m eta \u001b[36m0:00:00\u001b[0m\n",
            "\u001b[?25h  Preparing metadata (setup.py) ... \u001b[?25l\u001b[?25hdone\n",
            "Requirement already satisfied: pandas>=1.1.5 in /usr/local/lib/python3.10/dist-packages (from bertopic) (2.1.4)\n",
            "Requirement already satisfied: scikit-learn>=0.22.2.post1 in /usr/local/lib/python3.10/dist-packages (from bertopic) (1.2.2)\n",
            "Requirement already satisfied: tqdm>=4.41.1 in /usr/local/lib/python3.10/dist-packages (from bertopic) (4.66.1)\n",
            "Collecting sentence-transformers>=0.4.1 (from bertopic)\n",
            "  Downloading sentence-transformers-2.2.2.tar.gz (85 kB)\n",
            "\u001b[2K     \u001b[90m━━━━━━━━━━━━━━━━━━━━━━━━━━━━━━━━━━━━━━━━\u001b[0m \u001b[32m86.0/86.0 kB\u001b[0m \u001b[31m13.3 MB/s\u001b[0m eta \u001b[36m0:00:00\u001b[0m\n",
            "\u001b[?25h  Preparing metadata (setup.py) ... \u001b[?25l\u001b[?25hdone\n",
            "Requirement already satisfied: plotly>=4.7.0 in /usr/local/lib/python3.10/dist-packages (from bertopic) (5.15.0)\n",
            "Collecting cython<3,>=0.27 (from hdbscan>=0.8.29->bertopic)\n",
            "  Using cached Cython-0.29.37-cp310-cp310-manylinux_2_17_x86_64.manylinux2014_x86_64.manylinux_2_24_x86_64.whl (1.9 MB)\n",
            "Requirement already satisfied: scipy>=1.0 in /usr/local/lib/python3.10/dist-packages (from hdbscan>=0.8.29->bertopic) (1.11.4)\n",
            "Requirement already satisfied: joblib>=1.0 in /usr/local/lib/python3.10/dist-packages (from hdbscan>=0.8.29->bertopic) (1.3.2)\n",
            "Requirement already satisfied: python-dateutil>=2.8.2 in /usr/local/lib/python3.10/dist-packages (from pandas>=1.1.5->bertopic) (2.8.2)\n",
            "Requirement already satisfied: pytz>=2020.1 in /usr/local/lib/python3.10/dist-packages (from pandas>=1.1.5->bertopic) (2023.3.post1)\n",
            "Requirement already satisfied: tzdata>=2022.1 in /usr/local/lib/python3.10/dist-packages (from pandas>=1.1.5->bertopic) (2023.3)\n",
            "Requirement already satisfied: tenacity>=6.2.0 in /usr/local/lib/python3.10/dist-packages (from plotly>=4.7.0->bertopic) (8.2.3)\n",
            "Requirement already satisfied: packaging in /usr/local/lib/python3.10/dist-packages (from plotly>=4.7.0->bertopic) (23.2)\n",
            "Requirement already satisfied: threadpoolctl>=2.0.0 in /usr/local/lib/python3.10/dist-packages (from scikit-learn>=0.22.2.post1->bertopic) (3.2.0)\n",
            "Requirement already satisfied: transformers<5.0.0,>=4.6.0 in /usr/local/lib/python3.10/dist-packages (from sentence-transformers>=0.4.1->bertopic) (4.35.2)\n",
            "Requirement already satisfied: torch>=1.6.0 in /usr/local/lib/python3.10/dist-packages (from sentence-transformers>=0.4.1->bertopic) (2.1.0+cu121)\n",
            "Requirement already satisfied: torchvision in /usr/local/lib/python3.10/dist-packages (from sentence-transformers>=0.4.1->bertopic) (0.16.0+cu121)\n",
            "Requirement already satisfied: nltk in /usr/local/lib/python3.10/dist-packages (from sentence-transformers>=0.4.1->bertopic) (3.8.1)\n",
            "Collecting sentencepiece (from sentence-transformers>=0.4.1->bertopic)\n",
            "  Downloading sentencepiece-0.1.99-cp310-cp310-manylinux_2_17_x86_64.manylinux2014_x86_64.whl (1.3 MB)\n",
            "\u001b[2K     \u001b[90m━━━━━━━━━━━━━━━━━━━━━━━━━━━━━━━━━━━━━━━━\u001b[0m \u001b[32m1.3/1.3 MB\u001b[0m \u001b[31m74.1 MB/s\u001b[0m eta \u001b[36m0:00:00\u001b[0m\n",
            "\u001b[?25hRequirement already satisfied: huggingface-hub>=0.4.0 in /usr/local/lib/python3.10/dist-packages (from sentence-transformers>=0.4.1->bertopic) (0.19.4)\n",
            "Requirement already satisfied: numba>=0.51.2 in /usr/local/lib/python3.10/dist-packages (from umap-learn>=0.5.0->bertopic) (0.58.1)\n",
            "Collecting pynndescent>=0.5 (from umap-learn>=0.5.0->bertopic)\n",
            "  Downloading pynndescent-0.5.11-py3-none-any.whl (55 kB)\n",
            "\u001b[2K     \u001b[90m━━━━━━━━━━━━━━━━━━━━━━━━━━━━━━━━━━━━━━━━\u001b[0m \u001b[32m55.8/55.8 kB\u001b[0m \u001b[31m7.5 MB/s\u001b[0m eta \u001b[36m0:00:00\u001b[0m\n",
            "\u001b[?25hRequirement already satisfied: filelock in /usr/local/lib/python3.10/dist-packages (from huggingface-hub>=0.4.0->sentence-transformers>=0.4.1->bertopic) (3.13.1)\n",
            "Requirement already satisfied: fsspec>=2023.5.0 in /usr/local/lib/python3.10/dist-packages (from huggingface-hub>=0.4.0->sentence-transformers>=0.4.1->bertopic) (2023.6.0)\n",
            "Requirement already satisfied: requests in /usr/local/lib/python3.10/dist-packages (from huggingface-hub>=0.4.0->sentence-transformers>=0.4.1->bertopic) (2.31.0)\n",
            "Requirement already satisfied: pyyaml>=5.1 in /usr/local/lib/python3.10/dist-packages (from huggingface-hub>=0.4.0->sentence-transformers>=0.4.1->bertopic) (6.0.1)\n",
            "Requirement already satisfied: typing-extensions>=3.7.4.3 in /usr/local/lib/python3.10/dist-packages (from huggingface-hub>=0.4.0->sentence-transformers>=0.4.1->bertopic) (4.5.0)\n",
            "Requirement already satisfied: llvmlite<0.42,>=0.41.0dev0 in /usr/local/lib/python3.10/dist-packages (from numba>=0.51.2->umap-learn>=0.5.0->bertopic) (0.41.1)\n",
            "Requirement already satisfied: six>=1.5 in /usr/local/lib/python3.10/dist-packages (from python-dateutil>=2.8.2->pandas>=1.1.5->bertopic) (1.16.0)\n",
            "Requirement already satisfied: sympy in /usr/local/lib/python3.10/dist-packages (from torch>=1.6.0->sentence-transformers>=0.4.1->bertopic) (1.12)\n",
            "Requirement already satisfied: networkx in /usr/local/lib/python3.10/dist-packages (from torch>=1.6.0->sentence-transformers>=0.4.1->bertopic) (3.2.1)\n",
            "Requirement already satisfied: jinja2 in /usr/local/lib/python3.10/dist-packages (from torch>=1.6.0->sentence-transformers>=0.4.1->bertopic) (3.1.2)\n",
            "Requirement already satisfied: triton==2.1.0 in /usr/local/lib/python3.10/dist-packages (from torch>=1.6.0->sentence-transformers>=0.4.1->bertopic) (2.1.0)\n",
            "Requirement already satisfied: regex!=2019.12.17 in /usr/local/lib/python3.10/dist-packages (from transformers<5.0.0,>=4.6.0->sentence-transformers>=0.4.1->bertopic) (2023.6.3)\n",
            "Requirement already satisfied: tokenizers<0.19,>=0.14 in /usr/local/lib/python3.10/dist-packages (from transformers<5.0.0,>=4.6.0->sentence-transformers>=0.4.1->bertopic) (0.15.0)\n",
            "Requirement already satisfied: safetensors>=0.3.1 in /usr/local/lib/python3.10/dist-packages (from transformers<5.0.0,>=4.6.0->sentence-transformers>=0.4.1->bertopic) (0.4.1)\n",
            "Requirement already satisfied: click in /usr/local/lib/python3.10/dist-packages (from nltk->sentence-transformers>=0.4.1->bertopic) (8.1.7)\n",
            "Requirement already satisfied: pillow!=8.3.*,>=5.3.0 in /usr/local/lib/python3.10/dist-packages (from torchvision->sentence-transformers>=0.4.1->bertopic) (9.4.0)\n",
            "Requirement already satisfied: MarkupSafe>=2.0 in /usr/local/lib/python3.10/dist-packages (from jinja2->torch>=1.6.0->sentence-transformers>=0.4.1->bertopic) (2.1.3)\n",
            "Requirement already satisfied: charset-normalizer<4,>=2 in /usr/local/lib/python3.10/dist-packages (from requests->huggingface-hub>=0.4.0->sentence-transformers>=0.4.1->bertopic) (3.3.2)\n",
            "Requirement already satisfied: idna<4,>=2.5 in /usr/local/lib/python3.10/dist-packages (from requests->huggingface-hub>=0.4.0->sentence-transformers>=0.4.1->bertopic) (3.6)\n",
            "Requirement already satisfied: urllib3<3,>=1.21.1 in /usr/local/lib/python3.10/dist-packages (from requests->huggingface-hub>=0.4.0->sentence-transformers>=0.4.1->bertopic) (2.0.7)\n",
            "Requirement already satisfied: certifi>=2017.4.17 in /usr/local/lib/python3.10/dist-packages (from requests->huggingface-hub>=0.4.0->sentence-transformers>=0.4.1->bertopic) (2023.11.17)\n",
            "Requirement already satisfied: mpmath>=0.19 in /usr/local/lib/python3.10/dist-packages (from sympy->torch>=1.6.0->sentence-transformers>=0.4.1->bertopic) (1.3.0)\n",
            "Building wheels for collected packages: hdbscan, sentence-transformers, umap-learn\n",
            "  Building wheel for hdbscan (pyproject.toml) ... \u001b[?25l\u001b[?25hdone\n",
            "  Created wheel for hdbscan: filename=hdbscan-0.8.33-cp310-cp310-linux_x86_64.whl size=3039295 sha256=35e4b71a91dc72d2f3a03963dce32e1aef14907bebfe80ed7f0f29bf28bfd06f\n",
            "  Stored in directory: /root/.cache/pip/wheels/75/0b/3b/dc4f60b7cc455efaefb62883a7483e76f09d06ca81cf87d610\n",
            "  Building wheel for sentence-transformers (setup.py) ... \u001b[?25l\u001b[?25hdone\n",
            "  Created wheel for sentence-transformers: filename=sentence_transformers-2.2.2-py3-none-any.whl size=125923 sha256=ceef9b5b54afb7c891d81837d2949cf8106a2dd9fd6a26a85232974280043cc7\n",
            "  Stored in directory: /root/.cache/pip/wheels/62/f2/10/1e606fd5f02395388f74e7462910fe851042f97238cbbd902f\n",
            "  Building wheel for umap-learn (setup.py) ... \u001b[?25l\u001b[?25hdone\n",
            "  Created wheel for umap-learn: filename=umap_learn-0.5.5-py3-none-any.whl size=86832 sha256=83b9457afb4b8f3876aaeae80821273d858db047ce44d3c3d22b029fd7690b48\n",
            "  Stored in directory: /root/.cache/pip/wheels/3a/70/07/428d2b58660a1a3b431db59b806a10da736612ebbc66c1bcc5\n",
            "Successfully built hdbscan sentence-transformers umap-learn\n",
            "Installing collected packages: sentencepiece, cython, pynndescent, hdbscan, umap-learn, sentence-transformers, bertopic\n",
            "  Attempting uninstall: cython\n",
            "    Found existing installation: Cython 3.0.6\n",
            "    Uninstalling Cython-3.0.6:\n",
            "      Successfully uninstalled Cython-3.0.6\n",
            "Successfully installed bertopic-0.16.0 cython-0.29.37 hdbscan-0.8.33 pynndescent-0.5.11 sentence-transformers-2.2.2 sentencepiece-0.1.99 umap-learn-0.5.5\n"
          ]
        }
      ]
    },
    {
      "cell_type": "markdown",
      "source": [
        "**NOTE: HERE INPUT without any processing**\n",
        "\n",
        "next try to (stopwords and stemming)"
      ],
      "metadata": {
        "id": "LlQmxnk9nSHI"
      }
    },
    {
      "cell_type": "code",
      "source": [
        "reviews[\"review\"]"
      ],
      "metadata": {
        "colab": {
          "base_uri": "https://localhost:8080/"
        },
        "id": "NU6F0l6MmulI",
        "outputId": "3d5cc5d4-c75e-459e-a08e-7d29bc05ef6a"
      },
      "execution_count": 52,
      "outputs": [
        {
          "output_type": "execute_result",
          "data": {
            "text/plain": [
              "0                   Good but need updates and improvements\n",
              "1        Worst mobile i have bought ever, Battery is dr...\n",
              "2        when I will get my 10% cash back.... its alrea...\n",
              "4        The worst phone everThey have changed the last...\n",
              "5        Only I'm telling don't buyI'm totally disappoi...\n",
              "                               ...                        \n",
              "14670    I really like the phone, Everything is working...\n",
              "14671    The Lenovo K8 Note is awesome. It takes best p...\n",
              "14672                         Awesome Gaget.. @ this price\n",
              "14673    This phone is nice processing will be successf...\n",
              "14674        Good product but the pakeging was not enough.\n",
              "Name: review, Length: 12433, dtype: object"
            ]
          },
          "metadata": {},
          "execution_count": 52
        }
      ]
    },
    {
      "cell_type": "markdown",
      "source": [
        "**CountVectorizer**"
      ],
      "metadata": {
        "id": "Eny2cYbVz_zl"
      }
    },
    {
      "cell_type": "code",
      "source": [
        "from sklearn.feature_extraction.text import CountVectorizer\n",
        "\n",
        "vectorizer_model = CountVectorizer(stop_words=\"english\")"
      ],
      "metadata": {
        "id": "3m95qeHBzQq0"
      },
      "execution_count": 53,
      "outputs": []
    },
    {
      "cell_type": "markdown",
      "source": [
        "**ctfidf_model**"
      ],
      "metadata": {
        "id": "duJRH0Nt0Ado"
      }
    },
    {
      "cell_type": "code",
      "source": [
        "from bertopic.vectorizers import ClassTfidfTransformer\n",
        "\n",
        "ctfidf_model = ClassTfidfTransformer(reduce_frequent_words=True)\n",
        "#ctfidf_model=ctfidf_model"
      ],
      "metadata": {
        "id": "V8np4D1r0BG0"
      },
      "execution_count": 54,
      "outputs": []
    },
    {
      "cell_type": "markdown",
      "source": [
        "we limit the number of duplicate words we find in each topic. This is done using an algorithm called Maximal Marginal Relevance which compares word embeddings with the topic embedding.\n",
        "\n",
        "it is necessary to pass the embedding model to BERTopic if you are using pre-computed embeddings"
      ],
      "metadata": {
        "id": "GfnaA5DZ1xtM"
      }
    },
    {
      "cell_type": "code",
      "source": [
        "from bertopic.representation import MaximalMarginalRelevance\n",
        "\n",
        "representation_model = MaximalMarginalRelevance(diversity=0.2)  # with 0 being ((not at all)) diverse and 1 being ((completely)) diverse:\n",
        "#representation_model=representation_model\n",
        "#if pre-computed embeddings --> add embedding_model=sentence_model"
      ],
      "metadata": {
        "id": "T4HE5o0X1x_8"
      },
      "execution_count": 55,
      "outputs": []
    },
    {
      "cell_type": "code",
      "source": [
        "%%time\n",
        "from bertopic import BERTopic\n",
        "model = BERTopic(verbose=True,embedding_model='all-MiniLM-L6-v2', top_n_words=10, ctfidf_model=ctfidf_model, representation_model=representation_model, min_topic_size= 55) # n_gram_range = 2,\n",
        "headline_topics, _ = model.fit_transform(reviews[\"review\"])"
      ],
      "metadata": {
        "colab": {
          "base_uri": "https://localhost:8080/",
          "height": 223,
          "referenced_widgets": [
            "3ef5902ed4764de6916e2e9777b05ce1",
            "722d0830e60b4c97b9738830d9ec5938",
            "5b999129143f46df9816edfd3c66a0f6",
            "c08f011c107942b8be64e6fae742f850",
            "637d3cfa57924a2ba23183594d408084",
            "1308b133566644799e89336e1bd00c85",
            "86b562220c494bc5b283db9801c78f41",
            "aca3d903833d4193b62832aa7f839f31",
            "b81f3dcfc8da4042a50168d72c56c3f8",
            "136cd86e7efd46dd9cd4ce774152b4ce",
            "8ec7d7dd673d4cd99d8754284b9d1ccb"
          ]
        },
        "id": "806HdUvGkQt6",
        "outputId": "91d87f3d-b3b6-48cf-9991-4d3f25a5e222"
      },
      "execution_count": 81,
      "outputs": [
        {
          "output_type": "stream",
          "name": "stderr",
          "text": [
            "2023-12-26 20:55:35,195 - BERTopic - Embedding - Transforming documents to embeddings.\n"
          ]
        },
        {
          "output_type": "display_data",
          "data": {
            "text/plain": [
              "Batches:   0%|          | 0/389 [00:00<?, ?it/s]"
            ],
            "application/vnd.jupyter.widget-view+json": {
              "version_major": 2,
              "version_minor": 0,
              "model_id": "3ef5902ed4764de6916e2e9777b05ce1"
            }
          },
          "metadata": {}
        },
        {
          "output_type": "stream",
          "name": "stderr",
          "text": [
            "2023-12-26 20:55:43,492 - BERTopic - Embedding - Completed ✓\n",
            "2023-12-26 20:55:43,494 - BERTopic - Dimensionality - Fitting the dimensionality reduction algorithm\n",
            "2023-12-26 20:55:56,282 - BERTopic - Dimensionality - Completed ✓\n",
            "2023-12-26 20:55:56,285 - BERTopic - Cluster - Start clustering the reduced embeddings\n",
            "2023-12-26 20:55:56,888 - BERTopic - Cluster - Completed ✓\n",
            "2023-12-26 20:55:56,898 - BERTopic - Representation - Extracting topics from clusters using representation models.\n",
            "2023-12-26 20:55:58,328 - BERTopic - Representation - Completed ✓\n"
          ]
        },
        {
          "output_type": "stream",
          "name": "stdout",
          "text": [
            "CPU times: user 28.6 s, sys: 1.65 s, total: 30.2 s\n",
            "Wall time: 23.5 s\n"
          ]
        }
      ]
    },
    {
      "cell_type": "code",
      "source": [
        "freq = model.get_topic_info()\n",
        "print(\"Number of topics: {}\".format( len(freq)))\n",
        "freq"
      ],
      "metadata": {
        "colab": {
          "base_uri": "https://localhost:8080/",
          "height": 1000
        },
        "id": "wD-cB1H0knMY",
        "outputId": "888ab0b6-5246-41a9-e959-b9941ccc12fc"
      },
      "execution_count": 82,
      "outputs": [
        {
          "output_type": "stream",
          "name": "stdout",
          "text": [
            "Number of topics: 29\n"
          ]
        },
        {
          "output_type": "execute_result",
          "data": {
            "text/plain": [
              "    Topic  Count                                     Name  \\\n",
              "0      -1   3113        -1_charging_battery_issue_charger   \n",
              "1       0   1958   0_price_delivery_performance_satisfied   \n",
              "2       1   1694              1_price_camera_budget_phone   \n",
              "3       2   1438                      2_lenovo_k8_note_k4   \n",
              "4       3    776              3_camera_quality_dual_front   \n",
              "5       4    337          4_mobile_futures_mobiles_superb   \n",
              "6       5    220                        5_hai_ka_nahi_bhi   \n",
              "7       6    217              6_heating_heat_heated_issue   \n",
              "8       7    216         7_earphone_ear_headphone_headset   \n",
              "9       8    202          8_heating_camera_drainage_heats   \n",
              "10      9    198             9_speaker_dolby_atmos_volume   \n",
              "11     10    195                10_heat_heating_heats_hot   \n",
              "12     11    171                         11_jio_sim_4g_3g   \n",
              "13     12    164             12_glass_broken_screen_broke   \n",
              "14     13    145  13_battery_bead_discharging_performance   \n",
              "15     14    140         14_useless_amazon_drained_charge   \n",
              "16     15    139            15_heat_heating_mobile_heated   \n",
              "17     16    136                16_cast_tv_screen_casting   \n",
              "18     17    125   17_backup_battery_chargingphone_badbad   \n",
              "19     18    113         18_signal_wifi_signals_reception   \n",
              "20     19    113        19_charger_charge_charging_months   \n",
              "21     20    102       20_turbo_charging_turbocharger_hrs   \n",
              "22     21     90         21_draining_drain_drains_quickly   \n",
              "23     22     86        22_handset_signale_handsfree_hand   \n",
              "24     23     83        23_recording_call_recorder_record   \n",
              "25     24     72          24_oreo_update_updating_android   \n",
              "26     25     67             25_hanging_hanged_hang_hangs   \n",
              "27     26     67                 26_bill_invoice_mail_tax   \n",
              "28     27     56                27_volte_lte_supported_4g   \n",
              "\n",
              "                                       Representation  \\\n",
              "0   [charging, battery, issue, charger, heating, b...   \n",
              "1   [price, delivery, performance, satisfied, very...   \n",
              "2   [price, camera, budget, phone, quality, front,...   \n",
              "3   [lenovo, k8, note, k4, k5, service, buy, have,...   \n",
              "4   [camera, quality, dual, front, performance, ca...   \n",
              "5   [mobile, futures, mobiles, superb, mobil, amaz...   \n",
              "6   [hai, ka, nahi, bhi, bekar, hota, raha, ghatiy...   \n",
              "7   [heating, heat, heated, issue, overheating, ho...   \n",
              "8   [earphone, ear, headphone, headset, earphones,...   \n",
              "9   [heating, camera, drainage, heats, quality, dr...   \n",
              "10  [speaker, dolby, atmos, volume, left, speakers...   \n",
              "11  [heat, heating, heats, hot, heated, issue, min...   \n",
              "12  [jio, sim, 4g, 3g, lte, sims, airtel, slots, s...   \n",
              "13  [glass, broken, screen, broke, cracked, flicke...   \n",
              "14  [battery, bead, discharging, performance, prob...   \n",
              "15  [useless, amazon, drained, charge, phone, buyi...   \n",
              "16  [heat, heating, mobile, heated, charging, aagu...   \n",
              "17  [cast, tv, screen, casting, mirroring, chromec...   \n",
              "18  [backup, battery, chargingphone, badbad, backu...   \n",
              "19  [signal, wifi, signals, reception, connection,...   \n",
              "20  [charger, charge, charging, months, hours, hrs...   \n",
              "21  [turbo, charging, turbocharger, hrs, charges, ...   \n",
              "22  [draining, drain, drains, quickly, drained, ch...   \n",
              "23  [handset, signale, handsfree, hand, rs11999, p...   \n",
              "24  [recording, call, recorder, record, voice, app...   \n",
              "25  [oreo, update, updating, android, os, upgradin...   \n",
              "26  [hanging, hanged, hang, hangs, apps, restart, ...   \n",
              "27  [bill, invoice, mail, tax, gst, gmail, send, p...   \n",
              "28  [volte, lte, supported, 4g, netwrok, availabil...   \n",
              "\n",
              "                                  Representative_Docs  \n",
              "0   [After 7 month of usage, i am writing this.Alr...  \n",
              "1   [Best at this price.. value for money, Very go...  \n",
              "2   [Best Phone at best price......Phone functioni...  \n",
              "3   [The mobile has some good features. But chargi...  \n",
              "4   [At this price, its worth buying when you comp...  \n",
              "5   [It's a excilent product. Super fast. Nicly bu...  \n",
              "6   [Ghatiya phone hai, screen resolution ekdam ba...  \n",
              "7   [Heating problem...Over heating..But its good,...  \n",
              "8   [Received it today, the first thing i noticed ...  \n",
              "9   [Camera AverageBatery drain out more faster th...  \n",
              "10  [I have purchased this product before 2 weeks....  \n",
              "11  [Pathetic phone.. it \"always\" overheats after ...  \n",
              "12  [Signal reception is bad. Mobile data does not...  \n",
              "13  [Nothing use of gorilla glass it's single time...  \n",
              "14  [Battery not up to the specVolume while watchi...  \n",
              "15  [Please don't buy this product.... Battery is ...  \n",
              "16  [I bought this mobile on 28th Aug 17, for mont...  \n",
              "17  [I have purchased Lenovo K8 note. This product...  \n",
              "18  [The battery back up will make you cry. A deca...  \n",
              "19  [Signal strength is a huge pain. With airtel 4...  \n",
              "20  [I was bought 4 month before but today the pho...  \n",
              "21  [I have a complain about this product. It's no...  \n",
              "22  [poor experience !! i hv to switch off my phon...  \n",
              "23  [Please dont buy this Worst product.Naam bada ...  \n",
              "24  [This has no recorder. Worse, it doesn't have ...  \n",
              "25  [Lenovo K8 Note (Venom Black, 4GB) with New Sy...  \n",
              "26  [Hangs, Network and connectivity issues, volum...  \n",
              "27  [Send me invoice bill, phones goodbut emi it s...  \n",
              "28  [Using this phone since 2 days. It does not co...  "
            ],
            "text/html": [
              "\n",
              "  <div id=\"df-db8fe864-20dc-4a01-8ee4-edff53774851\" class=\"colab-df-container\">\n",
              "    <div>\n",
              "<style scoped>\n",
              "    .dataframe tbody tr th:only-of-type {\n",
              "        vertical-align: middle;\n",
              "    }\n",
              "\n",
              "    .dataframe tbody tr th {\n",
              "        vertical-align: top;\n",
              "    }\n",
              "\n",
              "    .dataframe thead th {\n",
              "        text-align: right;\n",
              "    }\n",
              "</style>\n",
              "<table border=\"1\" class=\"dataframe\">\n",
              "  <thead>\n",
              "    <tr style=\"text-align: right;\">\n",
              "      <th></th>\n",
              "      <th>Topic</th>\n",
              "      <th>Count</th>\n",
              "      <th>Name</th>\n",
              "      <th>Representation</th>\n",
              "      <th>Representative_Docs</th>\n",
              "    </tr>\n",
              "  </thead>\n",
              "  <tbody>\n",
              "    <tr>\n",
              "      <th>0</th>\n",
              "      <td>-1</td>\n",
              "      <td>3113</td>\n",
              "      <td>-1_charging_battery_issue_charger</td>\n",
              "      <td>[charging, battery, issue, charger, heating, b...</td>\n",
              "      <td>[After 7 month of usage, i am writing this.Alr...</td>\n",
              "    </tr>\n",
              "    <tr>\n",
              "      <th>1</th>\n",
              "      <td>0</td>\n",
              "      <td>1958</td>\n",
              "      <td>0_price_delivery_performance_satisfied</td>\n",
              "      <td>[price, delivery, performance, satisfied, very...</td>\n",
              "      <td>[Best at this price.. value for money, Very go...</td>\n",
              "    </tr>\n",
              "    <tr>\n",
              "      <th>2</th>\n",
              "      <td>1</td>\n",
              "      <td>1694</td>\n",
              "      <td>1_price_camera_budget_phone</td>\n",
              "      <td>[price, camera, budget, phone, quality, front,...</td>\n",
              "      <td>[Best Phone at best price......Phone functioni...</td>\n",
              "    </tr>\n",
              "    <tr>\n",
              "      <th>3</th>\n",
              "      <td>2</td>\n",
              "      <td>1438</td>\n",
              "      <td>2_lenovo_k8_note_k4</td>\n",
              "      <td>[lenovo, k8, note, k4, k5, service, buy, have,...</td>\n",
              "      <td>[The mobile has some good features. But chargi...</td>\n",
              "    </tr>\n",
              "    <tr>\n",
              "      <th>4</th>\n",
              "      <td>3</td>\n",
              "      <td>776</td>\n",
              "      <td>3_camera_quality_dual_front</td>\n",
              "      <td>[camera, quality, dual, front, performance, ca...</td>\n",
              "      <td>[At this price, its worth buying when you comp...</td>\n",
              "    </tr>\n",
              "    <tr>\n",
              "      <th>5</th>\n",
              "      <td>4</td>\n",
              "      <td>337</td>\n",
              "      <td>4_mobile_futures_mobiles_superb</td>\n",
              "      <td>[mobile, futures, mobiles, superb, mobil, amaz...</td>\n",
              "      <td>[It's a excilent product. Super fast. Nicly bu...</td>\n",
              "    </tr>\n",
              "    <tr>\n",
              "      <th>6</th>\n",
              "      <td>5</td>\n",
              "      <td>220</td>\n",
              "      <td>5_hai_ka_nahi_bhi</td>\n",
              "      <td>[hai, ka, nahi, bhi, bekar, hota, raha, ghatiy...</td>\n",
              "      <td>[Ghatiya phone hai, screen resolution ekdam ba...</td>\n",
              "    </tr>\n",
              "    <tr>\n",
              "      <th>7</th>\n",
              "      <td>6</td>\n",
              "      <td>217</td>\n",
              "      <td>6_heating_heat_heated_issue</td>\n",
              "      <td>[heating, heat, heated, issue, overheating, ho...</td>\n",
              "      <td>[Heating problem...Over heating..But its good,...</td>\n",
              "    </tr>\n",
              "    <tr>\n",
              "      <th>8</th>\n",
              "      <td>7</td>\n",
              "      <td>216</td>\n",
              "      <td>7_earphone_ear_headphone_headset</td>\n",
              "      <td>[earphone, ear, headphone, headset, earphones,...</td>\n",
              "      <td>[Received it today, the first thing i noticed ...</td>\n",
              "    </tr>\n",
              "    <tr>\n",
              "      <th>9</th>\n",
              "      <td>8</td>\n",
              "      <td>202</td>\n",
              "      <td>8_heating_camera_drainage_heats</td>\n",
              "      <td>[heating, camera, drainage, heats, quality, dr...</td>\n",
              "      <td>[Camera AverageBatery drain out more faster th...</td>\n",
              "    </tr>\n",
              "    <tr>\n",
              "      <th>10</th>\n",
              "      <td>9</td>\n",
              "      <td>198</td>\n",
              "      <td>9_speaker_dolby_atmos_volume</td>\n",
              "      <td>[speaker, dolby, atmos, volume, left, speakers...</td>\n",
              "      <td>[I have purchased this product before 2 weeks....</td>\n",
              "    </tr>\n",
              "    <tr>\n",
              "      <th>11</th>\n",
              "      <td>10</td>\n",
              "      <td>195</td>\n",
              "      <td>10_heat_heating_heats_hot</td>\n",
              "      <td>[heat, heating, heats, hot, heated, issue, min...</td>\n",
              "      <td>[Pathetic phone.. it \"always\" overheats after ...</td>\n",
              "    </tr>\n",
              "    <tr>\n",
              "      <th>12</th>\n",
              "      <td>11</td>\n",
              "      <td>171</td>\n",
              "      <td>11_jio_sim_4g_3g</td>\n",
              "      <td>[jio, sim, 4g, 3g, lte, sims, airtel, slots, s...</td>\n",
              "      <td>[Signal reception is bad. Mobile data does not...</td>\n",
              "    </tr>\n",
              "    <tr>\n",
              "      <th>13</th>\n",
              "      <td>12</td>\n",
              "      <td>164</td>\n",
              "      <td>12_glass_broken_screen_broke</td>\n",
              "      <td>[glass, broken, screen, broke, cracked, flicke...</td>\n",
              "      <td>[Nothing use of gorilla glass it's single time...</td>\n",
              "    </tr>\n",
              "    <tr>\n",
              "      <th>14</th>\n",
              "      <td>13</td>\n",
              "      <td>145</td>\n",
              "      <td>13_battery_bead_discharging_performance</td>\n",
              "      <td>[battery, bead, discharging, performance, prob...</td>\n",
              "      <td>[Battery not up to the specVolume while watchi...</td>\n",
              "    </tr>\n",
              "    <tr>\n",
              "      <th>15</th>\n",
              "      <td>14</td>\n",
              "      <td>140</td>\n",
              "      <td>14_useless_amazon_drained_charge</td>\n",
              "      <td>[useless, amazon, drained, charge, phone, buyi...</td>\n",
              "      <td>[Please don't buy this product.... Battery is ...</td>\n",
              "    </tr>\n",
              "    <tr>\n",
              "      <th>16</th>\n",
              "      <td>15</td>\n",
              "      <td>139</td>\n",
              "      <td>15_heat_heating_mobile_heated</td>\n",
              "      <td>[heat, heating, mobile, heated, charging, aagu...</td>\n",
              "      <td>[I bought this mobile on 28th Aug 17, for mont...</td>\n",
              "    </tr>\n",
              "    <tr>\n",
              "      <th>17</th>\n",
              "      <td>16</td>\n",
              "      <td>136</td>\n",
              "      <td>16_cast_tv_screen_casting</td>\n",
              "      <td>[cast, tv, screen, casting, mirroring, chromec...</td>\n",
              "      <td>[I have purchased Lenovo K8 note. This product...</td>\n",
              "    </tr>\n",
              "    <tr>\n",
              "      <th>18</th>\n",
              "      <td>17</td>\n",
              "      <td>125</td>\n",
              "      <td>17_backup_battery_chargingphone_badbad</td>\n",
              "      <td>[backup, battery, chargingphone, badbad, backu...</td>\n",
              "      <td>[The battery back up will make you cry. A deca...</td>\n",
              "    </tr>\n",
              "    <tr>\n",
              "      <th>19</th>\n",
              "      <td>18</td>\n",
              "      <td>113</td>\n",
              "      <td>18_signal_wifi_signals_reception</td>\n",
              "      <td>[signal, wifi, signals, reception, connection,...</td>\n",
              "      <td>[Signal strength is a huge pain. With airtel 4...</td>\n",
              "    </tr>\n",
              "    <tr>\n",
              "      <th>20</th>\n",
              "      <td>19</td>\n",
              "      <td>113</td>\n",
              "      <td>19_charger_charge_charging_months</td>\n",
              "      <td>[charger, charge, charging, months, hours, hrs...</td>\n",
              "      <td>[I was bought 4 month before but today the pho...</td>\n",
              "    </tr>\n",
              "    <tr>\n",
              "      <th>21</th>\n",
              "      <td>20</td>\n",
              "      <td>102</td>\n",
              "      <td>20_turbo_charging_turbocharger_hrs</td>\n",
              "      <td>[turbo, charging, turbocharger, hrs, charges, ...</td>\n",
              "      <td>[I have a complain about this product. It's no...</td>\n",
              "    </tr>\n",
              "    <tr>\n",
              "      <th>22</th>\n",
              "      <td>21</td>\n",
              "      <td>90</td>\n",
              "      <td>21_draining_drain_drains_quickly</td>\n",
              "      <td>[draining, drain, drains, quickly, drained, ch...</td>\n",
              "      <td>[poor experience !! i hv to switch off my phon...</td>\n",
              "    </tr>\n",
              "    <tr>\n",
              "      <th>23</th>\n",
              "      <td>22</td>\n",
              "      <td>86</td>\n",
              "      <td>22_handset_signale_handsfree_hand</td>\n",
              "      <td>[handset, signale, handsfree, hand, rs11999, p...</td>\n",
              "      <td>[Please dont buy this Worst product.Naam bada ...</td>\n",
              "    </tr>\n",
              "    <tr>\n",
              "      <th>24</th>\n",
              "      <td>23</td>\n",
              "      <td>83</td>\n",
              "      <td>23_recording_call_recorder_record</td>\n",
              "      <td>[recording, call, recorder, record, voice, app...</td>\n",
              "      <td>[This has no recorder. Worse, it doesn't have ...</td>\n",
              "    </tr>\n",
              "    <tr>\n",
              "      <th>25</th>\n",
              "      <td>24</td>\n",
              "      <td>72</td>\n",
              "      <td>24_oreo_update_updating_android</td>\n",
              "      <td>[oreo, update, updating, android, os, upgradin...</td>\n",
              "      <td>[Lenovo K8 Note (Venom Black, 4GB) with New Sy...</td>\n",
              "    </tr>\n",
              "    <tr>\n",
              "      <th>26</th>\n",
              "      <td>25</td>\n",
              "      <td>67</td>\n",
              "      <td>25_hanging_hanged_hang_hangs</td>\n",
              "      <td>[hanging, hanged, hang, hangs, apps, restart, ...</td>\n",
              "      <td>[Hangs, Network and connectivity issues, volum...</td>\n",
              "    </tr>\n",
              "    <tr>\n",
              "      <th>27</th>\n",
              "      <td>26</td>\n",
              "      <td>67</td>\n",
              "      <td>26_bill_invoice_mail_tax</td>\n",
              "      <td>[bill, invoice, mail, tax, gst, gmail, send, p...</td>\n",
              "      <td>[Send me invoice bill, phones goodbut emi it s...</td>\n",
              "    </tr>\n",
              "    <tr>\n",
              "      <th>28</th>\n",
              "      <td>27</td>\n",
              "      <td>56</td>\n",
              "      <td>27_volte_lte_supported_4g</td>\n",
              "      <td>[volte, lte, supported, 4g, netwrok, availabil...</td>\n",
              "      <td>[Using this phone since 2 days. It does not co...</td>\n",
              "    </tr>\n",
              "  </tbody>\n",
              "</table>\n",
              "</div>\n",
              "    <div class=\"colab-df-buttons\">\n",
              "\n",
              "  <div class=\"colab-df-container\">\n",
              "    <button class=\"colab-df-convert\" onclick=\"convertToInteractive('df-db8fe864-20dc-4a01-8ee4-edff53774851')\"\n",
              "            title=\"Convert this dataframe to an interactive table.\"\n",
              "            style=\"display:none;\">\n",
              "\n",
              "  <svg xmlns=\"http://www.w3.org/2000/svg\" height=\"24px\" viewBox=\"0 -960 960 960\">\n",
              "    <path d=\"M120-120v-720h720v720H120Zm60-500h600v-160H180v160Zm220 220h160v-160H400v160Zm0 220h160v-160H400v160ZM180-400h160v-160H180v160Zm440 0h160v-160H620v160ZM180-180h160v-160H180v160Zm440 0h160v-160H620v160Z\"/>\n",
              "  </svg>\n",
              "    </button>\n",
              "\n",
              "  <style>\n",
              "    .colab-df-container {\n",
              "      display:flex;\n",
              "      gap: 12px;\n",
              "    }\n",
              "\n",
              "    .colab-df-convert {\n",
              "      background-color: #E8F0FE;\n",
              "      border: none;\n",
              "      border-radius: 50%;\n",
              "      cursor: pointer;\n",
              "      display: none;\n",
              "      fill: #1967D2;\n",
              "      height: 32px;\n",
              "      padding: 0 0 0 0;\n",
              "      width: 32px;\n",
              "    }\n",
              "\n",
              "    .colab-df-convert:hover {\n",
              "      background-color: #E2EBFA;\n",
              "      box-shadow: 0px 1px 2px rgba(60, 64, 67, 0.3), 0px 1px 3px 1px rgba(60, 64, 67, 0.15);\n",
              "      fill: #174EA6;\n",
              "    }\n",
              "\n",
              "    .colab-df-buttons div {\n",
              "      margin-bottom: 4px;\n",
              "    }\n",
              "\n",
              "    [theme=dark] .colab-df-convert {\n",
              "      background-color: #3B4455;\n",
              "      fill: #D2E3FC;\n",
              "    }\n",
              "\n",
              "    [theme=dark] .colab-df-convert:hover {\n",
              "      background-color: #434B5C;\n",
              "      box-shadow: 0px 1px 3px 1px rgba(0, 0, 0, 0.15);\n",
              "      filter: drop-shadow(0px 1px 2px rgba(0, 0, 0, 0.3));\n",
              "      fill: #FFFFFF;\n",
              "    }\n",
              "  </style>\n",
              "\n",
              "    <script>\n",
              "      const buttonEl =\n",
              "        document.querySelector('#df-db8fe864-20dc-4a01-8ee4-edff53774851 button.colab-df-convert');\n",
              "      buttonEl.style.display =\n",
              "        google.colab.kernel.accessAllowed ? 'block' : 'none';\n",
              "\n",
              "      async function convertToInteractive(key) {\n",
              "        const element = document.querySelector('#df-db8fe864-20dc-4a01-8ee4-edff53774851');\n",
              "        const dataTable =\n",
              "          await google.colab.kernel.invokeFunction('convertToInteractive',\n",
              "                                                    [key], {});\n",
              "        if (!dataTable) return;\n",
              "\n",
              "        const docLinkHtml = 'Like what you see? Visit the ' +\n",
              "          '<a target=\"_blank\" href=https://colab.research.google.com/notebooks/data_table.ipynb>data table notebook</a>'\n",
              "          + ' to learn more about interactive tables.';\n",
              "        element.innerHTML = '';\n",
              "        dataTable['output_type'] = 'display_data';\n",
              "        await google.colab.output.renderOutput(dataTable, element);\n",
              "        const docLink = document.createElement('div');\n",
              "        docLink.innerHTML = docLinkHtml;\n",
              "        element.appendChild(docLink);\n",
              "      }\n",
              "    </script>\n",
              "  </div>\n",
              "\n",
              "\n",
              "<div id=\"df-42da6ea9-7ac9-4255-8126-27517500dfdf\">\n",
              "  <button class=\"colab-df-quickchart\" onclick=\"quickchart('df-42da6ea9-7ac9-4255-8126-27517500dfdf')\"\n",
              "            title=\"Suggest charts\"\n",
              "            style=\"display:none;\">\n",
              "\n",
              "<svg xmlns=\"http://www.w3.org/2000/svg\" height=\"24px\"viewBox=\"0 0 24 24\"\n",
              "     width=\"24px\">\n",
              "    <g>\n",
              "        <path d=\"M19 3H5c-1.1 0-2 .9-2 2v14c0 1.1.9 2 2 2h14c1.1 0 2-.9 2-2V5c0-1.1-.9-2-2-2zM9 17H7v-7h2v7zm4 0h-2V7h2v10zm4 0h-2v-4h2v4z\"/>\n",
              "    </g>\n",
              "</svg>\n",
              "  </button>\n",
              "\n",
              "<style>\n",
              "  .colab-df-quickchart {\n",
              "      --bg-color: #E8F0FE;\n",
              "      --fill-color: #1967D2;\n",
              "      --hover-bg-color: #E2EBFA;\n",
              "      --hover-fill-color: #174EA6;\n",
              "      --disabled-fill-color: #AAA;\n",
              "      --disabled-bg-color: #DDD;\n",
              "  }\n",
              "\n",
              "  [theme=dark] .colab-df-quickchart {\n",
              "      --bg-color: #3B4455;\n",
              "      --fill-color: #D2E3FC;\n",
              "      --hover-bg-color: #434B5C;\n",
              "      --hover-fill-color: #FFFFFF;\n",
              "      --disabled-bg-color: #3B4455;\n",
              "      --disabled-fill-color: #666;\n",
              "  }\n",
              "\n",
              "  .colab-df-quickchart {\n",
              "    background-color: var(--bg-color);\n",
              "    border: none;\n",
              "    border-radius: 50%;\n",
              "    cursor: pointer;\n",
              "    display: none;\n",
              "    fill: var(--fill-color);\n",
              "    height: 32px;\n",
              "    padding: 0;\n",
              "    width: 32px;\n",
              "  }\n",
              "\n",
              "  .colab-df-quickchart:hover {\n",
              "    background-color: var(--hover-bg-color);\n",
              "    box-shadow: 0 1px 2px rgba(60, 64, 67, 0.3), 0 1px 3px 1px rgba(60, 64, 67, 0.15);\n",
              "    fill: var(--button-hover-fill-color);\n",
              "  }\n",
              "\n",
              "  .colab-df-quickchart-complete:disabled,\n",
              "  .colab-df-quickchart-complete:disabled:hover {\n",
              "    background-color: var(--disabled-bg-color);\n",
              "    fill: var(--disabled-fill-color);\n",
              "    box-shadow: none;\n",
              "  }\n",
              "\n",
              "  .colab-df-spinner {\n",
              "    border: 2px solid var(--fill-color);\n",
              "    border-color: transparent;\n",
              "    border-bottom-color: var(--fill-color);\n",
              "    animation:\n",
              "      spin 1s steps(1) infinite;\n",
              "  }\n",
              "\n",
              "  @keyframes spin {\n",
              "    0% {\n",
              "      border-color: transparent;\n",
              "      border-bottom-color: var(--fill-color);\n",
              "      border-left-color: var(--fill-color);\n",
              "    }\n",
              "    20% {\n",
              "      border-color: transparent;\n",
              "      border-left-color: var(--fill-color);\n",
              "      border-top-color: var(--fill-color);\n",
              "    }\n",
              "    30% {\n",
              "      border-color: transparent;\n",
              "      border-left-color: var(--fill-color);\n",
              "      border-top-color: var(--fill-color);\n",
              "      border-right-color: var(--fill-color);\n",
              "    }\n",
              "    40% {\n",
              "      border-color: transparent;\n",
              "      border-right-color: var(--fill-color);\n",
              "      border-top-color: var(--fill-color);\n",
              "    }\n",
              "    60% {\n",
              "      border-color: transparent;\n",
              "      border-right-color: var(--fill-color);\n",
              "    }\n",
              "    80% {\n",
              "      border-color: transparent;\n",
              "      border-right-color: var(--fill-color);\n",
              "      border-bottom-color: var(--fill-color);\n",
              "    }\n",
              "    90% {\n",
              "      border-color: transparent;\n",
              "      border-bottom-color: var(--fill-color);\n",
              "    }\n",
              "  }\n",
              "</style>\n",
              "\n",
              "  <script>\n",
              "    async function quickchart(key) {\n",
              "      const quickchartButtonEl =\n",
              "        document.querySelector('#' + key + ' button');\n",
              "      quickchartButtonEl.disabled = true;  // To prevent multiple clicks.\n",
              "      quickchartButtonEl.classList.add('colab-df-spinner');\n",
              "      try {\n",
              "        const charts = await google.colab.kernel.invokeFunction(\n",
              "            'suggestCharts', [key], {});\n",
              "      } catch (error) {\n",
              "        console.error('Error during call to suggestCharts:', error);\n",
              "      }\n",
              "      quickchartButtonEl.classList.remove('colab-df-spinner');\n",
              "      quickchartButtonEl.classList.add('colab-df-quickchart-complete');\n",
              "    }\n",
              "    (() => {\n",
              "      let quickchartButtonEl =\n",
              "        document.querySelector('#df-42da6ea9-7ac9-4255-8126-27517500dfdf button');\n",
              "      quickchartButtonEl.style.display =\n",
              "        google.colab.kernel.accessAllowed ? 'block' : 'none';\n",
              "    })();\n",
              "  </script>\n",
              "</div>\n",
              "\n",
              "  <div id=\"id_aee1ecfc-3489-44f8-a76b-0adc87657fdc\">\n",
              "    <style>\n",
              "      .colab-df-generate {\n",
              "        background-color: #E8F0FE;\n",
              "        border: none;\n",
              "        border-radius: 50%;\n",
              "        cursor: pointer;\n",
              "        display: none;\n",
              "        fill: #1967D2;\n",
              "        height: 32px;\n",
              "        padding: 0 0 0 0;\n",
              "        width: 32px;\n",
              "      }\n",
              "\n",
              "      .colab-df-generate:hover {\n",
              "        background-color: #E2EBFA;\n",
              "        box-shadow: 0px 1px 2px rgba(60, 64, 67, 0.3), 0px 1px 3px 1px rgba(60, 64, 67, 0.15);\n",
              "        fill: #174EA6;\n",
              "      }\n",
              "\n",
              "      [theme=dark] .colab-df-generate {\n",
              "        background-color: #3B4455;\n",
              "        fill: #D2E3FC;\n",
              "      }\n",
              "\n",
              "      [theme=dark] .colab-df-generate:hover {\n",
              "        background-color: #434B5C;\n",
              "        box-shadow: 0px 1px 3px 1px rgba(0, 0, 0, 0.15);\n",
              "        filter: drop-shadow(0px 1px 2px rgba(0, 0, 0, 0.3));\n",
              "        fill: #FFFFFF;\n",
              "      }\n",
              "    </style>\n",
              "    <button class=\"colab-df-generate\" onclick=\"generateWithVariable('freq')\"\n",
              "            title=\"Generate code using this dataframe.\"\n",
              "            style=\"display:none;\">\n",
              "\n",
              "  <svg xmlns=\"http://www.w3.org/2000/svg\" height=\"24px\"viewBox=\"0 0 24 24\"\n",
              "       width=\"24px\">\n",
              "    <path d=\"M7,19H8.4L18.45,9,17,7.55,7,17.6ZM5,21V16.75L18.45,3.32a2,2,0,0,1,2.83,0l1.4,1.43a1.91,1.91,0,0,1,.58,1.4,1.91,1.91,0,0,1-.58,1.4L9.25,21ZM18.45,9,17,7.55Zm-12,3A5.31,5.31,0,0,0,4.9,8.1,5.31,5.31,0,0,0,1,6.5,5.31,5.31,0,0,0,4.9,4.9,5.31,5.31,0,0,0,6.5,1,5.31,5.31,0,0,0,8.1,4.9,5.31,5.31,0,0,0,12,6.5,5.46,5.46,0,0,0,6.5,12Z\"/>\n",
              "  </svg>\n",
              "    </button>\n",
              "    <script>\n",
              "      (() => {\n",
              "      const buttonEl =\n",
              "        document.querySelector('#id_aee1ecfc-3489-44f8-a76b-0adc87657fdc button.colab-df-generate');\n",
              "      buttonEl.style.display =\n",
              "        google.colab.kernel.accessAllowed ? 'block' : 'none';\n",
              "\n",
              "      buttonEl.onclick = () => {\n",
              "        google.colab.notebook.generateWithVariable('freq');\n",
              "      }\n",
              "      })();\n",
              "    </script>\n",
              "  </div>\n",
              "\n",
              "    </div>\n",
              "  </div>\n"
            ]
          },
          "metadata": {},
          "execution_count": 82
        }
      ]
    },
    {
      "cell_type": "code",
      "source": [
        "a_topic = freq.iloc[1][\"Topic\"] # Select the 1st topic\n",
        "model.get_topic(a_topic) # Show the words and their c-TF-IDF scores"
      ],
      "metadata": {
        "colab": {
          "base_uri": "https://localhost:8080/"
        },
        "id": "jGSe4dGJkv9Z",
        "outputId": "269c2985-2530-4010-b63e-063c1c0cb856"
      },
      "execution_count": 83,
      "outputs": [
        {
          "output_type": "execute_result",
          "data": {
            "text/plain": [
              "[('price', 0.2655854561034543),\n",
              " ('delivery', 0.2610904423576691),\n",
              " ('performance', 0.23030712662773103),\n",
              " ('satisfied', 0.22385254994263434),\n",
              " ('very', 0.21277629405467183),\n",
              " ('delivered', 0.21195319388270628),\n",
              " ('expectations', 0.19980684290020223),\n",
              " ('amazon', 0.1993101210568338),\n",
              " ('bed', 0.1991816509438718),\n",
              " ('features', 0.19382409314716723)]"
            ]
          },
          "metadata": {},
          "execution_count": 83
        }
      ]
    },
    {
      "cell_type": "markdown",
      "source": [
        "**VIP: STOP words**"
      ],
      "metadata": {
        "id": "vMavAHa5uE6d"
      }
    },
    {
      "cell_type": "markdown",
      "source": [
        "**NOTE:** remove review which contain only 1 word"
      ],
      "metadata": {
        "id": "4ttHbNBZbmia"
      }
    },
    {
      "cell_type": "markdown",
      "source": [
        "### Visualize"
      ],
      "metadata": {
        "id": "ayHUFy4s3bgG"
      }
    },
    {
      "cell_type": "code",
      "source": [
        "model.visualize_barchart(top_n_topics=33)\n"
      ],
      "metadata": {
        "colab": {
          "base_uri": "https://localhost:8080/",
          "height": 1000
        },
        "id": "hsLLkxTIl6cy",
        "outputId": "c439190e-e2a7-411d-9f46-eecbdd2c46b3"
      },
      "execution_count": 84,
      "outputs": [
        {
          "output_type": "display_data",
          "data": {
            "text/html": [
              "<html>\n",
              "<head><meta charset=\"utf-8\" /></head>\n",
              "<body>\n",
              "    <div>            <script src=\"https://cdnjs.cloudflare.com/ajax/libs/mathjax/2.7.5/MathJax.js?config=TeX-AMS-MML_SVG\"></script><script type=\"text/javascript\">if (window.MathJax && window.MathJax.Hub && window.MathJax.Hub.Config) {window.MathJax.Hub.Config({SVG: {font: \"STIX-Web\"}});}</script>                <script type=\"text/javascript\">window.PlotlyConfig = {MathJaxConfig: 'local'};</script>\n",
              "        <script charset=\"utf-8\" src=\"https://cdn.plot.ly/plotly-2.24.1.min.js\"></script>                <div id=\"f866ab8e-687b-4e5e-b1f1-5da01b44f999\" class=\"plotly-graph-div\" style=\"height:1750px; width:1000px;\"></div>            <script type=\"text/javascript\">                                    window.PLOTLYENV=window.PLOTLYENV || {};                                    if (document.getElementById(\"f866ab8e-687b-4e5e-b1f1-5da01b44f999\")) {                    Plotly.newPlot(                        \"f866ab8e-687b-4e5e-b1f1-5da01b44f999\",                        [{\"marker\":{\"color\":\"#D55E00\"},\"orientation\":\"h\",\"x\":[0.21277629405467183,0.22385254994263434,0.23030712662773103,0.2610904423576691,0.2655854561034543],\"y\":[\"very  \",\"satisfied  \",\"performance  \",\"delivery  \",\"price  \"],\"type\":\"bar\",\"xaxis\":\"x\",\"yaxis\":\"y\"},{\"marker\":{\"color\":\"#0072B2\"},\"orientation\":\"h\",\"x\":[0.1923873776587622,0.20078177268579234,0.20653934847291544,0.20914079129759752,0.21215121815889648],\"y\":[\"quality  \",\"phone  \",\"budget  \",\"camera  \",\"price  \"],\"type\":\"bar\",\"xaxis\":\"x2\",\"yaxis\":\"y2\"},{\"marker\":{\"color\":\"#CC79A7\"},\"orientation\":\"h\",\"x\":[0.16989092346215898,0.18208331709571102,0.27204871352476606,0.2821758096543857,0.2997279958839853],\"y\":[\"k5  \",\"k4  \",\"note  \",\"k8  \",\"lenovo  \"],\"type\":\"bar\",\"xaxis\":\"x3\",\"yaxis\":\"y3\"},{\"marker\":{\"color\":\"#E69F00\"},\"orientation\":\"h\",\"x\":[0.21137679699465547,0.23590760261811375,0.24820552100886453,0.2827352240760335,0.326317449193494],\"y\":[\"performance  \",\"front  \",\"dual  \",\"quality  \",\"camera  \"],\"type\":\"bar\",\"xaxis\":\"x4\",\"yaxis\":\"y4\"},{\"marker\":{\"color\":\"#56B4E9\"},\"orientation\":\"h\",\"x\":[0.2482777251924358,0.26052196479914475,0.27056570425598697,0.30213705609805414,0.5408944878914499],\"y\":[\"mobil  \",\"superb  \",\"mobiles  \",\"futures  \",\"mobile  \"],\"type\":\"bar\",\"xaxis\":\"x5\",\"yaxis\":\"y5\"},{\"marker\":{\"color\":\"#009E73\"},\"orientation\":\"h\",\"x\":[0.48430220064064766,0.5224453696857365,0.5268506422008267,0.5401871826170734,0.8215867766409195],\"y\":[\"bekar  \",\"bhi  \",\"nahi  \",\"ka  \",\"hai  \"],\"type\":\"bar\",\"xaxis\":\"x6\",\"yaxis\":\"y6\"},{\"marker\":{\"color\":\"#F0E442\"},\"orientation\":\"h\",\"x\":[0.28713630640972904,0.3046356266866001,0.35285224971078677,0.44019685962685917,0.5575961443263034],\"y\":[\"overheating  \",\"issue  \",\"heated  \",\"heat  \",\"heating  \"],\"type\":\"bar\",\"xaxis\":\"x7\",\"yaxis\":\"y7\"},{\"marker\":{\"color\":\"#D55E00\"},\"orientation\":\"h\",\"x\":[0.46259764917296525,0.48715854359200045,0.5000614998899046,0.5393188540145472,0.5904665759741514],\"y\":[\"earphones  \",\"headset  \",\"headphone  \",\"ear  \",\"earphone  \"],\"type\":\"bar\",\"xaxis\":\"x8\",\"yaxis\":\"y8\"},{\"marker\":{\"color\":\"#0072B2\"},\"orientation\":\"h\",\"x\":[0.20277624977693656,0.2106958306975551,0.21318283648947553,0.25876272507694625,0.33863392110840507],\"y\":[\"quality  \",\"heats  \",\"drainage  \",\"camera  \",\"heating  \"],\"type\":\"bar\",\"xaxis\":\"x9\",\"yaxis\":\"y9\"},{\"marker\":{\"color\":\"#CC79A7\"},\"orientation\":\"h\",\"x\":[0.34573320462908247,0.3503362957006857,0.41411191555656046,0.4863066979389917,0.5728645827579931],\"y\":[\"left  \",\"volume  \",\"atmos  \",\"dolby  \",\"speaker  \"],\"type\":\"bar\",\"xaxis\":\"x10\",\"yaxis\":\"y10\"},{\"marker\":{\"color\":\"#E69F00\"},\"orientation\":\"h\",\"x\":[0.25038983355516675,0.3082292270413753,0.32010662738491585,0.32859394894132893,0.36726556545737826],\"y\":[\"heated  \",\"hot  \",\"heats  \",\"heating  \",\"heat  \"],\"type\":\"bar\",\"xaxis\":\"x11\",\"yaxis\":\"y11\"},{\"marker\":{\"color\":\"#56B4E9\"},\"orientation\":\"h\",\"x\":[0.26781900037970363,0.3260355879424509,0.5330036781582846,0.5974842316938199,0.6046446195436963],\"y\":[\"lte  \",\"3g  \",\"4g  \",\"sim  \",\"jio  \"],\"type\":\"bar\",\"xaxis\":\"x12\",\"yaxis\":\"y12\"},{\"marker\":{\"color\":\"#009E73\"},\"orientation\":\"h\",\"x\":[0.26886856791098734,0.37311148886500345,0.4293607551909751,0.4367119874464224,0.6528165245027758],\"y\":[\"cracked  \",\"broke  \",\"screen  \",\"broken  \",\"glass  \"],\"type\":\"bar\",\"xaxis\":\"x13\",\"yaxis\":\"y13\"},{\"marker\":{\"color\":\"#F0E442\"},\"orientation\":\"h\",\"x\":[0.2889407902246516,0.30694662093880853,0.31511837160022993,0.35038866383971917,0.46080174095898874],\"y\":[\"problem  \",\"performance  \",\"discharging  \",\"bead  \",\"battery  \"],\"type\":\"bar\",\"xaxis\":\"x14\",\"yaxis\":\"y14\"},{\"marker\":{\"color\":\"#D55E00\"},\"orientation\":\"h\",\"x\":[0.2005838171430133,0.20700926531633787,0.20885372687730594,0.21523710944975497,0.21572995436808076],\"y\":[\"phone  \",\"charge  \",\"drained  \",\"amazon  \",\"useless  \"],\"type\":\"bar\",\"xaxis\":\"x15\",\"yaxis\":\"y15\"},{\"marker\":{\"color\":\"#0072B2\"},\"orientation\":\"h\",\"x\":[0.2786656079065937,0.3295153636264815,0.3707709029919078,0.3744977132909065,0.38614541847251993],\"y\":[\"charging  \",\"heated  \",\"mobile  \",\"heating  \",\"heat  \"],\"type\":\"bar\",\"xaxis\":\"x16\",\"yaxis\":\"y16\"},{\"marker\":{\"color\":\"#CC79A7\"},\"orientation\":\"h\",\"x\":[0.38947313447629706,0.40743405496149077,0.43698410285950556,0.5628537666646036,0.7321320441870298],\"y\":[\"mirroring  \",\"casting  \",\"screen  \",\"tv  \",\"cast  \"],\"type\":\"bar\",\"xaxis\":\"x17\",\"yaxis\":\"y17\"},{\"marker\":{\"color\":\"#E69F00\"},\"orientation\":\"h\",\"x\":[0.2284186773158785,0.2284186773158785,0.2284186773158785,0.37155621822316215,0.6991873352409197],\"y\":[\"backuptake  \",\"badbad  \",\"chargingphone  \",\"battery  \",\"backup  \"],\"type\":\"bar\",\"xaxis\":\"x18\",\"yaxis\":\"y18\"},{\"marker\":{\"color\":\"#56B4E9\"},\"orientation\":\"h\",\"x\":[0.2993599809663624,0.31511600923784944,0.38177551948856864,0.46026116669672584,0.5246573393259898],\"y\":[\"connection  \",\"reception  \",\"signals  \",\"wifi  \",\"signal  \"],\"type\":\"bar\",\"xaxis\":\"x19\",\"yaxis\":\"y19\"},{\"marker\":{\"color\":\"#009E73\"},\"orientation\":\"h\",\"x\":[0.37356003881931027,0.3986585887243554,0.41848004842153913,0.437281743264157,0.5793267910350739],\"y\":[\"hours  \",\"months  \",\"charging  \",\"charge  \",\"charger  \"],\"type\":\"bar\",\"xaxis\":\"x20\",\"yaxis\":\"y20\"},{\"marker\":{\"color\":\"#F0E442\"},\"orientation\":\"h\",\"x\":[0.24532546120344623,0.28137189752449854,0.3205806778404528,0.36676049346041867,0.6109442815638771],\"y\":[\"charges  \",\"hrs  \",\"turbocharger  \",\"charging  \",\"turbo  \"],\"type\":\"bar\",\"xaxis\":\"x21\",\"yaxis\":\"y21\"},{\"marker\":{\"color\":\"#D55E00\"},\"orientation\":\"h\",\"x\":[0.34404935041760765,0.47510073424719534,0.5395580895423753,0.5663138487331176,0.6682373122004559],\"y\":[\"drained  \",\"quickly  \",\"drains  \",\"drain  \",\"draining  \"],\"type\":\"bar\",\"xaxis\":\"x22\",\"yaxis\":\"y22\"},{\"marker\":{\"color\":\"#0072B2\"},\"orientation\":\"h\",\"x\":[0.23277572524470314,0.2474009178786465,0.2576899678112588,0.30371873536250016,0.9058900342446707],\"y\":[\"rs11999  \",\"hand  \",\"handsfree  \",\"signale  \",\"handset  \"],\"type\":\"bar\",\"xaxis\":\"x23\",\"yaxis\":\"y23\"},{\"marker\":{\"color\":\"#CC79A7\"},\"orientation\":\"h\",\"x\":[0.41780152114582786,0.5741603428809702,0.6484399891781157,0.6672354621790118,0.6933541079086286],\"y\":[\"voice  \",\"record  \",\"recorder  \",\"call  \",\"recording  \"],\"type\":\"bar\",\"xaxis\":\"x24\",\"yaxis\":\"y24\"},{\"marker\":{\"color\":\"#E69F00\"},\"orientation\":\"h\",\"x\":[0.26396295195007985,0.2999994348409023,0.3089534874217138,0.5578182848064688,0.7560104749984717],\"y\":[\"os  \",\"android  \",\"updating  \",\"update  \",\"oreo  \"],\"type\":\"bar\",\"xaxis\":\"x25\",\"yaxis\":\"y25\"},{\"marker\":{\"color\":\"#56B4E9\"},\"orientation\":\"h\",\"x\":[0.3307116081534678,0.34691316185020477,0.3739932759103234,0.394107186827313,0.5262486381141108],\"y\":[\"apps  \",\"hangs  \",\"hang  \",\"hanged  \",\"hanging  \"],\"type\":\"bar\",\"xaxis\":\"x26\",\"yaxis\":\"y26\"},{\"marker\":{\"color\":\"#009E73\"},\"orientation\":\"h\",\"x\":[0.5026309022252885,0.5026309022252885,0.7449735641977023,1.1197721079708745,1.1346864819213096],\"y\":[\"gst  \",\"tax  \",\"mail  \",\"invoice  \",\"bill  \"],\"type\":\"bar\",\"xaxis\":\"x27\",\"yaxis\":\"y27\"},{\"marker\":{\"color\":\"#F0E442\"},\"orientation\":\"h\",\"x\":[0.3125337821049101,0.3455698489739957,0.5351079645845133,0.7021465905231364,1.0640409912657809],\"y\":[\"netwrok  \",\"4g  \",\"supported  \",\"lte  \",\"volte  \"],\"type\":\"bar\",\"xaxis\":\"x28\",\"yaxis\":\"y28\"}],                        {\"template\":{\"data\":{\"barpolar\":[{\"marker\":{\"line\":{\"color\":\"white\",\"width\":0.5},\"pattern\":{\"fillmode\":\"overlay\",\"size\":10,\"solidity\":0.2}},\"type\":\"barpolar\"}],\"bar\":[{\"error_x\":{\"color\":\"#2a3f5f\"},\"error_y\":{\"color\":\"#2a3f5f\"},\"marker\":{\"line\":{\"color\":\"white\",\"width\":0.5},\"pattern\":{\"fillmode\":\"overlay\",\"size\":10,\"solidity\":0.2}},\"type\":\"bar\"}],\"carpet\":[{\"aaxis\":{\"endlinecolor\":\"#2a3f5f\",\"gridcolor\":\"#C8D4E3\",\"linecolor\":\"#C8D4E3\",\"minorgridcolor\":\"#C8D4E3\",\"startlinecolor\":\"#2a3f5f\"},\"baxis\":{\"endlinecolor\":\"#2a3f5f\",\"gridcolor\":\"#C8D4E3\",\"linecolor\":\"#C8D4E3\",\"minorgridcolor\":\"#C8D4E3\",\"startlinecolor\":\"#2a3f5f\"},\"type\":\"carpet\"}],\"choropleth\":[{\"colorbar\":{\"outlinewidth\":0,\"ticks\":\"\"},\"type\":\"choropleth\"}],\"contourcarpet\":[{\"colorbar\":{\"outlinewidth\":0,\"ticks\":\"\"},\"type\":\"contourcarpet\"}],\"contour\":[{\"colorbar\":{\"outlinewidth\":0,\"ticks\":\"\"},\"colorscale\":[[0.0,\"#0d0887\"],[0.1111111111111111,\"#46039f\"],[0.2222222222222222,\"#7201a8\"],[0.3333333333333333,\"#9c179e\"],[0.4444444444444444,\"#bd3786\"],[0.5555555555555556,\"#d8576b\"],[0.6666666666666666,\"#ed7953\"],[0.7777777777777778,\"#fb9f3a\"],[0.8888888888888888,\"#fdca26\"],[1.0,\"#f0f921\"]],\"type\":\"contour\"}],\"heatmapgl\":[{\"colorbar\":{\"outlinewidth\":0,\"ticks\":\"\"},\"colorscale\":[[0.0,\"#0d0887\"],[0.1111111111111111,\"#46039f\"],[0.2222222222222222,\"#7201a8\"],[0.3333333333333333,\"#9c179e\"],[0.4444444444444444,\"#bd3786\"],[0.5555555555555556,\"#d8576b\"],[0.6666666666666666,\"#ed7953\"],[0.7777777777777778,\"#fb9f3a\"],[0.8888888888888888,\"#fdca26\"],[1.0,\"#f0f921\"]],\"type\":\"heatmapgl\"}],\"heatmap\":[{\"colorbar\":{\"outlinewidth\":0,\"ticks\":\"\"},\"colorscale\":[[0.0,\"#0d0887\"],[0.1111111111111111,\"#46039f\"],[0.2222222222222222,\"#7201a8\"],[0.3333333333333333,\"#9c179e\"],[0.4444444444444444,\"#bd3786\"],[0.5555555555555556,\"#d8576b\"],[0.6666666666666666,\"#ed7953\"],[0.7777777777777778,\"#fb9f3a\"],[0.8888888888888888,\"#fdca26\"],[1.0,\"#f0f921\"]],\"type\":\"heatmap\"}],\"histogram2dcontour\":[{\"colorbar\":{\"outlinewidth\":0,\"ticks\":\"\"},\"colorscale\":[[0.0,\"#0d0887\"],[0.1111111111111111,\"#46039f\"],[0.2222222222222222,\"#7201a8\"],[0.3333333333333333,\"#9c179e\"],[0.4444444444444444,\"#bd3786\"],[0.5555555555555556,\"#d8576b\"],[0.6666666666666666,\"#ed7953\"],[0.7777777777777778,\"#fb9f3a\"],[0.8888888888888888,\"#fdca26\"],[1.0,\"#f0f921\"]],\"type\":\"histogram2dcontour\"}],\"histogram2d\":[{\"colorbar\":{\"outlinewidth\":0,\"ticks\":\"\"},\"colorscale\":[[0.0,\"#0d0887\"],[0.1111111111111111,\"#46039f\"],[0.2222222222222222,\"#7201a8\"],[0.3333333333333333,\"#9c179e\"],[0.4444444444444444,\"#bd3786\"],[0.5555555555555556,\"#d8576b\"],[0.6666666666666666,\"#ed7953\"],[0.7777777777777778,\"#fb9f3a\"],[0.8888888888888888,\"#fdca26\"],[1.0,\"#f0f921\"]],\"type\":\"histogram2d\"}],\"histogram\":[{\"marker\":{\"pattern\":{\"fillmode\":\"overlay\",\"size\":10,\"solidity\":0.2}},\"type\":\"histogram\"}],\"mesh3d\":[{\"colorbar\":{\"outlinewidth\":0,\"ticks\":\"\"},\"type\":\"mesh3d\"}],\"parcoords\":[{\"line\":{\"colorbar\":{\"outlinewidth\":0,\"ticks\":\"\"}},\"type\":\"parcoords\"}],\"pie\":[{\"automargin\":true,\"type\":\"pie\"}],\"scatter3d\":[{\"line\":{\"colorbar\":{\"outlinewidth\":0,\"ticks\":\"\"}},\"marker\":{\"colorbar\":{\"outlinewidth\":0,\"ticks\":\"\"}},\"type\":\"scatter3d\"}],\"scattercarpet\":[{\"marker\":{\"colorbar\":{\"outlinewidth\":0,\"ticks\":\"\"}},\"type\":\"scattercarpet\"}],\"scattergeo\":[{\"marker\":{\"colorbar\":{\"outlinewidth\":0,\"ticks\":\"\"}},\"type\":\"scattergeo\"}],\"scattergl\":[{\"marker\":{\"colorbar\":{\"outlinewidth\":0,\"ticks\":\"\"}},\"type\":\"scattergl\"}],\"scattermapbox\":[{\"marker\":{\"colorbar\":{\"outlinewidth\":0,\"ticks\":\"\"}},\"type\":\"scattermapbox\"}],\"scatterpolargl\":[{\"marker\":{\"colorbar\":{\"outlinewidth\":0,\"ticks\":\"\"}},\"type\":\"scatterpolargl\"}],\"scatterpolar\":[{\"marker\":{\"colorbar\":{\"outlinewidth\":0,\"ticks\":\"\"}},\"type\":\"scatterpolar\"}],\"scatter\":[{\"fillpattern\":{\"fillmode\":\"overlay\",\"size\":10,\"solidity\":0.2},\"type\":\"scatter\"}],\"scatterternary\":[{\"marker\":{\"colorbar\":{\"outlinewidth\":0,\"ticks\":\"\"}},\"type\":\"scatterternary\"}],\"surface\":[{\"colorbar\":{\"outlinewidth\":0,\"ticks\":\"\"},\"colorscale\":[[0.0,\"#0d0887\"],[0.1111111111111111,\"#46039f\"],[0.2222222222222222,\"#7201a8\"],[0.3333333333333333,\"#9c179e\"],[0.4444444444444444,\"#bd3786\"],[0.5555555555555556,\"#d8576b\"],[0.6666666666666666,\"#ed7953\"],[0.7777777777777778,\"#fb9f3a\"],[0.8888888888888888,\"#fdca26\"],[1.0,\"#f0f921\"]],\"type\":\"surface\"}],\"table\":[{\"cells\":{\"fill\":{\"color\":\"#EBF0F8\"},\"line\":{\"color\":\"white\"}},\"header\":{\"fill\":{\"color\":\"#C8D4E3\"},\"line\":{\"color\":\"white\"}},\"type\":\"table\"}]},\"layout\":{\"annotationdefaults\":{\"arrowcolor\":\"#2a3f5f\",\"arrowhead\":0,\"arrowwidth\":1},\"autotypenumbers\":\"strict\",\"coloraxis\":{\"colorbar\":{\"outlinewidth\":0,\"ticks\":\"\"}},\"colorscale\":{\"diverging\":[[0,\"#8e0152\"],[0.1,\"#c51b7d\"],[0.2,\"#de77ae\"],[0.3,\"#f1b6da\"],[0.4,\"#fde0ef\"],[0.5,\"#f7f7f7\"],[0.6,\"#e6f5d0\"],[0.7,\"#b8e186\"],[0.8,\"#7fbc41\"],[0.9,\"#4d9221\"],[1,\"#276419\"]],\"sequential\":[[0.0,\"#0d0887\"],[0.1111111111111111,\"#46039f\"],[0.2222222222222222,\"#7201a8\"],[0.3333333333333333,\"#9c179e\"],[0.4444444444444444,\"#bd3786\"],[0.5555555555555556,\"#d8576b\"],[0.6666666666666666,\"#ed7953\"],[0.7777777777777778,\"#fb9f3a\"],[0.8888888888888888,\"#fdca26\"],[1.0,\"#f0f921\"]],\"sequentialminus\":[[0.0,\"#0d0887\"],[0.1111111111111111,\"#46039f\"],[0.2222222222222222,\"#7201a8\"],[0.3333333333333333,\"#9c179e\"],[0.4444444444444444,\"#bd3786\"],[0.5555555555555556,\"#d8576b\"],[0.6666666666666666,\"#ed7953\"],[0.7777777777777778,\"#fb9f3a\"],[0.8888888888888888,\"#fdca26\"],[1.0,\"#f0f921\"]]},\"colorway\":[\"#636efa\",\"#EF553B\",\"#00cc96\",\"#ab63fa\",\"#FFA15A\",\"#19d3f3\",\"#FF6692\",\"#B6E880\",\"#FF97FF\",\"#FECB52\"],\"font\":{\"color\":\"#2a3f5f\"},\"geo\":{\"bgcolor\":\"white\",\"lakecolor\":\"white\",\"landcolor\":\"white\",\"showlakes\":true,\"showland\":true,\"subunitcolor\":\"#C8D4E3\"},\"hoverlabel\":{\"align\":\"left\"},\"hovermode\":\"closest\",\"mapbox\":{\"style\":\"light\"},\"paper_bgcolor\":\"white\",\"plot_bgcolor\":\"white\",\"polar\":{\"angularaxis\":{\"gridcolor\":\"#EBF0F8\",\"linecolor\":\"#EBF0F8\",\"ticks\":\"\"},\"bgcolor\":\"white\",\"radialaxis\":{\"gridcolor\":\"#EBF0F8\",\"linecolor\":\"#EBF0F8\",\"ticks\":\"\"}},\"scene\":{\"xaxis\":{\"backgroundcolor\":\"white\",\"gridcolor\":\"#DFE8F3\",\"gridwidth\":2,\"linecolor\":\"#EBF0F8\",\"showbackground\":true,\"ticks\":\"\",\"zerolinecolor\":\"#EBF0F8\"},\"yaxis\":{\"backgroundcolor\":\"white\",\"gridcolor\":\"#DFE8F3\",\"gridwidth\":2,\"linecolor\":\"#EBF0F8\",\"showbackground\":true,\"ticks\":\"\",\"zerolinecolor\":\"#EBF0F8\"},\"zaxis\":{\"backgroundcolor\":\"white\",\"gridcolor\":\"#DFE8F3\",\"gridwidth\":2,\"linecolor\":\"#EBF0F8\",\"showbackground\":true,\"ticks\":\"\",\"zerolinecolor\":\"#EBF0F8\"}},\"shapedefaults\":{\"line\":{\"color\":\"#2a3f5f\"}},\"ternary\":{\"aaxis\":{\"gridcolor\":\"#DFE8F3\",\"linecolor\":\"#A2B1C6\",\"ticks\":\"\"},\"baxis\":{\"gridcolor\":\"#DFE8F3\",\"linecolor\":\"#A2B1C6\",\"ticks\":\"\"},\"bgcolor\":\"white\",\"caxis\":{\"gridcolor\":\"#DFE8F3\",\"linecolor\":\"#A2B1C6\",\"ticks\":\"\"}},\"title\":{\"x\":0.05},\"xaxis\":{\"automargin\":true,\"gridcolor\":\"#EBF0F8\",\"linecolor\":\"#EBF0F8\",\"ticks\":\"\",\"title\":{\"standoff\":15},\"zerolinecolor\":\"#EBF0F8\",\"zerolinewidth\":2},\"yaxis\":{\"automargin\":true,\"gridcolor\":\"#EBF0F8\",\"linecolor\":\"#EBF0F8\",\"ticks\":\"\",\"title\":{\"standoff\":15},\"zerolinecolor\":\"#EBF0F8\",\"zerolinewidth\":2}}},\"xaxis\":{\"anchor\":\"y\",\"domain\":[0.0,0.175],\"showgrid\":true},\"yaxis\":{\"anchor\":\"x\",\"domain\":[0.9061224489795918,1.0],\"showgrid\":true},\"xaxis2\":{\"anchor\":\"y2\",\"domain\":[0.275,0.45],\"showgrid\":true},\"yaxis2\":{\"anchor\":\"x2\",\"domain\":[0.9061224489795918,1.0],\"showgrid\":true},\"xaxis3\":{\"anchor\":\"y3\",\"domain\":[0.55,0.7250000000000001],\"showgrid\":true},\"yaxis3\":{\"anchor\":\"x3\",\"domain\":[0.9061224489795918,1.0],\"showgrid\":true},\"xaxis4\":{\"anchor\":\"y4\",\"domain\":[0.825,1.0],\"showgrid\":true},\"yaxis4\":{\"anchor\":\"x4\",\"domain\":[0.9061224489795918,1.0],\"showgrid\":true},\"xaxis5\":{\"anchor\":\"y5\",\"domain\":[0.0,0.175],\"showgrid\":true},\"yaxis5\":{\"anchor\":\"x5\",\"domain\":[0.7551020408163266,0.8489795918367348],\"showgrid\":true},\"xaxis6\":{\"anchor\":\"y6\",\"domain\":[0.275,0.45],\"showgrid\":true},\"yaxis6\":{\"anchor\":\"x6\",\"domain\":[0.7551020408163266,0.8489795918367348],\"showgrid\":true},\"xaxis7\":{\"anchor\":\"y7\",\"domain\":[0.55,0.7250000000000001],\"showgrid\":true},\"yaxis7\":{\"anchor\":\"x7\",\"domain\":[0.7551020408163266,0.8489795918367348],\"showgrid\":true},\"xaxis8\":{\"anchor\":\"y8\",\"domain\":[0.825,1.0],\"showgrid\":true},\"yaxis8\":{\"anchor\":\"x8\",\"domain\":[0.7551020408163266,0.8489795918367348],\"showgrid\":true},\"xaxis9\":{\"anchor\":\"y9\",\"domain\":[0.0,0.175],\"showgrid\":true},\"yaxis9\":{\"anchor\":\"x9\",\"domain\":[0.6040816326530613,0.6979591836734694],\"showgrid\":true},\"xaxis10\":{\"anchor\":\"y10\",\"domain\":[0.275,0.45],\"showgrid\":true},\"yaxis10\":{\"anchor\":\"x10\",\"domain\":[0.6040816326530613,0.6979591836734694],\"showgrid\":true},\"xaxis11\":{\"anchor\":\"y11\",\"domain\":[0.55,0.7250000000000001],\"showgrid\":true},\"yaxis11\":{\"anchor\":\"x11\",\"domain\":[0.6040816326530613,0.6979591836734694],\"showgrid\":true},\"xaxis12\":{\"anchor\":\"y12\",\"domain\":[0.825,1.0],\"showgrid\":true},\"yaxis12\":{\"anchor\":\"x12\",\"domain\":[0.6040816326530613,0.6979591836734694],\"showgrid\":true},\"xaxis13\":{\"anchor\":\"y13\",\"domain\":[0.0,0.175],\"showgrid\":true},\"yaxis13\":{\"anchor\":\"x13\",\"domain\":[0.4530612244897959,0.5469387755102041],\"showgrid\":true},\"xaxis14\":{\"anchor\":\"y14\",\"domain\":[0.275,0.45],\"showgrid\":true},\"yaxis14\":{\"anchor\":\"x14\",\"domain\":[0.4530612244897959,0.5469387755102041],\"showgrid\":true},\"xaxis15\":{\"anchor\":\"y15\",\"domain\":[0.55,0.7250000000000001],\"showgrid\":true},\"yaxis15\":{\"anchor\":\"x15\",\"domain\":[0.4530612244897959,0.5469387755102041],\"showgrid\":true},\"xaxis16\":{\"anchor\":\"y16\",\"domain\":[0.825,1.0],\"showgrid\":true},\"yaxis16\":{\"anchor\":\"x16\",\"domain\":[0.4530612244897959,0.5469387755102041],\"showgrid\":true},\"xaxis17\":{\"anchor\":\"y17\",\"domain\":[0.0,0.175],\"showgrid\":true},\"yaxis17\":{\"anchor\":\"x17\",\"domain\":[0.3020408163265306,0.3959183673469388],\"showgrid\":true},\"xaxis18\":{\"anchor\":\"y18\",\"domain\":[0.275,0.45],\"showgrid\":true},\"yaxis18\":{\"anchor\":\"x18\",\"domain\":[0.3020408163265306,0.3959183673469388],\"showgrid\":true},\"xaxis19\":{\"anchor\":\"y19\",\"domain\":[0.55,0.7250000000000001],\"showgrid\":true},\"yaxis19\":{\"anchor\":\"x19\",\"domain\":[0.3020408163265306,0.3959183673469388],\"showgrid\":true},\"xaxis20\":{\"anchor\":\"y20\",\"domain\":[0.825,1.0],\"showgrid\":true},\"yaxis20\":{\"anchor\":\"x20\",\"domain\":[0.3020408163265306,0.3959183673469388],\"showgrid\":true},\"xaxis21\":{\"anchor\":\"y21\",\"domain\":[0.0,0.175],\"showgrid\":true},\"yaxis21\":{\"anchor\":\"x21\",\"domain\":[0.1510204081632653,0.24489795918367346],\"showgrid\":true},\"xaxis22\":{\"anchor\":\"y22\",\"domain\":[0.275,0.45],\"showgrid\":true},\"yaxis22\":{\"anchor\":\"x22\",\"domain\":[0.1510204081632653,0.24489795918367346],\"showgrid\":true},\"xaxis23\":{\"anchor\":\"y23\",\"domain\":[0.55,0.7250000000000001],\"showgrid\":true},\"yaxis23\":{\"anchor\":\"x23\",\"domain\":[0.1510204081632653,0.24489795918367346],\"showgrid\":true},\"xaxis24\":{\"anchor\":\"y24\",\"domain\":[0.825,1.0],\"showgrid\":true},\"yaxis24\":{\"anchor\":\"x24\",\"domain\":[0.1510204081632653,0.24489795918367346],\"showgrid\":true},\"xaxis25\":{\"anchor\":\"y25\",\"domain\":[0.0,0.175],\"showgrid\":true},\"yaxis25\":{\"anchor\":\"x25\",\"domain\":[0.0,0.09387755102040816],\"showgrid\":true},\"xaxis26\":{\"anchor\":\"y26\",\"domain\":[0.275,0.45],\"showgrid\":true},\"yaxis26\":{\"anchor\":\"x26\",\"domain\":[0.0,0.09387755102040816],\"showgrid\":true},\"xaxis27\":{\"anchor\":\"y27\",\"domain\":[0.55,0.7250000000000001],\"showgrid\":true},\"yaxis27\":{\"anchor\":\"x27\",\"domain\":[0.0,0.09387755102040816],\"showgrid\":true},\"xaxis28\":{\"anchor\":\"y28\",\"domain\":[0.825,1.0],\"showgrid\":true},\"yaxis28\":{\"anchor\":\"x28\",\"domain\":[0.0,0.09387755102040816],\"showgrid\":true},\"annotations\":[{\"font\":{\"size\":16},\"showarrow\":false,\"text\":\"Topic 0\",\"x\":0.0875,\"xanchor\":\"center\",\"xref\":\"paper\",\"y\":1.0,\"yanchor\":\"bottom\",\"yref\":\"paper\"},{\"font\":{\"size\":16},\"showarrow\":false,\"text\":\"Topic 1\",\"x\":0.36250000000000004,\"xanchor\":\"center\",\"xref\":\"paper\",\"y\":1.0,\"yanchor\":\"bottom\",\"yref\":\"paper\"},{\"font\":{\"size\":16},\"showarrow\":false,\"text\":\"Topic 2\",\"x\":0.6375000000000001,\"xanchor\":\"center\",\"xref\":\"paper\",\"y\":1.0,\"yanchor\":\"bottom\",\"yref\":\"paper\"},{\"font\":{\"size\":16},\"showarrow\":false,\"text\":\"Topic 3\",\"x\":0.9125,\"xanchor\":\"center\",\"xref\":\"paper\",\"y\":1.0,\"yanchor\":\"bottom\",\"yref\":\"paper\"},{\"font\":{\"size\":16},\"showarrow\":false,\"text\":\"Topic 4\",\"x\":0.0875,\"xanchor\":\"center\",\"xref\":\"paper\",\"y\":0.8489795918367348,\"yanchor\":\"bottom\",\"yref\":\"paper\"},{\"font\":{\"size\":16},\"showarrow\":false,\"text\":\"Topic 5\",\"x\":0.36250000000000004,\"xanchor\":\"center\",\"xref\":\"paper\",\"y\":0.8489795918367348,\"yanchor\":\"bottom\",\"yref\":\"paper\"},{\"font\":{\"size\":16},\"showarrow\":false,\"text\":\"Topic 6\",\"x\":0.6375000000000001,\"xanchor\":\"center\",\"xref\":\"paper\",\"y\":0.8489795918367348,\"yanchor\":\"bottom\",\"yref\":\"paper\"},{\"font\":{\"size\":16},\"showarrow\":false,\"text\":\"Topic 7\",\"x\":0.9125,\"xanchor\":\"center\",\"xref\":\"paper\",\"y\":0.8489795918367348,\"yanchor\":\"bottom\",\"yref\":\"paper\"},{\"font\":{\"size\":16},\"showarrow\":false,\"text\":\"Topic 8\",\"x\":0.0875,\"xanchor\":\"center\",\"xref\":\"paper\",\"y\":0.6979591836734694,\"yanchor\":\"bottom\",\"yref\":\"paper\"},{\"font\":{\"size\":16},\"showarrow\":false,\"text\":\"Topic 9\",\"x\":0.36250000000000004,\"xanchor\":\"center\",\"xref\":\"paper\",\"y\":0.6979591836734694,\"yanchor\":\"bottom\",\"yref\":\"paper\"},{\"font\":{\"size\":16},\"showarrow\":false,\"text\":\"Topic 10\",\"x\":0.6375000000000001,\"xanchor\":\"center\",\"xref\":\"paper\",\"y\":0.6979591836734694,\"yanchor\":\"bottom\",\"yref\":\"paper\"},{\"font\":{\"size\":16},\"showarrow\":false,\"text\":\"Topic 11\",\"x\":0.9125,\"xanchor\":\"center\",\"xref\":\"paper\",\"y\":0.6979591836734694,\"yanchor\":\"bottom\",\"yref\":\"paper\"},{\"font\":{\"size\":16},\"showarrow\":false,\"text\":\"Topic 12\",\"x\":0.0875,\"xanchor\":\"center\",\"xref\":\"paper\",\"y\":0.5469387755102041,\"yanchor\":\"bottom\",\"yref\":\"paper\"},{\"font\":{\"size\":16},\"showarrow\":false,\"text\":\"Topic 13\",\"x\":0.36250000000000004,\"xanchor\":\"center\",\"xref\":\"paper\",\"y\":0.5469387755102041,\"yanchor\":\"bottom\",\"yref\":\"paper\"},{\"font\":{\"size\":16},\"showarrow\":false,\"text\":\"Topic 14\",\"x\":0.6375000000000001,\"xanchor\":\"center\",\"xref\":\"paper\",\"y\":0.5469387755102041,\"yanchor\":\"bottom\",\"yref\":\"paper\"},{\"font\":{\"size\":16},\"showarrow\":false,\"text\":\"Topic 15\",\"x\":0.9125,\"xanchor\":\"center\",\"xref\":\"paper\",\"y\":0.5469387755102041,\"yanchor\":\"bottom\",\"yref\":\"paper\"},{\"font\":{\"size\":16},\"showarrow\":false,\"text\":\"Topic 16\",\"x\":0.0875,\"xanchor\":\"center\",\"xref\":\"paper\",\"y\":0.3959183673469388,\"yanchor\":\"bottom\",\"yref\":\"paper\"},{\"font\":{\"size\":16},\"showarrow\":false,\"text\":\"Topic 17\",\"x\":0.36250000000000004,\"xanchor\":\"center\",\"xref\":\"paper\",\"y\":0.3959183673469388,\"yanchor\":\"bottom\",\"yref\":\"paper\"},{\"font\":{\"size\":16},\"showarrow\":false,\"text\":\"Topic 18\",\"x\":0.6375000000000001,\"xanchor\":\"center\",\"xref\":\"paper\",\"y\":0.3959183673469388,\"yanchor\":\"bottom\",\"yref\":\"paper\"},{\"font\":{\"size\":16},\"showarrow\":false,\"text\":\"Topic 19\",\"x\":0.9125,\"xanchor\":\"center\",\"xref\":\"paper\",\"y\":0.3959183673469388,\"yanchor\":\"bottom\",\"yref\":\"paper\"},{\"font\":{\"size\":16},\"showarrow\":false,\"text\":\"Topic 20\",\"x\":0.0875,\"xanchor\":\"center\",\"xref\":\"paper\",\"y\":0.24489795918367346,\"yanchor\":\"bottom\",\"yref\":\"paper\"},{\"font\":{\"size\":16},\"showarrow\":false,\"text\":\"Topic 21\",\"x\":0.36250000000000004,\"xanchor\":\"center\",\"xref\":\"paper\",\"y\":0.24489795918367346,\"yanchor\":\"bottom\",\"yref\":\"paper\"},{\"font\":{\"size\":16},\"showarrow\":false,\"text\":\"Topic 22\",\"x\":0.6375000000000001,\"xanchor\":\"center\",\"xref\":\"paper\",\"y\":0.24489795918367346,\"yanchor\":\"bottom\",\"yref\":\"paper\"},{\"font\":{\"size\":16},\"showarrow\":false,\"text\":\"Topic 23\",\"x\":0.9125,\"xanchor\":\"center\",\"xref\":\"paper\",\"y\":0.24489795918367346,\"yanchor\":\"bottom\",\"yref\":\"paper\"},{\"font\":{\"size\":16},\"showarrow\":false,\"text\":\"Topic 24\",\"x\":0.0875,\"xanchor\":\"center\",\"xref\":\"paper\",\"y\":0.09387755102040816,\"yanchor\":\"bottom\",\"yref\":\"paper\"},{\"font\":{\"size\":16},\"showarrow\":false,\"text\":\"Topic 25\",\"x\":0.36250000000000004,\"xanchor\":\"center\",\"xref\":\"paper\",\"y\":0.09387755102040816,\"yanchor\":\"bottom\",\"yref\":\"paper\"},{\"font\":{\"size\":16},\"showarrow\":false,\"text\":\"Topic 26\",\"x\":0.6375000000000001,\"xanchor\":\"center\",\"xref\":\"paper\",\"y\":0.09387755102040816,\"yanchor\":\"bottom\",\"yref\":\"paper\"},{\"font\":{\"size\":16},\"showarrow\":false,\"text\":\"Topic 27\",\"x\":0.9125,\"xanchor\":\"center\",\"xref\":\"paper\",\"y\":0.09387755102040816,\"yanchor\":\"bottom\",\"yref\":\"paper\"}],\"title\":{\"font\":{\"size\":22,\"color\":\"Black\"},\"text\":\"Topic Word Scores\",\"x\":0.5,\"xanchor\":\"center\",\"yanchor\":\"top\"},\"hoverlabel\":{\"font\":{\"size\":16,\"family\":\"Rockwell\"},\"bgcolor\":\"white\"},\"showlegend\":false,\"width\":1000,\"height\":1750},                        {\"responsive\": true}                    ).then(function(){\n",
              "                            \n",
              "var gd = document.getElementById('f866ab8e-687b-4e5e-b1f1-5da01b44f999');\n",
              "var x = new MutationObserver(function (mutations, observer) {{\n",
              "        var display = window.getComputedStyle(gd).display;\n",
              "        if (!display || display === 'none') {{\n",
              "            console.log([gd, 'removed!']);\n",
              "            Plotly.purge(gd);\n",
              "            observer.disconnect();\n",
              "        }}\n",
              "}});\n",
              "\n",
              "// Listen for the removal of the full notebook cells\n",
              "var notebookContainer = gd.closest('#notebook-container');\n",
              "if (notebookContainer) {{\n",
              "    x.observe(notebookContainer, {childList: true});\n",
              "}}\n",
              "\n",
              "// Listen for the clearing of the current output cell\n",
              "var outputEl = gd.closest('.output');\n",
              "if (outputEl) {{\n",
              "    x.observe(outputEl, {childList: true});\n",
              "}}\n",
              "\n",
              "                        })                };                            </script>        </div>\n",
              "</body>\n",
              "</html>"
            ]
          },
          "metadata": {}
        }
      ]
    },
    {
      "cell_type": "code",
      "source": [
        "model.visualize_topics()"
      ],
      "metadata": {
        "colab": {
          "base_uri": "https://localhost:8080/",
          "height": 667
        },
        "id": "iJxZQhKql-0x",
        "outputId": "180e6f75-ee0d-44ba-94c6-9117d4ca7274"
      },
      "execution_count": 85,
      "outputs": [
        {
          "output_type": "display_data",
          "data": {
            "text/html": [
              "<html>\n",
              "<head><meta charset=\"utf-8\" /></head>\n",
              "<body>\n",
              "    <div>            <script src=\"https://cdnjs.cloudflare.com/ajax/libs/mathjax/2.7.5/MathJax.js?config=TeX-AMS-MML_SVG\"></script><script type=\"text/javascript\">if (window.MathJax && window.MathJax.Hub && window.MathJax.Hub.Config) {window.MathJax.Hub.Config({SVG: {font: \"STIX-Web\"}});}</script>                <script type=\"text/javascript\">window.PlotlyConfig = {MathJaxConfig: 'local'};</script>\n",
              "        <script charset=\"utf-8\" src=\"https://cdn.plot.ly/plotly-2.24.1.min.js\"></script>                <div id=\"38755b5d-799d-40c7-8f12-6154a58ed577\" class=\"plotly-graph-div\" style=\"height:650px; width:650px;\"></div>            <script type=\"text/javascript\">                                    window.PLOTLYENV=window.PLOTLYENV || {};                                    if (document.getElementById(\"38755b5d-799d-40c7-8f12-6154a58ed577\")) {                    Plotly.newPlot(                        \"38755b5d-799d-40c7-8f12-6154a58ed577\",                        [{\"customdata\":[[0,\"price | delivery | performance | satisfied | very\",1958],[1,\"price | camera | budget | phone | quality\",1694],[2,\"lenovo | k8 | note | k4 | k5\",1438],[3,\"camera | quality | dual | front | performance\",776],[4,\"mobile | futures | mobiles | superb | mobil\",337],[5,\"hai | ka | nahi | bhi | bekar\",220],[6,\"heating | heat | heated | issue | overheating\",217],[7,\"earphone | ear | headphone | headset | earphones\",216],[8,\"heating | camera | drainage | heats | quality\",202],[9,\"speaker | dolby | atmos | volume | left\",198],[10,\"heat | heating | heats | hot | heated\",195],[11,\"jio | sim | 4g | 3g | lte\",171],[12,\"glass | broken | screen | broke | cracked\",164],[13,\"battery | bead | discharging | performance | problem\",145],[14,\"useless | amazon | drained | charge | phone\",140],[15,\"heat | heating | mobile | heated | charging\",139],[16,\"cast | tv | screen | casting | mirroring\",136],[17,\"backup | battery | chargingphone | badbad | backuptake\",125],[18,\"signal | wifi | signals | reception | connection\",113],[19,\"charger | charge | charging | months | hours\",113],[20,\"turbo | charging | turbocharger | hrs | charges\",102],[21,\"draining | drain | drains | quickly | drained\",90],[22,\"handset | signale | handsfree | hand | rs11999\",86],[23,\"recording | call | recorder | record | voice\",83],[24,\"oreo | update | updating | android | os\",72],[25,\"hanging | hanged | hang | hangs | apps\",67],[26,\"bill | invoice | mail | tax | gst\",67],[27,\"volte | lte | supported | 4g | netwrok\",56]],\"hovertemplate\":\"\\u003cb\\u003eTopic %{customdata[0]}\\u003c\\u002fb\\u003e\\u003cbr\\u003e%{customdata[1]}\\u003cbr\\u003eSize: %{customdata[2]}\",\"legendgroup\":\"\",\"marker\":{\"color\":\"#B0BEC5\",\"size\":[1958,1694,1438,776,337,220,217,216,202,198,195,171,164,145,140,139,136,125,113,113,102,90,86,83,72,67,67,56],\"sizemode\":\"area\",\"sizeref\":1.22375,\"symbol\":\"circle\",\"line\":{\"color\":\"DarkSlateGrey\",\"width\":2}},\"mode\":\"markers\",\"name\":\"\",\"orientation\":\"v\",\"showlegend\":false,\"x\":[11.081825256347656,11.764703750610352,12.501697540283203,-11.326696395874023,11.264785766601562,13.718810081481934,-4.775356769561768,16.68037223815918,-11.298772811889648,16.62091636657715,-4.396579265594482,15.063591957092285,14.14095687866211,8.695012092590332,13.723999977111816,-4.546162128448486,11.694884300231934,8.508628845214844,15.046340942382812,9.084811210632324,8.897317886352539,8.333797454833984,11.857664108276367,11.815207481384277,12.644076347351074,13.984221458435059,9.354609489440918,14.770256042480469],\"xaxis\":\"x\",\"y\":[-2.1968307495117188,-2.4495277404785156,-2.6479110717773438,6.138839244842529,-2.3599748611450195,-1.1681987047195435,4.329624652862549,14.962400436401367,6.128119945526123,15.020807266235352,4.708856582641602,0.913890540599823,-1.2421681880950928,17.5166015625,-1.509833574295044,4.559048652648926,-3.5193004608154297,17.65242576599121,1.1469818353652954,17.168230056762695,16.87982177734375,17.34461212158203,-2.5442054271698,-3.2759857177734375,-2.542815685272217,-1.611545205116272,16.842487335205078,0.9988078474998474],\"yaxis\":\"y\",\"type\":\"scatter\"}],                        {\"template\":{\"data\":{\"barpolar\":[{\"marker\":{\"line\":{\"color\":\"white\",\"width\":0.5},\"pattern\":{\"fillmode\":\"overlay\",\"size\":10,\"solidity\":0.2}},\"type\":\"barpolar\"}],\"bar\":[{\"error_x\":{\"color\":\"rgb(36,36,36)\"},\"error_y\":{\"color\":\"rgb(36,36,36)\"},\"marker\":{\"line\":{\"color\":\"white\",\"width\":0.5},\"pattern\":{\"fillmode\":\"overlay\",\"size\":10,\"solidity\":0.2}},\"type\":\"bar\"}],\"carpet\":[{\"aaxis\":{\"endlinecolor\":\"rgb(36,36,36)\",\"gridcolor\":\"white\",\"linecolor\":\"white\",\"minorgridcolor\":\"white\",\"startlinecolor\":\"rgb(36,36,36)\"},\"baxis\":{\"endlinecolor\":\"rgb(36,36,36)\",\"gridcolor\":\"white\",\"linecolor\":\"white\",\"minorgridcolor\":\"white\",\"startlinecolor\":\"rgb(36,36,36)\"},\"type\":\"carpet\"}],\"choropleth\":[{\"colorbar\":{\"outlinewidth\":1,\"tickcolor\":\"rgb(36,36,36)\",\"ticks\":\"outside\"},\"type\":\"choropleth\"}],\"contourcarpet\":[{\"colorbar\":{\"outlinewidth\":1,\"tickcolor\":\"rgb(36,36,36)\",\"ticks\":\"outside\"},\"type\":\"contourcarpet\"}],\"contour\":[{\"colorbar\":{\"outlinewidth\":1,\"tickcolor\":\"rgb(36,36,36)\",\"ticks\":\"outside\"},\"colorscale\":[[0.0,\"#440154\"],[0.1111111111111111,\"#482878\"],[0.2222222222222222,\"#3e4989\"],[0.3333333333333333,\"#31688e\"],[0.4444444444444444,\"#26828e\"],[0.5555555555555556,\"#1f9e89\"],[0.6666666666666666,\"#35b779\"],[0.7777777777777778,\"#6ece58\"],[0.8888888888888888,\"#b5de2b\"],[1.0,\"#fde725\"]],\"type\":\"contour\"}],\"heatmapgl\":[{\"colorbar\":{\"outlinewidth\":1,\"tickcolor\":\"rgb(36,36,36)\",\"ticks\":\"outside\"},\"colorscale\":[[0.0,\"#440154\"],[0.1111111111111111,\"#482878\"],[0.2222222222222222,\"#3e4989\"],[0.3333333333333333,\"#31688e\"],[0.4444444444444444,\"#26828e\"],[0.5555555555555556,\"#1f9e89\"],[0.6666666666666666,\"#35b779\"],[0.7777777777777778,\"#6ece58\"],[0.8888888888888888,\"#b5de2b\"],[1.0,\"#fde725\"]],\"type\":\"heatmapgl\"}],\"heatmap\":[{\"colorbar\":{\"outlinewidth\":1,\"tickcolor\":\"rgb(36,36,36)\",\"ticks\":\"outside\"},\"colorscale\":[[0.0,\"#440154\"],[0.1111111111111111,\"#482878\"],[0.2222222222222222,\"#3e4989\"],[0.3333333333333333,\"#31688e\"],[0.4444444444444444,\"#26828e\"],[0.5555555555555556,\"#1f9e89\"],[0.6666666666666666,\"#35b779\"],[0.7777777777777778,\"#6ece58\"],[0.8888888888888888,\"#b5de2b\"],[1.0,\"#fde725\"]],\"type\":\"heatmap\"}],\"histogram2dcontour\":[{\"colorbar\":{\"outlinewidth\":1,\"tickcolor\":\"rgb(36,36,36)\",\"ticks\":\"outside\"},\"colorscale\":[[0.0,\"#440154\"],[0.1111111111111111,\"#482878\"],[0.2222222222222222,\"#3e4989\"],[0.3333333333333333,\"#31688e\"],[0.4444444444444444,\"#26828e\"],[0.5555555555555556,\"#1f9e89\"],[0.6666666666666666,\"#35b779\"],[0.7777777777777778,\"#6ece58\"],[0.8888888888888888,\"#b5de2b\"],[1.0,\"#fde725\"]],\"type\":\"histogram2dcontour\"}],\"histogram2d\":[{\"colorbar\":{\"outlinewidth\":1,\"tickcolor\":\"rgb(36,36,36)\",\"ticks\":\"outside\"},\"colorscale\":[[0.0,\"#440154\"],[0.1111111111111111,\"#482878\"],[0.2222222222222222,\"#3e4989\"],[0.3333333333333333,\"#31688e\"],[0.4444444444444444,\"#26828e\"],[0.5555555555555556,\"#1f9e89\"],[0.6666666666666666,\"#35b779\"],[0.7777777777777778,\"#6ece58\"],[0.8888888888888888,\"#b5de2b\"],[1.0,\"#fde725\"]],\"type\":\"histogram2d\"}],\"histogram\":[{\"marker\":{\"line\":{\"color\":\"white\",\"width\":0.6}},\"type\":\"histogram\"}],\"mesh3d\":[{\"colorbar\":{\"outlinewidth\":1,\"tickcolor\":\"rgb(36,36,36)\",\"ticks\":\"outside\"},\"type\":\"mesh3d\"}],\"parcoords\":[{\"line\":{\"colorbar\":{\"outlinewidth\":1,\"tickcolor\":\"rgb(36,36,36)\",\"ticks\":\"outside\"}},\"type\":\"parcoords\"}],\"pie\":[{\"automargin\":true,\"type\":\"pie\"}],\"scatter3d\":[{\"line\":{\"colorbar\":{\"outlinewidth\":1,\"tickcolor\":\"rgb(36,36,36)\",\"ticks\":\"outside\"}},\"marker\":{\"colorbar\":{\"outlinewidth\":1,\"tickcolor\":\"rgb(36,36,36)\",\"ticks\":\"outside\"}},\"type\":\"scatter3d\"}],\"scattercarpet\":[{\"marker\":{\"colorbar\":{\"outlinewidth\":1,\"tickcolor\":\"rgb(36,36,36)\",\"ticks\":\"outside\"}},\"type\":\"scattercarpet\"}],\"scattergeo\":[{\"marker\":{\"colorbar\":{\"outlinewidth\":1,\"tickcolor\":\"rgb(36,36,36)\",\"ticks\":\"outside\"}},\"type\":\"scattergeo\"}],\"scattergl\":[{\"marker\":{\"colorbar\":{\"outlinewidth\":1,\"tickcolor\":\"rgb(36,36,36)\",\"ticks\":\"outside\"}},\"type\":\"scattergl\"}],\"scattermapbox\":[{\"marker\":{\"colorbar\":{\"outlinewidth\":1,\"tickcolor\":\"rgb(36,36,36)\",\"ticks\":\"outside\"}},\"type\":\"scattermapbox\"}],\"scatterpolargl\":[{\"marker\":{\"colorbar\":{\"outlinewidth\":1,\"tickcolor\":\"rgb(36,36,36)\",\"ticks\":\"outside\"}},\"type\":\"scatterpolargl\"}],\"scatterpolar\":[{\"marker\":{\"colorbar\":{\"outlinewidth\":1,\"tickcolor\":\"rgb(36,36,36)\",\"ticks\":\"outside\"}},\"type\":\"scatterpolar\"}],\"scatter\":[{\"fillpattern\":{\"fillmode\":\"overlay\",\"size\":10,\"solidity\":0.2},\"type\":\"scatter\"}],\"scatterternary\":[{\"marker\":{\"colorbar\":{\"outlinewidth\":1,\"tickcolor\":\"rgb(36,36,36)\",\"ticks\":\"outside\"}},\"type\":\"scatterternary\"}],\"surface\":[{\"colorbar\":{\"outlinewidth\":1,\"tickcolor\":\"rgb(36,36,36)\",\"ticks\":\"outside\"},\"colorscale\":[[0.0,\"#440154\"],[0.1111111111111111,\"#482878\"],[0.2222222222222222,\"#3e4989\"],[0.3333333333333333,\"#31688e\"],[0.4444444444444444,\"#26828e\"],[0.5555555555555556,\"#1f9e89\"],[0.6666666666666666,\"#35b779\"],[0.7777777777777778,\"#6ece58\"],[0.8888888888888888,\"#b5de2b\"],[1.0,\"#fde725\"]],\"type\":\"surface\"}],\"table\":[{\"cells\":{\"fill\":{\"color\":\"rgb(237,237,237)\"},\"line\":{\"color\":\"white\"}},\"header\":{\"fill\":{\"color\":\"rgb(217,217,217)\"},\"line\":{\"color\":\"white\"}},\"type\":\"table\"}]},\"layout\":{\"annotationdefaults\":{\"arrowhead\":0,\"arrowwidth\":1},\"autotypenumbers\":\"strict\",\"coloraxis\":{\"colorbar\":{\"outlinewidth\":1,\"tickcolor\":\"rgb(36,36,36)\",\"ticks\":\"outside\"}},\"colorscale\":{\"diverging\":[[0.0,\"rgb(103,0,31)\"],[0.1,\"rgb(178,24,43)\"],[0.2,\"rgb(214,96,77)\"],[0.3,\"rgb(244,165,130)\"],[0.4,\"rgb(253,219,199)\"],[0.5,\"rgb(247,247,247)\"],[0.6,\"rgb(209,229,240)\"],[0.7,\"rgb(146,197,222)\"],[0.8,\"rgb(67,147,195)\"],[0.9,\"rgb(33,102,172)\"],[1.0,\"rgb(5,48,97)\"]],\"sequential\":[[0.0,\"#440154\"],[0.1111111111111111,\"#482878\"],[0.2222222222222222,\"#3e4989\"],[0.3333333333333333,\"#31688e\"],[0.4444444444444444,\"#26828e\"],[0.5555555555555556,\"#1f9e89\"],[0.6666666666666666,\"#35b779\"],[0.7777777777777778,\"#6ece58\"],[0.8888888888888888,\"#b5de2b\"],[1.0,\"#fde725\"]],\"sequentialminus\":[[0.0,\"#440154\"],[0.1111111111111111,\"#482878\"],[0.2222222222222222,\"#3e4989\"],[0.3333333333333333,\"#31688e\"],[0.4444444444444444,\"#26828e\"],[0.5555555555555556,\"#1f9e89\"],[0.6666666666666666,\"#35b779\"],[0.7777777777777778,\"#6ece58\"],[0.8888888888888888,\"#b5de2b\"],[1.0,\"#fde725\"]]},\"colorway\":[\"#1F77B4\",\"#FF7F0E\",\"#2CA02C\",\"#D62728\",\"#9467BD\",\"#8C564B\",\"#E377C2\",\"#7F7F7F\",\"#BCBD22\",\"#17BECF\"],\"font\":{\"color\":\"rgb(36,36,36)\"},\"geo\":{\"bgcolor\":\"white\",\"lakecolor\":\"white\",\"landcolor\":\"white\",\"showlakes\":true,\"showland\":true,\"subunitcolor\":\"white\"},\"hoverlabel\":{\"align\":\"left\"},\"hovermode\":\"closest\",\"mapbox\":{\"style\":\"light\"},\"paper_bgcolor\":\"white\",\"plot_bgcolor\":\"white\",\"polar\":{\"angularaxis\":{\"gridcolor\":\"rgb(232,232,232)\",\"linecolor\":\"rgb(36,36,36)\",\"showgrid\":false,\"showline\":true,\"ticks\":\"outside\"},\"bgcolor\":\"white\",\"radialaxis\":{\"gridcolor\":\"rgb(232,232,232)\",\"linecolor\":\"rgb(36,36,36)\",\"showgrid\":false,\"showline\":true,\"ticks\":\"outside\"}},\"scene\":{\"xaxis\":{\"backgroundcolor\":\"white\",\"gridcolor\":\"rgb(232,232,232)\",\"gridwidth\":2,\"linecolor\":\"rgb(36,36,36)\",\"showbackground\":true,\"showgrid\":false,\"showline\":true,\"ticks\":\"outside\",\"zeroline\":false,\"zerolinecolor\":\"rgb(36,36,36)\"},\"yaxis\":{\"backgroundcolor\":\"white\",\"gridcolor\":\"rgb(232,232,232)\",\"gridwidth\":2,\"linecolor\":\"rgb(36,36,36)\",\"showbackground\":true,\"showgrid\":false,\"showline\":true,\"ticks\":\"outside\",\"zeroline\":false,\"zerolinecolor\":\"rgb(36,36,36)\"},\"zaxis\":{\"backgroundcolor\":\"white\",\"gridcolor\":\"rgb(232,232,232)\",\"gridwidth\":2,\"linecolor\":\"rgb(36,36,36)\",\"showbackground\":true,\"showgrid\":false,\"showline\":true,\"ticks\":\"outside\",\"zeroline\":false,\"zerolinecolor\":\"rgb(36,36,36)\"}},\"shapedefaults\":{\"fillcolor\":\"black\",\"line\":{\"width\":0},\"opacity\":0.3},\"ternary\":{\"aaxis\":{\"gridcolor\":\"rgb(232,232,232)\",\"linecolor\":\"rgb(36,36,36)\",\"showgrid\":false,\"showline\":true,\"ticks\":\"outside\"},\"baxis\":{\"gridcolor\":\"rgb(232,232,232)\",\"linecolor\":\"rgb(36,36,36)\",\"showgrid\":false,\"showline\":true,\"ticks\":\"outside\"},\"bgcolor\":\"white\",\"caxis\":{\"gridcolor\":\"rgb(232,232,232)\",\"linecolor\":\"rgb(36,36,36)\",\"showgrid\":false,\"showline\":true,\"ticks\":\"outside\"}},\"title\":{\"x\":0.05},\"xaxis\":{\"automargin\":true,\"gridcolor\":\"rgb(232,232,232)\",\"linecolor\":\"rgb(36,36,36)\",\"showgrid\":false,\"showline\":true,\"ticks\":\"outside\",\"title\":{\"standoff\":15},\"zeroline\":false,\"zerolinecolor\":\"rgb(36,36,36)\"},\"yaxis\":{\"automargin\":true,\"gridcolor\":\"rgb(232,232,232)\",\"linecolor\":\"rgb(36,36,36)\",\"showgrid\":false,\"showline\":true,\"ticks\":\"outside\",\"title\":{\"standoff\":15},\"zeroline\":false,\"zerolinecolor\":\"rgb(36,36,36)\"}}},\"xaxis\":{\"anchor\":\"y\",\"domain\":[0.0,1.0],\"title\":{\"text\":\"\"},\"visible\":false,\"range\":[-13.025700855255128,19.182428073883056]},\"yaxis\":{\"anchor\":\"x\",\"domain\":[0.0,1.0],\"title\":{\"text\":\"\"},\"visible\":false,\"range\":[-4.047195529937744,20.300289630889893]},\"legend\":{\"tracegroupgap\":0,\"itemsizing\":\"constant\"},\"margin\":{\"t\":60},\"title\":{\"font\":{\"size\":22,\"color\":\"Black\"},\"text\":\"\\u003cb\\u003eIntertopic Distance Map\\u003c\\u002fb\\u003e\",\"y\":0.95,\"x\":0.5,\"xanchor\":\"center\",\"yanchor\":\"top\"},\"hoverlabel\":{\"font\":{\"size\":16,\"family\":\"Rockwell\"},\"bgcolor\":\"white\"},\"width\":650,\"height\":650,\"sliders\":[{\"active\":0,\"pad\":{\"t\":50},\"steps\":[{\"args\":[{\"marker.color\":[[\"red\",\"#B0BEC5\",\"#B0BEC5\",\"#B0BEC5\",\"#B0BEC5\",\"#B0BEC5\",\"#B0BEC5\",\"#B0BEC5\",\"#B0BEC5\",\"#B0BEC5\",\"#B0BEC5\",\"#B0BEC5\",\"#B0BEC5\",\"#B0BEC5\",\"#B0BEC5\",\"#B0BEC5\",\"#B0BEC5\",\"#B0BEC5\",\"#B0BEC5\",\"#B0BEC5\",\"#B0BEC5\",\"#B0BEC5\",\"#B0BEC5\",\"#B0BEC5\",\"#B0BEC5\",\"#B0BEC5\",\"#B0BEC5\",\"#B0BEC5\"]]}],\"label\":\"Topic 0\",\"method\":\"update\"},{\"args\":[{\"marker.color\":[[\"#B0BEC5\",\"red\",\"#B0BEC5\",\"#B0BEC5\",\"#B0BEC5\",\"#B0BEC5\",\"#B0BEC5\",\"#B0BEC5\",\"#B0BEC5\",\"#B0BEC5\",\"#B0BEC5\",\"#B0BEC5\",\"#B0BEC5\",\"#B0BEC5\",\"#B0BEC5\",\"#B0BEC5\",\"#B0BEC5\",\"#B0BEC5\",\"#B0BEC5\",\"#B0BEC5\",\"#B0BEC5\",\"#B0BEC5\",\"#B0BEC5\",\"#B0BEC5\",\"#B0BEC5\",\"#B0BEC5\",\"#B0BEC5\",\"#B0BEC5\"]]}],\"label\":\"Topic 1\",\"method\":\"update\"},{\"args\":[{\"marker.color\":[[\"#B0BEC5\",\"#B0BEC5\",\"red\",\"#B0BEC5\",\"#B0BEC5\",\"#B0BEC5\",\"#B0BEC5\",\"#B0BEC5\",\"#B0BEC5\",\"#B0BEC5\",\"#B0BEC5\",\"#B0BEC5\",\"#B0BEC5\",\"#B0BEC5\",\"#B0BEC5\",\"#B0BEC5\",\"#B0BEC5\",\"#B0BEC5\",\"#B0BEC5\",\"#B0BEC5\",\"#B0BEC5\",\"#B0BEC5\",\"#B0BEC5\",\"#B0BEC5\",\"#B0BEC5\",\"#B0BEC5\",\"#B0BEC5\",\"#B0BEC5\"]]}],\"label\":\"Topic 2\",\"method\":\"update\"},{\"args\":[{\"marker.color\":[[\"#B0BEC5\",\"#B0BEC5\",\"#B0BEC5\",\"red\",\"#B0BEC5\",\"#B0BEC5\",\"#B0BEC5\",\"#B0BEC5\",\"#B0BEC5\",\"#B0BEC5\",\"#B0BEC5\",\"#B0BEC5\",\"#B0BEC5\",\"#B0BEC5\",\"#B0BEC5\",\"#B0BEC5\",\"#B0BEC5\",\"#B0BEC5\",\"#B0BEC5\",\"#B0BEC5\",\"#B0BEC5\",\"#B0BEC5\",\"#B0BEC5\",\"#B0BEC5\",\"#B0BEC5\",\"#B0BEC5\",\"#B0BEC5\",\"#B0BEC5\"]]}],\"label\":\"Topic 3\",\"method\":\"update\"},{\"args\":[{\"marker.color\":[[\"#B0BEC5\",\"#B0BEC5\",\"#B0BEC5\",\"#B0BEC5\",\"red\",\"#B0BEC5\",\"#B0BEC5\",\"#B0BEC5\",\"#B0BEC5\",\"#B0BEC5\",\"#B0BEC5\",\"#B0BEC5\",\"#B0BEC5\",\"#B0BEC5\",\"#B0BEC5\",\"#B0BEC5\",\"#B0BEC5\",\"#B0BEC5\",\"#B0BEC5\",\"#B0BEC5\",\"#B0BEC5\",\"#B0BEC5\",\"#B0BEC5\",\"#B0BEC5\",\"#B0BEC5\",\"#B0BEC5\",\"#B0BEC5\",\"#B0BEC5\"]]}],\"label\":\"Topic 4\",\"method\":\"update\"},{\"args\":[{\"marker.color\":[[\"#B0BEC5\",\"#B0BEC5\",\"#B0BEC5\",\"#B0BEC5\",\"#B0BEC5\",\"red\",\"#B0BEC5\",\"#B0BEC5\",\"#B0BEC5\",\"#B0BEC5\",\"#B0BEC5\",\"#B0BEC5\",\"#B0BEC5\",\"#B0BEC5\",\"#B0BEC5\",\"#B0BEC5\",\"#B0BEC5\",\"#B0BEC5\",\"#B0BEC5\",\"#B0BEC5\",\"#B0BEC5\",\"#B0BEC5\",\"#B0BEC5\",\"#B0BEC5\",\"#B0BEC5\",\"#B0BEC5\",\"#B0BEC5\",\"#B0BEC5\"]]}],\"label\":\"Topic 5\",\"method\":\"update\"},{\"args\":[{\"marker.color\":[[\"#B0BEC5\",\"#B0BEC5\",\"#B0BEC5\",\"#B0BEC5\",\"#B0BEC5\",\"#B0BEC5\",\"red\",\"#B0BEC5\",\"#B0BEC5\",\"#B0BEC5\",\"#B0BEC5\",\"#B0BEC5\",\"#B0BEC5\",\"#B0BEC5\",\"#B0BEC5\",\"#B0BEC5\",\"#B0BEC5\",\"#B0BEC5\",\"#B0BEC5\",\"#B0BEC5\",\"#B0BEC5\",\"#B0BEC5\",\"#B0BEC5\",\"#B0BEC5\",\"#B0BEC5\",\"#B0BEC5\",\"#B0BEC5\",\"#B0BEC5\"]]}],\"label\":\"Topic 6\",\"method\":\"update\"},{\"args\":[{\"marker.color\":[[\"#B0BEC5\",\"#B0BEC5\",\"#B0BEC5\",\"#B0BEC5\",\"#B0BEC5\",\"#B0BEC5\",\"#B0BEC5\",\"red\",\"#B0BEC5\",\"#B0BEC5\",\"#B0BEC5\",\"#B0BEC5\",\"#B0BEC5\",\"#B0BEC5\",\"#B0BEC5\",\"#B0BEC5\",\"#B0BEC5\",\"#B0BEC5\",\"#B0BEC5\",\"#B0BEC5\",\"#B0BEC5\",\"#B0BEC5\",\"#B0BEC5\",\"#B0BEC5\",\"#B0BEC5\",\"#B0BEC5\",\"#B0BEC5\",\"#B0BEC5\"]]}],\"label\":\"Topic 7\",\"method\":\"update\"},{\"args\":[{\"marker.color\":[[\"#B0BEC5\",\"#B0BEC5\",\"#B0BEC5\",\"#B0BEC5\",\"#B0BEC5\",\"#B0BEC5\",\"#B0BEC5\",\"#B0BEC5\",\"red\",\"#B0BEC5\",\"#B0BEC5\",\"#B0BEC5\",\"#B0BEC5\",\"#B0BEC5\",\"#B0BEC5\",\"#B0BEC5\",\"#B0BEC5\",\"#B0BEC5\",\"#B0BEC5\",\"#B0BEC5\",\"#B0BEC5\",\"#B0BEC5\",\"#B0BEC5\",\"#B0BEC5\",\"#B0BEC5\",\"#B0BEC5\",\"#B0BEC5\",\"#B0BEC5\"]]}],\"label\":\"Topic 8\",\"method\":\"update\"},{\"args\":[{\"marker.color\":[[\"#B0BEC5\",\"#B0BEC5\",\"#B0BEC5\",\"#B0BEC5\",\"#B0BEC5\",\"#B0BEC5\",\"#B0BEC5\",\"#B0BEC5\",\"#B0BEC5\",\"red\",\"#B0BEC5\",\"#B0BEC5\",\"#B0BEC5\",\"#B0BEC5\",\"#B0BEC5\",\"#B0BEC5\",\"#B0BEC5\",\"#B0BEC5\",\"#B0BEC5\",\"#B0BEC5\",\"#B0BEC5\",\"#B0BEC5\",\"#B0BEC5\",\"#B0BEC5\",\"#B0BEC5\",\"#B0BEC5\",\"#B0BEC5\",\"#B0BEC5\"]]}],\"label\":\"Topic 9\",\"method\":\"update\"},{\"args\":[{\"marker.color\":[[\"#B0BEC5\",\"#B0BEC5\",\"#B0BEC5\",\"#B0BEC5\",\"#B0BEC5\",\"#B0BEC5\",\"#B0BEC5\",\"#B0BEC5\",\"#B0BEC5\",\"#B0BEC5\",\"red\",\"#B0BEC5\",\"#B0BEC5\",\"#B0BEC5\",\"#B0BEC5\",\"#B0BEC5\",\"#B0BEC5\",\"#B0BEC5\",\"#B0BEC5\",\"#B0BEC5\",\"#B0BEC5\",\"#B0BEC5\",\"#B0BEC5\",\"#B0BEC5\",\"#B0BEC5\",\"#B0BEC5\",\"#B0BEC5\",\"#B0BEC5\"]]}],\"label\":\"Topic 10\",\"method\":\"update\"},{\"args\":[{\"marker.color\":[[\"#B0BEC5\",\"#B0BEC5\",\"#B0BEC5\",\"#B0BEC5\",\"#B0BEC5\",\"#B0BEC5\",\"#B0BEC5\",\"#B0BEC5\",\"#B0BEC5\",\"#B0BEC5\",\"#B0BEC5\",\"red\",\"#B0BEC5\",\"#B0BEC5\",\"#B0BEC5\",\"#B0BEC5\",\"#B0BEC5\",\"#B0BEC5\",\"#B0BEC5\",\"#B0BEC5\",\"#B0BEC5\",\"#B0BEC5\",\"#B0BEC5\",\"#B0BEC5\",\"#B0BEC5\",\"#B0BEC5\",\"#B0BEC5\",\"#B0BEC5\"]]}],\"label\":\"Topic 11\",\"method\":\"update\"},{\"args\":[{\"marker.color\":[[\"#B0BEC5\",\"#B0BEC5\",\"#B0BEC5\",\"#B0BEC5\",\"#B0BEC5\",\"#B0BEC5\",\"#B0BEC5\",\"#B0BEC5\",\"#B0BEC5\",\"#B0BEC5\",\"#B0BEC5\",\"#B0BEC5\",\"red\",\"#B0BEC5\",\"#B0BEC5\",\"#B0BEC5\",\"#B0BEC5\",\"#B0BEC5\",\"#B0BEC5\",\"#B0BEC5\",\"#B0BEC5\",\"#B0BEC5\",\"#B0BEC5\",\"#B0BEC5\",\"#B0BEC5\",\"#B0BEC5\",\"#B0BEC5\",\"#B0BEC5\"]]}],\"label\":\"Topic 12\",\"method\":\"update\"},{\"args\":[{\"marker.color\":[[\"#B0BEC5\",\"#B0BEC5\",\"#B0BEC5\",\"#B0BEC5\",\"#B0BEC5\",\"#B0BEC5\",\"#B0BEC5\",\"#B0BEC5\",\"#B0BEC5\",\"#B0BEC5\",\"#B0BEC5\",\"#B0BEC5\",\"#B0BEC5\",\"red\",\"#B0BEC5\",\"#B0BEC5\",\"#B0BEC5\",\"#B0BEC5\",\"#B0BEC5\",\"#B0BEC5\",\"#B0BEC5\",\"#B0BEC5\",\"#B0BEC5\",\"#B0BEC5\",\"#B0BEC5\",\"#B0BEC5\",\"#B0BEC5\",\"#B0BEC5\"]]}],\"label\":\"Topic 13\",\"method\":\"update\"},{\"args\":[{\"marker.color\":[[\"#B0BEC5\",\"#B0BEC5\",\"#B0BEC5\",\"#B0BEC5\",\"#B0BEC5\",\"#B0BEC5\",\"#B0BEC5\",\"#B0BEC5\",\"#B0BEC5\",\"#B0BEC5\",\"#B0BEC5\",\"#B0BEC5\",\"#B0BEC5\",\"#B0BEC5\",\"red\",\"#B0BEC5\",\"#B0BEC5\",\"#B0BEC5\",\"#B0BEC5\",\"#B0BEC5\",\"#B0BEC5\",\"#B0BEC5\",\"#B0BEC5\",\"#B0BEC5\",\"#B0BEC5\",\"#B0BEC5\",\"#B0BEC5\",\"#B0BEC5\"]]}],\"label\":\"Topic 14\",\"method\":\"update\"},{\"args\":[{\"marker.color\":[[\"#B0BEC5\",\"#B0BEC5\",\"#B0BEC5\",\"#B0BEC5\",\"#B0BEC5\",\"#B0BEC5\",\"#B0BEC5\",\"#B0BEC5\",\"#B0BEC5\",\"#B0BEC5\",\"#B0BEC5\",\"#B0BEC5\",\"#B0BEC5\",\"#B0BEC5\",\"#B0BEC5\",\"red\",\"#B0BEC5\",\"#B0BEC5\",\"#B0BEC5\",\"#B0BEC5\",\"#B0BEC5\",\"#B0BEC5\",\"#B0BEC5\",\"#B0BEC5\",\"#B0BEC5\",\"#B0BEC5\",\"#B0BEC5\",\"#B0BEC5\"]]}],\"label\":\"Topic 15\",\"method\":\"update\"},{\"args\":[{\"marker.color\":[[\"#B0BEC5\",\"#B0BEC5\",\"#B0BEC5\",\"#B0BEC5\",\"#B0BEC5\",\"#B0BEC5\",\"#B0BEC5\",\"#B0BEC5\",\"#B0BEC5\",\"#B0BEC5\",\"#B0BEC5\",\"#B0BEC5\",\"#B0BEC5\",\"#B0BEC5\",\"#B0BEC5\",\"#B0BEC5\",\"red\",\"#B0BEC5\",\"#B0BEC5\",\"#B0BEC5\",\"#B0BEC5\",\"#B0BEC5\",\"#B0BEC5\",\"#B0BEC5\",\"#B0BEC5\",\"#B0BEC5\",\"#B0BEC5\",\"#B0BEC5\"]]}],\"label\":\"Topic 16\",\"method\":\"update\"},{\"args\":[{\"marker.color\":[[\"#B0BEC5\",\"#B0BEC5\",\"#B0BEC5\",\"#B0BEC5\",\"#B0BEC5\",\"#B0BEC5\",\"#B0BEC5\",\"#B0BEC5\",\"#B0BEC5\",\"#B0BEC5\",\"#B0BEC5\",\"#B0BEC5\",\"#B0BEC5\",\"#B0BEC5\",\"#B0BEC5\",\"#B0BEC5\",\"#B0BEC5\",\"red\",\"#B0BEC5\",\"#B0BEC5\",\"#B0BEC5\",\"#B0BEC5\",\"#B0BEC5\",\"#B0BEC5\",\"#B0BEC5\",\"#B0BEC5\",\"#B0BEC5\",\"#B0BEC5\"]]}],\"label\":\"Topic 17\",\"method\":\"update\"},{\"args\":[{\"marker.color\":[[\"#B0BEC5\",\"#B0BEC5\",\"#B0BEC5\",\"#B0BEC5\",\"#B0BEC5\",\"#B0BEC5\",\"#B0BEC5\",\"#B0BEC5\",\"#B0BEC5\",\"#B0BEC5\",\"#B0BEC5\",\"#B0BEC5\",\"#B0BEC5\",\"#B0BEC5\",\"#B0BEC5\",\"#B0BEC5\",\"#B0BEC5\",\"#B0BEC5\",\"red\",\"#B0BEC5\",\"#B0BEC5\",\"#B0BEC5\",\"#B0BEC5\",\"#B0BEC5\",\"#B0BEC5\",\"#B0BEC5\",\"#B0BEC5\",\"#B0BEC5\"]]}],\"label\":\"Topic 18\",\"method\":\"update\"},{\"args\":[{\"marker.color\":[[\"#B0BEC5\",\"#B0BEC5\",\"#B0BEC5\",\"#B0BEC5\",\"#B0BEC5\",\"#B0BEC5\",\"#B0BEC5\",\"#B0BEC5\",\"#B0BEC5\",\"#B0BEC5\",\"#B0BEC5\",\"#B0BEC5\",\"#B0BEC5\",\"#B0BEC5\",\"#B0BEC5\",\"#B0BEC5\",\"#B0BEC5\",\"#B0BEC5\",\"#B0BEC5\",\"red\",\"#B0BEC5\",\"#B0BEC5\",\"#B0BEC5\",\"#B0BEC5\",\"#B0BEC5\",\"#B0BEC5\",\"#B0BEC5\",\"#B0BEC5\"]]}],\"label\":\"Topic 19\",\"method\":\"update\"},{\"args\":[{\"marker.color\":[[\"#B0BEC5\",\"#B0BEC5\",\"#B0BEC5\",\"#B0BEC5\",\"#B0BEC5\",\"#B0BEC5\",\"#B0BEC5\",\"#B0BEC5\",\"#B0BEC5\",\"#B0BEC5\",\"#B0BEC5\",\"#B0BEC5\",\"#B0BEC5\",\"#B0BEC5\",\"#B0BEC5\",\"#B0BEC5\",\"#B0BEC5\",\"#B0BEC5\",\"#B0BEC5\",\"#B0BEC5\",\"red\",\"#B0BEC5\",\"#B0BEC5\",\"#B0BEC5\",\"#B0BEC5\",\"#B0BEC5\",\"#B0BEC5\",\"#B0BEC5\"]]}],\"label\":\"Topic 20\",\"method\":\"update\"},{\"args\":[{\"marker.color\":[[\"#B0BEC5\",\"#B0BEC5\",\"#B0BEC5\",\"#B0BEC5\",\"#B0BEC5\",\"#B0BEC5\",\"#B0BEC5\",\"#B0BEC5\",\"#B0BEC5\",\"#B0BEC5\",\"#B0BEC5\",\"#B0BEC5\",\"#B0BEC5\",\"#B0BEC5\",\"#B0BEC5\",\"#B0BEC5\",\"#B0BEC5\",\"#B0BEC5\",\"#B0BEC5\",\"#B0BEC5\",\"#B0BEC5\",\"red\",\"#B0BEC5\",\"#B0BEC5\",\"#B0BEC5\",\"#B0BEC5\",\"#B0BEC5\",\"#B0BEC5\"]]}],\"label\":\"Topic 21\",\"method\":\"update\"},{\"args\":[{\"marker.color\":[[\"#B0BEC5\",\"#B0BEC5\",\"#B0BEC5\",\"#B0BEC5\",\"#B0BEC5\",\"#B0BEC5\",\"#B0BEC5\",\"#B0BEC5\",\"#B0BEC5\",\"#B0BEC5\",\"#B0BEC5\",\"#B0BEC5\",\"#B0BEC5\",\"#B0BEC5\",\"#B0BEC5\",\"#B0BEC5\",\"#B0BEC5\",\"#B0BEC5\",\"#B0BEC5\",\"#B0BEC5\",\"#B0BEC5\",\"#B0BEC5\",\"red\",\"#B0BEC5\",\"#B0BEC5\",\"#B0BEC5\",\"#B0BEC5\",\"#B0BEC5\"]]}],\"label\":\"Topic 22\",\"method\":\"update\"},{\"args\":[{\"marker.color\":[[\"#B0BEC5\",\"#B0BEC5\",\"#B0BEC5\",\"#B0BEC5\",\"#B0BEC5\",\"#B0BEC5\",\"#B0BEC5\",\"#B0BEC5\",\"#B0BEC5\",\"#B0BEC5\",\"#B0BEC5\",\"#B0BEC5\",\"#B0BEC5\",\"#B0BEC5\",\"#B0BEC5\",\"#B0BEC5\",\"#B0BEC5\",\"#B0BEC5\",\"#B0BEC5\",\"#B0BEC5\",\"#B0BEC5\",\"#B0BEC5\",\"#B0BEC5\",\"red\",\"#B0BEC5\",\"#B0BEC5\",\"#B0BEC5\",\"#B0BEC5\"]]}],\"label\":\"Topic 23\",\"method\":\"update\"},{\"args\":[{\"marker.color\":[[\"#B0BEC5\",\"#B0BEC5\",\"#B0BEC5\",\"#B0BEC5\",\"#B0BEC5\",\"#B0BEC5\",\"#B0BEC5\",\"#B0BEC5\",\"#B0BEC5\",\"#B0BEC5\",\"#B0BEC5\",\"#B0BEC5\",\"#B0BEC5\",\"#B0BEC5\",\"#B0BEC5\",\"#B0BEC5\",\"#B0BEC5\",\"#B0BEC5\",\"#B0BEC5\",\"#B0BEC5\",\"#B0BEC5\",\"#B0BEC5\",\"#B0BEC5\",\"#B0BEC5\",\"red\",\"#B0BEC5\",\"#B0BEC5\",\"#B0BEC5\"]]}],\"label\":\"Topic 24\",\"method\":\"update\"},{\"args\":[{\"marker.color\":[[\"#B0BEC5\",\"#B0BEC5\",\"#B0BEC5\",\"#B0BEC5\",\"#B0BEC5\",\"#B0BEC5\",\"#B0BEC5\",\"#B0BEC5\",\"#B0BEC5\",\"#B0BEC5\",\"#B0BEC5\",\"#B0BEC5\",\"#B0BEC5\",\"#B0BEC5\",\"#B0BEC5\",\"#B0BEC5\",\"#B0BEC5\",\"#B0BEC5\",\"#B0BEC5\",\"#B0BEC5\",\"#B0BEC5\",\"#B0BEC5\",\"#B0BEC5\",\"#B0BEC5\",\"#B0BEC5\",\"red\",\"#B0BEC5\",\"#B0BEC5\"]]}],\"label\":\"Topic 25\",\"method\":\"update\"},{\"args\":[{\"marker.color\":[[\"#B0BEC5\",\"#B0BEC5\",\"#B0BEC5\",\"#B0BEC5\",\"#B0BEC5\",\"#B0BEC5\",\"#B0BEC5\",\"#B0BEC5\",\"#B0BEC5\",\"#B0BEC5\",\"#B0BEC5\",\"#B0BEC5\",\"#B0BEC5\",\"#B0BEC5\",\"#B0BEC5\",\"#B0BEC5\",\"#B0BEC5\",\"#B0BEC5\",\"#B0BEC5\",\"#B0BEC5\",\"#B0BEC5\",\"#B0BEC5\",\"#B0BEC5\",\"#B0BEC5\",\"#B0BEC5\",\"#B0BEC5\",\"red\",\"#B0BEC5\"]]}],\"label\":\"Topic 26\",\"method\":\"update\"},{\"args\":[{\"marker.color\":[[\"#B0BEC5\",\"#B0BEC5\",\"#B0BEC5\",\"#B0BEC5\",\"#B0BEC5\",\"#B0BEC5\",\"#B0BEC5\",\"#B0BEC5\",\"#B0BEC5\",\"#B0BEC5\",\"#B0BEC5\",\"#B0BEC5\",\"#B0BEC5\",\"#B0BEC5\",\"#B0BEC5\",\"#B0BEC5\",\"#B0BEC5\",\"#B0BEC5\",\"#B0BEC5\",\"#B0BEC5\",\"#B0BEC5\",\"#B0BEC5\",\"#B0BEC5\",\"#B0BEC5\",\"#B0BEC5\",\"#B0BEC5\",\"#B0BEC5\",\"red\"]]}],\"label\":\"Topic 27\",\"method\":\"update\"}]}],\"shapes\":[{\"line\":{\"color\":\"#CFD8DC\",\"width\":2},\"type\":\"line\",\"x0\":3.078363609313964,\"x1\":3.078363609313964,\"y0\":-4.047195529937744,\"y1\":20.300289630889893},{\"line\":{\"color\":\"#9E9E9E\",\"width\":2},\"type\":\"line\",\"x0\":-13.025700855255128,\"x1\":19.182428073883056,\"y0\":8.126547050476074,\"y1\":8.126547050476074}],\"annotations\":[{\"showarrow\":false,\"text\":\"D1\",\"x\":-13.025700855255128,\"y\":8.126547050476074,\"yshift\":10},{\"showarrow\":false,\"text\":\"D2\",\"x\":3.078363609313964,\"xshift\":10,\"y\":20.300289630889893}]},                        {\"responsive\": true}                    ).then(function(){\n",
              "                            \n",
              "var gd = document.getElementById('38755b5d-799d-40c7-8f12-6154a58ed577');\n",
              "var x = new MutationObserver(function (mutations, observer) {{\n",
              "        var display = window.getComputedStyle(gd).display;\n",
              "        if (!display || display === 'none') {{\n",
              "            console.log([gd, 'removed!']);\n",
              "            Plotly.purge(gd);\n",
              "            observer.disconnect();\n",
              "        }}\n",
              "}});\n",
              "\n",
              "// Listen for the removal of the full notebook cells\n",
              "var notebookContainer = gd.closest('#notebook-container');\n",
              "if (notebookContainer) {{\n",
              "    x.observe(notebookContainer, {childList: true});\n",
              "}}\n",
              "\n",
              "// Listen for the clearing of the current output cell\n",
              "var outputEl = gd.closest('.output');\n",
              "if (outputEl) {{\n",
              "    x.observe(outputEl, {childList: true});\n",
              "}}\n",
              "\n",
              "                        })                };                            </script>        </div>\n",
              "</body>\n",
              "</html>"
            ]
          },
          "metadata": {}
        }
      ]
    },
    {
      "cell_type": "code",
      "source": [
        "model.visualize_hierarchy(top_n_topics=15)"
      ],
      "metadata": {
        "id": "Wj7fbZj4sZeu",
        "colab": {
          "base_uri": "https://localhost:8080/",
          "height": 442
        },
        "outputId": "2a93e7c8-84b4-4553-e972-cced8290a95b"
      },
      "execution_count": 86,
      "outputs": [
        {
          "output_type": "display_data",
          "data": {
            "text/html": [
              "<html>\n",
              "<head><meta charset=\"utf-8\" /></head>\n",
              "<body>\n",
              "    <div>            <script src=\"https://cdnjs.cloudflare.com/ajax/libs/mathjax/2.7.5/MathJax.js?config=TeX-AMS-MML_SVG\"></script><script type=\"text/javascript\">if (window.MathJax && window.MathJax.Hub && window.MathJax.Hub.Config) {window.MathJax.Hub.Config({SVG: {font: \"STIX-Web\"}});}</script>                <script type=\"text/javascript\">window.PlotlyConfig = {MathJaxConfig: 'local'};</script>\n",
              "        <script charset=\"utf-8\" src=\"https://cdn.plot.ly/plotly-2.24.1.min.js\"></script>                <div id=\"cc13e80e-4c61-4d31-b4ea-1557ac279b53\" class=\"plotly-graph-div\" style=\"height:425px; width:1000px;\"></div>            <script type=\"text/javascript\">                                    window.PLOTLYENV=window.PLOTLYENV || {};                                    if (document.getElementById(\"cc13e80e-4c61-4d31-b4ea-1557ac279b53\")) {                    Plotly.newPlot(                        \"cc13e80e-4c61-4d31-b4ea-1557ac279b53\",                        [{\"hoverinfo\":\"text\",\"marker\":{\"color\":\"rgb(61,153,112)\"},\"mode\":\"lines\",\"x\":[0.0,0.5690576703873603,0.5690576703873603,0.0],\"xaxis\":\"x\",\"y\":[-45.0,-45.0,-55.0,-55.0],\"yaxis\":\"y\",\"type\":\"scatter\"},{\"hoverinfo\":\"text\",\"marker\":{\"color\":\"rgb(61,153,112)\"},\"mode\":\"lines\",\"x\":[0.0,0.6015259381286413,0.6015259381286413,0.5690576703873603],\"xaxis\":\"x\",\"y\":[-35.0,-35.0,-50.0,-50.0],\"yaxis\":\"y\",\"type\":\"scatter\"},{\"hoverinfo\":\"text\",\"marker\":{\"color\":\"rgb(61,153,112)\"},\"mode\":\"lines\",\"x\":[0.0,0.35146135323752714,0.35146135323752714,0.0],\"xaxis\":\"x\",\"y\":[-75.0,-75.0,-85.0,-85.0],\"yaxis\":\"y\",\"type\":\"scatter\"},{\"hoverinfo\":\"text\",\"marker\":{\"color\":\"rgb(61,153,112)\"},\"mode\":\"lines\",\"x\":[0.0,0.4382052135961072,0.4382052135961072,0.35146135323752714],\"xaxis\":\"x\",\"y\":[-65.0,-65.0,-80.0,-80.0],\"yaxis\":\"y\",\"type\":\"scatter\"},{\"hoverinfo\":\"text\",\"marker\":{\"color\":\"rgb(61,153,112)\"},\"mode\":\"lines\",\"x\":[0.4382052135961072,0.5467514351981951,0.5467514351981951,0.0],\"xaxis\":\"x\",\"y\":[-72.5,-72.5,-95.0,-95.0],\"yaxis\":\"y\",\"type\":\"scatter\"},{\"hoverinfo\":\"text\",\"marker\":{\"color\":\"rgb(61,153,112)\"},\"mode\":\"lines\",\"x\":[0.6015259381286413,0.6331139209953306,0.6331139209953306,0.5467514351981951],\"xaxis\":\"x\",\"y\":[-42.5,-42.5,-83.75,-83.75],\"yaxis\":\"y\",\"type\":\"scatter\"},{\"hoverinfo\":\"text\",\"marker\":{\"color\":\"rgb(61,153,112)\"},\"mode\":\"lines\",\"x\":[0.0,0.655635279252219,0.655635279252219,0.6331139209953306],\"xaxis\":\"x\",\"y\":[-25.0,-25.0,-63.125,-63.125],\"yaxis\":\"y\",\"type\":\"scatter\"},{\"hoverinfo\":\"text\",\"marker\":{\"color\":\"rgb(61,153,112)\"},\"mode\":\"lines\",\"x\":[0.655635279252219,0.7298389196104271,0.7298389196104271,0.0],\"xaxis\":\"x\",\"y\":[-44.0625,-44.0625,-105.0,-105.0],\"yaxis\":\"y\",\"type\":\"scatter\"},{\"hoverinfo\":\"text\",\"marker\":{\"color\":\"rgb(61,153,112)\"},\"mode\":\"lines\",\"x\":[0.0,0.736320107978358,0.736320107978358,0.7298389196104271],\"xaxis\":\"x\",\"y\":[-15.0,-15.0,-74.53125,-74.53125],\"yaxis\":\"y\",\"type\":\"scatter\"},{\"hoverinfo\":\"text\",\"marker\":{\"color\":\"rgb(61,153,112)\"},\"mode\":\"lines\",\"x\":[0.0,0.6097381475169482,0.6097381475169482,0.0],\"xaxis\":\"x\",\"y\":[-115.0,-115.0,-125.0,-125.0],\"yaxis\":\"y\",\"type\":\"scatter\"},{\"hoverinfo\":\"text\",\"marker\":{\"color\":\"rgb(61,153,112)\"},\"mode\":\"lines\",\"x\":[0.6097381475169482,0.7115076968711959,0.7115076968711959,0.0],\"xaxis\":\"x\",\"y\":[-120.0,-120.0,-135.0,-135.0],\"yaxis\":\"y\",\"type\":\"scatter\"},{\"hoverinfo\":\"text\",\"marker\":{\"color\":\"rgb(61,153,112)\"},\"mode\":\"lines\",\"x\":[0.736320107978358,0.7598123285049135,0.7598123285049135,0.7115076968711959],\"xaxis\":\"x\",\"y\":[-44.765625,-44.765625,-127.5,-127.5],\"yaxis\":\"y\",\"type\":\"scatter\"},{\"hoverinfo\":\"text\",\"marker\":{\"color\":\"rgb(61,153,112)\"},\"mode\":\"lines\",\"x\":[0.7598123285049135,0.8032025866190596,0.8032025866190596,0.0],\"xaxis\":\"x\",\"y\":[-86.1328125,-86.1328125,-145.0,-145.0],\"yaxis\":\"y\",\"type\":\"scatter\"},{\"hoverinfo\":\"text\",\"marker\":{\"color\":\"rgb(0,116,217)\"},\"mode\":\"lines\",\"x\":[0.0,1.0302866940191249,1.0302866940191249,0.8032025866190596],\"xaxis\":\"x\",\"y\":[-5.0,-5.0,-115.56640625,-115.56640625],\"yaxis\":\"y\",\"type\":\"scatter\"}],                        {\"autosize\":false,\"height\":425,\"hovermode\":\"closest\",\"showlegend\":false,\"width\":1000,\"xaxis\":{\"mirror\":\"allticks\",\"rangemode\":\"tozero\",\"showgrid\":false,\"showline\":true,\"showticklabels\":true,\"ticks\":\"outside\",\"type\":\"linear\",\"zeroline\":false},\"yaxis\":{\"mirror\":\"allticks\",\"rangemode\":\"tozero\",\"showgrid\":false,\"showline\":true,\"showticklabels\":true,\"tickmode\":\"array\",\"ticks\":\"outside\",\"ticktext\":[\"5_hai_ka_nahi\",\"4_mobile_futures_mobiles\",\"11_jio_sim_4g\",\"8_heating_camera_drainage\",\"10_heat_heating_heats\",\"14_useless_amazon_drained\",\"3_camera_quality_dual\",\"1_price_camera_budget\",\"2_lenovo_k8_note\",\"0_price_delivery_performance\",\"6_heating_heat_heated\",\"7_earphone_ear_headphone\",\"9_speaker_dolby_atmos\",\"12_glass_broken_screen\",\"13_battery_bead_discharging\"],\"tickvals\":[-5.0,-15.0,-25.0,-35.0,-45.0,-55.0,-65.0,-75.0,-85.0,-95.0,-105.0,-115.0,-125.0,-135.0,-145.0],\"type\":\"linear\",\"zeroline\":false,\"range\":[-150.0,0.0]},\"template\":{\"data\":{\"barpolar\":[{\"marker\":{\"line\":{\"color\":\"white\",\"width\":0.5},\"pattern\":{\"fillmode\":\"overlay\",\"size\":10,\"solidity\":0.2}},\"type\":\"barpolar\"}],\"bar\":[{\"error_x\":{\"color\":\"#2a3f5f\"},\"error_y\":{\"color\":\"#2a3f5f\"},\"marker\":{\"line\":{\"color\":\"white\",\"width\":0.5},\"pattern\":{\"fillmode\":\"overlay\",\"size\":10,\"solidity\":0.2}},\"type\":\"bar\"}],\"carpet\":[{\"aaxis\":{\"endlinecolor\":\"#2a3f5f\",\"gridcolor\":\"#C8D4E3\",\"linecolor\":\"#C8D4E3\",\"minorgridcolor\":\"#C8D4E3\",\"startlinecolor\":\"#2a3f5f\"},\"baxis\":{\"endlinecolor\":\"#2a3f5f\",\"gridcolor\":\"#C8D4E3\",\"linecolor\":\"#C8D4E3\",\"minorgridcolor\":\"#C8D4E3\",\"startlinecolor\":\"#2a3f5f\"},\"type\":\"carpet\"}],\"choropleth\":[{\"colorbar\":{\"outlinewidth\":0,\"ticks\":\"\"},\"type\":\"choropleth\"}],\"contourcarpet\":[{\"colorbar\":{\"outlinewidth\":0,\"ticks\":\"\"},\"type\":\"contourcarpet\"}],\"contour\":[{\"colorbar\":{\"outlinewidth\":0,\"ticks\":\"\"},\"colorscale\":[[0.0,\"#0d0887\"],[0.1111111111111111,\"#46039f\"],[0.2222222222222222,\"#7201a8\"],[0.3333333333333333,\"#9c179e\"],[0.4444444444444444,\"#bd3786\"],[0.5555555555555556,\"#d8576b\"],[0.6666666666666666,\"#ed7953\"],[0.7777777777777778,\"#fb9f3a\"],[0.8888888888888888,\"#fdca26\"],[1.0,\"#f0f921\"]],\"type\":\"contour\"}],\"heatmapgl\":[{\"colorbar\":{\"outlinewidth\":0,\"ticks\":\"\"},\"colorscale\":[[0.0,\"#0d0887\"],[0.1111111111111111,\"#46039f\"],[0.2222222222222222,\"#7201a8\"],[0.3333333333333333,\"#9c179e\"],[0.4444444444444444,\"#bd3786\"],[0.5555555555555556,\"#d8576b\"],[0.6666666666666666,\"#ed7953\"],[0.7777777777777778,\"#fb9f3a\"],[0.8888888888888888,\"#fdca26\"],[1.0,\"#f0f921\"]],\"type\":\"heatmapgl\"}],\"heatmap\":[{\"colorbar\":{\"outlinewidth\":0,\"ticks\":\"\"},\"colorscale\":[[0.0,\"#0d0887\"],[0.1111111111111111,\"#46039f\"],[0.2222222222222222,\"#7201a8\"],[0.3333333333333333,\"#9c179e\"],[0.4444444444444444,\"#bd3786\"],[0.5555555555555556,\"#d8576b\"],[0.6666666666666666,\"#ed7953\"],[0.7777777777777778,\"#fb9f3a\"],[0.8888888888888888,\"#fdca26\"],[1.0,\"#f0f921\"]],\"type\":\"heatmap\"}],\"histogram2dcontour\":[{\"colorbar\":{\"outlinewidth\":0,\"ticks\":\"\"},\"colorscale\":[[0.0,\"#0d0887\"],[0.1111111111111111,\"#46039f\"],[0.2222222222222222,\"#7201a8\"],[0.3333333333333333,\"#9c179e\"],[0.4444444444444444,\"#bd3786\"],[0.5555555555555556,\"#d8576b\"],[0.6666666666666666,\"#ed7953\"],[0.7777777777777778,\"#fb9f3a\"],[0.8888888888888888,\"#fdca26\"],[1.0,\"#f0f921\"]],\"type\":\"histogram2dcontour\"}],\"histogram2d\":[{\"colorbar\":{\"outlinewidth\":0,\"ticks\":\"\"},\"colorscale\":[[0.0,\"#0d0887\"],[0.1111111111111111,\"#46039f\"],[0.2222222222222222,\"#7201a8\"],[0.3333333333333333,\"#9c179e\"],[0.4444444444444444,\"#bd3786\"],[0.5555555555555556,\"#d8576b\"],[0.6666666666666666,\"#ed7953\"],[0.7777777777777778,\"#fb9f3a\"],[0.8888888888888888,\"#fdca26\"],[1.0,\"#f0f921\"]],\"type\":\"histogram2d\"}],\"histogram\":[{\"marker\":{\"pattern\":{\"fillmode\":\"overlay\",\"size\":10,\"solidity\":0.2}},\"type\":\"histogram\"}],\"mesh3d\":[{\"colorbar\":{\"outlinewidth\":0,\"ticks\":\"\"},\"type\":\"mesh3d\"}],\"parcoords\":[{\"line\":{\"colorbar\":{\"outlinewidth\":0,\"ticks\":\"\"}},\"type\":\"parcoords\"}],\"pie\":[{\"automargin\":true,\"type\":\"pie\"}],\"scatter3d\":[{\"line\":{\"colorbar\":{\"outlinewidth\":0,\"ticks\":\"\"}},\"marker\":{\"colorbar\":{\"outlinewidth\":0,\"ticks\":\"\"}},\"type\":\"scatter3d\"}],\"scattercarpet\":[{\"marker\":{\"colorbar\":{\"outlinewidth\":0,\"ticks\":\"\"}},\"type\":\"scattercarpet\"}],\"scattergeo\":[{\"marker\":{\"colorbar\":{\"outlinewidth\":0,\"ticks\":\"\"}},\"type\":\"scattergeo\"}],\"scattergl\":[{\"marker\":{\"colorbar\":{\"outlinewidth\":0,\"ticks\":\"\"}},\"type\":\"scattergl\"}],\"scattermapbox\":[{\"marker\":{\"colorbar\":{\"outlinewidth\":0,\"ticks\":\"\"}},\"type\":\"scattermapbox\"}],\"scatterpolargl\":[{\"marker\":{\"colorbar\":{\"outlinewidth\":0,\"ticks\":\"\"}},\"type\":\"scatterpolargl\"}],\"scatterpolar\":[{\"marker\":{\"colorbar\":{\"outlinewidth\":0,\"ticks\":\"\"}},\"type\":\"scatterpolar\"}],\"scatter\":[{\"fillpattern\":{\"fillmode\":\"overlay\",\"size\":10,\"solidity\":0.2},\"type\":\"scatter\"}],\"scatterternary\":[{\"marker\":{\"colorbar\":{\"outlinewidth\":0,\"ticks\":\"\"}},\"type\":\"scatterternary\"}],\"surface\":[{\"colorbar\":{\"outlinewidth\":0,\"ticks\":\"\"},\"colorscale\":[[0.0,\"#0d0887\"],[0.1111111111111111,\"#46039f\"],[0.2222222222222222,\"#7201a8\"],[0.3333333333333333,\"#9c179e\"],[0.4444444444444444,\"#bd3786\"],[0.5555555555555556,\"#d8576b\"],[0.6666666666666666,\"#ed7953\"],[0.7777777777777778,\"#fb9f3a\"],[0.8888888888888888,\"#fdca26\"],[1.0,\"#f0f921\"]],\"type\":\"surface\"}],\"table\":[{\"cells\":{\"fill\":{\"color\":\"#EBF0F8\"},\"line\":{\"color\":\"white\"}},\"header\":{\"fill\":{\"color\":\"#C8D4E3\"},\"line\":{\"color\":\"white\"}},\"type\":\"table\"}]},\"layout\":{\"annotationdefaults\":{\"arrowcolor\":\"#2a3f5f\",\"arrowhead\":0,\"arrowwidth\":1},\"autotypenumbers\":\"strict\",\"coloraxis\":{\"colorbar\":{\"outlinewidth\":0,\"ticks\":\"\"}},\"colorscale\":{\"diverging\":[[0,\"#8e0152\"],[0.1,\"#c51b7d\"],[0.2,\"#de77ae\"],[0.3,\"#f1b6da\"],[0.4,\"#fde0ef\"],[0.5,\"#f7f7f7\"],[0.6,\"#e6f5d0\"],[0.7,\"#b8e186\"],[0.8,\"#7fbc41\"],[0.9,\"#4d9221\"],[1,\"#276419\"]],\"sequential\":[[0.0,\"#0d0887\"],[0.1111111111111111,\"#46039f\"],[0.2222222222222222,\"#7201a8\"],[0.3333333333333333,\"#9c179e\"],[0.4444444444444444,\"#bd3786\"],[0.5555555555555556,\"#d8576b\"],[0.6666666666666666,\"#ed7953\"],[0.7777777777777778,\"#fb9f3a\"],[0.8888888888888888,\"#fdca26\"],[1.0,\"#f0f921\"]],\"sequentialminus\":[[0.0,\"#0d0887\"],[0.1111111111111111,\"#46039f\"],[0.2222222222222222,\"#7201a8\"],[0.3333333333333333,\"#9c179e\"],[0.4444444444444444,\"#bd3786\"],[0.5555555555555556,\"#d8576b\"],[0.6666666666666666,\"#ed7953\"],[0.7777777777777778,\"#fb9f3a\"],[0.8888888888888888,\"#fdca26\"],[1.0,\"#f0f921\"]]},\"colorway\":[\"#636efa\",\"#EF553B\",\"#00cc96\",\"#ab63fa\",\"#FFA15A\",\"#19d3f3\",\"#FF6692\",\"#B6E880\",\"#FF97FF\",\"#FECB52\"],\"font\":{\"color\":\"#2a3f5f\"},\"geo\":{\"bgcolor\":\"white\",\"lakecolor\":\"white\",\"landcolor\":\"white\",\"showlakes\":true,\"showland\":true,\"subunitcolor\":\"#C8D4E3\"},\"hoverlabel\":{\"align\":\"left\"},\"hovermode\":\"closest\",\"mapbox\":{\"style\":\"light\"},\"paper_bgcolor\":\"white\",\"plot_bgcolor\":\"white\",\"polar\":{\"angularaxis\":{\"gridcolor\":\"#EBF0F8\",\"linecolor\":\"#EBF0F8\",\"ticks\":\"\"},\"bgcolor\":\"white\",\"radialaxis\":{\"gridcolor\":\"#EBF0F8\",\"linecolor\":\"#EBF0F8\",\"ticks\":\"\"}},\"scene\":{\"xaxis\":{\"backgroundcolor\":\"white\",\"gridcolor\":\"#DFE8F3\",\"gridwidth\":2,\"linecolor\":\"#EBF0F8\",\"showbackground\":true,\"ticks\":\"\",\"zerolinecolor\":\"#EBF0F8\"},\"yaxis\":{\"backgroundcolor\":\"white\",\"gridcolor\":\"#DFE8F3\",\"gridwidth\":2,\"linecolor\":\"#EBF0F8\",\"showbackground\":true,\"ticks\":\"\",\"zerolinecolor\":\"#EBF0F8\"},\"zaxis\":{\"backgroundcolor\":\"white\",\"gridcolor\":\"#DFE8F3\",\"gridwidth\":2,\"linecolor\":\"#EBF0F8\",\"showbackground\":true,\"ticks\":\"\",\"zerolinecolor\":\"#EBF0F8\"}},\"shapedefaults\":{\"line\":{\"color\":\"#2a3f5f\"}},\"ternary\":{\"aaxis\":{\"gridcolor\":\"#DFE8F3\",\"linecolor\":\"#A2B1C6\",\"ticks\":\"\"},\"baxis\":{\"gridcolor\":\"#DFE8F3\",\"linecolor\":\"#A2B1C6\",\"ticks\":\"\"},\"bgcolor\":\"white\",\"caxis\":{\"gridcolor\":\"#DFE8F3\",\"linecolor\":\"#A2B1C6\",\"ticks\":\"\"}},\"title\":{\"x\":0.05},\"xaxis\":{\"automargin\":true,\"gridcolor\":\"#EBF0F8\",\"linecolor\":\"#EBF0F8\",\"ticks\":\"\",\"title\":{\"standoff\":15},\"zerolinecolor\":\"#EBF0F8\",\"zerolinewidth\":2},\"yaxis\":{\"automargin\":true,\"gridcolor\":\"#EBF0F8\",\"linecolor\":\"#EBF0F8\",\"ticks\":\"\",\"title\":{\"standoff\":15},\"zerolinecolor\":\"#EBF0F8\",\"zerolinewidth\":2}}},\"title\":{\"font\":{\"size\":22,\"color\":\"Black\"},\"text\":\"\\u003cb\\u003eHierarchical Clustering\\u003c\\u002fb\\u003e\",\"x\":0.5,\"xanchor\":\"center\",\"yanchor\":\"top\"},\"hoverlabel\":{\"font\":{\"size\":16,\"family\":\"Rockwell\"},\"bgcolor\":\"white\"},\"plot_bgcolor\":\"#ECEFF1\"},                        {\"responsive\": true}                    ).then(function(){\n",
              "                            \n",
              "var gd = document.getElementById('cc13e80e-4c61-4d31-b4ea-1557ac279b53');\n",
              "var x = new MutationObserver(function (mutations, observer) {{\n",
              "        var display = window.getComputedStyle(gd).display;\n",
              "        if (!display || display === 'none') {{\n",
              "            console.log([gd, 'removed!']);\n",
              "            Plotly.purge(gd);\n",
              "            observer.disconnect();\n",
              "        }}\n",
              "}});\n",
              "\n",
              "// Listen for the removal of the full notebook cells\n",
              "var notebookContainer = gd.closest('#notebook-container');\n",
              "if (notebookContainer) {{\n",
              "    x.observe(notebookContainer, {childList: true});\n",
              "}}\n",
              "\n",
              "// Listen for the clearing of the current output cell\n",
              "var outputEl = gd.closest('.output');\n",
              "if (outputEl) {{\n",
              "    x.observe(outputEl, {childList: true});\n",
              "}}\n",
              "\n",
              "                        })                };                            </script>        </div>\n",
              "</body>\n",
              "</html>"
            ]
          },
          "metadata": {}
        }
      ]
    },
    {
      "cell_type": "code",
      "source": [
        "from wordcloud import WordCloud\n",
        "import matplotlib.pyplot as plt\n",
        "\n",
        "def create_wordcloud(model, topic):\n",
        "    text = {word: value for word, value in model.get_topic(topic)}\n",
        "    wc = WordCloud(background_color=\"white\", max_words=1000)\n",
        "    wc.generate_from_frequencies(text)\n",
        "    plt.imshow(wc, interpolation=\"bilinear\")\n",
        "    plt.axis(\"off\")\n",
        "    plt.show()\n"
      ],
      "metadata": {
        "id": "Tyd0RYzE5Qa8"
      },
      "execution_count": 87,
      "outputs": []
    },
    {
      "cell_type": "code",
      "source": [
        "create_wordcloud(model, topic=0)"
      ],
      "metadata": {
        "colab": {
          "base_uri": "https://localhost:8080/",
          "height": 285
        },
        "id": "zb1PiBnsaKbr",
        "outputId": "af841dc9-1b7c-4262-bc78-b51ef90fc6a1"
      },
      "execution_count": 88,
      "outputs": [
        {
          "output_type": "display_data",
          "data": {
            "text/plain": [
              "<Figure size 640x480 with 1 Axes>"
            ],
            "image/png": "[encoded data removed]"
          },
          "metadata": {}
        }
      ]
    },
    {
      "cell_type": "code",
      "source": [
        "create_wordcloud(model, topic=3)"
      ],
      "metadata": {
        "colab": {
          "base_uri": "https://localhost:8080/",
          "height": 285
        },
        "id": "s-cEjkCn5Ubg",
        "outputId": "8c339865-fef6-4237-e09b-8fd42bf382fd"
      },
      "execution_count": 89,
      "outputs": [
        {
          "output_type": "display_data",
          "data": {
            "text/plain": [
              "<Figure size 640x480 with 1 Axes>"
            ],
            "image/png": "[encoded data removed]"
          },
          "metadata": {}
        }
      ]
    },
    {
      "cell_type": "code",
      "source": [
        "create_wordcloud(model, topic=9)"
      ],
      "metadata": {
        "colab": {
          "base_uri": "https://localhost:8080/",
          "height": 285
        },
        "id": "ZjCCMvhB5yTO",
        "outputId": "95519f20-45e1-4eab-9578-1bb35446a844"
      },
      "execution_count": 91,
      "outputs": [
        {
          "output_type": "display_data",
          "data": {
            "text/plain": [
              "<Figure size 640x480 with 1 Axes>"
            ],
            "image/png": "[encoded data removed]"
          },
          "metadata": {}
        }
      ]
    },
    {
      "cell_type": "code",
      "source": [
        "create_wordcloud(model, topic=13)"
      ],
      "metadata": {
        "colab": {
          "base_uri": "https://localhost:8080/",
          "height": 285
        },
        "id": "PSdda7NG5rku",
        "outputId": "7aad7985-f1b1-4432-ba43-bb93103db361"
      },
      "execution_count": 94,
      "outputs": [
        {
          "output_type": "display_data",
          "data": {
            "text/plain": [
              "<Figure size 640x480 with 1 Axes>"
            ],
            "image/png": "[encoded data removed]"
          },
          "metadata": {}
        }
      ]
    },
    {
      "cell_type": "markdown",
      "source": [
        "**Humman visualize**"
      ],
      "metadata": {
        "id": "W00VB34f7nVP"
      }
    },
    {
      "cell_type": "code",
      "source": [
        "document_info = model.get_document_info(reviews[\"review\"])\n",
        "document_info"
      ],
      "metadata": {
        "id": "5bFcqzn37rY5",
        "colab": {
          "base_uri": "https://localhost:8080/",
          "height": 1000
        },
        "outputId": "a5eb46f4-42ac-4082-d61b-19514ca49944"
      },
      "execution_count": 92,
      "outputs": [
        {
          "output_type": "execute_result",
          "data": {
            "text/plain": [
              "                                                Document  Topic  \\\n",
              "0                 Good but need updates and improvements      0   \n",
              "1      Worst mobile i have bought ever, Battery is dr...      2   \n",
              "2      when I will get my 10% cash back.... its alrea...      0   \n",
              "3      The worst phone everThey have changed the last...     -1   \n",
              "4      Only I'm telling don't buyI'm totally disappoi...      3   \n",
              "...                                                  ...    ...   \n",
              "12428  I really like the phone, Everything is working...     -1   \n",
              "12429  The Lenovo K8 Note is awesome. It takes best p...      2   \n",
              "12430                       Awesome Gaget.. @ this price      0   \n",
              "12431  This phone is nice processing will be successf...      3   \n",
              "12432      Good product but the pakeging was not enough.      0   \n",
              "\n",
              "                                         Name  \\\n",
              "0      0_price_delivery_performance_satisfied   \n",
              "1                         2_lenovo_k8_note_k4   \n",
              "2      0_price_delivery_performance_satisfied   \n",
              "3           -1_charging_battery_issue_charger   \n",
              "4                 3_camera_quality_dual_front   \n",
              "...                                       ...   \n",
              "12428       -1_charging_battery_issue_charger   \n",
              "12429                     2_lenovo_k8_note_k4   \n",
              "12430  0_price_delivery_performance_satisfied   \n",
              "12431             3_camera_quality_dual_front   \n",
              "12432  0_price_delivery_performance_satisfied   \n",
              "\n",
              "                                          Representation  \\\n",
              "0      [price, delivery, performance, satisfied, very...   \n",
              "1      [lenovo, k8, note, k4, k5, service, buy, have,...   \n",
              "2      [price, delivery, performance, satisfied, very...   \n",
              "3      [charging, battery, issue, charger, heating, b...   \n",
              "4      [camera, quality, dual, front, performance, ca...   \n",
              "...                                                  ...   \n",
              "12428  [charging, battery, issue, charger, heating, b...   \n",
              "12429  [lenovo, k8, note, k4, k5, service, buy, have,...   \n",
              "12430  [price, delivery, performance, satisfied, very...   \n",
              "12431  [camera, quality, dual, front, performance, ca...   \n",
              "12432  [price, delivery, performance, satisfied, very...   \n",
              "\n",
              "                                     Representative_Docs  \\\n",
              "0      [Best at this price.. value for money, Very go...   \n",
              "1      [The mobile has some good features. But chargi...   \n",
              "2      [Best at this price.. value for money, Very go...   \n",
              "3      [After 7 month of usage, i am writing this.Alr...   \n",
              "4      [At this price, its worth buying when you comp...   \n",
              "...                                                  ...   \n",
              "12428  [After 7 month of usage, i am writing this.Alr...   \n",
              "12429  [The mobile has some good features. But chargi...   \n",
              "12430  [Best at this price.. value for money, Very go...   \n",
              "12431  [At this price, its worth buying when you comp...   \n",
              "12432  [Best at this price.. value for money, Very go...   \n",
              "\n",
              "                                             Top_n_words  Probability  \\\n",
              "0      price - delivery - performance - satisfied - v...     0.878679   \n",
              "1      lenovo - k8 - note - k4 - k5 - service - buy -...     1.000000   \n",
              "2      price - delivery - performance - satisfied - v...     0.466784   \n",
              "3      charging - battery - issue - charger - heating...     0.000000   \n",
              "4      camera - quality - dual - front - performance ...     0.726899   \n",
              "...                                                  ...          ...   \n",
              "12428  charging - battery - issue - charger - heating...     0.000000   \n",
              "12429  lenovo - k8 - note - k4 - k5 - service - buy -...     0.966684   \n",
              "12430  price - delivery - performance - satisfied - v...     0.936219   \n",
              "12431  camera - quality - dual - front - performance ...     0.521231   \n",
              "12432  price - delivery - performance - satisfied - v...     1.000000   \n",
              "\n",
              "       Representative_document  \n",
              "0                        False  \n",
              "1                        False  \n",
              "2                        False  \n",
              "3                        False  \n",
              "4                        False  \n",
              "...                        ...  \n",
              "12428                    False  \n",
              "12429                    False  \n",
              "12430                    False  \n",
              "12431                    False  \n",
              "12432                    False  \n",
              "\n",
              "[12433 rows x 8 columns]"
            ],
            "text/html": [
              "\n",
              "  <div id=\"df-46c4230c-cc6f-42ad-b08f-18caa9d5bed9\" class=\"colab-df-container\">\n",
              "    <div>\n",
              "<style scoped>\n",
              "    .dataframe tbody tr th:only-of-type {\n",
              "        vertical-align: middle;\n",
              "    }\n",
              "\n",
              "    .dataframe tbody tr th {\n",
              "        vertical-align: top;\n",
              "    }\n",
              "\n",
              "    .dataframe thead th {\n",
              "        text-align: right;\n",
              "    }\n",
              "</style>\n",
              "<table border=\"1\" class=\"dataframe\">\n",
              "  <thead>\n",
              "    <tr style=\"text-align: right;\">\n",
              "      <th></th>\n",
              "      <th>Document</th>\n",
              "      <th>Topic</th>\n",
              "      <th>Name</th>\n",
              "      <th>Representation</th>\n",
              "      <th>Representative_Docs</th>\n",
              "      <th>Top_n_words</th>\n",
              "      <th>Probability</th>\n",
              "      <th>Representative_document</th>\n",
              "    </tr>\n",
              "  </thead>\n",
              "  <tbody>\n",
              "    <tr>\n",
              "      <th>0</th>\n",
              "      <td>Good but need updates and improvements</td>\n",
              "      <td>0</td>\n",
              "      <td>0_price_delivery_performance_satisfied</td>\n",
              "      <td>[price, delivery, performance, satisfied, very...</td>\n",
              "      <td>[Best at this price.. value for money, Very go...</td>\n",
              "      <td>price - delivery - performance - satisfied - v...</td>\n",
              "      <td>0.878679</td>\n",
              "      <td>False</td>\n",
              "    </tr>\n",
              "    <tr>\n",
              "      <th>1</th>\n",
              "      <td>Worst mobile i have bought ever, Battery is dr...</td>\n",
              "      <td>2</td>\n",
              "      <td>2_lenovo_k8_note_k4</td>\n",
              "      <td>[lenovo, k8, note, k4, k5, service, buy, have,...</td>\n",
              "      <td>[The mobile has some good features. But chargi...</td>\n",
              "      <td>lenovo - k8 - note - k4 - k5 - service - buy -...</td>\n",
              "      <td>1.000000</td>\n",
              "      <td>False</td>\n",
              "    </tr>\n",
              "    <tr>\n",
              "      <th>2</th>\n",
              "      <td>when I will get my 10% cash back.... its alrea...</td>\n",
              "      <td>0</td>\n",
              "      <td>0_price_delivery_performance_satisfied</td>\n",
              "      <td>[price, delivery, performance, satisfied, very...</td>\n",
              "      <td>[Best at this price.. value for money, Very go...</td>\n",
              "      <td>price - delivery - performance - satisfied - v...</td>\n",
              "      <td>0.466784</td>\n",
              "      <td>False</td>\n",
              "    </tr>\n",
              "    <tr>\n",
              "      <th>3</th>\n",
              "      <td>The worst phone everThey have changed the last...</td>\n",
              "      <td>-1</td>\n",
              "      <td>-1_charging_battery_issue_charger</td>\n",
              "      <td>[charging, battery, issue, charger, heating, b...</td>\n",
              "      <td>[After 7 month of usage, i am writing this.Alr...</td>\n",
              "      <td>charging - battery - issue - charger - heating...</td>\n",
              "      <td>0.000000</td>\n",
              "      <td>False</td>\n",
              "    </tr>\n",
              "    <tr>\n",
              "      <th>4</th>\n",
              "      <td>Only I'm telling don't buyI'm totally disappoi...</td>\n",
              "      <td>3</td>\n",
              "      <td>3_camera_quality_dual_front</td>\n",
              "      <td>[camera, quality, dual, front, performance, ca...</td>\n",
              "      <td>[At this price, its worth buying when you comp...</td>\n",
              "      <td>camera - quality - dual - front - performance ...</td>\n",
              "      <td>0.726899</td>\n",
              "      <td>False</td>\n",
              "    </tr>\n",
              "    <tr>\n",
              "      <th>...</th>\n",
              "      <td>...</td>\n",
              "      <td>...</td>\n",
              "      <td>...</td>\n",
              "      <td>...</td>\n",
              "      <td>...</td>\n",
              "      <td>...</td>\n",
              "      <td>...</td>\n",
              "      <td>...</td>\n",
              "    </tr>\n",
              "    <tr>\n",
              "      <th>12428</th>\n",
              "      <td>I really like the phone, Everything is working...</td>\n",
              "      <td>-1</td>\n",
              "      <td>-1_charging_battery_issue_charger</td>\n",
              "      <td>[charging, battery, issue, charger, heating, b...</td>\n",
              "      <td>[After 7 month of usage, i am writing this.Alr...</td>\n",
              "      <td>charging - battery - issue - charger - heating...</td>\n",
              "      <td>0.000000</td>\n",
              "      <td>False</td>\n",
              "    </tr>\n",
              "    <tr>\n",
              "      <th>12429</th>\n",
              "      <td>The Lenovo K8 Note is awesome. It takes best p...</td>\n",
              "      <td>2</td>\n",
              "      <td>2_lenovo_k8_note_k4</td>\n",
              "      <td>[lenovo, k8, note, k4, k5, service, buy, have,...</td>\n",
              "      <td>[The mobile has some good features. But chargi...</td>\n",
              "      <td>lenovo - k8 - note - k4 - k5 - service - buy -...</td>\n",
              "      <td>0.966684</td>\n",
              "      <td>False</td>\n",
              "    </tr>\n",
              "    <tr>\n",
              "      <th>12430</th>\n",
              "      <td>Awesome Gaget.. @ this price</td>\n",
              "      <td>0</td>\n",
              "      <td>0_price_delivery_performance_satisfied</td>\n",
              "      <td>[price, delivery, performance, satisfied, very...</td>\n",
              "      <td>[Best at this price.. value for money, Very go...</td>\n",
              "      <td>price - delivery - performance - satisfied - v...</td>\n",
              "      <td>0.936219</td>\n",
              "      <td>False</td>\n",
              "    </tr>\n",
              "    <tr>\n",
              "      <th>12431</th>\n",
              "      <td>This phone is nice processing will be successf...</td>\n",
              "      <td>3</td>\n",
              "      <td>3_camera_quality_dual_front</td>\n",
              "      <td>[camera, quality, dual, front, performance, ca...</td>\n",
              "      <td>[At this price, its worth buying when you comp...</td>\n",
              "      <td>camera - quality - dual - front - performance ...</td>\n",
              "      <td>0.521231</td>\n",
              "      <td>False</td>\n",
              "    </tr>\n",
              "    <tr>\n",
              "      <th>12432</th>\n",
              "      <td>Good product but the pakeging was not enough.</td>\n",
              "      <td>0</td>\n",
              "      <td>0_price_delivery_performance_satisfied</td>\n",
              "      <td>[price, delivery, performance, satisfied, very...</td>\n",
              "      <td>[Best at this price.. value for money, Very go...</td>\n",
              "      <td>price - delivery - performance - satisfied - v...</td>\n",
              "      <td>1.000000</td>\n",
              "      <td>False</td>\n",
              "    </tr>\n",
              "  </tbody>\n",
              "</table>\n",
              "<p>12433 rows × 8 columns</p>\n",
              "</div>\n",
              "    <div class=\"colab-df-buttons\">\n",
              "\n",
              "  <div class=\"colab-df-container\">\n",
              "    <button class=\"colab-df-convert\" onclick=\"convertToInteractive('df-46c4230c-cc6f-42ad-b08f-18caa9d5bed9')\"\n",
              "            title=\"Convert this dataframe to an interactive table.\"\n",
              "            style=\"display:none;\">\n",
              "\n",
              "  <svg xmlns=\"http://www.w3.org/2000/svg\" height=\"24px\" viewBox=\"0 -960 960 960\">\n",
              "    <path d=\"M120-120v-720h720v720H120Zm60-500h600v-160H180v160Zm220 220h160v-160H400v160Zm0 220h160v-160H400v160ZM180-400h160v-160H180v160Zm440 0h160v-160H620v160ZM180-180h160v-160H180v160Zm440 0h160v-160H620v160Z\"/>\n",
              "  </svg>\n",
              "    </button>\n",
              "\n",
              "  <style>\n",
              "    .colab-df-container {\n",
              "      display:flex;\n",
              "      gap: 12px;\n",
              "    }\n",
              "\n",
              "    .colab-df-convert {\n",
              "      background-color: #E8F0FE;\n",
              "      border: none;\n",
              "      border-radius: 50%;\n",
              "      cursor: pointer;\n",
              "      display: none;\n",
              "      fill: #1967D2;\n",
              "      height: 32px;\n",
              "      padding: 0 0 0 0;\n",
              "      width: 32px;\n",
              "    }\n",
              "\n",
              "    .colab-df-convert:hover {\n",
              "      background-color: #E2EBFA;\n",
              "      box-shadow: 0px 1px 2px rgba(60, 64, 67, 0.3), 0px 1px 3px 1px rgba(60, 64, 67, 0.15);\n",
              "      fill: #174EA6;\n",
              "    }\n",
              "\n",
              "    .colab-df-buttons div {\n",
              "      margin-bottom: 4px;\n",
              "    }\n",
              "\n",
              "    [theme=dark] .colab-df-convert {\n",
              "      background-color: #3B4455;\n",
              "      fill: #D2E3FC;\n",
              "    }\n",
              "\n",
              "    [theme=dark] .colab-df-convert:hover {\n",
              "      background-color: #434B5C;\n",
              "      box-shadow: 0px 1px 3px 1px rgba(0, 0, 0, 0.15);\n",
              "      filter: drop-shadow(0px 1px 2px rgba(0, 0, 0, 0.3));\n",
              "      fill: #FFFFFF;\n",
              "    }\n",
              "  </style>\n",
              "\n",
              "    <script>\n",
              "      const buttonEl =\n",
              "        document.querySelector('#df-46c4230c-cc6f-42ad-b08f-18caa9d5bed9 button.colab-df-convert');\n",
              "      buttonEl.style.display =\n",
              "        google.colab.kernel.accessAllowed ? 'block' : 'none';\n",
              "\n",
              "      async function convertToInteractive(key) {\n",
              "        const element = document.querySelector('#df-46c4230c-cc6f-42ad-b08f-18caa9d5bed9');\n",
              "        const dataTable =\n",
              "          await google.colab.kernel.invokeFunction('convertToInteractive',\n",
              "                                                    [key], {});\n",
              "        if (!dataTable) return;\n",
              "\n",
              "        const docLinkHtml = 'Like what you see? Visit the ' +\n",
              "          '<a target=\"_blank\" href=https://colab.research.google.com/notebooks/data_table.ipynb>data table notebook</a>'\n",
              "          + ' to learn more about interactive tables.';\n",
              "        element.innerHTML = '';\n",
              "        dataTable['output_type'] = 'display_data';\n",
              "        await google.colab.output.renderOutput(dataTable, element);\n",
              "        const docLink = document.createElement('div');\n",
              "        docLink.innerHTML = docLinkHtml;\n",
              "        element.appendChild(docLink);\n",
              "      }\n",
              "    </script>\n",
              "  </div>\n",
              "\n",
              "\n",
              "<div id=\"df-3ceae4a2-66ea-4dc3-9d21-f0f307dbeb0c\">\n",
              "  <button class=\"colab-df-quickchart\" onclick=\"quickchart('df-3ceae4a2-66ea-4dc3-9d21-f0f307dbeb0c')\"\n",
              "            title=\"Suggest charts\"\n",
              "            style=\"display:none;\">\n",
              "\n",
              "<svg xmlns=\"http://www.w3.org/2000/svg\" height=\"24px\"viewBox=\"0 0 24 24\"\n",
              "     width=\"24px\">\n",
              "    <g>\n",
              "        <path d=\"M19 3H5c-1.1 0-2 .9-2 2v14c0 1.1.9 2 2 2h14c1.1 0 2-.9 2-2V5c0-1.1-.9-2-2-2zM9 17H7v-7h2v7zm4 0h-2V7h2v10zm4 0h-2v-4h2v4z\"/>\n",
              "    </g>\n",
              "</svg>\n",
              "  </button>\n",
              "\n",
              "<style>\n",
              "  .colab-df-quickchart {\n",
              "      --bg-color: #E8F0FE;\n",
              "      --fill-color: #1967D2;\n",
              "      --hover-bg-color: #E2EBFA;\n",
              "      --hover-fill-color: #174EA6;\n",
              "      --disabled-fill-color: #AAA;\n",
              "      --disabled-bg-color: #DDD;\n",
              "  }\n",
              "\n",
              "  [theme=dark] .colab-df-quickchart {\n",
              "      --bg-color: #3B4455;\n",
              "      --fill-color: #D2E3FC;\n",
              "      --hover-bg-color: #434B5C;\n",
              "      --hover-fill-color: #FFFFFF;\n",
              "      --disabled-bg-color: #3B4455;\n",
              "      --disabled-fill-color: #666;\n",
              "  }\n",
              "\n",
              "  .colab-df-quickchart {\n",
              "    background-color: var(--bg-color);\n",
              "    border: none;\n",
              "    border-radius: 50%;\n",
              "    cursor: pointer;\n",
              "    display: none;\n",
              "    fill: var(--fill-color);\n",
              "    height: 32px;\n",
              "    padding: 0;\n",
              "    width: 32px;\n",
              "  }\n",
              "\n",
              "  .colab-df-quickchart:hover {\n",
              "    background-color: var(--hover-bg-color);\n",
              "    box-shadow: 0 1px 2px rgba(60, 64, 67, 0.3), 0 1px 3px 1px rgba(60, 64, 67, 0.15);\n",
              "    fill: var(--button-hover-fill-color);\n",
              "  }\n",
              "\n",
              "  .colab-df-quickchart-complete:disabled,\n",
              "  .colab-df-quickchart-complete:disabled:hover {\n",
              "    background-color: var(--disabled-bg-color);\n",
              "    fill: var(--disabled-fill-color);\n",
              "    box-shadow: none;\n",
              "  }\n",
              "\n",
              "  .colab-df-spinner {\n",
              "    border: 2px solid var(--fill-color);\n",
              "    border-color: transparent;\n",
              "    border-bottom-color: var(--fill-color);\n",
              "    animation:\n",
              "      spin 1s steps(1) infinite;\n",
              "  }\n",
              "\n",
              "  @keyframes spin {\n",
              "    0% {\n",
              "      border-color: transparent;\n",
              "      border-bottom-color: var(--fill-color);\n",
              "      border-left-color: var(--fill-color);\n",
              "    }\n",
              "    20% {\n",
              "      border-color: transparent;\n",
              "      border-left-color: var(--fill-color);\n",
              "      border-top-color: var(--fill-color);\n",
              "    }\n",
              "    30% {\n",
              "      border-color: transparent;\n",
              "      border-left-color: var(--fill-color);\n",
              "      border-top-color: var(--fill-color);\n",
              "      border-right-color: var(--fill-color);\n",
              "    }\n",
              "    40% {\n",
              "      border-color: transparent;\n",
              "      border-right-color: var(--fill-color);\n",
              "      border-top-color: var(--fill-color);\n",
              "    }\n",
              "    60% {\n",
              "      border-color: transparent;\n",
              "      border-right-color: var(--fill-color);\n",
              "    }\n",
              "    80% {\n",
              "      border-color: transparent;\n",
              "      border-right-color: var(--fill-color);\n",
              "      border-bottom-color: var(--fill-color);\n",
              "    }\n",
              "    90% {\n",
              "      border-color: transparent;\n",
              "      border-bottom-color: var(--fill-color);\n",
              "    }\n",
              "  }\n",
              "</style>\n",
              "\n",
              "  <script>\n",
              "    async function quickchart(key) {\n",
              "      const quickchartButtonEl =\n",
              "        document.querySelector('#' + key + ' button');\n",
              "      quickchartButtonEl.disabled = true;  // To prevent multiple clicks.\n",
              "      quickchartButtonEl.classList.add('colab-df-spinner');\n",
              "      try {\n",
              "        const charts = await google.colab.kernel.invokeFunction(\n",
              "            'suggestCharts', [key], {});\n",
              "      } catch (error) {\n",
              "        console.error('Error during call to suggestCharts:', error);\n",
              "      }\n",
              "      quickchartButtonEl.classList.remove('colab-df-spinner');\n",
              "      quickchartButtonEl.classList.add('colab-df-quickchart-complete');\n",
              "    }\n",
              "    (() => {\n",
              "      let quickchartButtonEl =\n",
              "        document.querySelector('#df-3ceae4a2-66ea-4dc3-9d21-f0f307dbeb0c button');\n",
              "      quickchartButtonEl.style.display =\n",
              "        google.colab.kernel.accessAllowed ? 'block' : 'none';\n",
              "    })();\n",
              "  </script>\n",
              "</div>\n",
              "\n",
              "  <div id=\"id_3ce20c29-1d53-4077-b8d7-6550b95c643d\">\n",
              "    <style>\n",
              "      .colab-df-generate {\n",
              "        background-color: #E8F0FE;\n",
              "        border: none;\n",
              "        border-radius: 50%;\n",
              "        cursor: pointer;\n",
              "        display: none;\n",
              "        fill: #1967D2;\n",
              "        height: 32px;\n",
              "        padding: 0 0 0 0;\n",
              "        width: 32px;\n",
              "      }\n",
              "\n",
              "      .colab-df-generate:hover {\n",
              "        background-color: #E2EBFA;\n",
              "        box-shadow: 0px 1px 2px rgba(60, 64, 67, 0.3), 0px 1px 3px 1px rgba(60, 64, 67, 0.15);\n",
              "        fill: #174EA6;\n",
              "      }\n",
              "\n",
              "      [theme=dark] .colab-df-generate {\n",
              "        background-color: #3B4455;\n",
              "        fill: #D2E3FC;\n",
              "      }\n",
              "\n",
              "      [theme=dark] .colab-df-generate:hover {\n",
              "        background-color: #434B5C;\n",
              "        box-shadow: 0px 1px 3px 1px rgba(0, 0, 0, 0.15);\n",
              "        filter: drop-shadow(0px 1px 2px rgba(0, 0, 0, 0.3));\n",
              "        fill: #FFFFFF;\n",
              "      }\n",
              "    </style>\n",
              "    <button class=\"colab-df-generate\" onclick=\"generateWithVariable('document_info')\"\n",
              "            title=\"Generate code using this dataframe.\"\n",
              "            style=\"display:none;\">\n",
              "\n",
              "  <svg xmlns=\"http://www.w3.org/2000/svg\" height=\"24px\"viewBox=\"0 0 24 24\"\n",
              "       width=\"24px\">\n",
              "    <path d=\"M7,19H8.4L18.45,9,17,7.55,7,17.6ZM5,21V16.75L18.45,3.32a2,2,0,0,1,2.83,0l1.4,1.43a1.91,1.91,0,0,1,.58,1.4,1.91,1.91,0,0,1-.58,1.4L9.25,21ZM18.45,9,17,7.55Zm-12,3A5.31,5.31,0,0,0,4.9,8.1,5.31,5.31,0,0,0,1,6.5,5.31,5.31,0,0,0,4.9,4.9,5.31,5.31,0,0,0,6.5,1,5.31,5.31,0,0,0,8.1,4.9,5.31,5.31,0,0,0,12,6.5,5.46,5.46,0,0,0,6.5,12Z\"/>\n",
              "  </svg>\n",
              "    </button>\n",
              "    <script>\n",
              "      (() => {\n",
              "      const buttonEl =\n",
              "        document.querySelector('#id_3ce20c29-1d53-4077-b8d7-6550b95c643d button.colab-df-generate');\n",
              "      buttonEl.style.display =\n",
              "        google.colab.kernel.accessAllowed ? 'block' : 'none';\n",
              "\n",
              "      buttonEl.onclick = () => {\n",
              "        google.colab.notebook.generateWithVariable('document_info');\n",
              "      }\n",
              "      })();\n",
              "    </script>\n",
              "  </div>\n",
              "\n",
              "    </div>\n",
              "  </div>\n"
            ]
          },
          "metadata": {},
          "execution_count": 92
        }
      ]
    },
    {
      "cell_type": "code",
      "source": [
        "document_info[document_info['Topic'] == 1].drop(['Topic',\t'Name',\t'Representation'\t,'Representative_Docs'\t,'Top_n_words','Probability'\t,'Representative_document'], axis =1 )"
      ],
      "metadata": {
        "colab": {
          "base_uri": "https://localhost:8080/",
          "height": 424
        },
        "id": "JJb13yI-ZM6q",
        "outputId": "4ea5728d-cb07-4a9b-d6e8-f065b3054aef"
      },
      "execution_count": 93,
      "outputs": [
        {
          "output_type": "execute_result",
          "data": {
            "text/plain": [
              "                                                Document\n",
              "12     Very good phone slim good battry backup good s...\n",
              "15     Best product according to their prize range an...\n",
              "17                                       Good smartphone\n",
              "32                                  Wonderful best phone\n",
              "37     best phone in this rate camera quality is too ...\n",
              "...                                                  ...\n",
              "12389                    Awesome phone surprised package\n",
              "12394  Good mobile with awesome camera and easy to ac...\n",
              "12404  Awesome & mind blowing technology in this mobi...\n",
              "12410      Excellent product - very happy with the phone\n",
              "12413  Very bad mobile....Waste of money.......Bad ca...\n",
              "\n",
              "[1694 rows x 1 columns]"
            ],
            "text/html": [
              "\n",
              "  <div id=\"df-685ebaf9-f371-4f80-ad1d-445765bf0d9f\" class=\"colab-df-container\">\n",
              "    <div>\n",
              "<style scoped>\n",
              "    .dataframe tbody tr th:only-of-type {\n",
              "        vertical-align: middle;\n",
              "    }\n",
              "\n",
              "    .dataframe tbody tr th {\n",
              "        vertical-align: top;\n",
              "    }\n",
              "\n",
              "    .dataframe thead th {\n",
              "        text-align: right;\n",
              "    }\n",
              "</style>\n",
              "<table border=\"1\" class=\"dataframe\">\n",
              "  <thead>\n",
              "    <tr style=\"text-align: right;\">\n",
              "      <th></th>\n",
              "      <th>Document</th>\n",
              "    </tr>\n",
              "  </thead>\n",
              "  <tbody>\n",
              "    <tr>\n",
              "      <th>12</th>\n",
              "      <td>Very good phone slim good battry backup good s...</td>\n",
              "    </tr>\n",
              "    <tr>\n",
              "      <th>15</th>\n",
              "      <td>Best product according to their prize range an...</td>\n",
              "    </tr>\n",
              "    <tr>\n",
              "      <th>17</th>\n",
              "      <td>Good smartphone</td>\n",
              "    </tr>\n",
              "    <tr>\n",
              "      <th>32</th>\n",
              "      <td>Wonderful best phone</td>\n",
              "    </tr>\n",
              "    <tr>\n",
              "      <th>37</th>\n",
              "      <td>best phone in this rate camera quality is too ...</td>\n",
              "    </tr>\n",
              "    <tr>\n",
              "      <th>...</th>\n",
              "      <td>...</td>\n",
              "    </tr>\n",
              "    <tr>\n",
              "      <th>12389</th>\n",
              "      <td>Awesome phone surprised package</td>\n",
              "    </tr>\n",
              "    <tr>\n",
              "      <th>12394</th>\n",
              "      <td>Good mobile with awesome camera and easy to ac...</td>\n",
              "    </tr>\n",
              "    <tr>\n",
              "      <th>12404</th>\n",
              "      <td>Awesome &amp; mind blowing technology in this mobi...</td>\n",
              "    </tr>\n",
              "    <tr>\n",
              "      <th>12410</th>\n",
              "      <td>Excellent product - very happy with the phone</td>\n",
              "    </tr>\n",
              "    <tr>\n",
              "      <th>12413</th>\n",
              "      <td>Very bad mobile....Waste of money.......Bad ca...</td>\n",
              "    </tr>\n",
              "  </tbody>\n",
              "</table>\n",
              "<p>1694 rows × 1 columns</p>\n",
              "</div>\n",
              "    <div class=\"colab-df-buttons\">\n",
              "\n",
              "  <div class=\"colab-df-container\">\n",
              "    <button class=\"colab-df-convert\" onclick=\"convertToInteractive('df-685ebaf9-f371-4f80-ad1d-445765bf0d9f')\"\n",
              "            title=\"Convert this dataframe to an interactive table.\"\n",
              "            style=\"display:none;\">\n",
              "\n",
              "  <svg xmlns=\"http://www.w3.org/2000/svg\" height=\"24px\" viewBox=\"0 -960 960 960\">\n",
              "    <path d=\"M120-120v-720h720v720H120Zm60-500h600v-160H180v160Zm220 220h160v-160H400v160Zm0 220h160v-160H400v160ZM180-400h160v-160H180v160Zm440 0h160v-160H620v160ZM180-180h160v-160H180v160Zm440 0h160v-160H620v160Z\"/>\n",
              "  </svg>\n",
              "    </button>\n",
              "\n",
              "  <style>\n",
              "    .colab-df-container {\n",
              "      display:flex;\n",
              "      gap: 12px;\n",
              "    }\n",
              "\n",
              "    .colab-df-convert {\n",
              "      background-color: #E8F0FE;\n",
              "      border: none;\n",
              "      border-radius: 50%;\n",
              "      cursor: pointer;\n",
              "      display: none;\n",
              "      fill: #1967D2;\n",
              "      height: 32px;\n",
              "      padding: 0 0 0 0;\n",
              "      width: 32px;\n",
              "    }\n",
              "\n",
              "    .colab-df-convert:hover {\n",
              "      background-color: #E2EBFA;\n",
              "      box-shadow: 0px 1px 2px rgba(60, 64, 67, 0.3), 0px 1px 3px 1px rgba(60, 64, 67, 0.15);\n",
              "      fill: #174EA6;\n",
              "    }\n",
              "\n",
              "    .colab-df-buttons div {\n",
              "      margin-bottom: 4px;\n",
              "    }\n",
              "\n",
              "    [theme=dark] .colab-df-convert {\n",
              "      background-color: #3B4455;\n",
              "      fill: #D2E3FC;\n",
              "    }\n",
              "\n",
              "    [theme=dark] .colab-df-convert:hover {\n",
              "      background-color: #434B5C;\n",
              "      box-shadow: 0px 1px 3px 1px rgba(0, 0, 0, 0.15);\n",
              "      filter: drop-shadow(0px 1px 2px rgba(0, 0, 0, 0.3));\n",
              "      fill: #FFFFFF;\n",
              "    }\n",
              "  </style>\n",
              "\n",
              "    <script>\n",
              "      const buttonEl =\n",
              "        document.querySelector('#df-685ebaf9-f371-4f80-ad1d-445765bf0d9f button.colab-df-convert');\n",
              "      buttonEl.style.display =\n",
              "        google.colab.kernel.accessAllowed ? 'block' : 'none';\n",
              "\n",
              "      async function convertToInteractive(key) {\n",
              "        const element = document.querySelector('#df-685ebaf9-f371-4f80-ad1d-445765bf0d9f');\n",
              "        const dataTable =\n",
              "          await google.colab.kernel.invokeFunction('convertToInteractive',\n",
              "                                                    [key], {});\n",
              "        if (!dataTable) return;\n",
              "\n",
              "        const docLinkHtml = 'Like what you see? Visit the ' +\n",
              "          '<a target=\"_blank\" href=https://colab.research.google.com/notebooks/data_table.ipynb>data table notebook</a>'\n",
              "          + ' to learn more about interactive tables.';\n",
              "        element.innerHTML = '';\n",
              "        dataTable['output_type'] = 'display_data';\n",
              "        await google.colab.output.renderOutput(dataTable, element);\n",
              "        const docLink = document.createElement('div');\n",
              "        docLink.innerHTML = docLinkHtml;\n",
              "        element.appendChild(docLink);\n",
              "      }\n",
              "    </script>\n",
              "  </div>\n",
              "\n",
              "\n",
              "<div id=\"df-caaed251-a99c-4068-94bd-a4d43be70533\">\n",
              "  <button class=\"colab-df-quickchart\" onclick=\"quickchart('df-caaed251-a99c-4068-94bd-a4d43be70533')\"\n",
              "            title=\"Suggest charts\"\n",
              "            style=\"display:none;\">\n",
              "\n",
              "<svg xmlns=\"http://www.w3.org/2000/svg\" height=\"24px\"viewBox=\"0 0 24 24\"\n",
              "     width=\"24px\">\n",
              "    <g>\n",
              "        <path d=\"M19 3H5c-1.1 0-2 .9-2 2v14c0 1.1.9 2 2 2h14c1.1 0 2-.9 2-2V5c0-1.1-.9-2-2-2zM9 17H7v-7h2v7zm4 0h-2V7h2v10zm4 0h-2v-4h2v4z\"/>\n",
              "    </g>\n",
              "</svg>\n",
              "  </button>\n",
              "\n",
              "<style>\n",
              "  .colab-df-quickchart {\n",
              "      --bg-color: #E8F0FE;\n",
              "      --fill-color: #1967D2;\n",
              "      --hover-bg-color: #E2EBFA;\n",
              "      --hover-fill-color: #174EA6;\n",
              "      --disabled-fill-color: #AAA;\n",
              "      --disabled-bg-color: #DDD;\n",
              "  }\n",
              "\n",
              "  [theme=dark] .colab-df-quickchart {\n",
              "      --bg-color: #3B4455;\n",
              "      --fill-color: #D2E3FC;\n",
              "      --hover-bg-color: #434B5C;\n",
              "      --hover-fill-color: #FFFFFF;\n",
              "      --disabled-bg-color: #3B4455;\n",
              "      --disabled-fill-color: #666;\n",
              "  }\n",
              "\n",
              "  .colab-df-quickchart {\n",
              "    background-color: var(--bg-color);\n",
              "    border: none;\n",
              "    border-radius: 50%;\n",
              "    cursor: pointer;\n",
              "    display: none;\n",
              "    fill: var(--fill-color);\n",
              "    height: 32px;\n",
              "    padding: 0;\n",
              "    width: 32px;\n",
              "  }\n",
              "\n",
              "  .colab-df-quickchart:hover {\n",
              "    background-color: var(--hover-bg-color);\n",
              "    box-shadow: 0 1px 2px rgba(60, 64, 67, 0.3), 0 1px 3px 1px rgba(60, 64, 67, 0.15);\n",
              "    fill: var(--button-hover-fill-color);\n",
              "  }\n",
              "\n",
              "  .colab-df-quickchart-complete:disabled,\n",
              "  .colab-df-quickchart-complete:disabled:hover {\n",
              "    background-color: var(--disabled-bg-color);\n",
              "    fill: var(--disabled-fill-color);\n",
              "    box-shadow: none;\n",
              "  }\n",
              "\n",
              "  .colab-df-spinner {\n",
              "    border: 2px solid var(--fill-color);\n",
              "    border-color: transparent;\n",
              "    border-bottom-color: var(--fill-color);\n",
              "    animation:\n",
              "      spin 1s steps(1) infinite;\n",
              "  }\n",
              "\n",
              "  @keyframes spin {\n",
              "    0% {\n",
              "      border-color: transparent;\n",
              "      border-bottom-color: var(--fill-color);\n",
              "      border-left-color: var(--fill-color);\n",
              "    }\n",
              "    20% {\n",
              "      border-color: transparent;\n",
              "      border-left-color: var(--fill-color);\n",
              "      border-top-color: var(--fill-color);\n",
              "    }\n",
              "    30% {\n",
              "      border-color: transparent;\n",
              "      border-left-color: var(--fill-color);\n",
              "      border-top-color: var(--fill-color);\n",
              "      border-right-color: var(--fill-color);\n",
              "    }\n",
              "    40% {\n",
              "      border-color: transparent;\n",
              "      border-right-color: var(--fill-color);\n",
              "      border-top-color: var(--fill-color);\n",
              "    }\n",
              "    60% {\n",
              "      border-color: transparent;\n",
              "      border-right-color: var(--fill-color);\n",
              "    }\n",
              "    80% {\n",
              "      border-color: transparent;\n",
              "      border-right-color: var(--fill-color);\n",
              "      border-bottom-color: var(--fill-color);\n",
              "    }\n",
              "    90% {\n",
              "      border-color: transparent;\n",
              "      border-bottom-color: var(--fill-color);\n",
              "    }\n",
              "  }\n",
              "</style>\n",
              "\n",
              "  <script>\n",
              "    async function quickchart(key) {\n",
              "      const quickchartButtonEl =\n",
              "        document.querySelector('#' + key + ' button');\n",
              "      quickchartButtonEl.disabled = true;  // To prevent multiple clicks.\n",
              "      quickchartButtonEl.classList.add('colab-df-spinner');\n",
              "      try {\n",
              "        const charts = await google.colab.kernel.invokeFunction(\n",
              "            'suggestCharts', [key], {});\n",
              "      } catch (error) {\n",
              "        console.error('Error during call to suggestCharts:', error);\n",
              "      }\n",
              "      quickchartButtonEl.classList.remove('colab-df-spinner');\n",
              "      quickchartButtonEl.classList.add('colab-df-quickchart-complete');\n",
              "    }\n",
              "    (() => {\n",
              "      let quickchartButtonEl =\n",
              "        document.querySelector('#df-caaed251-a99c-4068-94bd-a4d43be70533 button');\n",
              "      quickchartButtonEl.style.display =\n",
              "        google.colab.kernel.accessAllowed ? 'block' : 'none';\n",
              "    })();\n",
              "  </script>\n",
              "</div>\n",
              "\n",
              "    </div>\n",
              "  </div>\n"
            ]
          },
          "metadata": {},
          "execution_count": 93
        }
      ]
    },
    {
      "cell_type": "markdown",
      "source": [
        "**Ideas:**\n",
        "\n",
        "* Compine similar topics using similarity or BERTopic method\n",
        "* Try text cleaning prprocess and Remove my own stopwords such as mobile name"
      ],
      "metadata": {
        "id": "uykOhd5S5Itv"
      }
    }
  ]
}